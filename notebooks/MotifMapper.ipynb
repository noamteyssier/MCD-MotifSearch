{
 "cells": [
  {
   "cell_type": "markdown",
   "metadata": {},
   "source": [
    "# Load Modules"
   ]
  },
  {
   "cell_type": "code",
   "execution_count": 1,
   "metadata": {
    "ExecuteTime": {
     "end_time": "2020-07-08T16:32:59.409770Z",
     "start_time": "2020-07-08T16:32:58.283958Z"
    }
   },
   "outputs": [],
   "source": [
    "%load_ext autoreload\n",
    "%autoreload 2\n",
    "\n",
    "import numpy as np\n",
    "import pandas as pd\n",
    "import plotly\n",
    "import plotly.express as px\n",
    "import plotly.graph_objects as go\n",
    "import plotly.io as pio\n",
    "\n",
    "from plotly.subplots import make_subplots\n",
    "from multiprocessing import Pool\n",
    "from tqdm import tqdm\n",
    "import networkx as nx\n",
    "import os\n",
    "import gzip\n",
    "import glob\n",
    "\n",
    "\n",
    "pio.templates.default = 'plotly_white'\n",
    "pd.options.mode.chained_assignment = None"
   ]
  },
  {
   "cell_type": "markdown",
   "metadata": {},
   "source": [
    "# Load Data"
   ]
  },
  {
   "cell_type": "markdown",
   "metadata": {},
   "source": [
    "## Define Functions"
   ]
  },
  {
   "cell_type": "code",
   "execution_count": 2,
   "metadata": {
    "ExecuteTime": {
     "end_time": "2020-07-08T16:33:00.593572Z",
     "start_time": "2020-07-08T16:33:00.567926Z"
    }
   },
   "outputs": [],
   "source": [
    "def seqReader(fn):\n",
    "    \"\"\"\n",
    "    iterate through sequences and yield as generator\n",
    "    \"\"\"\n",
    "    def openSeq(fn):\n",
    "        if 'gz' in fn:\n",
    "            return gzip.open(fn, 'rt')\n",
    "        else:\n",
    "            return open(fn, 'r')\n",
    "\n",
    "    def num_iter(fn):\n",
    "        if 'fastq' in fn or 'fq' in fn:\n",
    "            return 4\n",
    "        else:\n",
    "            return 2\n",
    "\n",
    "    n = num_iter(fn)\n",
    "\n",
    "    with openSeq(fn) as f:\n",
    "        while True:\n",
    "            try:\n",
    "                yield [next(f).strip('\\n') for _ in range(n)]\n",
    "            except StopIteration:\n",
    "                break\n"
   ]
  },
  {
   "cell_type": "markdown",
   "metadata": {},
   "source": [
    "## Define Paths"
   ]
  },
  {
   "cell_type": "code",
   "execution_count": 3,
   "metadata": {
    "ExecuteTime": {
     "end_time": "2020-07-08T16:33:01.582317Z",
     "start_time": "2020-07-08T16:33:01.556819Z"
    }
   },
   "outputs": [],
   "source": [
    "# define directory paths\n",
    "input_dir = \"../results/global_enriched/\"\n",
    "motif_dir = os.path.join(input_dir, \"motifs\")\n",
    "clique_dir = os.path.join(input_dir, \"cliques\")\n",
    "\n",
    "# input data paths\n",
    "conv_fn = os.path.join(input_dir, \"global_enriched.conv.txt\")\n",
    "motif_seq_fn = os.path.join(motif_dir, \"merged_motifs.fa\")\n",
    "motif_blast_fn = os.path.join(motif_dir, \"motifs.blast.tab\")\n",
    "merged_cliques = os.path.join(clique_dir, \"merged_cliques.tab\")"
   ]
  },
  {
   "cell_type": "markdown",
   "metadata": {},
   "source": [
    "## Process Motifs"
   ]
  },
  {
   "cell_type": "code",
   "execution_count": 4,
   "metadata": {
    "ExecuteTime": {
     "end_time": "2020-07-08T16:33:02.713446Z",
     "start_time": "2020-07-08T16:33:02.445145Z"
    }
   },
   "outputs": [
    {
     "data": {
      "text/html": [
       "<div>\n",
       "<style scoped>\n",
       "    .dataframe tbody tr th:only-of-type {\n",
       "        vertical-align: middle;\n",
       "    }\n",
       "\n",
       "    .dataframe tbody tr th {\n",
       "        vertical-align: top;\n",
       "    }\n",
       "\n",
       "    .dataframe thead th {\n",
       "        text-align: right;\n",
       "    }\n",
       "</style>\n",
       "<table border=\"1\" class=\"dataframe\">\n",
       "  <thead>\n",
       "    <tr style=\"text-align: right;\">\n",
       "      <th></th>\n",
       "      <th>qseqid</th>\n",
       "      <th>sequence</th>\n",
       "      <th>sseqid</th>\n",
       "      <th>evalue</th>\n",
       "      <th>clique_idx</th>\n",
       "    </tr>\n",
       "  </thead>\n",
       "  <tbody>\n",
       "    <tr>\n",
       "      <th>0</th>\n",
       "      <td>clique_0_MEME-1</td>\n",
       "      <td>VIPEELVEEVIP</td>\n",
       "      <td>eid_11776::11-1_polypeptide</td>\n",
       "      <td>0.380000</td>\n",
       "      <td>0</td>\n",
       "    </tr>\n",
       "    <tr>\n",
       "      <th>1</th>\n",
       "      <td>clique_0_MEME-2</td>\n",
       "      <td>VVEEVVPEELVE</td>\n",
       "      <td>eid_914212::glutamate-rich_protein_[Plasmodium...</td>\n",
       "      <td>8.800000</td>\n",
       "      <td>0</td>\n",
       "    </tr>\n",
       "    <tr>\n",
       "      <th>2</th>\n",
       "      <td>clique_0_MEME-3</td>\n",
       "      <td>EVVEEVVPE</td>\n",
       "      <td>eid_11776::11-1_polypeptide</td>\n",
       "      <td>4.700000</td>\n",
       "      <td>0</td>\n",
       "    </tr>\n",
       "    <tr>\n",
       "      <th>3</th>\n",
       "      <td>clique_1_MEME-1</td>\n",
       "      <td>GIDJYBEVLKRK</td>\n",
       "      <td>eid_73540::PfEMP1_variant_1_of_strain_MC</td>\n",
       "      <td>0.470000</td>\n",
       "      <td>1</td>\n",
       "    </tr>\n",
       "    <tr>\n",
       "      <th>4</th>\n",
       "      <td>clique_1_MEME-10</td>\n",
       "      <td>ENELFGT</td>\n",
       "      <td>eid_913468::heat_shock_protein_90</td>\n",
       "      <td>2.100000</td>\n",
       "      <td>1</td>\n",
       "    </tr>\n",
       "    <tr>\n",
       "      <th>...</th>\n",
       "      <td>...</td>\n",
       "      <td>...</td>\n",
       "      <td>...</td>\n",
       "      <td>...</td>\n",
       "      <td>...</td>\n",
       "    </tr>\n",
       "    <tr>\n",
       "      <th>170</th>\n",
       "      <td>clique_92_MEME-1</td>\n",
       "      <td>PCZLEYQWHTNV</td>\n",
       "      <td>eid_236266::erythrocyte_membrane_protein_1</td>\n",
       "      <td>0.000076</td>\n",
       "      <td>92</td>\n",
       "    </tr>\n",
       "    <tr>\n",
       "      <th>171</th>\n",
       "      <td>clique_94_MEME-1</td>\n",
       "      <td>NYHYEEPFILTP</td>\n",
       "      <td>eid_1068229::high_molecular_weight_rhoptry_pro...</td>\n",
       "      <td>2.700000</td>\n",
       "      <td>94</td>\n",
       "    </tr>\n",
       "    <tr>\n",
       "      <th>172</th>\n",
       "      <td>clique_94_MEME-2</td>\n",
       "      <td>EAYEKAGEVIVE</td>\n",
       "      <td>eid_23729::merozoite_surface_protein_3</td>\n",
       "      <td>3.800000</td>\n",
       "      <td>94</td>\n",
       "    </tr>\n",
       "    <tr>\n",
       "      <th>173</th>\n",
       "      <td>clique_94_MEME-3</td>\n",
       "      <td>REVEKRSEKLID</td>\n",
       "      <td>eid_15297::sporozoite_surface_protein_2</td>\n",
       "      <td>1.500000</td>\n",
       "      <td>94</td>\n",
       "    </tr>\n",
       "    <tr>\n",
       "      <th>174</th>\n",
       "      <td>clique_97_MEME-1</td>\n",
       "      <td>NDKDIYNNM</td>\n",
       "      <td>eid_1068488::serine_repeat_antigen_5_[Plasmodi...</td>\n",
       "      <td>3.100000</td>\n",
       "      <td>97</td>\n",
       "    </tr>\n",
       "  </tbody>\n",
       "</table>\n",
       "<p>175 rows × 5 columns</p>\n",
       "</div>"
      ],
      "text/plain": [
       "               qseqid      sequence  \\\n",
       "0     clique_0_MEME-1  VIPEELVEEVIP   \n",
       "1     clique_0_MEME-2  VVEEVVPEELVE   \n",
       "2     clique_0_MEME-3     EVVEEVVPE   \n",
       "3     clique_1_MEME-1  GIDJYBEVLKRK   \n",
       "4    clique_1_MEME-10       ENELFGT   \n",
       "..                ...           ...   \n",
       "170  clique_92_MEME-1  PCZLEYQWHTNV   \n",
       "171  clique_94_MEME-1  NYHYEEPFILTP   \n",
       "172  clique_94_MEME-2  EAYEKAGEVIVE   \n",
       "173  clique_94_MEME-3  REVEKRSEKLID   \n",
       "174  clique_97_MEME-1     NDKDIYNNM   \n",
       "\n",
       "                                                sseqid    evalue  clique_idx  \n",
       "0                          eid_11776::11-1_polypeptide  0.380000           0  \n",
       "1    eid_914212::glutamate-rich_protein_[Plasmodium...  8.800000           0  \n",
       "2                          eid_11776::11-1_polypeptide  4.700000           0  \n",
       "3             eid_73540::PfEMP1_variant_1_of_strain_MC  0.470000           1  \n",
       "4                    eid_913468::heat_shock_protein_90  2.100000           1  \n",
       "..                                                 ...       ...         ...  \n",
       "170         eid_236266::erythrocyte_membrane_protein_1  0.000076          92  \n",
       "171  eid_1068229::high_molecular_weight_rhoptry_pro...  2.700000          94  \n",
       "172             eid_23729::merozoite_surface_protein_3  3.800000          94  \n",
       "173            eid_15297::sporozoite_surface_protein_2  1.500000          94  \n",
       "174  eid_1068488::serine_repeat_antigen_5_[Plasmodi...  3.100000          97  \n",
       "\n",
       "[175 rows x 5 columns]"
      ]
     },
     "execution_count": 4,
     "metadata": {},
     "output_type": "execute_result"
    }
   ],
   "source": [
    "# load fasta into dataframe\n",
    "motif_frame = pd.DataFrame([\n",
    "    [h.strip('>'), s] for h, s in seqReader(motif_seq_fn)\n",
    "    ],\n",
    "    columns = [\"qseqid\", \"sequence\"]\n",
    ")\n",
    "\n",
    "# load blast results into frame\n",
    "motif_blast = pd.read_csv(motif_blast_fn, sep=\"\\t\")\n",
    "minimum_evalue = motif_blast.\\\n",
    "    groupby('qseqid').\\\n",
    "    apply(\n",
    "        lambda x : pd.Series({\n",
    "            'sseqid' : x.sort_values('evalue').iloc[0].sseqid,\n",
    "            'evalue' : x.sort_values('evalue').iloc[0].evalue\n",
    "        })\n",
    "    ).reset_index()\n",
    "\n",
    "\n",
    "# create clique idx variable\n",
    "minimum_evalue['clique_idx'] = minimum_evalue.qseqid.\\\n",
    "    apply(lambda x : x.split(\"_\")[1]).\\\n",
    "    astype(int)\n",
    "\n",
    "motif_frame = motif_frame.merge(minimum_evalue)\n",
    "motif_frame"
   ]
  },
  {
   "cell_type": "markdown",
   "metadata": {},
   "source": [
    "## Create Conversion Table"
   ]
  },
  {
   "cell_type": "code",
   "execution_count": 5,
   "metadata": {
    "ExecuteTime": {
     "end_time": "2020-07-08T16:33:03.477424Z",
     "start_time": "2020-07-08T16:33:03.454000Z"
    }
   },
   "outputs": [],
   "source": [
    "f = open(conv_fn, \"r+\")\n",
    "conv_dict = {\n",
    "    line.strip().split(' ')[0] : line.strip().split(' ')[1] for line in f\n",
    "}"
   ]
  },
  {
   "cell_type": "markdown",
   "metadata": {},
   "source": [
    "## Load Graph from Edgelist"
   ]
  },
  {
   "cell_type": "code",
   "execution_count": 6,
   "metadata": {
    "ExecuteTime": {
     "end_time": "2020-07-08T16:33:04.768804Z",
     "start_time": "2020-07-08T16:33:04.169212Z"
    }
   },
   "outputs": [],
   "source": [
    "G = nx.read_edgelist(merged_cliques)\n",
    "G = nx.relabel_nodes(G, conv_dict)"
   ]
  },
  {
   "cell_type": "markdown",
   "metadata": {},
   "source": [
    "## Create Clique Lookup Table"
   ]
  },
  {
   "cell_type": "code",
   "execution_count": 7,
   "metadata": {
    "ExecuteTime": {
     "end_time": "2020-07-08T16:33:05.080207Z",
     "start_time": "2020-07-08T16:33:05.038510Z"
    },
    "code_folding": [
     0
    ]
   },
   "outputs": [
    {
     "data": {
      "text/html": [
       "<div>\n",
       "<style scoped>\n",
       "    .dataframe tbody tr th:only-of-type {\n",
       "        vertical-align: middle;\n",
       "    }\n",
       "\n",
       "    .dataframe tbody tr th {\n",
       "        vertical-align: top;\n",
       "    }\n",
       "\n",
       "    .dataframe thead th {\n",
       "        text-align: right;\n",
       "    }\n",
       "</style>\n",
       "<table border=\"1\" class=\"dataframe\">\n",
       "  <thead>\n",
       "    <tr style=\"text-align: right;\">\n",
       "      <th></th>\n",
       "      <th>clique_idx</th>\n",
       "      <th>header</th>\n",
       "      <th>seq</th>\n",
       "    </tr>\n",
       "  </thead>\n",
       "  <tbody>\n",
       "    <tr>\n",
       "      <th>0</th>\n",
       "      <td>233</td>\n",
       "      <td>t214801</td>\n",
       "      <td>HLRDAGGNKIGPPASHAIPQMINNLVGEATQGAAEVAKKASESATA...</td>\n",
       "    </tr>\n",
       "    <tr>\n",
       "      <th>1</th>\n",
       "      <td>233</td>\n",
       "      <td>t215202</td>\n",
       "      <td>ENVNTTITGNDFSGGEFLWPGYTEELKAKKASEDAEKAANDAENAS...</td>\n",
       "    </tr>\n",
       "    <tr>\n",
       "      <th>2</th>\n",
       "      <td>289</td>\n",
       "      <td>t118859</td>\n",
       "      <td>TIEENQNNELEGTFKKLIVVVKELSDKNKELDEKEKKIKTYNGDIQ...</td>\n",
       "    </tr>\n",
       "    <tr>\n",
       "      <th>3</th>\n",
       "      <td>289</td>\n",
       "      <td>t149561</td>\n",
       "      <td>KFFYKKVENTKNKYMNKKKFSTKSEDIINKNNNTTKGSTLGGENDL...</td>\n",
       "    </tr>\n",
       "    <tr>\n",
       "      <th>4</th>\n",
       "      <td>214</td>\n",
       "      <td>t113780</td>\n",
       "      <td>EPNENSVVDRATDSMNLDPEKVHNENMSDPNTNTEPDASLKDDKKE...</td>\n",
       "    </tr>\n",
       "    <tr>\n",
       "      <th>...</th>\n",
       "      <td>...</td>\n",
       "      <td>...</td>\n",
       "      <td>...</td>\n",
       "    </tr>\n",
       "    <tr>\n",
       "      <th>2591</th>\n",
       "      <td>78</td>\n",
       "      <td>t130133</td>\n",
       "      <td>HRNDHRNDHRNDHRNDHRNDHRTDHRNDHRNDHRNDHRNDQRNDHR...</td>\n",
       "    </tr>\n",
       "    <tr>\n",
       "      <th>2592</th>\n",
       "      <td>78</td>\n",
       "      <td>t128339</td>\n",
       "      <td>NDQRNDHRNDHRNDHRNDHRNDHRNDHRNDHRNDHRNDHRNDQRND...</td>\n",
       "    </tr>\n",
       "    <tr>\n",
       "      <th>2593</th>\n",
       "      <td>78</td>\n",
       "      <td>t130135</td>\n",
       "      <td>NDHRNSMRNDHRNSMRNDQRNSMMNDQRNSMMNDQRNSMMNDQRNV...</td>\n",
       "    </tr>\n",
       "    <tr>\n",
       "      <th>2594</th>\n",
       "      <td>234</td>\n",
       "      <td>t209489</td>\n",
       "      <td>SGPGDVSFSSSEKPTLYLDELARPVSKPRPAKQTKSQPVKDLAGQK...</td>\n",
       "    </tr>\n",
       "    <tr>\n",
       "      <th>2595</th>\n",
       "      <td>234</td>\n",
       "      <td>t209502</td>\n",
       "      <td>SGPGDVSFSSGEEPTLYLDELARPVPKPRPAKQPKPQPVKDLAGRK...</td>\n",
       "    </tr>\n",
       "  </tbody>\n",
       "</table>\n",
       "<p>2596 rows × 3 columns</p>\n",
       "</div>"
      ],
      "text/plain": [
       "      clique_idx   header                                                seq\n",
       "0            233  t214801  HLRDAGGNKIGPPASHAIPQMINNLVGEATQGAAEVAKKASESATA...\n",
       "1            233  t215202  ENVNTTITGNDFSGGEFLWPGYTEELKAKKASEDAEKAANDAENAS...\n",
       "2            289  t118859  TIEENQNNELEGTFKKLIVVVKELSDKNKELDEKEKKIKTYNGDIQ...\n",
       "3            289  t149561  KFFYKKVENTKNKYMNKKKFSTKSEDIINKNNNTTKGSTLGGENDL...\n",
       "4            214  t113780  EPNENSVVDRATDSMNLDPEKVHNENMSDPNTNTEPDASLKDDKKE...\n",
       "...          ...      ...                                                ...\n",
       "2591          78  t130133  HRNDHRNDHRNDHRNDHRNDHRTDHRNDHRNDHRNDHRNDQRNDHR...\n",
       "2592          78  t128339  NDQRNDHRNDHRNDHRNDHRNDHRNDHRNDHRNDHRNDHRNDQRND...\n",
       "2593          78  t130135  NDHRNSMRNDHRNSMRNDQRNSMMNDQRNSMMNDQRNSMMNDQRNV...\n",
       "2594         234  t209489  SGPGDVSFSSSEKPTLYLDELARPVSKPRPAKQTKSQPVKDLAGQK...\n",
       "2595         234  t209502  SGPGDVSFSSGEEPTLYLDELARPVPKPRPAKQPKPQPVKDLAGRK...\n",
       "\n",
       "[2596 rows x 3 columns]"
      ]
     },
     "execution_count": 7,
     "metadata": {},
     "output_type": "execute_result"
    }
   ],
   "source": [
    "clique_table = []\n",
    "for fn in glob.glob(\"{}/*fa\".format(clique_dir)):\n",
    "    clique_idx = int(fn.split(\"/\")[-1].split(\".\")[0].split(\"_\")[1])\n",
    "    \n",
    "    \n",
    "    for header, seq in seqReader(fn):\n",
    "        clique_table.append({\n",
    "            'clique_idx' : clique_idx,\n",
    "            \"header\" : header.strip(\">\"),\n",
    "            \"seq\" : seq\n",
    "        })\n",
    "        \n",
    "\n",
    "clique_table = pd.DataFrame(clique_table)\n",
    "clique_table"
   ]
  },
  {
   "cell_type": "markdown",
   "metadata": {},
   "source": [
    "## Aggregate Clique Layouts"
   ]
  },
  {
   "cell_type": "code",
   "execution_count": 8,
   "metadata": {
    "ExecuteTime": {
     "end_time": "2020-07-08T16:33:28.924275Z",
     "start_time": "2020-07-08T16:33:05.926145Z"
    }
   },
   "outputs": [],
   "source": [
    "layout = nx.spring_layout(G, seed=42)"
   ]
  },
  {
   "cell_type": "code",
   "execution_count": 9,
   "metadata": {
    "ExecuteTime": {
     "end_time": "2020-07-08T16:33:29.003487Z",
     "start_time": "2020-07-08T16:33:28.925506Z"
    }
   },
   "outputs": [],
   "source": [
    "frame = []\n",
    "for idx, c in clique_table.groupby('clique_idx'):\n",
    "    \n",
    "    header_set = set(c.header.values)\n",
    "    \n",
    "    agg_x, agg_y = np.array([\n",
    "        layout[h] for h in header_set\n",
    "        ]).\\\n",
    "        mean(axis = 0)\n",
    "    \n",
    "    frame.append({\n",
    "        'clique_idx' : idx,\n",
    "        'membership' : len(header_set),\n",
    "        'agg_x' : agg_x,\n",
    "        'agg_y' : agg_y\n",
    "    })\n",
    "    \n",
    "\n",
    "frame = pd.DataFrame(frame)"
   ]
  },
  {
   "cell_type": "code",
   "execution_count": 10,
   "metadata": {
    "ExecuteTime": {
     "end_time": "2020-07-08T16:33:29.263881Z",
     "start_time": "2020-07-08T16:33:29.004786Z"
    },
    "scrolled": true
   },
   "outputs": [
    {
     "data": {
      "text/html": [
       "<div>\n",
       "<style scoped>\n",
       "    .dataframe tbody tr th:only-of-type {\n",
       "        vertical-align: middle;\n",
       "    }\n",
       "\n",
       "    .dataframe tbody tr th {\n",
       "        vertical-align: top;\n",
       "    }\n",
       "\n",
       "    .dataframe thead th {\n",
       "        text-align: right;\n",
       "    }\n",
       "</style>\n",
       "<table border=\"1\" class=\"dataframe\">\n",
       "  <thead>\n",
       "    <tr style=\"text-align: right;\">\n",
       "      <th></th>\n",
       "      <th>clique_idx</th>\n",
       "      <th>membership</th>\n",
       "      <th>agg_x</th>\n",
       "      <th>agg_y</th>\n",
       "      <th>qseqid</th>\n",
       "      <th>sequences</th>\n",
       "      <th>sseqid</th>\n",
       "      <th>num_known</th>\n",
       "    </tr>\n",
       "  </thead>\n",
       "  <tbody>\n",
       "    <tr>\n",
       "      <th>292</th>\n",
       "      <td>292</td>\n",
       "      <td>2</td>\n",
       "      <td>0.647536</td>\n",
       "      <td>-0.538006</td>\n",
       "      <td>[]</td>\n",
       "      <td>[]</td>\n",
       "      <td>[]</td>\n",
       "      <td>0</td>\n",
       "    </tr>\n",
       "    <tr>\n",
       "      <th>120</th>\n",
       "      <td>120</td>\n",
       "      <td>4</td>\n",
       "      <td>0.251843</td>\n",
       "      <td>-0.825419</td>\n",
       "      <td>[]</td>\n",
       "      <td>[]</td>\n",
       "      <td>[]</td>\n",
       "      <td>0</td>\n",
       "    </tr>\n",
       "    <tr>\n",
       "      <th>220</th>\n",
       "      <td>220</td>\n",
       "      <td>2</td>\n",
       "      <td>-0.424170</td>\n",
       "      <td>0.857366</td>\n",
       "      <td>[]</td>\n",
       "      <td>[]</td>\n",
       "      <td>[]</td>\n",
       "      <td>0</td>\n",
       "    </tr>\n",
       "    <tr>\n",
       "      <th>219</th>\n",
       "      <td>219</td>\n",
       "      <td>2</td>\n",
       "      <td>-0.817506</td>\n",
       "      <td>-0.318478</td>\n",
       "      <td>[]</td>\n",
       "      <td>[]</td>\n",
       "      <td>[]</td>\n",
       "      <td>0</td>\n",
       "    </tr>\n",
       "    <tr>\n",
       "      <th>123</th>\n",
       "      <td>123</td>\n",
       "      <td>4</td>\n",
       "      <td>-0.876185</td>\n",
       "      <td>0.305509</td>\n",
       "      <td>[]</td>\n",
       "      <td>[]</td>\n",
       "      <td>[]</td>\n",
       "      <td>0</td>\n",
       "    </tr>\n",
       "    <tr>\n",
       "      <th>...</th>\n",
       "      <td>...</td>\n",
       "      <td>...</td>\n",
       "      <td>...</td>\n",
       "      <td>...</td>\n",
       "      <td>...</td>\n",
       "      <td>...</td>\n",
       "      <td>...</td>\n",
       "      <td>...</td>\n",
       "    </tr>\n",
       "    <tr>\n",
       "      <th>16</th>\n",
       "      <td>16</td>\n",
       "      <td>25</td>\n",
       "      <td>-0.363866</td>\n",
       "      <td>-0.045024</td>\n",
       "      <td>[clique_16_MEME-1, clique_16_MEME-2, clique_16...</td>\n",
       "      <td>[TDNEWNTLKDEF, DIQNDGIPSSKI, ISQYLQSEQPKD, VPN...</td>\n",
       "      <td>[eid_43848::hypothetical_protein_PFL1930w, eid...</td>\n",
       "      <td>3</td>\n",
       "    </tr>\n",
       "    <tr>\n",
       "      <th>7</th>\n",
       "      <td>7</td>\n",
       "      <td>38</td>\n",
       "      <td>-0.298488</td>\n",
       "      <td>0.120337</td>\n",
       "      <td>[clique_7_MEME-1, clique_7_MEME-2, clique_7_ME...</td>\n",
       "      <td>[QQSDLEQERLAK, KLQEQQS, LAKEKLQ]</td>\n",
       "      <td>[eid_913175::liver_stage_antigen_1_[Plasmodium...</td>\n",
       "      <td>3</td>\n",
       "    </tr>\n",
       "    <tr>\n",
       "      <th>21</th>\n",
       "      <td>21</td>\n",
       "      <td>21</td>\n",
       "      <td>0.339539</td>\n",
       "      <td>0.108099</td>\n",
       "      <td>[clique_21_MEME-1, clique_21_MEME-2, clique_21...</td>\n",
       "      <td>[IYYDVNDDD, KEKYPIADVWDI, DKPFNEP]</td>\n",
       "      <td>[eid_1067887::acidic_basic_repeat_antigen_[Pla...</td>\n",
       "      <td>3</td>\n",
       "    </tr>\n",
       "    <tr>\n",
       "      <th>8</th>\n",
       "      <td>8</td>\n",
       "      <td>31</td>\n",
       "      <td>-0.119946</td>\n",
       "      <td>-0.324541</td>\n",
       "      <td>[clique_8_MEME-1, clique_8_MEME-2, clique_8_ME...</td>\n",
       "      <td>[AITKYQNPH, YHNDPELKEIID, NTQRTTIKSRLL, DPYKQL...</td>\n",
       "      <td>[eid_17796::Cytoadherence_linked_asexual_prote...</td>\n",
       "      <td>4</td>\n",
       "    </tr>\n",
       "    <tr>\n",
       "      <th>23</th>\n",
       "      <td>23</td>\n",
       "      <td>20</td>\n",
       "      <td>0.346958</td>\n",
       "      <td>0.271304</td>\n",
       "      <td>[clique_23_MEME-2, clique_23_MEME-3, clique_23...</td>\n",
       "      <td>[DSYRILSVSYKD, DDEEKNETNDTE, IEEEINTDG, DIIKHN...</td>\n",
       "      <td>[eid_1068135::duffy_binding-like_merozoite_sur...</td>\n",
       "      <td>4</td>\n",
       "    </tr>\n",
       "  </tbody>\n",
       "</table>\n",
       "<p>293 rows × 8 columns</p>\n",
       "</div>"
      ],
      "text/plain": [
       "     clique_idx  membership     agg_x     agg_y  \\\n",
       "292         292           2  0.647536 -0.538006   \n",
       "120         120           4  0.251843 -0.825419   \n",
       "220         220           2 -0.424170  0.857366   \n",
       "219         219           2 -0.817506 -0.318478   \n",
       "123         123           4 -0.876185  0.305509   \n",
       "..          ...         ...       ...       ...   \n",
       "16           16          25 -0.363866 -0.045024   \n",
       "7             7          38 -0.298488  0.120337   \n",
       "21           21          21  0.339539  0.108099   \n",
       "8             8          31 -0.119946 -0.324541   \n",
       "23           23          20  0.346958  0.271304   \n",
       "\n",
       "                                                qseqid  \\\n",
       "292                                                 []   \n",
       "120                                                 []   \n",
       "220                                                 []   \n",
       "219                                                 []   \n",
       "123                                                 []   \n",
       "..                                                 ...   \n",
       "16   [clique_16_MEME-1, clique_16_MEME-2, clique_16...   \n",
       "7    [clique_7_MEME-1, clique_7_MEME-2, clique_7_ME...   \n",
       "21   [clique_21_MEME-1, clique_21_MEME-2, clique_21...   \n",
       "8    [clique_8_MEME-1, clique_8_MEME-2, clique_8_ME...   \n",
       "23   [clique_23_MEME-2, clique_23_MEME-3, clique_23...   \n",
       "\n",
       "                                             sequences  \\\n",
       "292                                                 []   \n",
       "120                                                 []   \n",
       "220                                                 []   \n",
       "219                                                 []   \n",
       "123                                                 []   \n",
       "..                                                 ...   \n",
       "16   [TDNEWNTLKDEF, DIQNDGIPSSKI, ISQYLQSEQPKD, VPN...   \n",
       "7                     [QQSDLEQERLAK, KLQEQQS, LAKEKLQ]   \n",
       "21                  [IYYDVNDDD, KEKYPIADVWDI, DKPFNEP]   \n",
       "8    [AITKYQNPH, YHNDPELKEIID, NTQRTTIKSRLL, DPYKQL...   \n",
       "23   [DSYRILSVSYKD, DDEEKNETNDTE, IEEEINTDG, DIIKHN...   \n",
       "\n",
       "                                                sseqid  num_known  \n",
       "292                                                 []          0  \n",
       "120                                                 []          0  \n",
       "220                                                 []          0  \n",
       "219                                                 []          0  \n",
       "123                                                 []          0  \n",
       "..                                                 ...        ...  \n",
       "16   [eid_43848::hypothetical_protein_PFL1930w, eid...          3  \n",
       "7    [eid_913175::liver_stage_antigen_1_[Plasmodium...          3  \n",
       "21   [eid_1067887::acidic_basic_repeat_antigen_[Pla...          3  \n",
       "8    [eid_17796::Cytoadherence_linked_asexual_prote...          4  \n",
       "23   [eid_1068135::duffy_binding-like_merozoite_sur...          4  \n",
       "\n",
       "[293 rows x 8 columns]"
      ]
     },
     "execution_count": 10,
     "metadata": {},
     "output_type": "execute_result"
    }
   ],
   "source": [
    "group_cols = ['clique_idx', 'membership', 'agg_x', 'agg_y']\n",
    "clique_motif_frame = []\n",
    "nan_remover = lambda x : np.array([i for i in x.astype(str) if i != 'nan'])\n",
    "\n",
    "for idx, subframe in frame.merge(motif_frame, how = 'left').groupby(group_cols):\n",
    "    \n",
    "    data = {\n",
    "        'clique_idx' : idx[0],\n",
    "        'membership' : idx[1],\n",
    "        'agg_x' : idx[2],\n",
    "        'agg_y' : idx[3],\n",
    "        'qseqid' : nan_remover(subframe.qseqid.unique()),\n",
    "        'sequences' : nan_remover(subframe.sequence.unique()),\n",
    "        'sseqid' : nan_remover(subframe.sseqid.unique()),\n",
    "        'num_known' : nan_remover(subframe.sseqid.unique()).size\n",
    "    }\n",
    "    \n",
    "    clique_motif_frame.append(data)\n",
    "\n",
    "clique_motif_frame = pd.DataFrame(clique_motif_frame)\n",
    "clique_motif_frame.sort_values('num_known', inplace=True)\n",
    "clique_motif_frame"
   ]
  },
  {
   "cell_type": "markdown",
   "metadata": {},
   "source": [
    "# Plot Cliques and Motifs"
   ]
  },
  {
   "cell_type": "markdown",
   "metadata": {},
   "source": [
    "## Aggregated Clique Layout + Number of found motifs"
   ]
  },
  {
   "cell_type": "code",
   "execution_count": 12,
   "metadata": {
    "ExecuteTime": {
     "end_time": "2020-07-08T16:33:54.087756Z",
     "start_time": "2020-07-08T16:33:53.936157Z"
    }
   },
   "outputs": [
    {
     "data": {
      "application/vnd.plotly.v1+json": {
       "config": {
        "plotlyServerURL": "https://plot.ly"
       },
       "data": [
        {
         "customdata": [
          [
           292,
           "",
           ""
          ],
          [
           120,
           "",
           ""
          ],
          [
           220,
           "",
           ""
          ],
          [
           219,
           "",
           ""
          ],
          [
           123,
           "",
           ""
          ],
          [
           217,
           "",
           ""
          ],
          [
           216,
           "",
           ""
          ],
          [
           215,
           "",
           ""
          ],
          [
           214,
           "",
           ""
          ],
          [
           119,
           "",
           ""
          ],
          [
           213,
           "",
           ""
          ],
          [
           131,
           "",
           ""
          ],
          [
           132,
           "",
           ""
          ],
          [
           133,
           "",
           ""
          ],
          [
           134,
           "",
           ""
          ],
          [
           135,
           "",
           ""
          ],
          [
           212,
           "",
           ""
          ],
          [
           211,
           "",
           ""
          ],
          [
           210,
           "",
           ""
          ],
          [
           130,
           "",
           ""
          ],
          [
           221,
           "",
           ""
          ],
          [
           222,
           "",
           ""
          ],
          [
           116,
           "",
           ""
          ],
          [
           93,
           "",
           ""
          ],
          [
           190,
           "",
           ""
          ],
          [
           95,
           "",
           ""
          ],
          [
           96,
           "",
           ""
          ],
          [
           231,
           "",
           ""
          ],
          [
           98,
           "",
           ""
          ],
          [
           99,
           "",
           ""
          ],
          [
           102,
           "",
           ""
          ],
          [
           228,
           "",
           ""
          ],
          [
           104,
           "",
           ""
          ],
          [
           106,
           "",
           ""
          ],
          [
           107,
           "",
           ""
          ],
          [
           108,
           "",
           ""
          ],
          [
           109,
           "",
           ""
          ],
          [
           110,
           "",
           ""
          ],
          [
           111,
           "",
           ""
          ],
          [
           226,
           "",
           ""
          ],
          [
           225,
           "",
           ""
          ],
          [
           223,
           "",
           ""
          ],
          [
           209,
           "",
           ""
          ],
          [
           140,
           "",
           ""
          ],
          [
           141,
           "",
           ""
          ],
          [
           208,
           "",
           ""
          ],
          [
           168,
           "",
           ""
          ],
          [
           169,
           "",
           ""
          ],
          [
           170,
           "",
           ""
          ],
          [
           195,
           "",
           ""
          ],
          [
           172,
           "",
           ""
          ],
          [
           173,
           "",
           ""
          ],
          [
           174,
           "",
           ""
          ],
          [
           175,
           "",
           ""
          ],
          [
           176,
           "",
           ""
          ],
          [
           177,
           "",
           ""
          ],
          [
           194,
           "",
           ""
          ],
          [
           179,
           "",
           ""
          ],
          [
           193,
           "",
           ""
          ],
          [
           181,
           "",
           ""
          ],
          [
           182,
           "",
           ""
          ],
          [
           183,
           "",
           ""
          ],
          [
           184,
           "",
           ""
          ],
          [
           192,
           "",
           ""
          ],
          [
           191,
           "",
           ""
          ],
          [
           167,
           "",
           ""
          ],
          [
           234,
           "",
           ""
          ],
          [
           166,
           "",
           ""
          ],
          [
           197,
           "",
           ""
          ],
          [
           144,
           "",
           ""
          ],
          [
           145,
           "",
           ""
          ],
          [
           206,
           "",
           ""
          ],
          [
           147,
           "",
           ""
          ],
          [
           149,
           "",
           ""
          ],
          [
           150,
           "",
           ""
          ],
          [
           151,
           "",
           ""
          ],
          [
           152,
           "",
           ""
          ],
          [
           204,
           "",
           ""
          ],
          [
           154,
           "",
           ""
          ],
          [
           203,
           "",
           ""
          ],
          [
           202,
           "",
           ""
          ],
          [
           201,
           "",
           ""
          ],
          [
           158,
           "",
           ""
          ],
          [
           200,
           "",
           ""
          ],
          [
           199,
           "",
           ""
          ],
          [
           161,
           "",
           ""
          ],
          [
           198,
           "",
           ""
          ],
          [
           163,
           "",
           ""
          ],
          [
           196,
           "",
           ""
          ],
          [
           90,
           "",
           ""
          ],
          [
           232,
           "",
           ""
          ],
          [
           236,
           "",
           ""
          ],
          [
           29,
           "",
           ""
          ],
          [
           266,
           "",
           ""
          ],
          [
           265,
           "",
           ""
          ],
          [
           263,
           "",
           ""
          ],
          [
           262,
           "",
           ""
          ],
          [
           35,
           "",
           ""
          ],
          [
           261,
           "",
           ""
          ],
          [
           37,
           "",
           ""
          ],
          [
           27,
           "",
           ""
          ],
          [
           38,
           "",
           ""
          ],
          [
           260,
           "",
           ""
          ],
          [
           41,
           "",
           ""
          ],
          [
           42,
           "",
           ""
          ],
          [
           259,
           "",
           ""
          ],
          [
           45,
           "",
           ""
          ],
          [
           256,
           "",
           ""
          ],
          [
           48,
           "",
           ""
          ],
          [
           255,
           "",
           ""
          ],
          [
           39,
           "",
           ""
          ],
          [
           254,
           "",
           ""
          ],
          [
           26,
           "",
           ""
          ],
          [
           24,
           "",
           ""
          ],
          [
           290,
           "",
           ""
          ],
          [
           289,
           "",
           ""
          ],
          [
           287,
           "",
           ""
          ],
          [
           286,
           "",
           ""
          ],
          [
           283,
           "",
           ""
          ],
          [
           280,
           "",
           ""
          ],
          [
           279,
           "",
           ""
          ],
          [
           278,
           "",
           ""
          ],
          [
           268,
           "",
           ""
          ],
          [
           277,
           "",
           ""
          ],
          [
           275,
           "",
           ""
          ],
          [
           274,
           "",
           ""
          ],
          [
           273,
           "",
           ""
          ],
          [
           272,
           "",
           ""
          ],
          [
           271,
           "",
           ""
          ],
          [
           270,
           "",
           ""
          ],
          [
           22,
           "",
           ""
          ],
          [
           269,
           "",
           ""
          ],
          [
           276,
           "",
           ""
          ],
          [
           51,
           "",
           ""
          ],
          [
           257,
           "",
           ""
          ],
          [
           53,
           "",
           ""
          ],
          [
           70,
           "",
           ""
          ],
          [
           253,
           "",
           ""
          ],
          [
           243,
           "",
           ""
          ],
          [
           74,
           "",
           ""
          ],
          [
           75,
           "",
           ""
          ],
          [
           76,
           "",
           ""
          ],
          [
           77,
           "",
           ""
          ],
          [
           69,
           "",
           ""
          ],
          [
           78,
           "",
           ""
          ],
          [
           239,
           "",
           ""
          ],
          [
           238,
           "",
           ""
          ],
          [
           83,
           "",
           ""
          ],
          [
           84,
           "",
           ""
          ],
          [
           237,
           "",
           ""
          ],
          [
           86,
           "",
           ""
          ],
          [
           87,
           "",
           ""
          ],
          [
           241,
           "",
           ""
          ],
          [
           244,
           "",
           ""
          ],
          [
           71,
           "",
           ""
          ],
          [
           189,
           "",
           ""
          ],
          [
           248,
           "",
           ""
          ],
          [
           251,
           "",
           ""
          ],
          [
           61,
           "",
           ""
          ],
          [
           250,
           "",
           ""
          ],
          [
           62,
           "",
           ""
          ],
          [
           55,
           "",
           ""
          ],
          [
           246,
           "",
           ""
          ],
          [
           252,
           "",
           ""
          ],
          [
           65,
           "",
           ""
          ],
          [
           66,
           "",
           ""
          ],
          [
           247,
           "",
           ""
          ],
          [
           58,
           "",
           ""
          ],
          [
           288,
           "GAAVETFFRWH",
           "erythrocyte_binding_antigen-175_"
          ],
          [
           233,
           "ASKEAEE",
           "merozoite_surface_protein_3"
          ],
          [
           285,
           "DIDEINDIDEIN",
           "MSP7-like_protein_"
          ],
          [
           284,
           "GASPPSGTS",
           "merozoite_surface_protein_1"
          ],
          [
           235,
           "REYQLDNEGPD",
           "MSP7-like_protein_"
          ],
          [
           282,
           "LIEEVVP",
           "11-1_polypeptide"
          ],
          [
           281,
           "GTGQHGHMHGSR",
           "merozoite_surface_protein_2"
          ],
          [
           264,
           "GSAGGSA",
           "merozoite_surface_protein_2_"
          ],
          [
           230,
           "NENINKKDSDHN",
           "mature_parasite-infected_erythrocyte_surface_antigen_"
          ],
          [
           229,
           "TYDEKVKKN",
           "Liver_stage_antigen"
          ],
          [
           245,
           "EGPQGPADNVTP",
           "endoplasmin"
          ],
          [
           207,
           "NDENKTMEHIKI",
           "merozoite_surface_protein_"
          ],
          [
           249,
           "NIKDNKHENIQD",
           "conserved_Plasmodium_protein"
          ],
          [
           227,
           "RIPSGSFFBTP",
           "conserved_Plasmodium_protein"
          ],
          [
           218,
           "QNNDYNQNNDYN",
           "cytoadherence_linked_asexual_protein_3.2_"
          ],
          [
           205,
           "PQGSTGA",
           "serine_repeat_antigen_5"
          ],
          [
           242,
           "FIWDGMJCA",
           "erythrocyte_membrane_protein_1"
          ],
          [
           267,
           "CVDNLNYYFEFY",
           "cytochrome_c_oxidase_assembly_protein_(heme_A:_farnesyltransferase)"
          ],
          [
           224,
           "QVPVSGSPL",
           "merozoite_surface_protein_1"
          ],
          [
           258,
           "LNQKEEENYKNH",
           "erythrocyte_binding_antigen-140_"
          ],
          [
           240,
           "NIDNMENIDNM",
           "calpain_"
          ],
          [
           146,
           "SRIPSGSFF",
           "conserved_Plasmodium_protein"
          ],
          [
           187,
           "DNIKGEDNIKG",
           "schizont_egress_antigen-1_"
          ],
          [
           57,
           "KLQNDKDSG",
           "glutamate-rich_protein_"
          ],
          [
           59,
           "GDDNKNGDB",
           "merozoite_surface_protein_1"
          ],
          [
           60,
           "ETGESKETGESK",
           "mature_parasite-infected_erythrocyte_surface_antigen_"
          ],
          [
           63,
           "YKLGNNKKSYLI,NDVHKKKADDGN",
           "merozoite_surface_protein_10_"
          ],
          [
           64,
           "NNNMDNKKNMDN",
           "duffy_binding-like_merozoite_surface_protein_"
          ],
          [
           67,
           "QQSDLEQERRAK",
           "Liver_stage_antigen"
          ],
          [
           68,
           "MEEHNKIEEHNK",
           "early_transcribed_membrane_protein_13"
          ],
          [
           72,
           "DEGKTTDEGKTT",
           "mature_parasite-infected_erythrocyte_surface_antigen_"
          ],
          [
           188,
           "RWLEEWGEEFCR",
           "erythrocyte_membrane_protein_1_var_IT-ICAM"
          ],
          [
           81,
           "VAPSVEE",
           "Liver_stage_antigen-3"
          ],
          [
           85,
           "EPFPNQKHKDLQ",
           "glutamate-rich_protein"
          ],
          [
           88,
           "MSIHDGMKGQKY",
           "erythrocyte_binding_antigen-165_"
          ],
          [
           92,
           "PCZLEYQWHTNV",
           "erythrocyte_membrane_protein_1"
          ],
          [
           97,
           "NDKDIYNNM",
           "serine_repeat_antigen_5_"
          ],
          [
           101,
           "SPRIFJSDBKDE",
           "apical_membrane_antigen-1"
          ],
          [
           56,
           "KITLEKEIKNFR",
           "cytoadherence_linked_asexual_protein_9_"
          ],
          [
           103,
           "CKCIPNYDCDIS",
           "merozoite_surface_protein_10_"
          ],
          [
           54,
           "GPNDPFYDGTFN",
           "high_molecular_weight_rhoptry_protein_3_"
          ],
          [
           47,
           "RQMFYTLGDYRD",
           "cytoadherence_linked_asexual_protein_3.2_"
          ],
          [
           2,
           "DPYKQLKEVVEK",
           "Liver_stage_antigen"
          ],
          [
           3,
           "QEPVTTQEPVTT,QEPVTTQEP",
           "Interspersed_repeat_antigen"
          ],
          [
           6,
           "CANCNEEDKNMS",
           "merozoite_surface_protein_1"
          ],
          [
           11,
           "VEENVEE",
           "Ring-infected_erythrocyte_surface_antigen_precursor"
          ],
          [
           12,
           "RNQNVNDRRNFD",
           "cytoadherence_linked_asexual_protein_3.1_"
          ],
          [
           13,
           "NLEEYBZTD",
           "mature_parasite-infected_erythrocyte_surface_antigen_"
          ],
          [
           18,
           "SGEKLQYKKKEG",
           "merozoite_surface_protein_10_"
          ],
          [
           25,
           "NTDTISTDN",
           "sporozoite_threonine_and_asparagine-rich_protein_"
          ],
          [
           32,
           "NNIYVKEFYKKL",
           "apical_membrane_antigen_1"
          ],
          [
           33,
           "ELKNKEL",
           "erythrocyte_binding_antigen-181_"
          ],
          [
           36,
           "KEKEEVKEKEEV,NKDKVIEQE",
           "mature_parasite-infected_erythrocyte_surface_antigen_"
          ],
          [
           40,
           "GSVTEEIVE",
           "antigen_332"
          ],
          [
           43,
           "TTVTEEDTFKGQ",
           "cytoadherence_linked_asexual_protein_8_"
          ],
          [
           44,
           "ZFDKQKKKY",
           "PfEMP1"
          ],
          [
           46,
           "SDGDKGP",
           "endoplasmin"
          ],
          [
           52,
           "ATKEASTSK",
           "Knob-associated_histidine-rich_protein_precursor"
          ],
          [
           105,
           "TPQETVTTQEPV",
           "Interspersed_repeat_antigen"
          ],
          [
           79,
           "FLKGDSEDGSEQ",
           "merozoite_surface_protein_7_[Plasmodium_falciparum_IGH-CR14]"
          ],
          [
           113,
           "NGNNFNKDNIFN",
           "merozoite_surface_protein_1"
          ],
          [
           143,
           "YLDEQEEDVYLD",
           "cytoadherence_linked_asexual_protein_8_"
          ],
          [
           291,
           "NNKNGDNNKNGD",
           "hypothetical_protein"
          ],
          [
           148,
           "KDINKTDSE",
           "hypothetical_protein_PF14_0045"
          ],
          [
           153,
           "SNDKQSNDI",
           "merozoite_surface_protein_5_"
          ],
          [
           155,
           "KSNEQSKREDDS",
           "erythrocyte_binding_antigen-175_"
          ],
          [
           112,
           "QKSPPKELSNKQ",
           "merozoite_surface_protein_1"
          ],
          [
           157,
           "HDIYDIDTF",
           "erythrocyte_binding_antigen-140_"
          ],
          [
           159,
           "SRNDEMLDP",
           "apical_membrane_antigen_1"
          ],
          [
           160,
           "QNDKDSGKL",
           "glutamate-rich_protein_"
          ],
          [
           162,
           "BNFDDKNPFDEY",
           "methionine--tRNA_ligase_"
          ],
          [
           164,
           "SKSQVQHPK",
           "merozoite_surface_protein_10_"
          ],
          [
           165,
           "GSFDTIFDGFVN",
           "merozoite_surface_protein_"
          ],
          [
           171,
           "EKRNGFDLBDDT",
           "sporozoite_surface_protein_2"
          ],
          [
           178,
           "YGPNGTYGPNGT",
           "major_surface_antigen_p190"
          ],
          [
           180,
           "INNGGCGDDKIC",
           "merozoite_surface_protein_5_"
          ],
          [
           185,
           "LPEEDIINEKVQ",
           "erythrocyte_binding_antigen-140_"
          ],
          [
           186,
           "KPFNEPTYVDSN",
           "glutamate-rich_protein_"
          ],
          [
           142,
           "LDRHRDMCEKW",
           "erythrocyte_membrane_protein_1_(PfEMP1)"
          ],
          [
           138,
           "NVHKNVNNDDM",
           "Erythrocyte_binding_antigen"
          ],
          [
           156,
           "FDDCQLQNEFCD",
           "hypothetical_protein_PFB0145c"
          ],
          [
           124,
           "APIFGSPSNKDD",
           "merozoite_surface_protein_8_"
          ],
          [
           118,
           "ENKDKVIGQEII",
           "mature_parasite-infected_erythrocyte_surface_antigen_"
          ],
          [
           121,
           "LSDDVRPDKNHE",
           "erythrocyte_binding_antigen-175_"
          ],
          [
           117,
           "NEINREINNEIN",
           "hypothetical_protein_PF07_0086"
          ],
          [
           122,
           "KKGDDNKMMVEN",
           "sporozoite_surface_protein_3"
          ],
          [
           115,
           "YILGWEFGGGVP",
           "merozoite_surface_protein_3"
          ],
          [
           125,
           "LDPKFYNLGDFG",
           "antigen_Pfg27/25"
          ],
          [
           136,
           "CIPPRRRKLTVG",
           "erythrocyte_binding_antigen-175_"
          ],
          [
           114,
           "NHKSISNHKDIN",
           "methionine--tRNA_ligase_"
          ],
          [
           127,
           "MNGDNKMNGDNK",
           "hypothetical_protein"
          ],
          [
           128,
           "KLIGDNKLIGD",
           "erythrocyte_membrane-associated_giant_protein_antigen_332"
          ],
          [
           129,
           "SIQEQLIGTIGR",
           "erythrocyte_membrane_protein_1"
          ],
          [
           100,
           "ILRKLNYDDFFT,KDMNKENIKKTD",
           "Circumsporozoite_protein_precursor,erythrocyte_binding_antigen-165_"
          ],
          [
           20,
           "BSQNGKNEKNEK,KIDMHNTYNDT",
           "Circumsporozoite_protein_precursor,petidase"
          ],
          [
           10,
           "RPQFLRWFTEWG,EEFCRERKK",
           "erythrocyte_binding_antigen-140_,PfEMP1"
          ],
          [
           91,
           "DNIEVNNTJ,NRELIKKESIY",
           "protein_kinase,erythrocyte_binding_antigen-165_"
          ],
          [
           1,
           "GIDJYBEVLKRK,ENELFGT",
           "PfEMP1_variant_1_of_strain_MC,heat_shock_protein_90"
          ],
          [
           15,
           "AFHSNVPGBKRE,VHNTQNTHDLLG",
           "high_molecular_weight_rhoptry_protein_3_,PfEMP1"
          ],
          [
           17,
           "NDTEEKDKVKKQ,VEEGIKE",
           "mature_parasite-infected_erythrocyte_surface_antigen_,mature_parasite-infected_erythrocyte_surface_antigen_"
          ],
          [
           89,
           "NEVKSEVKNEVK,YNHIIPYKNIKI",
           "merozoite_surface_protein_6_,Erythrocyte_membrane_protein_1"
          ],
          [
           4,
           "GQQNTGLKNTPS,LNKDIRNKDLKN",
           "high_molecular_weight_rhoptry_protein_3_,erythrocyte_binding_antigen-175_"
          ],
          [
           137,
           "PPTQDAETKSPT,GQHGHMH",
           "merozoite_surface_protein_2_,merozoite_surface_protein_2_"
          ],
          [
           0,
           "VIPEELVEEVIP,VVEEVVPEELVE,EVVEEVVPE",
           "11-1_polypeptide,glutamate-rich_protein_"
          ],
          [
           28,
           "SAFGGGLPFSGY,SSGIGNHNKCPD",
           "erythrocyte_membrane_protein,duffy_binding-like_merozoite_surface_protein_"
          ],
          [
           30,
           "SNGREDKVSNGG,VSNGREDKV",
           "S-antigen_,S-antigen_"
          ],
          [
           139,
           "DLIEAFFPFIL,LDNKYDDYYNLP",
           "merozoite_surface_protein_10_,merozoite_surface_protein_10_"
          ],
          [
           31,
           "LVDNMNITQ,INSDDIKEK",
           "erythrocyte_binding_antigen-175_,schizont_egress_antigen-1_"
          ],
          [
           50,
           "ENNENIENNENN,HPGSCFVENKAH",
           "merozoite_surface_protein_10_,erythrocyte_binding_antigen-175_"
          ],
          [
           82,
           "PLDNTSEETTER,NPNRSSDEGEAH",
           "erythrocyte_binding_protein,erythrocyte_binding_antigen-175_"
          ],
          [
           34,
           "NTSNKLKDEPVD,LRDNYASEQEYF",
           "serine_repeat_antigen_5_,antigen_332"
          ],
          [
           80,
           "DNMDNIYNV,YKFLSMKHYKDS",
           "conserved_Plasmodium_protein,merozoite_surface_protein_10_"
          ],
          [
           126,
           "FIQEDQEGQTHS,KGLDIDBIP",
           "glutamate-rich_protein_,glutamate-rich_protein_"
          ],
          [
           73,
           "FYKLLKEGKYCK,AFTKQKEKYAKY",
           "endoplasmin,erythrocyte_membrane_protein_1"
          ],
          [
           19,
           "PNANPNANPNAN,NPBANPN,KLRKPKHKKLKQ",
           "circumsporozoite_(CS)_protein_,circumsporozoite_(CS)_protein_,Circumsporozoite_protein_precursor"
          ],
          [
           49,
           "PQYLRWFEEWAE,YCRGNNGKC,DVPTNFDYV",
           "erythrocyte_membrane_protein_1_var_IT-ICAM,erythrocyte_binding_antigen-181_,PfEMP1"
          ],
          [
           5,
           "KQILKDKCEKEJ,HEYDERMKT,DPEMKEV",
           "merozoite_surface_protein_8_,sporozoite_surface_protein_3,glutamate-rich_protein_"
          ],
          [
           9,
           "FEKQKEKYEKEI,EKLKNENYETVN,TYESNDAIS",
           "duffy_binding-like_merozoite_surface_protein_,antigen_332,antigen_332"
          ],
          [
           94,
           "NYHYEEPFILTP,EAYEKAGEVIVE,REVEKRSEKLID",
           "high_molecular_weight_rhoptry_protein_3_,merozoite_surface_protein_3,sporozoite_surface_protein_2"
          ],
          [
           14,
           "QHEIVEVEEILP,EDKNEKV,HTEQLDLDHKTV",
           "glutamate-rich_protein,glutamate-rich_protein_,glutamate-rich_protein_"
          ],
          [
           16,
           "TDNEWNTLKDEF,DIQNDGIPSSKI,ISQYLQSEQPKD,VPNDYQS",
           "hypothetical_protein_PFL1930w,thrombospondin-related_anonymous_protein_,erythrocyte_membrane_protein_1"
          ],
          [
           7,
           "QQSDLEQERLAK,KLQEQQS,LAKEKLQ",
           "liver_stage_antigen_1_,liver_stage_antigen_1_,liver_stage_antigen_1_"
          ],
          [
           21,
           "IYYDVNDDD,KEKYPIADVWDI,DKPFNEP",
           "acidic_basic_repeat_antigen_,high_molecular_weight_rhoptry_protein_3_,erythrocyte_binding_antigen-165_"
          ],
          [
           8,
           "AITKYQNPH,YHNDPELKEIID,NTQRTTIKSRLL,DPYKQLKEVVEK",
           "Cytoadherence_linked_asexual_protein,cytoadherence_linked_asexual_protein_2_,stevor_,Liver_stage_antigen"
          ],
          [
           23,
           "DSYRILSVSYKD,DDEEKNETNDTE,IEEEINTDG,DIIKHNEDVR",
           "duffy_binding-like_merozoite_surface_protein_,duffy_binding-like_merozoite_surface_protein_,erythrocyte_membrane_protein,duffy_binding-like_merozoite_surface_protein_"
          ]
         ],
         "hovertemplate": "<b>Clique Number</b> : %{customdata[0]}<br><b>Membership</b> : %{marker.size}<br><b>Motifs</b> : %{customdata[1]}</b><br><extra><b>Known Epitopes</b> : %{customdata[2]}<br></extra>",
         "marker": {
          "color": [
           0,
           0,
           0,
           0,
           0,
           0,
           0,
           0,
           0,
           0,
           0,
           0,
           0,
           0,
           0,
           0,
           0,
           0,
           0,
           0,
           0,
           0,
           0,
           0,
           0,
           0,
           0,
           0,
           0,
           0,
           0,
           0,
           0,
           0,
           0,
           0,
           0,
           0,
           0,
           0,
           0,
           0,
           0,
           0,
           0,
           0,
           0,
           0,
           0,
           0,
           0,
           0,
           0,
           0,
           0,
           0,
           0,
           0,
           0,
           0,
           0,
           0,
           0,
           0,
           0,
           0,
           0,
           0,
           0,
           0,
           0,
           0,
           0,
           0,
           0,
           0,
           0,
           0,
           0,
           0,
           0,
           0,
           0,
           0,
           0,
           0,
           0,
           0,
           0,
           0,
           0,
           0,
           0,
           0,
           0,
           0,
           0,
           0,
           0,
           0,
           0,
           0,
           0,
           0,
           0,
           0,
           0,
           0,
           0,
           0,
           0,
           0,
           0,
           0,
           0,
           0,
           0,
           0,
           0,
           0,
           0,
           0,
           0,
           0,
           0,
           0,
           0,
           0,
           0,
           0,
           0,
           0,
           0,
           0,
           0,
           0,
           0,
           0,
           0,
           0,
           0,
           0,
           0,
           0,
           0,
           0,
           0,
           0,
           0,
           0,
           0,
           0,
           0,
           0,
           0,
           0,
           0,
           0,
           0,
           0,
           0,
           0,
           0,
           0,
           0,
           0,
           0,
           0,
           1,
           1,
           1,
           1,
           1,
           1,
           1,
           1,
           1,
           1,
           1,
           1,
           1,
           1,
           1,
           1,
           1,
           1,
           1,
           1,
           1,
           1,
           1,
           1,
           1,
           1,
           1,
           1,
           1,
           1,
           1,
           1,
           1,
           1,
           1,
           1,
           1,
           1,
           1,
           1,
           1,
           1,
           1,
           1,
           1,
           1,
           1,
           1,
           1,
           1,
           1,
           1,
           1,
           1,
           1,
           1,
           1,
           1,
           1,
           1,
           1,
           1,
           1,
           1,
           1,
           1,
           1,
           1,
           1,
           1,
           1,
           1,
           1,
           1,
           1,
           1,
           1,
           1,
           1,
           1,
           1,
           1,
           1,
           1,
           1,
           1,
           1,
           1,
           1,
           1,
           1,
           1,
           1,
           2,
           2,
           2,
           2,
           2,
           2,
           2,
           2,
           2,
           2,
           2,
           2,
           2,
           2,
           2,
           2,
           2,
           2,
           2,
           2,
           2,
           3,
           3,
           3,
           3,
           3,
           3,
           3,
           3,
           3,
           4,
           4
          ],
          "colorbar": {
           "title": {
            "text": "known motifs"
           }
          },
          "colorscale": [
           [
            0,
            "#f5d60f"
           ],
           [
            1,
            "#C70039"
           ]
          ],
          "size": [
           2,
           4,
           2,
           2,
           4,
           2,
           2,
           2,
           2,
           4,
           2,
           4,
           4,
           4,
           4,
           4,
           2,
           2,
           2,
           4,
           2,
           2,
           4,
           6,
           3,
           6,
           5,
           2,
           5,
           5,
           5,
           2,
           5,
           5,
           5,
           5,
           5,
           5,
           5,
           2,
           2,
           2,
           2,
           4,
           4,
           2,
           3,
           3,
           3,
           3,
           3,
           3,
           3,
           3,
           3,
           3,
           3,
           3,
           3,
           3,
           3,
           3,
           3,
           3,
           3,
           3,
           2,
           3,
           2,
           4,
           4,
           2,
           3,
           3,
           3,
           3,
           3,
           2,
           3,
           2,
           2,
           2,
           3,
           2,
           2,
           3,
           2,
           3,
           3,
           6,
           2,
           2,
           15,
           2,
           2,
           2,
           2,
           13,
           2,
           13,
           15,
           13,
           2,
           12,
           11,
           2,
           10,
           2,
           10,
           2,
           13,
           2,
           16,
           19,
           2,
           2,
           2,
           2,
           2,
           2,
           2,
           2,
           2,
           2,
           2,
           2,
           2,
           2,
           2,
           2,
           21,
           2,
           2,
           9,
           2,
           9,
           7,
           2,
           2,
           7,
           7,
           7,
           7,
           7,
           7,
           2,
           2,
           6,
           6,
           2,
           6,
           6,
           2,
           2,
           7,
           3,
           2,
           2,
           8,
           2,
           8,
           8,
           2,
           2,
           7,
           7,
           2,
           8,
           2,
           2,
           2,
           2,
           2,
           2,
           2,
           2,
           2,
           2,
           2,
           2,
           2,
           2,
           2,
           2,
           2,
           2,
           2,
           2,
           2,
           3,
           3,
           8,
           8,
           8,
           8,
           7,
           7,
           7,
           7,
           3,
           6,
           6,
           6,
           6,
           5,
           5,
           8,
           5,
           8,
           10,
           77,
           65,
           41,
           28,
           27,
           26,
           24,
           17,
           14,
           14,
           13,
           13,
           11,
           11,
           10,
           9,
           5,
           7,
           5,
           4,
           2,
           3,
           3,
           3,
           5,
           3,
           3,
           3,
           3,
           3,
           3,
           3,
           3,
           3,
           3,
           3,
           4,
           4,
           3,
           4,
           4,
           4,
           4,
           4,
           4,
           4,
           4,
           5,
           4,
           4,
           4,
           5,
           21,
           29,
           6,
           169,
           25,
           24,
           6,
           57,
           4,
           464,
           15,
           14,
           4,
           14,
           9,
           6,
           13,
           7,
           4,
           7,
           23,
           9,
           57,
           31,
           6,
           25,
           25,
           38,
           21,
           31,
           20
          ],
          "sizemin": 3,
          "sizemode": "area",
          "sizeref": 0.25,
          "symbol": [
           100,
           100,
           100,
           100,
           100,
           100,
           100,
           100,
           100,
           100,
           100,
           100,
           100,
           100,
           100,
           100,
           100,
           100,
           100,
           100,
           100,
           100,
           100,
           100,
           100,
           100,
           100,
           100,
           100,
           100,
           100,
           100,
           100,
           100,
           100,
           100,
           100,
           100,
           100,
           100,
           100,
           100,
           100,
           100,
           100,
           100,
           100,
           100,
           100,
           100,
           100,
           100,
           100,
           100,
           100,
           100,
           100,
           100,
           100,
           100,
           100,
           100,
           100,
           100,
           100,
           100,
           100,
           100,
           100,
           100,
           100,
           100,
           100,
           100,
           100,
           100,
           100,
           100,
           100,
           100,
           100,
           100,
           100,
           100,
           100,
           100,
           100,
           100,
           100,
           100,
           100,
           100,
           100,
           100,
           100,
           100,
           100,
           100,
           100,
           100,
           100,
           100,
           100,
           100,
           100,
           100,
           100,
           100,
           100,
           100,
           100,
           100,
           100,
           100,
           100,
           100,
           100,
           100,
           100,
           100,
           100,
           100,
           100,
           100,
           100,
           100,
           100,
           100,
           100,
           100,
           100,
           100,
           100,
           100,
           100,
           100,
           100,
           100,
           100,
           100,
           100,
           100,
           100,
           100,
           100,
           100,
           100,
           100,
           100,
           100,
           100,
           100,
           100,
           100,
           100,
           100,
           100,
           100,
           100,
           100,
           100,
           100,
           100,
           100,
           100,
           100,
           100,
           100,
           0,
           0,
           0,
           0,
           0,
           0,
           0,
           0,
           0,
           0,
           0,
           0,
           0,
           0,
           0,
           0,
           0,
           0,
           0,
           0,
           0,
           0,
           0,
           0,
           0,
           0,
           0,
           0,
           0,
           0,
           0,
           0,
           0,
           0,
           0,
           0,
           0,
           0,
           0,
           0,
           0,
           0,
           0,
           0,
           0,
           0,
           0,
           0,
           0,
           0,
           0,
           0,
           0,
           0,
           0,
           0,
           0,
           0,
           0,
           0,
           0,
           0,
           0,
           0,
           0,
           0,
           0,
           0,
           0,
           0,
           0,
           0,
           0,
           0,
           0,
           0,
           0,
           0,
           0,
           0,
           0,
           0,
           0,
           0,
           0,
           0,
           0,
           0,
           0,
           0,
           0,
           0,
           0,
           0,
           0,
           0,
           0,
           0,
           0,
           0,
           0,
           0,
           0,
           0,
           0,
           0,
           0,
           0,
           0,
           0,
           0,
           0,
           0,
           0,
           0,
           0,
           0,
           0,
           0,
           0,
           0,
           0,
           0,
           0,
           0
          ]
         },
         "mode": "markers",
         "type": "scatter",
         "x": [
          0.6475355625152588,
          0.2518432065844536,
          -0.4241698533296585,
          -0.8175061643123627,
          -0.8761849850416183,
          -0.9982385039329529,
          0.5230086445808411,
          -0.761035293340683,
          -0.5240723192691803,
          -0.6348419487476349,
          0.10208119824528694,
          -0.7873566448688507,
          0.8431320935487747,
          -0.8277634084224701,
          -0.8284671157598495,
          -0.028145532589405775,
          -0.48834656178951263,
          -0.6134238243103027,
          0.6002441346645355,
          0.6898856610059738,
          -0.7212074100971222,
          -0.618577390909195,
          0.2708883732557297,
          0.8293770750363668,
          -0.833723763624827,
          -0.09100236743688583,
          -0.17580167353153228,
          0.8254100382328033,
          0.6572437047958374,
          -0.04528619721531868,
          -0.6193150997161865,
          -0.8677507638931274,
          -0.5851840615272522,
          0.5437123775482178,
          0.5034769296646118,
          0.6727539658546448,
          0.8864493250846863,
          0.5191182136535645,
          0.3928759515285492,
          -0.7123396098613739,
          -0.8445254862308502,
          0.6603643596172333,
          0.40816062688827515,
          -0.8457357436418533,
          0.8538035154342651,
          -0.601874440908432,
          -0.5825655460357666,
          -0.3931679626305898,
          0.6890831589698792,
          0.2398356000582377,
          0.9323257406552633,
          0.09784406175216039,
          -0.3463329275449117,
          0.8091156482696533,
          0.14589436848958334,
          -0.7921115954717001,
          -0.8237970272699991,
          0.754879097143809,
          0.4179978171984355,
          0.8028054436047872,
          -0.07725727061430614,
          -0.8402269879976908,
          -0.719156006971995,
          -0.4937218228975932,
          -0.667732854684194,
          0.8565682371457418,
          0.7978111803531647,
          0.4059058129787445,
          0.9803009927272797,
          -0.6087774634361267,
          0.4454371780157089,
          0.8563679754734039,
          0.4393457770347595,
          0.6803518732388815,
          -0.7467090487480164,
          -0.4245506326357524,
          0.7618539929389954,
          -0.6824122965335846,
          -0.20688551167647043,
          0.8862786889076233,
          -0.7095068395137787,
          0.9512266516685486,
          0.02820168249309063,
          0.33013686537742615,
          0.1665743589401245,
          0.8080452680587769,
          -0.04457945190370083,
          -0.2789967556794484,
          -0.5880341132481893,
          0.5884727239608765,
          0.44542641937732697,
          -0.805758535861969,
          -0.6378083189328512,
          -0.8779019415378571,
          -0.6946496665477753,
          -0.5498456060886383,
          0.820814847946167,
          0.21197162797817817,
          0.8477589190006256,
          0.42224403528066784,
          0.10542789548635483,
          0.5352259553395785,
          0.5923633575439453,
          -0.6205871303876241,
          0.6226093552329324,
          0.8585631847381592,
          -0.2512988895177841,
          0.6974952816963196,
          -0.45440555512905123,
          -0.8597918152809143,
          -0.5203170913916367,
          -0.03678949177265167,
          -0.13810021430253983,
          0.0551789665692731,
          -0.5786575376987457,
          0.7362712919712067,
          -0.4605129510164261,
          -0.757753998041153,
          0.8816474080085754,
          -0.5567535161972046,
          -0.17522230744361877,
          0.6122471392154694,
          0.8472238481044769,
          -0.5331206619739532,
          -0.7311710119247437,
          -0.02127851825207472,
          -0.7600481510162354,
          -0.4042147994041443,
          -0.7764822244644165,
          0.81825190782547,
          0.05183814572436469,
          0.23907049745321274,
          0.02295166812837124,
          0.5814485020107694,
          0.7946080267429352,
          -0.20864697131845686,
          -0.09239796442644936,
          -0.6497998833656311,
          -0.809581995010376,
          -0.6942738890647888,
          -0.7116037011146545,
          0.7321859427860805,
          0.6845015713146755,
          0.7677155477660043,
          -0.7091170719691685,
          -0.5099762082099915,
          0.8661114871501923,
          -0.21946121007204056,
          -0.7888917426268259,
          -0.8705456852912903,
          0.1681836023926735,
          0.027375131535033386,
          0.7477187812328339,
          0.824545830488205,
          0.5426077757562909,
          0.7120481530825297,
          -0.8434756398200989,
          -0.583617627620697,
          0.31089362874627113,
          -0.7615492343902588,
          -0.7760321125388145,
          -0.665095679461956,
          0.5773138701915741,
          0.3940075784921646,
          0.2841348094599588,
          -0.6260083573205131,
          0.32387781143188477,
          0.7163595333695412,
          0.9683883488178253,
          0.2848224490880966,
          -0.07106811180710793,
          0.8846813142299652,
          -0.1479027345776558,
          -0.5710216164588928,
          -0.6447552144527435,
          -0.08799504116177559,
          -0.4417027086019516,
          0.9160798490047455,
          0.34834231436252594,
          0.12572979182004929,
          -0.6976119875907898,
          -0.7170154452323914,
          0.48320139944553375,
          -0.5005680173635483,
          -0.33626289665699005,
          -0.15690919011831284,
          0.36197255551815033,
          -0.6366885006427765,
          0.6557102799415588,
          0.12675794959068298,
          0.8027218381563822,
          -0.8021852225065231,
          0.19132046774029732,
          0.3337153233587742,
          0.6126223132014275,
          0.7990794011524746,
          0.10786050025905881,
          -0.7502149002892631,
          -0.14373990254742758,
          0.022318603470921516,
          0.4915817826986313,
          -0.3185959458351135,
          0.7759771843751272,
          -0.8085672855377197,
          0.7318092465400696,
          -0.8016077876091003,
          0.04246543953195214,
          -0.7248126983642578,
          -0.23797217197716236,
          -0.17038653939962387,
          0.10028295102831605,
          0.13599893221488366,
          0.2626943530105963,
          0.22160888356821878,
          0.26470695049674425,
          0.3815499120033704,
          -0.19524498718480268,
          0.5453455342965967,
          0.5376130087035043,
          -0.20126239955425262,
          -0.239200879748051,
          -0.4240639301446768,
          0.41531698541207746,
          0.33836168863556604,
          0.6292652666568757,
          -0.3770907786157396,
          -0.5519328713417053,
          -0.6865785121917725,
          -0.14431074857711793,
          0.34436342865228653,
          0.22018184512853622,
          0.8129599889119467,
          0.525420626004537,
          -0.915150503317515,
          0.5189517259597778,
          0.38185153404871625,
          -0.5025160809357961,
          -0.6382723251978556,
          -0.22568885485331217,
          0.3206254243850708,
          -0.7916970451672872,
          -0.5358479619026184,
          0.2744365135828654,
          -0.8302109638849894,
          0.1902943253517151,
          -0.48039209842681885,
          -0.7902465611696243,
          -0.7509220242500305,
          0.19435334702332815,
          -0.7714347839355469,
          0.6488337814807892,
          0.4459900036454201,
          0.7044094800949097,
          0.23840540274977684,
          0.8631899654865265,
          -0.6208752691745758,
          -0.7677550166845322,
          -0.25852261781692504,
          -0.30209603905677795,
          -0.820195883512497,
          -0.12556562013924122,
          -0.28679958581924436,
          -0.3885052700837453,
          0.24030592369622197,
          -0.17122070988019308,
          -0.020564155559435752,
          -0.33407514095306395,
          0.14180235068003336,
          0.7716923654079437,
          0.15055599207418008,
          -0.3875867575407028,
          -0.03502683266836765,
          0.018894872441887856,
          -0.06838397628494672,
          0.3668384552001953,
          0.1851791058267866,
          0.1540113223923577,
          -0.7955708801746368,
          0.7042312622070312,
          0.6554255144936698,
          -0.35502658784389496,
          0.3459294097764151,
          -0.25944154547608417,
          -0.3654082483715481,
          -0.22799349667733176,
          -0.28828751271770847,
          0.7289892931779226,
          -0.04007857277989388,
          -0.3638659989833832,
          -0.29848755347101313,
          0.33953883392470224,
          -0.11994561649137928,
          0.3469578132033348
         ],
         "y": [
          -0.5380062460899353,
          -0.8254193663597107,
          0.8573657274246216,
          -0.3184778094291687,
          0.3055094704031944,
          -0.2243606001138687,
          -0.8179677128791809,
          -0.5386039018630981,
          0.7136238217353821,
          0.46803103387355804,
          0.9017426371574402,
          0.4478585943579674,
          -0.46409714967012405,
          -0.20918551087379456,
          -0.025031602010130882,
          -0.7224023044109344,
          0.7479489147663116,
          0.6265020966529846,
          0.6366500854492188,
          -0.37172168493270874,
          -0.42120401561260223,
          -0.5024694800376892,
          0.8848880529403687,
          0.03497260374327501,
          0.06586311012506485,
          -0.8479793469111124,
          -0.8307247757911682,
          -0.15925990045070648,
          0.5312221765518188,
          0.7956620812416076,
          0.3972312033176422,
          0.13112268596887589,
          -0.4440335392951965,
          -0.5043089985847473,
          0.6308133482933045,
          0.33870763182640073,
          0.023481889814138412,
          -0.6466766595840454,
          0.6303765535354614,
          -0.6646806597709656,
          0.47243452072143555,
          -0.6634115874767303,
          -0.6524355113506317,
          0.2211168296635151,
          -0.13492607325315475,
          0.8880639374256134,
          0.7237107753753662,
          0.7740923563639323,
          -0.49017422397931415,
          0.7830337683359782,
          0.1601299544175466,
          0.8387977679570516,
          0.6663059790929159,
          0.2784966627756755,
          0.8732405702273051,
          0.2225214292605718,
          -0.09854647020498912,
          0.21857106188933054,
          0.694806436697642,
          0.43192485968271893,
          -0.8047234416007996,
          -0.26941487193107605,
          0.5723666548728943,
          0.6540312767028809,
          0.400736798842748,
          0.3340451121330261,
          0.10285058990120888,
          0.737184484799703,
          -0.11812270805239677,
          -0.5526965260505676,
          -0.6600757986307144,
          -0.2100047543644905,
          0.6273161768913269,
          -0.6306577920913696,
          0.14494189620018005,
          -0.709647019704183,
          -0.3494853973388672,
          0.5791778564453125,
          0.8626402616500854,
          0.3824079781770706,
          0.3736450970172882,
          0.2588624954223633,
          0.9051562746365865,
          0.8169146776199341,
          0.9580169916152954,
          -0.18725556135177612,
          0.5604053437709808,
          -0.8525710900624593,
          0.6664364536603292,
          -0.5097171713908514,
          0.7778818607330322,
          0.20523809641599655,
          0.19283572733402252,
          0.25316616892814636,
          0.49535389244556427,
          0.7260353565216064,
          -0.006654052762314677,
          -0.6633920669555664,
          0.081332478672266,
          0.22414105557478392,
          -0.5853990713755289,
          0.24832346576910752,
          -0.580075591802597,
          -0.23749471207459769,
          -0.3718002736568451,
          -0.3470030277967453,
          0.6471248388290405,
          0.4262312799692154,
          -0.5570680856704712,
          -0.09228573366999626,
          -0.4776285863839663,
          0.9095382392406464,
          0.35948610305786133,
          0.33775198930188227,
          -0.645016074180603,
          -0.5736989974975586,
          -0.7164072692394257,
          -0.19653627276420593,
          -0.11680850759148598,
          -0.5105507969856262,
          0.8790509700775146,
          0.42660559713840485,
          -0.07168517634272575,
          0.6260767877101898,
          0.32888640463352203,
          -0.8288385272026062,
          -0.24235264211893082,
          0.722096860408783,
          -0.5015540421009064,
          0.2060088887810707,
          -0.3382442494233449,
          -0.9274784028530121,
          0.8764851093292236,
          -0.42949040399657357,
          0.4805295169353485,
          0.7090266479386224,
          0.7799589293343681,
          0.06492535397410393,
          0.36735011637210846,
          -0.20308459443705423,
          0.3710737185818808,
          0.29228052496910095,
          -0.16927186293261393,
          -0.016130712814629078,
          0.12207349496228355,
          -0.8158153891563416,
          -0.2733161747455597,
          -0.7120779156684875,
          -0.2691040486097336,
          0.002141793433111161,
          0.7618382374445597,
          0.7423753639062246,
          0.18138714879751205,
          -0.538499504327774,
          0.5544085587774005,
          0.40100889404614765,
          0.49047642946243286,
          -0.7162346541881561,
          -0.7235517576336861,
          -0.4094488024711609,
          0.2733064331114292,
          -0.3712819516658783,
          -0.7326213121414185,
          -0.7904488146305084,
          0.6638110280036926,
          0.5113513810294015,
          -0.8597148656845093,
          0.09173860587179661,
          0.11551833525300026,
          -0.8137749135494232,
          0.879574328660965,
          0.45805034041404724,
          -0.867368221282959,
          0.5865812599658966,
          -0.7562623620033264,
          0.9356776773929596,
          -0.8715693652629852,
          -0.26067061722278595,
          0.8786535859107971,
          -0.8678090572357178,
          -0.7708384096622467,
          -0.5394929647445679,
          -0.9280313551425934,
          0.7307453155517578,
          -0.7579630315303802,
          0.8906595706939697,
          -0.8590510189533234,
          0.6117630302906036,
          -0.726637065410614,
          0.7973464330037435,
          -0.4002419610818227,
          0.03218135889619589,
          0.6846175193786621,
          -0.6355010420084,
          0.48768041282892227,
          -0.287009345633643,
          -0.7596533894538879,
          -0.09338677674531937,
          -0.7253856658935547,
          -0.8659860094388326,
          0.5984720091025034,
          -0.6456015706062317,
          0.14884061366319656,
          -0.15782354523738226,
          -0.2172500193119049,
          -0.06367101967334747,
          0.7873895093798637,
          -0.3121159017086029,
          0.7532577812671661,
          -0.44472399950027464,
          0.07119478198227944,
          -0.09500148880940218,
          -0.08497315699734338,
          0.2983198197824614,
          -0.27993960954524855,
          -0.027316443550472077,
          -0.2475086941073338,
          0.14524652502116034,
          0.47781750559806824,
          0.38067060496125904,
          -0.6518617822573736,
          0.447600972193938,
          -0.5018194995143197,
          0.5628869262608615,
          -0.20410573184490205,
          -0.6021683745914035,
          -0.5807798027992248,
          0.2599083738667624,
          0.7370436787605286,
          -0.7807630151510239,
          0.9236744940280914,
          0.07971878349781036,
          0.7657472093900045,
          0.17604359984397888,
          -0.5919845223426818,
          0.7877131700515747,
          -0.6260677377382914,
          0.5824171503384908,
          -0.8535464803377787,
          0.7400222023328146,
          0.40971426169077557,
          0.5234307845433553,
          0.7147271434466044,
          0.028452427436908085,
          0.8620549241701762,
          -0.663207471370697,
          0.16122323274612427,
          -0.3839089870452881,
          -0.843002180258433,
          -0.030995420180261135,
          0.39570529013872147,
          -0.6060331612825394,
          0.24150430411100388,
          -0.7652088701725006,
          0.14414530247449875,
          -0.3975786194205284,
          0.3299507349729538,
          -0.7905314803123474,
          -0.7629100978374481,
          0.15874144062399864,
          0.9195494800806046,
          0.715939748287201,
          0.2654612177894229,
          -0.16563245243039623,
          0.806792289018631,
          -0.07760553837880581,
          0.02514634907245636,
          -0.3392336579660575,
          -0.0964203712840875,
          0.15527238762169554,
          0.6393765062093735,
          0.025516362106106406,
          -0.613791306813558,
          0.688004161630358,
          -0.6860976219177246,
          -0.3902381530829838,
          -0.7264526949988471,
          0.09847478196024895,
          -0.06323724096784225,
          -0.2955492394311087,
          -0.7248631119728088,
          0.6819206646510533,
          0.2790773472060328,
          0.5979923341009352,
          -0.016384447483639968,
          -0.19826547416948503,
          -0.3992217679818471,
          -0.35490927457809446,
          -0.04502427563071251,
          0.12033745215127342,
          0.10809899334396635,
          -0.3245413957103606,
          0.2713040068745613
         ]
        }
       ],
       "layout": {
        "height": 1000,
        "hoverlabel": {
         "font": {
          "color": "white"
         }
        },
        "template": {
         "data": {
          "bar": [
           {
            "error_x": {
             "color": "#2a3f5f"
            },
            "error_y": {
             "color": "#2a3f5f"
            },
            "marker": {
             "line": {
              "color": "white",
              "width": 0.5
             }
            },
            "type": "bar"
           }
          ],
          "barpolar": [
           {
            "marker": {
             "line": {
              "color": "white",
              "width": 0.5
             }
            },
            "type": "barpolar"
           }
          ],
          "carpet": [
           {
            "aaxis": {
             "endlinecolor": "#2a3f5f",
             "gridcolor": "#C8D4E3",
             "linecolor": "#C8D4E3",
             "minorgridcolor": "#C8D4E3",
             "startlinecolor": "#2a3f5f"
            },
            "baxis": {
             "endlinecolor": "#2a3f5f",
             "gridcolor": "#C8D4E3",
             "linecolor": "#C8D4E3",
             "minorgridcolor": "#C8D4E3",
             "startlinecolor": "#2a3f5f"
            },
            "type": "carpet"
           }
          ],
          "choropleth": [
           {
            "colorbar": {
             "outlinewidth": 0,
             "ticks": ""
            },
            "type": "choropleth"
           }
          ],
          "contour": [
           {
            "colorbar": {
             "outlinewidth": 0,
             "ticks": ""
            },
            "colorscale": [
             [
              0,
              "#0d0887"
             ],
             [
              0.1111111111111111,
              "#46039f"
             ],
             [
              0.2222222222222222,
              "#7201a8"
             ],
             [
              0.3333333333333333,
              "#9c179e"
             ],
             [
              0.4444444444444444,
              "#bd3786"
             ],
             [
              0.5555555555555556,
              "#d8576b"
             ],
             [
              0.6666666666666666,
              "#ed7953"
             ],
             [
              0.7777777777777778,
              "#fb9f3a"
             ],
             [
              0.8888888888888888,
              "#fdca26"
             ],
             [
              1,
              "#f0f921"
             ]
            ],
            "type": "contour"
           }
          ],
          "contourcarpet": [
           {
            "colorbar": {
             "outlinewidth": 0,
             "ticks": ""
            },
            "type": "contourcarpet"
           }
          ],
          "heatmap": [
           {
            "colorbar": {
             "outlinewidth": 0,
             "ticks": ""
            },
            "colorscale": [
             [
              0,
              "#0d0887"
             ],
             [
              0.1111111111111111,
              "#46039f"
             ],
             [
              0.2222222222222222,
              "#7201a8"
             ],
             [
              0.3333333333333333,
              "#9c179e"
             ],
             [
              0.4444444444444444,
              "#bd3786"
             ],
             [
              0.5555555555555556,
              "#d8576b"
             ],
             [
              0.6666666666666666,
              "#ed7953"
             ],
             [
              0.7777777777777778,
              "#fb9f3a"
             ],
             [
              0.8888888888888888,
              "#fdca26"
             ],
             [
              1,
              "#f0f921"
             ]
            ],
            "type": "heatmap"
           }
          ],
          "heatmapgl": [
           {
            "colorbar": {
             "outlinewidth": 0,
             "ticks": ""
            },
            "colorscale": [
             [
              0,
              "#0d0887"
             ],
             [
              0.1111111111111111,
              "#46039f"
             ],
             [
              0.2222222222222222,
              "#7201a8"
             ],
             [
              0.3333333333333333,
              "#9c179e"
             ],
             [
              0.4444444444444444,
              "#bd3786"
             ],
             [
              0.5555555555555556,
              "#d8576b"
             ],
             [
              0.6666666666666666,
              "#ed7953"
             ],
             [
              0.7777777777777778,
              "#fb9f3a"
             ],
             [
              0.8888888888888888,
              "#fdca26"
             ],
             [
              1,
              "#f0f921"
             ]
            ],
            "type": "heatmapgl"
           }
          ],
          "histogram": [
           {
            "marker": {
             "colorbar": {
              "outlinewidth": 0,
              "ticks": ""
             }
            },
            "type": "histogram"
           }
          ],
          "histogram2d": [
           {
            "colorbar": {
             "outlinewidth": 0,
             "ticks": ""
            },
            "colorscale": [
             [
              0,
              "#0d0887"
             ],
             [
              0.1111111111111111,
              "#46039f"
             ],
             [
              0.2222222222222222,
              "#7201a8"
             ],
             [
              0.3333333333333333,
              "#9c179e"
             ],
             [
              0.4444444444444444,
              "#bd3786"
             ],
             [
              0.5555555555555556,
              "#d8576b"
             ],
             [
              0.6666666666666666,
              "#ed7953"
             ],
             [
              0.7777777777777778,
              "#fb9f3a"
             ],
             [
              0.8888888888888888,
              "#fdca26"
             ],
             [
              1,
              "#f0f921"
             ]
            ],
            "type": "histogram2d"
           }
          ],
          "histogram2dcontour": [
           {
            "colorbar": {
             "outlinewidth": 0,
             "ticks": ""
            },
            "colorscale": [
             [
              0,
              "#0d0887"
             ],
             [
              0.1111111111111111,
              "#46039f"
             ],
             [
              0.2222222222222222,
              "#7201a8"
             ],
             [
              0.3333333333333333,
              "#9c179e"
             ],
             [
              0.4444444444444444,
              "#bd3786"
             ],
             [
              0.5555555555555556,
              "#d8576b"
             ],
             [
              0.6666666666666666,
              "#ed7953"
             ],
             [
              0.7777777777777778,
              "#fb9f3a"
             ],
             [
              0.8888888888888888,
              "#fdca26"
             ],
             [
              1,
              "#f0f921"
             ]
            ],
            "type": "histogram2dcontour"
           }
          ],
          "mesh3d": [
           {
            "colorbar": {
             "outlinewidth": 0,
             "ticks": ""
            },
            "type": "mesh3d"
           }
          ],
          "parcoords": [
           {
            "line": {
             "colorbar": {
              "outlinewidth": 0,
              "ticks": ""
             }
            },
            "type": "parcoords"
           }
          ],
          "pie": [
           {
            "automargin": true,
            "type": "pie"
           }
          ],
          "scatter": [
           {
            "marker": {
             "colorbar": {
              "outlinewidth": 0,
              "ticks": ""
             }
            },
            "type": "scatter"
           }
          ],
          "scatter3d": [
           {
            "line": {
             "colorbar": {
              "outlinewidth": 0,
              "ticks": ""
             }
            },
            "marker": {
             "colorbar": {
              "outlinewidth": 0,
              "ticks": ""
             }
            },
            "type": "scatter3d"
           }
          ],
          "scattercarpet": [
           {
            "marker": {
             "colorbar": {
              "outlinewidth": 0,
              "ticks": ""
             }
            },
            "type": "scattercarpet"
           }
          ],
          "scattergeo": [
           {
            "marker": {
             "colorbar": {
              "outlinewidth": 0,
              "ticks": ""
             }
            },
            "type": "scattergeo"
           }
          ],
          "scattergl": [
           {
            "marker": {
             "colorbar": {
              "outlinewidth": 0,
              "ticks": ""
             }
            },
            "type": "scattergl"
           }
          ],
          "scattermapbox": [
           {
            "marker": {
             "colorbar": {
              "outlinewidth": 0,
              "ticks": ""
             }
            },
            "type": "scattermapbox"
           }
          ],
          "scatterpolar": [
           {
            "marker": {
             "colorbar": {
              "outlinewidth": 0,
              "ticks": ""
             }
            },
            "type": "scatterpolar"
           }
          ],
          "scatterpolargl": [
           {
            "marker": {
             "colorbar": {
              "outlinewidth": 0,
              "ticks": ""
             }
            },
            "type": "scatterpolargl"
           }
          ],
          "scatterternary": [
           {
            "marker": {
             "colorbar": {
              "outlinewidth": 0,
              "ticks": ""
             }
            },
            "type": "scatterternary"
           }
          ],
          "surface": [
           {
            "colorbar": {
             "outlinewidth": 0,
             "ticks": ""
            },
            "colorscale": [
             [
              0,
              "#0d0887"
             ],
             [
              0.1111111111111111,
              "#46039f"
             ],
             [
              0.2222222222222222,
              "#7201a8"
             ],
             [
              0.3333333333333333,
              "#9c179e"
             ],
             [
              0.4444444444444444,
              "#bd3786"
             ],
             [
              0.5555555555555556,
              "#d8576b"
             ],
             [
              0.6666666666666666,
              "#ed7953"
             ],
             [
              0.7777777777777778,
              "#fb9f3a"
             ],
             [
              0.8888888888888888,
              "#fdca26"
             ],
             [
              1,
              "#f0f921"
             ]
            ],
            "type": "surface"
           }
          ],
          "table": [
           {
            "cells": {
             "fill": {
              "color": "#EBF0F8"
             },
             "line": {
              "color": "white"
             }
            },
            "header": {
             "fill": {
              "color": "#C8D4E3"
             },
             "line": {
              "color": "white"
             }
            },
            "type": "table"
           }
          ]
         },
         "layout": {
          "annotationdefaults": {
           "arrowcolor": "#2a3f5f",
           "arrowhead": 0,
           "arrowwidth": 1
          },
          "coloraxis": {
           "colorbar": {
            "outlinewidth": 0,
            "ticks": ""
           }
          },
          "colorscale": {
           "diverging": [
            [
             0,
             "#8e0152"
            ],
            [
             0.1,
             "#c51b7d"
            ],
            [
             0.2,
             "#de77ae"
            ],
            [
             0.3,
             "#f1b6da"
            ],
            [
             0.4,
             "#fde0ef"
            ],
            [
             0.5,
             "#f7f7f7"
            ],
            [
             0.6,
             "#e6f5d0"
            ],
            [
             0.7,
             "#b8e186"
            ],
            [
             0.8,
             "#7fbc41"
            ],
            [
             0.9,
             "#4d9221"
            ],
            [
             1,
             "#276419"
            ]
           ],
           "sequential": [
            [
             0,
             "#0d0887"
            ],
            [
             0.1111111111111111,
             "#46039f"
            ],
            [
             0.2222222222222222,
             "#7201a8"
            ],
            [
             0.3333333333333333,
             "#9c179e"
            ],
            [
             0.4444444444444444,
             "#bd3786"
            ],
            [
             0.5555555555555556,
             "#d8576b"
            ],
            [
             0.6666666666666666,
             "#ed7953"
            ],
            [
             0.7777777777777778,
             "#fb9f3a"
            ],
            [
             0.8888888888888888,
             "#fdca26"
            ],
            [
             1,
             "#f0f921"
            ]
           ],
           "sequentialminus": [
            [
             0,
             "#0d0887"
            ],
            [
             0.1111111111111111,
             "#46039f"
            ],
            [
             0.2222222222222222,
             "#7201a8"
            ],
            [
             0.3333333333333333,
             "#9c179e"
            ],
            [
             0.4444444444444444,
             "#bd3786"
            ],
            [
             0.5555555555555556,
             "#d8576b"
            ],
            [
             0.6666666666666666,
             "#ed7953"
            ],
            [
             0.7777777777777778,
             "#fb9f3a"
            ],
            [
             0.8888888888888888,
             "#fdca26"
            ],
            [
             1,
             "#f0f921"
            ]
           ]
          },
          "colorway": [
           "#636efa",
           "#EF553B",
           "#00cc96",
           "#ab63fa",
           "#FFA15A",
           "#19d3f3",
           "#FF6692",
           "#B6E880",
           "#FF97FF",
           "#FECB52"
          ],
          "font": {
           "color": "#2a3f5f"
          },
          "geo": {
           "bgcolor": "white",
           "lakecolor": "white",
           "landcolor": "white",
           "showlakes": true,
           "showland": true,
           "subunitcolor": "#C8D4E3"
          },
          "hoverlabel": {
           "align": "left"
          },
          "hovermode": "closest",
          "mapbox": {
           "style": "light"
          },
          "paper_bgcolor": "white",
          "plot_bgcolor": "white",
          "polar": {
           "angularaxis": {
            "gridcolor": "#EBF0F8",
            "linecolor": "#EBF0F8",
            "ticks": ""
           },
           "bgcolor": "white",
           "radialaxis": {
            "gridcolor": "#EBF0F8",
            "linecolor": "#EBF0F8",
            "ticks": ""
           }
          },
          "scene": {
           "xaxis": {
            "backgroundcolor": "white",
            "gridcolor": "#DFE8F3",
            "gridwidth": 2,
            "linecolor": "#EBF0F8",
            "showbackground": true,
            "ticks": "",
            "zerolinecolor": "#EBF0F8"
           },
           "yaxis": {
            "backgroundcolor": "white",
            "gridcolor": "#DFE8F3",
            "gridwidth": 2,
            "linecolor": "#EBF0F8",
            "showbackground": true,
            "ticks": "",
            "zerolinecolor": "#EBF0F8"
           },
           "zaxis": {
            "backgroundcolor": "white",
            "gridcolor": "#DFE8F3",
            "gridwidth": 2,
            "linecolor": "#EBF0F8",
            "showbackground": true,
            "ticks": "",
            "zerolinecolor": "#EBF0F8"
           }
          },
          "shapedefaults": {
           "line": {
            "color": "#2a3f5f"
           }
          },
          "ternary": {
           "aaxis": {
            "gridcolor": "#DFE8F3",
            "linecolor": "#A2B1C6",
            "ticks": ""
           },
           "baxis": {
            "gridcolor": "#DFE8F3",
            "linecolor": "#A2B1C6",
            "ticks": ""
           },
           "bgcolor": "white",
           "caxis": {
            "gridcolor": "#DFE8F3",
            "linecolor": "#A2B1C6",
            "ticks": ""
           }
          },
          "title": {
           "x": 0.05
          },
          "xaxis": {
           "automargin": true,
           "gridcolor": "#EBF0F8",
           "linecolor": "#EBF0F8",
           "ticks": "",
           "title": {
            "standoff": 15
           },
           "zerolinecolor": "#EBF0F8",
           "zerolinewidth": 2
          },
          "yaxis": {
           "automargin": true,
           "gridcolor": "#EBF0F8",
           "linecolor": "#EBF0F8",
           "ticks": "",
           "title": {
            "standoff": 15
           },
           "zerolinecolor": "#EBF0F8",
           "zerolinewidth": 2
          }
         }
        },
        "width": 1000
       }
      },
      "text/html": [
       "<div>\n",
       "        \n",
       "        \n",
       "            <div id=\"baf0aaf0-a8b6-4a7e-a5f0-3cd9afe4c1de\" class=\"plotly-graph-div\" style=\"height:1000px; width:1000px;\"></div>\n",
       "            <script type=\"text/javascript\">\n",
       "                require([\"plotly\"], function(Plotly) {\n",
       "                    window.PLOTLYENV=window.PLOTLYENV || {};\n",
       "                    \n",
       "                if (document.getElementById(\"baf0aaf0-a8b6-4a7e-a5f0-3cd9afe4c1de\")) {\n",
       "                    Plotly.newPlot(\n",
       "                        'baf0aaf0-a8b6-4a7e-a5f0-3cd9afe4c1de',\n",
       "                        [{\"customdata\": [[292, \"\", \"\"], [120, \"\", \"\"], [220, \"\", \"\"], [219, \"\", \"\"], [123, \"\", \"\"], [217, \"\", \"\"], [216, \"\", \"\"], [215, \"\", \"\"], [214, \"\", \"\"], [119, \"\", \"\"], [213, \"\", \"\"], [131, \"\", \"\"], [132, \"\", \"\"], [133, \"\", \"\"], [134, \"\", \"\"], [135, \"\", \"\"], [212, \"\", \"\"], [211, \"\", \"\"], [210, \"\", \"\"], [130, \"\", \"\"], [221, \"\", \"\"], [222, \"\", \"\"], [116, \"\", \"\"], [93, \"\", \"\"], [190, \"\", \"\"], [95, \"\", \"\"], [96, \"\", \"\"], [231, \"\", \"\"], [98, \"\", \"\"], [99, \"\", \"\"], [102, \"\", \"\"], [228, \"\", \"\"], [104, \"\", \"\"], [106, \"\", \"\"], [107, \"\", \"\"], [108, \"\", \"\"], [109, \"\", \"\"], [110, \"\", \"\"], [111, \"\", \"\"], [226, \"\", \"\"], [225, \"\", \"\"], [223, \"\", \"\"], [209, \"\", \"\"], [140, \"\", \"\"], [141, \"\", \"\"], [208, \"\", \"\"], [168, \"\", \"\"], [169, \"\", \"\"], [170, \"\", \"\"], [195, \"\", \"\"], [172, \"\", \"\"], [173, \"\", \"\"], [174, \"\", \"\"], [175, \"\", \"\"], [176, \"\", \"\"], [177, \"\", \"\"], [194, \"\", \"\"], [179, \"\", \"\"], [193, \"\", \"\"], [181, \"\", \"\"], [182, \"\", \"\"], [183, \"\", \"\"], [184, \"\", \"\"], [192, \"\", \"\"], [191, \"\", \"\"], [167, \"\", \"\"], [234, \"\", \"\"], [166, \"\", \"\"], [197, \"\", \"\"], [144, \"\", \"\"], [145, \"\", \"\"], [206, \"\", \"\"], [147, \"\", \"\"], [149, \"\", \"\"], [150, \"\", \"\"], [151, \"\", \"\"], [152, \"\", \"\"], [204, \"\", \"\"], [154, \"\", \"\"], [203, \"\", \"\"], [202, \"\", \"\"], [201, \"\", \"\"], [158, \"\", \"\"], [200, \"\", \"\"], [199, \"\", \"\"], [161, \"\", \"\"], [198, \"\", \"\"], [163, \"\", \"\"], [196, \"\", \"\"], [90, \"\", \"\"], [232, \"\", \"\"], [236, \"\", \"\"], [29, \"\", \"\"], [266, \"\", \"\"], [265, \"\", \"\"], [263, \"\", \"\"], [262, \"\", \"\"], [35, \"\", \"\"], [261, \"\", \"\"], [37, \"\", \"\"], [27, \"\", \"\"], [38, \"\", \"\"], [260, \"\", \"\"], [41, \"\", \"\"], [42, \"\", \"\"], [259, \"\", \"\"], [45, \"\", \"\"], [256, \"\", \"\"], [48, \"\", \"\"], [255, \"\", \"\"], [39, \"\", \"\"], [254, \"\", \"\"], [26, \"\", \"\"], [24, \"\", \"\"], [290, \"\", \"\"], [289, \"\", \"\"], [287, \"\", \"\"], [286, \"\", \"\"], [283, \"\", \"\"], [280, \"\", \"\"], [279, \"\", \"\"], [278, \"\", \"\"], [268, \"\", \"\"], [277, \"\", \"\"], [275, \"\", \"\"], [274, \"\", \"\"], [273, \"\", \"\"], [272, \"\", \"\"], [271, \"\", \"\"], [270, \"\", \"\"], [22, \"\", \"\"], [269, \"\", \"\"], [276, \"\", \"\"], [51, \"\", \"\"], [257, \"\", \"\"], [53, \"\", \"\"], [70, \"\", \"\"], [253, \"\", \"\"], [243, \"\", \"\"], [74, \"\", \"\"], [75, \"\", \"\"], [76, \"\", \"\"], [77, \"\", \"\"], [69, \"\", \"\"], [78, \"\", \"\"], [239, \"\", \"\"], [238, \"\", \"\"], [83, \"\", \"\"], [84, \"\", \"\"], [237, \"\", \"\"], [86, \"\", \"\"], [87, \"\", \"\"], [241, \"\", \"\"], [244, \"\", \"\"], [71, \"\", \"\"], [189, \"\", \"\"], [248, \"\", \"\"], [251, \"\", \"\"], [61, \"\", \"\"], [250, \"\", \"\"], [62, \"\", \"\"], [55, \"\", \"\"], [246, \"\", \"\"], [252, \"\", \"\"], [65, \"\", \"\"], [66, \"\", \"\"], [247, \"\", \"\"], [58, \"\", \"\"], [288, \"GAAVETFFRWH\", \"erythrocyte_binding_antigen-175_\"], [233, \"ASKEAEE\", \"merozoite_surface_protein_3\"], [285, \"DIDEINDIDEIN\", \"MSP7-like_protein_\"], [284, \"GASPPSGTS\", \"merozoite_surface_protein_1\"], [235, \"REYQLDNEGPD\", \"MSP7-like_protein_\"], [282, \"LIEEVVP\", \"11-1_polypeptide\"], [281, \"GTGQHGHMHGSR\", \"merozoite_surface_protein_2\"], [264, \"GSAGGSA\", \"merozoite_surface_protein_2_\"], [230, \"NENINKKDSDHN\", \"mature_parasite-infected_erythrocyte_surface_antigen_\"], [229, \"TYDEKVKKN\", \"Liver_stage_antigen\"], [245, \"EGPQGPADNVTP\", \"endoplasmin\"], [207, \"NDENKTMEHIKI\", \"merozoite_surface_protein_\"], [249, \"NIKDNKHENIQD\", \"conserved_Plasmodium_protein\"], [227, \"RIPSGSFFBTP\", \"conserved_Plasmodium_protein\"], [218, \"QNNDYNQNNDYN\", \"cytoadherence_linked_asexual_protein_3.2_\"], [205, \"PQGSTGA\", \"serine_repeat_antigen_5\"], [242, \"FIWDGMJCA\", \"erythrocyte_membrane_protein_1\"], [267, \"CVDNLNYYFEFY\", \"cytochrome_c_oxidase_assembly_protein_(heme_A:_farnesyltransferase)\"], [224, \"QVPVSGSPL\", \"merozoite_surface_protein_1\"], [258, \"LNQKEEENYKNH\", \"erythrocyte_binding_antigen-140_\"], [240, \"NIDNMENIDNM\", \"calpain_\"], [146, \"SRIPSGSFF\", \"conserved_Plasmodium_protein\"], [187, \"DNIKGEDNIKG\", \"schizont_egress_antigen-1_\"], [57, \"KLQNDKDSG\", \"glutamate-rich_protein_\"], [59, \"GDDNKNGDB\", \"merozoite_surface_protein_1\"], [60, \"ETGESKETGESK\", \"mature_parasite-infected_erythrocyte_surface_antigen_\"], [63, \"YKLGNNKKSYLI,NDVHKKKADDGN\", \"merozoite_surface_protein_10_\"], [64, \"NNNMDNKKNMDN\", \"duffy_binding-like_merozoite_surface_protein_\"], [67, \"QQSDLEQERRAK\", \"Liver_stage_antigen\"], [68, \"MEEHNKIEEHNK\", \"early_transcribed_membrane_protein_13\"], [72, \"DEGKTTDEGKTT\", \"mature_parasite-infected_erythrocyte_surface_antigen_\"], [188, \"RWLEEWGEEFCR\", \"erythrocyte_membrane_protein_1_var_IT-ICAM\"], [81, \"VAPSVEE\", \"Liver_stage_antigen-3\"], [85, \"EPFPNQKHKDLQ\", \"glutamate-rich_protein\"], [88, \"MSIHDGMKGQKY\", \"erythrocyte_binding_antigen-165_\"], [92, \"PCZLEYQWHTNV\", \"erythrocyte_membrane_protein_1\"], [97, \"NDKDIYNNM\", \"serine_repeat_antigen_5_\"], [101, \"SPRIFJSDBKDE\", \"apical_membrane_antigen-1\"], [56, \"KITLEKEIKNFR\", \"cytoadherence_linked_asexual_protein_9_\"], [103, \"CKCIPNYDCDIS\", \"merozoite_surface_protein_10_\"], [54, \"GPNDPFYDGTFN\", \"high_molecular_weight_rhoptry_protein_3_\"], [47, \"RQMFYTLGDYRD\", \"cytoadherence_linked_asexual_protein_3.2_\"], [2, \"DPYKQLKEVVEK\", \"Liver_stage_antigen\"], [3, \"QEPVTTQEPVTT,QEPVTTQEP\", \"Interspersed_repeat_antigen\"], [6, \"CANCNEEDKNMS\", \"merozoite_surface_protein_1\"], [11, \"VEENVEE\", \"Ring-infected_erythrocyte_surface_antigen_precursor\"], [12, \"RNQNVNDRRNFD\", \"cytoadherence_linked_asexual_protein_3.1_\"], [13, \"NLEEYBZTD\", \"mature_parasite-infected_erythrocyte_surface_antigen_\"], [18, \"SGEKLQYKKKEG\", \"merozoite_surface_protein_10_\"], [25, \"NTDTISTDN\", \"sporozoite_threonine_and_asparagine-rich_protein_\"], [32, \"NNIYVKEFYKKL\", \"apical_membrane_antigen_1\"], [33, \"ELKNKEL\", \"erythrocyte_binding_antigen-181_\"], [36, \"KEKEEVKEKEEV,NKDKVIEQE\", \"mature_parasite-infected_erythrocyte_surface_antigen_\"], [40, \"GSVTEEIVE\", \"antigen_332\"], [43, \"TTVTEEDTFKGQ\", \"cytoadherence_linked_asexual_protein_8_\"], [44, \"ZFDKQKKKY\", \"PfEMP1\"], [46, \"SDGDKGP\", \"endoplasmin\"], [52, \"ATKEASTSK\", \"Knob-associated_histidine-rich_protein_precursor\"], [105, \"TPQETVTTQEPV\", \"Interspersed_repeat_antigen\"], [79, \"FLKGDSEDGSEQ\", \"merozoite_surface_protein_7_[Plasmodium_falciparum_IGH-CR14]\"], [113, \"NGNNFNKDNIFN\", \"merozoite_surface_protein_1\"], [143, \"YLDEQEEDVYLD\", \"cytoadherence_linked_asexual_protein_8_\"], [291, \"NNKNGDNNKNGD\", \"hypothetical_protein\"], [148, \"KDINKTDSE\", \"hypothetical_protein_PF14_0045\"], [153, \"SNDKQSNDI\", \"merozoite_surface_protein_5_\"], [155, \"KSNEQSKREDDS\", \"erythrocyte_binding_antigen-175_\"], [112, \"QKSPPKELSNKQ\", \"merozoite_surface_protein_1\"], [157, \"HDIYDIDTF\", \"erythrocyte_binding_antigen-140_\"], [159, \"SRNDEMLDP\", \"apical_membrane_antigen_1\"], [160, \"QNDKDSGKL\", \"glutamate-rich_protein_\"], [162, \"BNFDDKNPFDEY\", \"methionine--tRNA_ligase_\"], [164, \"SKSQVQHPK\", \"merozoite_surface_protein_10_\"], [165, \"GSFDTIFDGFVN\", \"merozoite_surface_protein_\"], [171, \"EKRNGFDLBDDT\", \"sporozoite_surface_protein_2\"], [178, \"YGPNGTYGPNGT\", \"major_surface_antigen_p190\"], [180, \"INNGGCGDDKIC\", \"merozoite_surface_protein_5_\"], [185, \"LPEEDIINEKVQ\", \"erythrocyte_binding_antigen-140_\"], [186, \"KPFNEPTYVDSN\", \"glutamate-rich_protein_\"], [142, \"LDRHRDMCEKW\", \"erythrocyte_membrane_protein_1_(PfEMP1)\"], [138, \"NVHKNVNNDDM\", \"Erythrocyte_binding_antigen\"], [156, \"FDDCQLQNEFCD\", \"hypothetical_protein_PFB0145c\"], [124, \"APIFGSPSNKDD\", \"merozoite_surface_protein_8_\"], [118, \"ENKDKVIGQEII\", \"mature_parasite-infected_erythrocyte_surface_antigen_\"], [121, \"LSDDVRPDKNHE\", \"erythrocyte_binding_antigen-175_\"], [117, \"NEINREINNEIN\", \"hypothetical_protein_PF07_0086\"], [122, \"KKGDDNKMMVEN\", \"sporozoite_surface_protein_3\"], [115, \"YILGWEFGGGVP\", \"merozoite_surface_protein_3\"], [125, \"LDPKFYNLGDFG\", \"antigen_Pfg27/25\"], [136, \"CIPPRRRKLTVG\", \"erythrocyte_binding_antigen-175_\"], [114, \"NHKSISNHKDIN\", \"methionine--tRNA_ligase_\"], [127, \"MNGDNKMNGDNK\", \"hypothetical_protein\"], [128, \"KLIGDNKLIGD\", \"erythrocyte_membrane-associated_giant_protein_antigen_332\"], [129, \"SIQEQLIGTIGR\", \"erythrocyte_membrane_protein_1\"], [100, \"ILRKLNYDDFFT,KDMNKENIKKTD\", \"Circumsporozoite_protein_precursor,erythrocyte_binding_antigen-165_\"], [20, \"BSQNGKNEKNEK,KIDMHNTYNDT\", \"Circumsporozoite_protein_precursor,petidase\"], [10, \"RPQFLRWFTEWG,EEFCRERKK\", \"erythrocyte_binding_antigen-140_,PfEMP1\"], [91, \"DNIEVNNTJ,NRELIKKESIY\", \"protein_kinase,erythrocyte_binding_antigen-165_\"], [1, \"GIDJYBEVLKRK,ENELFGT\", \"PfEMP1_variant_1_of_strain_MC,heat_shock_protein_90\"], [15, \"AFHSNVPGBKRE,VHNTQNTHDLLG\", \"high_molecular_weight_rhoptry_protein_3_,PfEMP1\"], [17, \"NDTEEKDKVKKQ,VEEGIKE\", \"mature_parasite-infected_erythrocyte_surface_antigen_,mature_parasite-infected_erythrocyte_surface_antigen_\"], [89, \"NEVKSEVKNEVK,YNHIIPYKNIKI\", \"merozoite_surface_protein_6_,Erythrocyte_membrane_protein_1\"], [4, \"GQQNTGLKNTPS,LNKDIRNKDLKN\", \"high_molecular_weight_rhoptry_protein_3_,erythrocyte_binding_antigen-175_\"], [137, \"PPTQDAETKSPT,GQHGHMH\", \"merozoite_surface_protein_2_,merozoite_surface_protein_2_\"], [0, \"VIPEELVEEVIP,VVEEVVPEELVE,EVVEEVVPE\", \"11-1_polypeptide,glutamate-rich_protein_\"], [28, \"SAFGGGLPFSGY,SSGIGNHNKCPD\", \"erythrocyte_membrane_protein,duffy_binding-like_merozoite_surface_protein_\"], [30, \"SNGREDKVSNGG,VSNGREDKV\", \"S-antigen_,S-antigen_\"], [139, \"DLIEAFFPFIL,LDNKYDDYYNLP\", \"merozoite_surface_protein_10_,merozoite_surface_protein_10_\"], [31, \"LVDNMNITQ,INSDDIKEK\", \"erythrocyte_binding_antigen-175_,schizont_egress_antigen-1_\"], [50, \"ENNENIENNENN,HPGSCFVENKAH\", \"merozoite_surface_protein_10_,erythrocyte_binding_antigen-175_\"], [82, \"PLDNTSEETTER,NPNRSSDEGEAH\", \"erythrocyte_binding_protein,erythrocyte_binding_antigen-175_\"], [34, \"NTSNKLKDEPVD,LRDNYASEQEYF\", \"serine_repeat_antigen_5_,antigen_332\"], [80, \"DNMDNIYNV,YKFLSMKHYKDS\", \"conserved_Plasmodium_protein,merozoite_surface_protein_10_\"], [126, \"FIQEDQEGQTHS,KGLDIDBIP\", \"glutamate-rich_protein_,glutamate-rich_protein_\"], [73, \"FYKLLKEGKYCK,AFTKQKEKYAKY\", \"endoplasmin,erythrocyte_membrane_protein_1\"], [19, \"PNANPNANPNAN,NPBANPN,KLRKPKHKKLKQ\", \"circumsporozoite_(CS)_protein_,circumsporozoite_(CS)_protein_,Circumsporozoite_protein_precursor\"], [49, \"PQYLRWFEEWAE,YCRGNNGKC,DVPTNFDYV\", \"erythrocyte_membrane_protein_1_var_IT-ICAM,erythrocyte_binding_antigen-181_,PfEMP1\"], [5, \"KQILKDKCEKEJ,HEYDERMKT,DPEMKEV\", \"merozoite_surface_protein_8_,sporozoite_surface_protein_3,glutamate-rich_protein_\"], [9, \"FEKQKEKYEKEI,EKLKNENYETVN,TYESNDAIS\", \"duffy_binding-like_merozoite_surface_protein_,antigen_332,antigen_332\"], [94, \"NYHYEEPFILTP,EAYEKAGEVIVE,REVEKRSEKLID\", \"high_molecular_weight_rhoptry_protein_3_,merozoite_surface_protein_3,sporozoite_surface_protein_2\"], [14, \"QHEIVEVEEILP,EDKNEKV,HTEQLDLDHKTV\", \"glutamate-rich_protein,glutamate-rich_protein_,glutamate-rich_protein_\"], [16, \"TDNEWNTLKDEF,DIQNDGIPSSKI,ISQYLQSEQPKD,VPNDYQS\", \"hypothetical_protein_PFL1930w,thrombospondin-related_anonymous_protein_,erythrocyte_membrane_protein_1\"], [7, \"QQSDLEQERLAK,KLQEQQS,LAKEKLQ\", \"liver_stage_antigen_1_,liver_stage_antigen_1_,liver_stage_antigen_1_\"], [21, \"IYYDVNDDD,KEKYPIADVWDI,DKPFNEP\", \"acidic_basic_repeat_antigen_,high_molecular_weight_rhoptry_protein_3_,erythrocyte_binding_antigen-165_\"], [8, \"AITKYQNPH,YHNDPELKEIID,NTQRTTIKSRLL,DPYKQLKEVVEK\", \"Cytoadherence_linked_asexual_protein,cytoadherence_linked_asexual_protein_2_,stevor_,Liver_stage_antigen\"], [23, \"DSYRILSVSYKD,DDEEKNETNDTE,IEEEINTDG,DIIKHNEDVR\", \"duffy_binding-like_merozoite_surface_protein_,duffy_binding-like_merozoite_surface_protein_,erythrocyte_membrane_protein,duffy_binding-like_merozoite_surface_protein_\"]], \"hovertemplate\": \"<b>Clique Number</b> : %{customdata[0]}<br><b>Membership</b> : %{marker.size}<br><b>Motifs</b> : %{customdata[1]}</b><br><extra><b>Known Epitopes</b> : %{customdata[2]}<br></extra>\", \"marker\": {\"color\": [0, 0, 0, 0, 0, 0, 0, 0, 0, 0, 0, 0, 0, 0, 0, 0, 0, 0, 0, 0, 0, 0, 0, 0, 0, 0, 0, 0, 0, 0, 0, 0, 0, 0, 0, 0, 0, 0, 0, 0, 0, 0, 0, 0, 0, 0, 0, 0, 0, 0, 0, 0, 0, 0, 0, 0, 0, 0, 0, 0, 0, 0, 0, 0, 0, 0, 0, 0, 0, 0, 0, 0, 0, 0, 0, 0, 0, 0, 0, 0, 0, 0, 0, 0, 0, 0, 0, 0, 0, 0, 0, 0, 0, 0, 0, 0, 0, 0, 0, 0, 0, 0, 0, 0, 0, 0, 0, 0, 0, 0, 0, 0, 0, 0, 0, 0, 0, 0, 0, 0, 0, 0, 0, 0, 0, 0, 0, 0, 0, 0, 0, 0, 0, 0, 0, 0, 0, 0, 0, 0, 0, 0, 0, 0, 0, 0, 0, 0, 0, 0, 0, 0, 0, 0, 0, 0, 0, 0, 0, 0, 0, 0, 0, 0, 0, 0, 0, 0, 1, 1, 1, 1, 1, 1, 1, 1, 1, 1, 1, 1, 1, 1, 1, 1, 1, 1, 1, 1, 1, 1, 1, 1, 1, 1, 1, 1, 1, 1, 1, 1, 1, 1, 1, 1, 1, 1, 1, 1, 1, 1, 1, 1, 1, 1, 1, 1, 1, 1, 1, 1, 1, 1, 1, 1, 1, 1, 1, 1, 1, 1, 1, 1, 1, 1, 1, 1, 1, 1, 1, 1, 1, 1, 1, 1, 1, 1, 1, 1, 1, 1, 1, 1, 1, 1, 1, 1, 1, 1, 1, 1, 1, 2, 2, 2, 2, 2, 2, 2, 2, 2, 2, 2, 2, 2, 2, 2, 2, 2, 2, 2, 2, 2, 3, 3, 3, 3, 3, 3, 3, 3, 3, 4, 4], \"colorbar\": {\"title\": {\"text\": \"known motifs\"}}, \"colorscale\": [[0.0, \"#f5d60f\"], [1.0, \"#C70039\"]], \"size\": [2, 4, 2, 2, 4, 2, 2, 2, 2, 4, 2, 4, 4, 4, 4, 4, 2, 2, 2, 4, 2, 2, 4, 6, 3, 6, 5, 2, 5, 5, 5, 2, 5, 5, 5, 5, 5, 5, 5, 2, 2, 2, 2, 4, 4, 2, 3, 3, 3, 3, 3, 3, 3, 3, 3, 3, 3, 3, 3, 3, 3, 3, 3, 3, 3, 3, 2, 3, 2, 4, 4, 2, 3, 3, 3, 3, 3, 2, 3, 2, 2, 2, 3, 2, 2, 3, 2, 3, 3, 6, 2, 2, 15, 2, 2, 2, 2, 13, 2, 13, 15, 13, 2, 12, 11, 2, 10, 2, 10, 2, 13, 2, 16, 19, 2, 2, 2, 2, 2, 2, 2, 2, 2, 2, 2, 2, 2, 2, 2, 2, 21, 2, 2, 9, 2, 9, 7, 2, 2, 7, 7, 7, 7, 7, 7, 2, 2, 6, 6, 2, 6, 6, 2, 2, 7, 3, 2, 2, 8, 2, 8, 8, 2, 2, 7, 7, 2, 8, 2, 2, 2, 2, 2, 2, 2, 2, 2, 2, 2, 2, 2, 2, 2, 2, 2, 2, 2, 2, 2, 3, 3, 8, 8, 8, 8, 7, 7, 7, 7, 3, 6, 6, 6, 6, 5, 5, 8, 5, 8, 10, 77, 65, 41, 28, 27, 26, 24, 17, 14, 14, 13, 13, 11, 11, 10, 9, 5, 7, 5, 4, 2, 3, 3, 3, 5, 3, 3, 3, 3, 3, 3, 3, 3, 3, 3, 3, 4, 4, 3, 4, 4, 4, 4, 4, 4, 4, 4, 5, 4, 4, 4, 5, 21, 29, 6, 169, 25, 24, 6, 57, 4, 464, 15, 14, 4, 14, 9, 6, 13, 7, 4, 7, 23, 9, 57, 31, 6, 25, 25, 38, 21, 31, 20], \"sizemin\": 3, \"sizemode\": \"area\", \"sizeref\": 0.25, \"symbol\": [100, 100, 100, 100, 100, 100, 100, 100, 100, 100, 100, 100, 100, 100, 100, 100, 100, 100, 100, 100, 100, 100, 100, 100, 100, 100, 100, 100, 100, 100, 100, 100, 100, 100, 100, 100, 100, 100, 100, 100, 100, 100, 100, 100, 100, 100, 100, 100, 100, 100, 100, 100, 100, 100, 100, 100, 100, 100, 100, 100, 100, 100, 100, 100, 100, 100, 100, 100, 100, 100, 100, 100, 100, 100, 100, 100, 100, 100, 100, 100, 100, 100, 100, 100, 100, 100, 100, 100, 100, 100, 100, 100, 100, 100, 100, 100, 100, 100, 100, 100, 100, 100, 100, 100, 100, 100, 100, 100, 100, 100, 100, 100, 100, 100, 100, 100, 100, 100, 100, 100, 100, 100, 100, 100, 100, 100, 100, 100, 100, 100, 100, 100, 100, 100, 100, 100, 100, 100, 100, 100, 100, 100, 100, 100, 100, 100, 100, 100, 100, 100, 100, 100, 100, 100, 100, 100, 100, 100, 100, 100, 100, 100, 100, 100, 100, 100, 100, 100, 0, 0, 0, 0, 0, 0, 0, 0, 0, 0, 0, 0, 0, 0, 0, 0, 0, 0, 0, 0, 0, 0, 0, 0, 0, 0, 0, 0, 0, 0, 0, 0, 0, 0, 0, 0, 0, 0, 0, 0, 0, 0, 0, 0, 0, 0, 0, 0, 0, 0, 0, 0, 0, 0, 0, 0, 0, 0, 0, 0, 0, 0, 0, 0, 0, 0, 0, 0, 0, 0, 0, 0, 0, 0, 0, 0, 0, 0, 0, 0, 0, 0, 0, 0, 0, 0, 0, 0, 0, 0, 0, 0, 0, 0, 0, 0, 0, 0, 0, 0, 0, 0, 0, 0, 0, 0, 0, 0, 0, 0, 0, 0, 0, 0, 0, 0, 0, 0, 0, 0, 0, 0, 0, 0, 0]}, \"mode\": \"markers\", \"type\": \"scatter\", \"x\": [0.6475355625152588, 0.2518432065844536, -0.4241698533296585, -0.8175061643123627, -0.8761849850416183, -0.9982385039329529, 0.5230086445808411, -0.761035293340683, -0.5240723192691803, -0.6348419487476349, 0.10208119824528694, -0.7873566448688507, 0.8431320935487747, -0.8277634084224701, -0.8284671157598495, -0.028145532589405775, -0.48834656178951263, -0.6134238243103027, 0.6002441346645355, 0.6898856610059738, -0.7212074100971222, -0.618577390909195, 0.2708883732557297, 0.8293770750363668, -0.833723763624827, -0.09100236743688583, -0.17580167353153228, 0.8254100382328033, 0.6572437047958374, -0.04528619721531868, -0.6193150997161865, -0.8677507638931274, -0.5851840615272522, 0.5437123775482178, 0.5034769296646118, 0.6727539658546448, 0.8864493250846863, 0.5191182136535645, 0.3928759515285492, -0.7123396098613739, -0.8445254862308502, 0.6603643596172333, 0.40816062688827515, -0.8457357436418533, 0.8538035154342651, -0.601874440908432, -0.5825655460357666, -0.3931679626305898, 0.6890831589698792, 0.2398356000582377, 0.9323257406552633, 0.09784406175216039, -0.3463329275449117, 0.8091156482696533, 0.14589436848958334, -0.7921115954717001, -0.8237970272699991, 0.754879097143809, 0.4179978171984355, 0.8028054436047872, -0.07725727061430614, -0.8402269879976908, -0.719156006971995, -0.4937218228975932, -0.667732854684194, 0.8565682371457418, 0.7978111803531647, 0.4059058129787445, 0.9803009927272797, -0.6087774634361267, 0.4454371780157089, 0.8563679754734039, 0.4393457770347595, 0.6803518732388815, -0.7467090487480164, -0.4245506326357524, 0.7618539929389954, -0.6824122965335846, -0.20688551167647043, 0.8862786889076233, -0.7095068395137787, 0.9512266516685486, 0.02820168249309063, 0.33013686537742615, 0.1665743589401245, 0.8080452680587769, -0.04457945190370083, -0.2789967556794484, -0.5880341132481893, 0.5884727239608765, 0.44542641937732697, -0.805758535861969, -0.6378083189328512, -0.8779019415378571, -0.6946496665477753, -0.5498456060886383, 0.820814847946167, 0.21197162797817817, 0.8477589190006256, 0.42224403528066784, 0.10542789548635483, 0.5352259553395785, 0.5923633575439453, -0.6205871303876241, 0.6226093552329324, 0.8585631847381592, -0.2512988895177841, 0.6974952816963196, -0.45440555512905123, -0.8597918152809143, -0.5203170913916367, -0.03678949177265167, -0.13810021430253983, 0.0551789665692731, -0.5786575376987457, 0.7362712919712067, -0.4605129510164261, -0.757753998041153, 0.8816474080085754, -0.5567535161972046, -0.17522230744361877, 0.6122471392154694, 0.8472238481044769, -0.5331206619739532, -0.7311710119247437, -0.02127851825207472, -0.7600481510162354, -0.4042147994041443, -0.7764822244644165, 0.81825190782547, 0.05183814572436469, 0.23907049745321274, 0.02295166812837124, 0.5814485020107694, 0.7946080267429352, -0.20864697131845686, -0.09239796442644936, -0.6497998833656311, -0.809581995010376, -0.6942738890647888, -0.7116037011146545, 0.7321859427860805, 0.6845015713146755, 0.7677155477660043, -0.7091170719691685, -0.5099762082099915, 0.8661114871501923, -0.21946121007204056, -0.7888917426268259, -0.8705456852912903, 0.1681836023926735, 0.027375131535033386, 0.7477187812328339, 0.824545830488205, 0.5426077757562909, 0.7120481530825297, -0.8434756398200989, -0.583617627620697, 0.31089362874627113, -0.7615492343902588, -0.7760321125388145, -0.665095679461956, 0.5773138701915741, 0.3940075784921646, 0.2841348094599588, -0.6260083573205131, 0.32387781143188477, 0.7163595333695412, 0.9683883488178253, 0.2848224490880966, -0.07106811180710793, 0.8846813142299652, -0.1479027345776558, -0.5710216164588928, -0.6447552144527435, -0.08799504116177559, -0.4417027086019516, 0.9160798490047455, 0.34834231436252594, 0.12572979182004929, -0.6976119875907898, -0.7170154452323914, 0.48320139944553375, -0.5005680173635483, -0.33626289665699005, -0.15690919011831284, 0.36197255551815033, -0.6366885006427765, 0.6557102799415588, 0.12675794959068298, 0.8027218381563822, -0.8021852225065231, 0.19132046774029732, 0.3337153233587742, 0.6126223132014275, 0.7990794011524746, 0.10786050025905881, -0.7502149002892631, -0.14373990254742758, 0.022318603470921516, 0.4915817826986313, -0.3185959458351135, 0.7759771843751272, -0.8085672855377197, 0.7318092465400696, -0.8016077876091003, 0.04246543953195214, -0.7248126983642578, -0.23797217197716236, -0.17038653939962387, 0.10028295102831605, 0.13599893221488366, 0.2626943530105963, 0.22160888356821878, 0.26470695049674425, 0.3815499120033704, -0.19524498718480268, 0.5453455342965967, 0.5376130087035043, -0.20126239955425262, -0.239200879748051, -0.4240639301446768, 0.41531698541207746, 0.33836168863556604, 0.6292652666568757, -0.3770907786157396, -0.5519328713417053, -0.6865785121917725, -0.14431074857711793, 0.34436342865228653, 0.22018184512853622, 0.8129599889119467, 0.525420626004537, -0.915150503317515, 0.5189517259597778, 0.38185153404871625, -0.5025160809357961, -0.6382723251978556, -0.22568885485331217, 0.3206254243850708, -0.7916970451672872, -0.5358479619026184, 0.2744365135828654, -0.8302109638849894, 0.1902943253517151, -0.48039209842681885, -0.7902465611696243, -0.7509220242500305, 0.19435334702332815, -0.7714347839355469, 0.6488337814807892, 0.4459900036454201, 0.7044094800949097, 0.23840540274977684, 0.8631899654865265, -0.6208752691745758, -0.7677550166845322, -0.25852261781692504, -0.30209603905677795, -0.820195883512497, -0.12556562013924122, -0.28679958581924436, -0.3885052700837453, 0.24030592369622197, -0.17122070988019308, -0.020564155559435752, -0.33407514095306395, 0.14180235068003336, 0.7716923654079437, 0.15055599207418008, -0.3875867575407028, -0.03502683266836765, 0.018894872441887856, -0.06838397628494672, 0.3668384552001953, 0.1851791058267866, 0.1540113223923577, -0.7955708801746368, 0.7042312622070312, 0.6554255144936698, -0.35502658784389496, 0.3459294097764151, -0.25944154547608417, -0.3654082483715481, -0.22799349667733176, -0.28828751271770847, 0.7289892931779226, -0.04007857277989388, -0.3638659989833832, -0.29848755347101313, 0.33953883392470224, -0.11994561649137928, 0.3469578132033348], \"y\": [-0.5380062460899353, -0.8254193663597107, 0.8573657274246216, -0.3184778094291687, 0.3055094704031944, -0.2243606001138687, -0.8179677128791809, -0.5386039018630981, 0.7136238217353821, 0.46803103387355804, 0.9017426371574402, 0.4478585943579674, -0.46409714967012405, -0.20918551087379456, -0.025031602010130882, -0.7224023044109344, 0.7479489147663116, 0.6265020966529846, 0.6366500854492188, -0.37172168493270874, -0.42120401561260223, -0.5024694800376892, 0.8848880529403687, 0.03497260374327501, 0.06586311012506485, -0.8479793469111124, -0.8307247757911682, -0.15925990045070648, 0.5312221765518188, 0.7956620812416076, 0.3972312033176422, 0.13112268596887589, -0.4440335392951965, -0.5043089985847473, 0.6308133482933045, 0.33870763182640073, 0.023481889814138412, -0.6466766595840454, 0.6303765535354614, -0.6646806597709656, 0.47243452072143555, -0.6634115874767303, -0.6524355113506317, 0.2211168296635151, -0.13492607325315475, 0.8880639374256134, 0.7237107753753662, 0.7740923563639323, -0.49017422397931415, 0.7830337683359782, 0.1601299544175466, 0.8387977679570516, 0.6663059790929159, 0.2784966627756755, 0.8732405702273051, 0.2225214292605718, -0.09854647020498912, 0.21857106188933054, 0.694806436697642, 0.43192485968271893, -0.8047234416007996, -0.26941487193107605, 0.5723666548728943, 0.6540312767028809, 0.400736798842748, 0.3340451121330261, 0.10285058990120888, 0.737184484799703, -0.11812270805239677, -0.5526965260505676, -0.6600757986307144, -0.2100047543644905, 0.6273161768913269, -0.6306577920913696, 0.14494189620018005, -0.709647019704183, -0.3494853973388672, 0.5791778564453125, 0.8626402616500854, 0.3824079781770706, 0.3736450970172882, 0.2588624954223633, 0.9051562746365865, 0.8169146776199341, 0.9580169916152954, -0.18725556135177612, 0.5604053437709808, -0.8525710900624593, 0.6664364536603292, -0.5097171713908514, 0.7778818607330322, 0.20523809641599655, 0.19283572733402252, 0.25316616892814636, 0.49535389244556427, 0.7260353565216064, -0.006654052762314677, -0.6633920669555664, 0.081332478672266, 0.22414105557478392, -0.5853990713755289, 0.24832346576910752, -0.580075591802597, -0.23749471207459769, -0.3718002736568451, -0.3470030277967453, 0.6471248388290405, 0.4262312799692154, -0.5570680856704712, -0.09228573366999626, -0.4776285863839663, 0.9095382392406464, 0.35948610305786133, 0.33775198930188227, -0.645016074180603, -0.5736989974975586, -0.7164072692394257, -0.19653627276420593, -0.11680850759148598, -0.5105507969856262, 0.8790509700775146, 0.42660559713840485, -0.07168517634272575, 0.6260767877101898, 0.32888640463352203, -0.8288385272026062, -0.24235264211893082, 0.722096860408783, -0.5015540421009064, 0.2060088887810707, -0.3382442494233449, -0.9274784028530121, 0.8764851093292236, -0.42949040399657357, 0.4805295169353485, 0.7090266479386224, 0.7799589293343681, 0.06492535397410393, 0.36735011637210846, -0.20308459443705423, 0.3710737185818808, 0.29228052496910095, -0.16927186293261393, -0.016130712814629078, 0.12207349496228355, -0.8158153891563416, -0.2733161747455597, -0.7120779156684875, -0.2691040486097336, 0.002141793433111161, 0.7618382374445597, 0.7423753639062246, 0.18138714879751205, -0.538499504327774, 0.5544085587774005, 0.40100889404614765, 0.49047642946243286, -0.7162346541881561, -0.7235517576336861, -0.4094488024711609, 0.2733064331114292, -0.3712819516658783, -0.7326213121414185, -0.7904488146305084, 0.6638110280036926, 0.5113513810294015, -0.8597148656845093, 0.09173860587179661, 0.11551833525300026, -0.8137749135494232, 0.879574328660965, 0.45805034041404724, -0.867368221282959, 0.5865812599658966, -0.7562623620033264, 0.9356776773929596, -0.8715693652629852, -0.26067061722278595, 0.8786535859107971, -0.8678090572357178, -0.7708384096622467, -0.5394929647445679, -0.9280313551425934, 0.7307453155517578, -0.7579630315303802, 0.8906595706939697, -0.8590510189533234, 0.6117630302906036, -0.726637065410614, 0.7973464330037435, -0.4002419610818227, 0.03218135889619589, 0.6846175193786621, -0.6355010420084, 0.48768041282892227, -0.287009345633643, -0.7596533894538879, -0.09338677674531937, -0.7253856658935547, -0.8659860094388326, 0.5984720091025034, -0.6456015706062317, 0.14884061366319656, -0.15782354523738226, -0.2172500193119049, -0.06367101967334747, 0.7873895093798637, -0.3121159017086029, 0.7532577812671661, -0.44472399950027464, 0.07119478198227944, -0.09500148880940218, -0.08497315699734338, 0.2983198197824614, -0.27993960954524855, -0.027316443550472077, -0.2475086941073338, 0.14524652502116034, 0.47781750559806824, 0.38067060496125904, -0.6518617822573736, 0.447600972193938, -0.5018194995143197, 0.5628869262608615, -0.20410573184490205, -0.6021683745914035, -0.5807798027992248, 0.2599083738667624, 0.7370436787605286, -0.7807630151510239, 0.9236744940280914, 0.07971878349781036, 0.7657472093900045, 0.17604359984397888, -0.5919845223426818, 0.7877131700515747, -0.6260677377382914, 0.5824171503384908, -0.8535464803377787, 0.7400222023328146, 0.40971426169077557, 0.5234307845433553, 0.7147271434466044, 0.028452427436908085, 0.8620549241701762, -0.663207471370697, 0.16122323274612427, -0.3839089870452881, -0.843002180258433, -0.030995420180261135, 0.39570529013872147, -0.6060331612825394, 0.24150430411100388, -0.7652088701725006, 0.14414530247449875, -0.3975786194205284, 0.3299507349729538, -0.7905314803123474, -0.7629100978374481, 0.15874144062399864, 0.9195494800806046, 0.715939748287201, 0.2654612177894229, -0.16563245243039623, 0.806792289018631, -0.07760553837880581, 0.02514634907245636, -0.3392336579660575, -0.0964203712840875, 0.15527238762169554, 0.6393765062093735, 0.025516362106106406, -0.613791306813558, 0.688004161630358, -0.6860976219177246, -0.3902381530829838, -0.7264526949988471, 0.09847478196024895, -0.06323724096784225, -0.2955492394311087, -0.7248631119728088, 0.6819206646510533, 0.2790773472060328, 0.5979923341009352, -0.016384447483639968, -0.19826547416948503, -0.3992217679818471, -0.35490927457809446, -0.04502427563071251, 0.12033745215127342, 0.10809899334396635, -0.3245413957103606, 0.2713040068745613]}],\n",
       "                        {\"height\": 1000, \"hoverlabel\": {\"font\": {\"color\": \"white\"}}, \"template\": {\"data\": {\"bar\": [{\"error_x\": {\"color\": \"#2a3f5f\"}, \"error_y\": {\"color\": \"#2a3f5f\"}, \"marker\": {\"line\": {\"color\": \"white\", \"width\": 0.5}}, \"type\": \"bar\"}], \"barpolar\": [{\"marker\": {\"line\": {\"color\": \"white\", \"width\": 0.5}}, \"type\": \"barpolar\"}], \"carpet\": [{\"aaxis\": {\"endlinecolor\": \"#2a3f5f\", \"gridcolor\": \"#C8D4E3\", \"linecolor\": \"#C8D4E3\", \"minorgridcolor\": \"#C8D4E3\", \"startlinecolor\": \"#2a3f5f\"}, \"baxis\": {\"endlinecolor\": \"#2a3f5f\", \"gridcolor\": \"#C8D4E3\", \"linecolor\": \"#C8D4E3\", \"minorgridcolor\": \"#C8D4E3\", \"startlinecolor\": \"#2a3f5f\"}, \"type\": \"carpet\"}], \"choropleth\": [{\"colorbar\": {\"outlinewidth\": 0, \"ticks\": \"\"}, \"type\": \"choropleth\"}], \"contour\": [{\"colorbar\": {\"outlinewidth\": 0, \"ticks\": \"\"}, \"colorscale\": [[0.0, \"#0d0887\"], [0.1111111111111111, \"#46039f\"], [0.2222222222222222, \"#7201a8\"], [0.3333333333333333, \"#9c179e\"], [0.4444444444444444, \"#bd3786\"], [0.5555555555555556, \"#d8576b\"], [0.6666666666666666, \"#ed7953\"], [0.7777777777777778, \"#fb9f3a\"], [0.8888888888888888, \"#fdca26\"], [1.0, \"#f0f921\"]], \"type\": \"contour\"}], \"contourcarpet\": [{\"colorbar\": {\"outlinewidth\": 0, \"ticks\": \"\"}, \"type\": \"contourcarpet\"}], \"heatmap\": [{\"colorbar\": {\"outlinewidth\": 0, \"ticks\": \"\"}, \"colorscale\": [[0.0, \"#0d0887\"], [0.1111111111111111, \"#46039f\"], [0.2222222222222222, \"#7201a8\"], [0.3333333333333333, \"#9c179e\"], [0.4444444444444444, \"#bd3786\"], [0.5555555555555556, \"#d8576b\"], [0.6666666666666666, \"#ed7953\"], [0.7777777777777778, \"#fb9f3a\"], [0.8888888888888888, \"#fdca26\"], [1.0, \"#f0f921\"]], \"type\": \"heatmap\"}], \"heatmapgl\": [{\"colorbar\": {\"outlinewidth\": 0, \"ticks\": \"\"}, \"colorscale\": [[0.0, \"#0d0887\"], [0.1111111111111111, \"#46039f\"], [0.2222222222222222, \"#7201a8\"], [0.3333333333333333, \"#9c179e\"], [0.4444444444444444, \"#bd3786\"], [0.5555555555555556, \"#d8576b\"], [0.6666666666666666, \"#ed7953\"], [0.7777777777777778, \"#fb9f3a\"], [0.8888888888888888, \"#fdca26\"], [1.0, \"#f0f921\"]], \"type\": \"heatmapgl\"}], \"histogram\": [{\"marker\": {\"colorbar\": {\"outlinewidth\": 0, \"ticks\": \"\"}}, \"type\": \"histogram\"}], \"histogram2d\": [{\"colorbar\": {\"outlinewidth\": 0, \"ticks\": \"\"}, \"colorscale\": [[0.0, \"#0d0887\"], [0.1111111111111111, \"#46039f\"], [0.2222222222222222, \"#7201a8\"], [0.3333333333333333, \"#9c179e\"], [0.4444444444444444, \"#bd3786\"], [0.5555555555555556, \"#d8576b\"], [0.6666666666666666, \"#ed7953\"], [0.7777777777777778, \"#fb9f3a\"], [0.8888888888888888, \"#fdca26\"], [1.0, \"#f0f921\"]], \"type\": \"histogram2d\"}], \"histogram2dcontour\": [{\"colorbar\": {\"outlinewidth\": 0, \"ticks\": \"\"}, \"colorscale\": [[0.0, \"#0d0887\"], [0.1111111111111111, \"#46039f\"], [0.2222222222222222, \"#7201a8\"], [0.3333333333333333, \"#9c179e\"], [0.4444444444444444, \"#bd3786\"], [0.5555555555555556, \"#d8576b\"], [0.6666666666666666, \"#ed7953\"], [0.7777777777777778, \"#fb9f3a\"], [0.8888888888888888, \"#fdca26\"], [1.0, \"#f0f921\"]], \"type\": \"histogram2dcontour\"}], \"mesh3d\": [{\"colorbar\": {\"outlinewidth\": 0, \"ticks\": \"\"}, \"type\": \"mesh3d\"}], \"parcoords\": [{\"line\": {\"colorbar\": {\"outlinewidth\": 0, \"ticks\": \"\"}}, \"type\": \"parcoords\"}], \"pie\": [{\"automargin\": true, \"type\": \"pie\"}], \"scatter\": [{\"marker\": {\"colorbar\": {\"outlinewidth\": 0, \"ticks\": \"\"}}, \"type\": \"scatter\"}], \"scatter3d\": [{\"line\": {\"colorbar\": {\"outlinewidth\": 0, \"ticks\": \"\"}}, \"marker\": {\"colorbar\": {\"outlinewidth\": 0, \"ticks\": \"\"}}, \"type\": \"scatter3d\"}], \"scattercarpet\": [{\"marker\": {\"colorbar\": {\"outlinewidth\": 0, \"ticks\": \"\"}}, \"type\": \"scattercarpet\"}], \"scattergeo\": [{\"marker\": {\"colorbar\": {\"outlinewidth\": 0, \"ticks\": \"\"}}, \"type\": \"scattergeo\"}], \"scattergl\": [{\"marker\": {\"colorbar\": {\"outlinewidth\": 0, \"ticks\": \"\"}}, \"type\": \"scattergl\"}], \"scattermapbox\": [{\"marker\": {\"colorbar\": {\"outlinewidth\": 0, \"ticks\": \"\"}}, \"type\": \"scattermapbox\"}], \"scatterpolar\": [{\"marker\": {\"colorbar\": {\"outlinewidth\": 0, \"ticks\": \"\"}}, \"type\": \"scatterpolar\"}], \"scatterpolargl\": [{\"marker\": {\"colorbar\": {\"outlinewidth\": 0, \"ticks\": \"\"}}, \"type\": \"scatterpolargl\"}], \"scatterternary\": [{\"marker\": {\"colorbar\": {\"outlinewidth\": 0, \"ticks\": \"\"}}, \"type\": \"scatterternary\"}], \"surface\": [{\"colorbar\": {\"outlinewidth\": 0, \"ticks\": \"\"}, \"colorscale\": [[0.0, \"#0d0887\"], [0.1111111111111111, \"#46039f\"], [0.2222222222222222, \"#7201a8\"], [0.3333333333333333, \"#9c179e\"], [0.4444444444444444, \"#bd3786\"], [0.5555555555555556, \"#d8576b\"], [0.6666666666666666, \"#ed7953\"], [0.7777777777777778, \"#fb9f3a\"], [0.8888888888888888, \"#fdca26\"], [1.0, \"#f0f921\"]], \"type\": \"surface\"}], \"table\": [{\"cells\": {\"fill\": {\"color\": \"#EBF0F8\"}, \"line\": {\"color\": \"white\"}}, \"header\": {\"fill\": {\"color\": \"#C8D4E3\"}, \"line\": {\"color\": \"white\"}}, \"type\": \"table\"}]}, \"layout\": {\"annotationdefaults\": {\"arrowcolor\": \"#2a3f5f\", \"arrowhead\": 0, \"arrowwidth\": 1}, \"coloraxis\": {\"colorbar\": {\"outlinewidth\": 0, \"ticks\": \"\"}}, \"colorscale\": {\"diverging\": [[0, \"#8e0152\"], [0.1, \"#c51b7d\"], [0.2, \"#de77ae\"], [0.3, \"#f1b6da\"], [0.4, \"#fde0ef\"], [0.5, \"#f7f7f7\"], [0.6, \"#e6f5d0\"], [0.7, \"#b8e186\"], [0.8, \"#7fbc41\"], [0.9, \"#4d9221\"], [1, \"#276419\"]], \"sequential\": [[0.0, \"#0d0887\"], [0.1111111111111111, \"#46039f\"], [0.2222222222222222, \"#7201a8\"], [0.3333333333333333, \"#9c179e\"], [0.4444444444444444, \"#bd3786\"], [0.5555555555555556, \"#d8576b\"], [0.6666666666666666, \"#ed7953\"], [0.7777777777777778, \"#fb9f3a\"], [0.8888888888888888, \"#fdca26\"], [1.0, \"#f0f921\"]], \"sequentialminus\": [[0.0, \"#0d0887\"], [0.1111111111111111, \"#46039f\"], [0.2222222222222222, \"#7201a8\"], [0.3333333333333333, \"#9c179e\"], [0.4444444444444444, \"#bd3786\"], [0.5555555555555556, \"#d8576b\"], [0.6666666666666666, \"#ed7953\"], [0.7777777777777778, \"#fb9f3a\"], [0.8888888888888888, \"#fdca26\"], [1.0, \"#f0f921\"]]}, \"colorway\": [\"#636efa\", \"#EF553B\", \"#00cc96\", \"#ab63fa\", \"#FFA15A\", \"#19d3f3\", \"#FF6692\", \"#B6E880\", \"#FF97FF\", \"#FECB52\"], \"font\": {\"color\": \"#2a3f5f\"}, \"geo\": {\"bgcolor\": \"white\", \"lakecolor\": \"white\", \"landcolor\": \"white\", \"showlakes\": true, \"showland\": true, \"subunitcolor\": \"#C8D4E3\"}, \"hoverlabel\": {\"align\": \"left\"}, \"hovermode\": \"closest\", \"mapbox\": {\"style\": \"light\"}, \"paper_bgcolor\": \"white\", \"plot_bgcolor\": \"white\", \"polar\": {\"angularaxis\": {\"gridcolor\": \"#EBF0F8\", \"linecolor\": \"#EBF0F8\", \"ticks\": \"\"}, \"bgcolor\": \"white\", \"radialaxis\": {\"gridcolor\": \"#EBF0F8\", \"linecolor\": \"#EBF0F8\", \"ticks\": \"\"}}, \"scene\": {\"xaxis\": {\"backgroundcolor\": \"white\", \"gridcolor\": \"#DFE8F3\", \"gridwidth\": 2, \"linecolor\": \"#EBF0F8\", \"showbackground\": true, \"ticks\": \"\", \"zerolinecolor\": \"#EBF0F8\"}, \"yaxis\": {\"backgroundcolor\": \"white\", \"gridcolor\": \"#DFE8F3\", \"gridwidth\": 2, \"linecolor\": \"#EBF0F8\", \"showbackground\": true, \"ticks\": \"\", \"zerolinecolor\": \"#EBF0F8\"}, \"zaxis\": {\"backgroundcolor\": \"white\", \"gridcolor\": \"#DFE8F3\", \"gridwidth\": 2, \"linecolor\": \"#EBF0F8\", \"showbackground\": true, \"ticks\": \"\", \"zerolinecolor\": \"#EBF0F8\"}}, \"shapedefaults\": {\"line\": {\"color\": \"#2a3f5f\"}}, \"ternary\": {\"aaxis\": {\"gridcolor\": \"#DFE8F3\", \"linecolor\": \"#A2B1C6\", \"ticks\": \"\"}, \"baxis\": {\"gridcolor\": \"#DFE8F3\", \"linecolor\": \"#A2B1C6\", \"ticks\": \"\"}, \"bgcolor\": \"white\", \"caxis\": {\"gridcolor\": \"#DFE8F3\", \"linecolor\": \"#A2B1C6\", \"ticks\": \"\"}}, \"title\": {\"x\": 0.05}, \"xaxis\": {\"automargin\": true, \"gridcolor\": \"#EBF0F8\", \"linecolor\": \"#EBF0F8\", \"ticks\": \"\", \"title\": {\"standoff\": 15}, \"zerolinecolor\": \"#EBF0F8\", \"zerolinewidth\": 2}, \"yaxis\": {\"automargin\": true, \"gridcolor\": \"#EBF0F8\", \"linecolor\": \"#EBF0F8\", \"ticks\": \"\", \"title\": {\"standoff\": 15}, \"zerolinecolor\": \"#EBF0F8\", \"zerolinewidth\": 2}}}, \"width\": 1000},\n",
       "                        {\"responsive\": true}\n",
       "                    ).then(function(){\n",
       "                            \n",
       "var gd = document.getElementById('baf0aaf0-a8b6-4a7e-a5f0-3cd9afe4c1de');\n",
       "var x = new MutationObserver(function (mutations, observer) {{\n",
       "        var display = window.getComputedStyle(gd).display;\n",
       "        if (!display || display === 'none') {{\n",
       "            console.log([gd, 'removed!']);\n",
       "            Plotly.purge(gd);\n",
       "            observer.disconnect();\n",
       "        }}\n",
       "}});\n",
       "\n",
       "// Listen for the removal of the full notebook cells\n",
       "var notebookContainer = gd.closest('#notebook-container');\n",
       "if (notebookContainer) {{\n",
       "    x.observe(notebookContainer, {childList: true});\n",
       "}}\n",
       "\n",
       "// Listen for the clearing of the current output cell\n",
       "var outputEl = gd.closest('.output');\n",
       "if (outputEl) {{\n",
       "    x.observe(outputEl, {childList: true});\n",
       "}}\n",
       "\n",
       "                        })\n",
       "                };\n",
       "                });\n",
       "            </script>\n",
       "        </div>"
      ]
     },
     "metadata": {},
     "output_type": "display_data"
    }
   ],
   "source": [
    "clique_motif_frame['joined_sequences'] = [\n",
    "    ','.join(x) for x in clique_motif_frame.sequences\n",
    "]\n",
    "\n",
    "\n",
    "clique_motif_frame['joined_epitopes'] = [\n",
    "    ','.join([i.split(\"::\")[-1].replace(\"[Plasmodium_falciparum_3D7]\", \"\") for i in x]) for x in clique_motif_frame.sseqid\n",
    "]\n",
    "\n",
    "fig = go.Figure()\n",
    "\n",
    "tr = go.Scatter(\n",
    "    x = clique_motif_frame.agg_x,\n",
    "    y = clique_motif_frame.agg_y,\n",
    "    mode = 'markers',\n",
    "    marker = dict(\n",
    "        size = clique_motif_frame.membership,\n",
    "        color = clique_motif_frame.num_known,\n",
    "        sizemode = 'area',\n",
    "        sizeref=100*max(clique_motif_frame.num_known)/(40.**2),\n",
    "        sizemin = 3,\n",
    "        symbol = [0 if x > 0 else 100 for x in clique_motif_frame.num_known],\n",
    "        colorbar = dict(title = 'known motifs'),\n",
    "        colorscale = [\"#f5d60f\", \"#C70039\"]    \n",
    "    ),\n",
    "    customdata = clique_motif_frame[['clique_idx', 'joined_sequences', 'joined_epitopes']].values,\n",
    "    hovertemplate = \n",
    "        '<b>Clique Number</b> : %{customdata[0]}<br>' +\n",
    "        \"<b>Membership</b> : %{marker.size}<br>\" +\n",
    "        '<b>Motifs</b> : %{customdata[1]}</b><br>' +\n",
    "        \"<extra><b>Known Epitopes</b> : %{customdata[2]}<br></extra>\",\n",
    ")\n",
    "\n",
    "fig.add_trace(tr)\n",
    "\n",
    "\n",
    "fig.update_layout(\n",
    "    height = 1000, width = 1000,\n",
    "    hoverlabel = dict(font=dict(color='white'))\n",
    ")\n",
    "\n",
    "fig.write_html(\"../figures/enriched_set_clique_motifs/clique_scatter.html\")\n",
    "fig"
   ]
  },
  {
   "cell_type": "markdown",
   "metadata": {},
   "source": [
    "## Distribution of Number of Found Motifs"
   ]
  },
  {
   "cell_type": "code",
   "execution_count": 13,
   "metadata": {
    "ExecuteTime": {
     "end_time": "2020-07-08T16:33:57.745083Z",
     "start_time": "2020-07-08T16:33:57.510403Z"
    }
   },
   "outputs": [
    {
     "data": {
      "application/vnd.plotly.v1+json": {
       "config": {
        "plotlyServerURL": "https://plot.ly"
       },
       "data": [
        {
         "alignmentgroup": "True",
         "hoverlabel": {
          "namelength": 0
         },
         "hovertemplate": "num_known=%{x}<br>counts=%{y}",
         "legendgroup": "",
         "marker": {
          "color": "#636efa"
         },
         "name": "",
         "offsetgroup": "",
         "orientation": "v",
         "showlegend": false,
         "textposition": "auto",
         "type": "bar",
         "x": [
          0,
          1,
          2,
          3,
          4
         ],
         "xaxis": "x",
         "y": [
          168,
          93,
          21,
          9,
          2
         ],
         "yaxis": "y"
        }
       ],
       "layout": {
        "barmode": "relative",
        "legend": {
         "tracegroupgap": 0
        },
        "margin": {
         "t": 60
        },
        "template": {
         "data": {
          "bar": [
           {
            "error_x": {
             "color": "#2a3f5f"
            },
            "error_y": {
             "color": "#2a3f5f"
            },
            "marker": {
             "line": {
              "color": "white",
              "width": 0.5
             }
            },
            "type": "bar"
           }
          ],
          "barpolar": [
           {
            "marker": {
             "line": {
              "color": "white",
              "width": 0.5
             }
            },
            "type": "barpolar"
           }
          ],
          "carpet": [
           {
            "aaxis": {
             "endlinecolor": "#2a3f5f",
             "gridcolor": "#C8D4E3",
             "linecolor": "#C8D4E3",
             "minorgridcolor": "#C8D4E3",
             "startlinecolor": "#2a3f5f"
            },
            "baxis": {
             "endlinecolor": "#2a3f5f",
             "gridcolor": "#C8D4E3",
             "linecolor": "#C8D4E3",
             "minorgridcolor": "#C8D4E3",
             "startlinecolor": "#2a3f5f"
            },
            "type": "carpet"
           }
          ],
          "choropleth": [
           {
            "colorbar": {
             "outlinewidth": 0,
             "ticks": ""
            },
            "type": "choropleth"
           }
          ],
          "contour": [
           {
            "colorbar": {
             "outlinewidth": 0,
             "ticks": ""
            },
            "colorscale": [
             [
              0,
              "#0d0887"
             ],
             [
              0.1111111111111111,
              "#46039f"
             ],
             [
              0.2222222222222222,
              "#7201a8"
             ],
             [
              0.3333333333333333,
              "#9c179e"
             ],
             [
              0.4444444444444444,
              "#bd3786"
             ],
             [
              0.5555555555555556,
              "#d8576b"
             ],
             [
              0.6666666666666666,
              "#ed7953"
             ],
             [
              0.7777777777777778,
              "#fb9f3a"
             ],
             [
              0.8888888888888888,
              "#fdca26"
             ],
             [
              1,
              "#f0f921"
             ]
            ],
            "type": "contour"
           }
          ],
          "contourcarpet": [
           {
            "colorbar": {
             "outlinewidth": 0,
             "ticks": ""
            },
            "type": "contourcarpet"
           }
          ],
          "heatmap": [
           {
            "colorbar": {
             "outlinewidth": 0,
             "ticks": ""
            },
            "colorscale": [
             [
              0,
              "#0d0887"
             ],
             [
              0.1111111111111111,
              "#46039f"
             ],
             [
              0.2222222222222222,
              "#7201a8"
             ],
             [
              0.3333333333333333,
              "#9c179e"
             ],
             [
              0.4444444444444444,
              "#bd3786"
             ],
             [
              0.5555555555555556,
              "#d8576b"
             ],
             [
              0.6666666666666666,
              "#ed7953"
             ],
             [
              0.7777777777777778,
              "#fb9f3a"
             ],
             [
              0.8888888888888888,
              "#fdca26"
             ],
             [
              1,
              "#f0f921"
             ]
            ],
            "type": "heatmap"
           }
          ],
          "heatmapgl": [
           {
            "colorbar": {
             "outlinewidth": 0,
             "ticks": ""
            },
            "colorscale": [
             [
              0,
              "#0d0887"
             ],
             [
              0.1111111111111111,
              "#46039f"
             ],
             [
              0.2222222222222222,
              "#7201a8"
             ],
             [
              0.3333333333333333,
              "#9c179e"
             ],
             [
              0.4444444444444444,
              "#bd3786"
             ],
             [
              0.5555555555555556,
              "#d8576b"
             ],
             [
              0.6666666666666666,
              "#ed7953"
             ],
             [
              0.7777777777777778,
              "#fb9f3a"
             ],
             [
              0.8888888888888888,
              "#fdca26"
             ],
             [
              1,
              "#f0f921"
             ]
            ],
            "type": "heatmapgl"
           }
          ],
          "histogram": [
           {
            "marker": {
             "colorbar": {
              "outlinewidth": 0,
              "ticks": ""
             }
            },
            "type": "histogram"
           }
          ],
          "histogram2d": [
           {
            "colorbar": {
             "outlinewidth": 0,
             "ticks": ""
            },
            "colorscale": [
             [
              0,
              "#0d0887"
             ],
             [
              0.1111111111111111,
              "#46039f"
             ],
             [
              0.2222222222222222,
              "#7201a8"
             ],
             [
              0.3333333333333333,
              "#9c179e"
             ],
             [
              0.4444444444444444,
              "#bd3786"
             ],
             [
              0.5555555555555556,
              "#d8576b"
             ],
             [
              0.6666666666666666,
              "#ed7953"
             ],
             [
              0.7777777777777778,
              "#fb9f3a"
             ],
             [
              0.8888888888888888,
              "#fdca26"
             ],
             [
              1,
              "#f0f921"
             ]
            ],
            "type": "histogram2d"
           }
          ],
          "histogram2dcontour": [
           {
            "colorbar": {
             "outlinewidth": 0,
             "ticks": ""
            },
            "colorscale": [
             [
              0,
              "#0d0887"
             ],
             [
              0.1111111111111111,
              "#46039f"
             ],
             [
              0.2222222222222222,
              "#7201a8"
             ],
             [
              0.3333333333333333,
              "#9c179e"
             ],
             [
              0.4444444444444444,
              "#bd3786"
             ],
             [
              0.5555555555555556,
              "#d8576b"
             ],
             [
              0.6666666666666666,
              "#ed7953"
             ],
             [
              0.7777777777777778,
              "#fb9f3a"
             ],
             [
              0.8888888888888888,
              "#fdca26"
             ],
             [
              1,
              "#f0f921"
             ]
            ],
            "type": "histogram2dcontour"
           }
          ],
          "mesh3d": [
           {
            "colorbar": {
             "outlinewidth": 0,
             "ticks": ""
            },
            "type": "mesh3d"
           }
          ],
          "parcoords": [
           {
            "line": {
             "colorbar": {
              "outlinewidth": 0,
              "ticks": ""
             }
            },
            "type": "parcoords"
           }
          ],
          "pie": [
           {
            "automargin": true,
            "type": "pie"
           }
          ],
          "scatter": [
           {
            "marker": {
             "colorbar": {
              "outlinewidth": 0,
              "ticks": ""
             }
            },
            "type": "scatter"
           }
          ],
          "scatter3d": [
           {
            "line": {
             "colorbar": {
              "outlinewidth": 0,
              "ticks": ""
             }
            },
            "marker": {
             "colorbar": {
              "outlinewidth": 0,
              "ticks": ""
             }
            },
            "type": "scatter3d"
           }
          ],
          "scattercarpet": [
           {
            "marker": {
             "colorbar": {
              "outlinewidth": 0,
              "ticks": ""
             }
            },
            "type": "scattercarpet"
           }
          ],
          "scattergeo": [
           {
            "marker": {
             "colorbar": {
              "outlinewidth": 0,
              "ticks": ""
             }
            },
            "type": "scattergeo"
           }
          ],
          "scattergl": [
           {
            "marker": {
             "colorbar": {
              "outlinewidth": 0,
              "ticks": ""
             }
            },
            "type": "scattergl"
           }
          ],
          "scattermapbox": [
           {
            "marker": {
             "colorbar": {
              "outlinewidth": 0,
              "ticks": ""
             }
            },
            "type": "scattermapbox"
           }
          ],
          "scatterpolar": [
           {
            "marker": {
             "colorbar": {
              "outlinewidth": 0,
              "ticks": ""
             }
            },
            "type": "scatterpolar"
           }
          ],
          "scatterpolargl": [
           {
            "marker": {
             "colorbar": {
              "outlinewidth": 0,
              "ticks": ""
             }
            },
            "type": "scatterpolargl"
           }
          ],
          "scatterternary": [
           {
            "marker": {
             "colorbar": {
              "outlinewidth": 0,
              "ticks": ""
             }
            },
            "type": "scatterternary"
           }
          ],
          "surface": [
           {
            "colorbar": {
             "outlinewidth": 0,
             "ticks": ""
            },
            "colorscale": [
             [
              0,
              "#0d0887"
             ],
             [
              0.1111111111111111,
              "#46039f"
             ],
             [
              0.2222222222222222,
              "#7201a8"
             ],
             [
              0.3333333333333333,
              "#9c179e"
             ],
             [
              0.4444444444444444,
              "#bd3786"
             ],
             [
              0.5555555555555556,
              "#d8576b"
             ],
             [
              0.6666666666666666,
              "#ed7953"
             ],
             [
              0.7777777777777778,
              "#fb9f3a"
             ],
             [
              0.8888888888888888,
              "#fdca26"
             ],
             [
              1,
              "#f0f921"
             ]
            ],
            "type": "surface"
           }
          ],
          "table": [
           {
            "cells": {
             "fill": {
              "color": "#EBF0F8"
             },
             "line": {
              "color": "white"
             }
            },
            "header": {
             "fill": {
              "color": "#C8D4E3"
             },
             "line": {
              "color": "white"
             }
            },
            "type": "table"
           }
          ]
         },
         "layout": {
          "annotationdefaults": {
           "arrowcolor": "#2a3f5f",
           "arrowhead": 0,
           "arrowwidth": 1
          },
          "coloraxis": {
           "colorbar": {
            "outlinewidth": 0,
            "ticks": ""
           }
          },
          "colorscale": {
           "diverging": [
            [
             0,
             "#8e0152"
            ],
            [
             0.1,
             "#c51b7d"
            ],
            [
             0.2,
             "#de77ae"
            ],
            [
             0.3,
             "#f1b6da"
            ],
            [
             0.4,
             "#fde0ef"
            ],
            [
             0.5,
             "#f7f7f7"
            ],
            [
             0.6,
             "#e6f5d0"
            ],
            [
             0.7,
             "#b8e186"
            ],
            [
             0.8,
             "#7fbc41"
            ],
            [
             0.9,
             "#4d9221"
            ],
            [
             1,
             "#276419"
            ]
           ],
           "sequential": [
            [
             0,
             "#0d0887"
            ],
            [
             0.1111111111111111,
             "#46039f"
            ],
            [
             0.2222222222222222,
             "#7201a8"
            ],
            [
             0.3333333333333333,
             "#9c179e"
            ],
            [
             0.4444444444444444,
             "#bd3786"
            ],
            [
             0.5555555555555556,
             "#d8576b"
            ],
            [
             0.6666666666666666,
             "#ed7953"
            ],
            [
             0.7777777777777778,
             "#fb9f3a"
            ],
            [
             0.8888888888888888,
             "#fdca26"
            ],
            [
             1,
             "#f0f921"
            ]
           ],
           "sequentialminus": [
            [
             0,
             "#0d0887"
            ],
            [
             0.1111111111111111,
             "#46039f"
            ],
            [
             0.2222222222222222,
             "#7201a8"
            ],
            [
             0.3333333333333333,
             "#9c179e"
            ],
            [
             0.4444444444444444,
             "#bd3786"
            ],
            [
             0.5555555555555556,
             "#d8576b"
            ],
            [
             0.6666666666666666,
             "#ed7953"
            ],
            [
             0.7777777777777778,
             "#fb9f3a"
            ],
            [
             0.8888888888888888,
             "#fdca26"
            ],
            [
             1,
             "#f0f921"
            ]
           ]
          },
          "colorway": [
           "#636efa",
           "#EF553B",
           "#00cc96",
           "#ab63fa",
           "#FFA15A",
           "#19d3f3",
           "#FF6692",
           "#B6E880",
           "#FF97FF",
           "#FECB52"
          ],
          "font": {
           "color": "#2a3f5f"
          },
          "geo": {
           "bgcolor": "white",
           "lakecolor": "white",
           "landcolor": "white",
           "showlakes": true,
           "showland": true,
           "subunitcolor": "#C8D4E3"
          },
          "hoverlabel": {
           "align": "left"
          },
          "hovermode": "closest",
          "mapbox": {
           "style": "light"
          },
          "paper_bgcolor": "white",
          "plot_bgcolor": "white",
          "polar": {
           "angularaxis": {
            "gridcolor": "#EBF0F8",
            "linecolor": "#EBF0F8",
            "ticks": ""
           },
           "bgcolor": "white",
           "radialaxis": {
            "gridcolor": "#EBF0F8",
            "linecolor": "#EBF0F8",
            "ticks": ""
           }
          },
          "scene": {
           "xaxis": {
            "backgroundcolor": "white",
            "gridcolor": "#DFE8F3",
            "gridwidth": 2,
            "linecolor": "#EBF0F8",
            "showbackground": true,
            "ticks": "",
            "zerolinecolor": "#EBF0F8"
           },
           "yaxis": {
            "backgroundcolor": "white",
            "gridcolor": "#DFE8F3",
            "gridwidth": 2,
            "linecolor": "#EBF0F8",
            "showbackground": true,
            "ticks": "",
            "zerolinecolor": "#EBF0F8"
           },
           "zaxis": {
            "backgroundcolor": "white",
            "gridcolor": "#DFE8F3",
            "gridwidth": 2,
            "linecolor": "#EBF0F8",
            "showbackground": true,
            "ticks": "",
            "zerolinecolor": "#EBF0F8"
           }
          },
          "shapedefaults": {
           "line": {
            "color": "#2a3f5f"
           }
          },
          "ternary": {
           "aaxis": {
            "gridcolor": "#DFE8F3",
            "linecolor": "#A2B1C6",
            "ticks": ""
           },
           "baxis": {
            "gridcolor": "#DFE8F3",
            "linecolor": "#A2B1C6",
            "ticks": ""
           },
           "bgcolor": "white",
           "caxis": {
            "gridcolor": "#DFE8F3",
            "linecolor": "#A2B1C6",
            "ticks": ""
           }
          },
          "title": {
           "x": 0.05
          },
          "xaxis": {
           "automargin": true,
           "gridcolor": "#EBF0F8",
           "linecolor": "#EBF0F8",
           "ticks": "",
           "title": {
            "standoff": 15
           },
           "zerolinecolor": "#EBF0F8",
           "zerolinewidth": 2
          },
          "yaxis": {
           "automargin": true,
           "gridcolor": "#EBF0F8",
           "linecolor": "#EBF0F8",
           "ticks": "",
           "title": {
            "standoff": 15
           },
           "zerolinecolor": "#EBF0F8",
           "zerolinewidth": 2
          }
         }
        },
        "xaxis": {
         "anchor": "y",
         "domain": [
          0,
          1
         ],
         "title": {
          "text": "num_known"
         }
        },
        "yaxis": {
         "anchor": "x",
         "domain": [
          0,
          1
         ],
         "title": {
          "text": "counts"
         }
        }
       }
      },
      "text/html": [
       "<div>\n",
       "        \n",
       "        \n",
       "            <div id=\"d80c7e61-7249-4514-88d9-ad29dbb7a73c\" class=\"plotly-graph-div\" style=\"height:525px; width:100%;\"></div>\n",
       "            <script type=\"text/javascript\">\n",
       "                require([\"plotly\"], function(Plotly) {\n",
       "                    window.PLOTLYENV=window.PLOTLYENV || {};\n",
       "                    \n",
       "                if (document.getElementById(\"d80c7e61-7249-4514-88d9-ad29dbb7a73c\")) {\n",
       "                    Plotly.newPlot(\n",
       "                        'd80c7e61-7249-4514-88d9-ad29dbb7a73c',\n",
       "                        [{\"alignmentgroup\": \"True\", \"hoverlabel\": {\"namelength\": 0}, \"hovertemplate\": \"num_known=%{x}<br>counts=%{y}\", \"legendgroup\": \"\", \"marker\": {\"color\": \"#636efa\"}, \"name\": \"\", \"offsetgroup\": \"\", \"orientation\": \"v\", \"showlegend\": false, \"textposition\": \"auto\", \"type\": \"bar\", \"x\": [0, 1, 2, 3, 4], \"xaxis\": \"x\", \"y\": [168, 93, 21, 9, 2], \"yaxis\": \"y\"}],\n",
       "                        {\"barmode\": \"relative\", \"legend\": {\"tracegroupgap\": 0}, \"margin\": {\"t\": 60}, \"template\": {\"data\": {\"bar\": [{\"error_x\": {\"color\": \"#2a3f5f\"}, \"error_y\": {\"color\": \"#2a3f5f\"}, \"marker\": {\"line\": {\"color\": \"white\", \"width\": 0.5}}, \"type\": \"bar\"}], \"barpolar\": [{\"marker\": {\"line\": {\"color\": \"white\", \"width\": 0.5}}, \"type\": \"barpolar\"}], \"carpet\": [{\"aaxis\": {\"endlinecolor\": \"#2a3f5f\", \"gridcolor\": \"#C8D4E3\", \"linecolor\": \"#C8D4E3\", \"minorgridcolor\": \"#C8D4E3\", \"startlinecolor\": \"#2a3f5f\"}, \"baxis\": {\"endlinecolor\": \"#2a3f5f\", \"gridcolor\": \"#C8D4E3\", \"linecolor\": \"#C8D4E3\", \"minorgridcolor\": \"#C8D4E3\", \"startlinecolor\": \"#2a3f5f\"}, \"type\": \"carpet\"}], \"choropleth\": [{\"colorbar\": {\"outlinewidth\": 0, \"ticks\": \"\"}, \"type\": \"choropleth\"}], \"contour\": [{\"colorbar\": {\"outlinewidth\": 0, \"ticks\": \"\"}, \"colorscale\": [[0.0, \"#0d0887\"], [0.1111111111111111, \"#46039f\"], [0.2222222222222222, \"#7201a8\"], [0.3333333333333333, \"#9c179e\"], [0.4444444444444444, \"#bd3786\"], [0.5555555555555556, \"#d8576b\"], [0.6666666666666666, \"#ed7953\"], [0.7777777777777778, \"#fb9f3a\"], [0.8888888888888888, \"#fdca26\"], [1.0, \"#f0f921\"]], \"type\": \"contour\"}], \"contourcarpet\": [{\"colorbar\": {\"outlinewidth\": 0, \"ticks\": \"\"}, \"type\": \"contourcarpet\"}], \"heatmap\": [{\"colorbar\": {\"outlinewidth\": 0, \"ticks\": \"\"}, \"colorscale\": [[0.0, \"#0d0887\"], [0.1111111111111111, \"#46039f\"], [0.2222222222222222, \"#7201a8\"], [0.3333333333333333, \"#9c179e\"], [0.4444444444444444, \"#bd3786\"], [0.5555555555555556, \"#d8576b\"], [0.6666666666666666, \"#ed7953\"], [0.7777777777777778, \"#fb9f3a\"], [0.8888888888888888, \"#fdca26\"], [1.0, \"#f0f921\"]], \"type\": \"heatmap\"}], \"heatmapgl\": [{\"colorbar\": {\"outlinewidth\": 0, \"ticks\": \"\"}, \"colorscale\": [[0.0, \"#0d0887\"], [0.1111111111111111, \"#46039f\"], [0.2222222222222222, \"#7201a8\"], [0.3333333333333333, \"#9c179e\"], [0.4444444444444444, \"#bd3786\"], [0.5555555555555556, \"#d8576b\"], [0.6666666666666666, \"#ed7953\"], [0.7777777777777778, \"#fb9f3a\"], [0.8888888888888888, \"#fdca26\"], [1.0, \"#f0f921\"]], \"type\": \"heatmapgl\"}], \"histogram\": [{\"marker\": {\"colorbar\": {\"outlinewidth\": 0, \"ticks\": \"\"}}, \"type\": \"histogram\"}], \"histogram2d\": [{\"colorbar\": {\"outlinewidth\": 0, \"ticks\": \"\"}, \"colorscale\": [[0.0, \"#0d0887\"], [0.1111111111111111, \"#46039f\"], [0.2222222222222222, \"#7201a8\"], [0.3333333333333333, \"#9c179e\"], [0.4444444444444444, \"#bd3786\"], [0.5555555555555556, \"#d8576b\"], [0.6666666666666666, \"#ed7953\"], [0.7777777777777778, \"#fb9f3a\"], [0.8888888888888888, \"#fdca26\"], [1.0, \"#f0f921\"]], \"type\": \"histogram2d\"}], \"histogram2dcontour\": [{\"colorbar\": {\"outlinewidth\": 0, \"ticks\": \"\"}, \"colorscale\": [[0.0, \"#0d0887\"], [0.1111111111111111, \"#46039f\"], [0.2222222222222222, \"#7201a8\"], [0.3333333333333333, \"#9c179e\"], [0.4444444444444444, \"#bd3786\"], [0.5555555555555556, \"#d8576b\"], [0.6666666666666666, \"#ed7953\"], [0.7777777777777778, \"#fb9f3a\"], [0.8888888888888888, \"#fdca26\"], [1.0, \"#f0f921\"]], \"type\": \"histogram2dcontour\"}], \"mesh3d\": [{\"colorbar\": {\"outlinewidth\": 0, \"ticks\": \"\"}, \"type\": \"mesh3d\"}], \"parcoords\": [{\"line\": {\"colorbar\": {\"outlinewidth\": 0, \"ticks\": \"\"}}, \"type\": \"parcoords\"}], \"pie\": [{\"automargin\": true, \"type\": \"pie\"}], \"scatter\": [{\"marker\": {\"colorbar\": {\"outlinewidth\": 0, \"ticks\": \"\"}}, \"type\": \"scatter\"}], \"scatter3d\": [{\"line\": {\"colorbar\": {\"outlinewidth\": 0, \"ticks\": \"\"}}, \"marker\": {\"colorbar\": {\"outlinewidth\": 0, \"ticks\": \"\"}}, \"type\": \"scatter3d\"}], \"scattercarpet\": [{\"marker\": {\"colorbar\": {\"outlinewidth\": 0, \"ticks\": \"\"}}, \"type\": \"scattercarpet\"}], \"scattergeo\": [{\"marker\": {\"colorbar\": {\"outlinewidth\": 0, \"ticks\": \"\"}}, \"type\": \"scattergeo\"}], \"scattergl\": [{\"marker\": {\"colorbar\": {\"outlinewidth\": 0, \"ticks\": \"\"}}, \"type\": \"scattergl\"}], \"scattermapbox\": [{\"marker\": {\"colorbar\": {\"outlinewidth\": 0, \"ticks\": \"\"}}, \"type\": \"scattermapbox\"}], \"scatterpolar\": [{\"marker\": {\"colorbar\": {\"outlinewidth\": 0, \"ticks\": \"\"}}, \"type\": \"scatterpolar\"}], \"scatterpolargl\": [{\"marker\": {\"colorbar\": {\"outlinewidth\": 0, \"ticks\": \"\"}}, \"type\": \"scatterpolargl\"}], \"scatterternary\": [{\"marker\": {\"colorbar\": {\"outlinewidth\": 0, \"ticks\": \"\"}}, \"type\": \"scatterternary\"}], \"surface\": [{\"colorbar\": {\"outlinewidth\": 0, \"ticks\": \"\"}, \"colorscale\": [[0.0, \"#0d0887\"], [0.1111111111111111, \"#46039f\"], [0.2222222222222222, \"#7201a8\"], [0.3333333333333333, \"#9c179e\"], [0.4444444444444444, \"#bd3786\"], [0.5555555555555556, \"#d8576b\"], [0.6666666666666666, \"#ed7953\"], [0.7777777777777778, \"#fb9f3a\"], [0.8888888888888888, \"#fdca26\"], [1.0, \"#f0f921\"]], \"type\": \"surface\"}], \"table\": [{\"cells\": {\"fill\": {\"color\": \"#EBF0F8\"}, \"line\": {\"color\": \"white\"}}, \"header\": {\"fill\": {\"color\": \"#C8D4E3\"}, \"line\": {\"color\": \"white\"}}, \"type\": \"table\"}]}, \"layout\": {\"annotationdefaults\": {\"arrowcolor\": \"#2a3f5f\", \"arrowhead\": 0, \"arrowwidth\": 1}, \"coloraxis\": {\"colorbar\": {\"outlinewidth\": 0, \"ticks\": \"\"}}, \"colorscale\": {\"diverging\": [[0, \"#8e0152\"], [0.1, \"#c51b7d\"], [0.2, \"#de77ae\"], [0.3, \"#f1b6da\"], [0.4, \"#fde0ef\"], [0.5, \"#f7f7f7\"], [0.6, \"#e6f5d0\"], [0.7, \"#b8e186\"], [0.8, \"#7fbc41\"], [0.9, \"#4d9221\"], [1, \"#276419\"]], \"sequential\": [[0.0, \"#0d0887\"], [0.1111111111111111, \"#46039f\"], [0.2222222222222222, \"#7201a8\"], [0.3333333333333333, \"#9c179e\"], [0.4444444444444444, \"#bd3786\"], [0.5555555555555556, \"#d8576b\"], [0.6666666666666666, \"#ed7953\"], [0.7777777777777778, \"#fb9f3a\"], [0.8888888888888888, \"#fdca26\"], [1.0, \"#f0f921\"]], \"sequentialminus\": [[0.0, \"#0d0887\"], [0.1111111111111111, \"#46039f\"], [0.2222222222222222, \"#7201a8\"], [0.3333333333333333, \"#9c179e\"], [0.4444444444444444, \"#bd3786\"], [0.5555555555555556, \"#d8576b\"], [0.6666666666666666, \"#ed7953\"], [0.7777777777777778, \"#fb9f3a\"], [0.8888888888888888, \"#fdca26\"], [1.0, \"#f0f921\"]]}, \"colorway\": [\"#636efa\", \"#EF553B\", \"#00cc96\", \"#ab63fa\", \"#FFA15A\", \"#19d3f3\", \"#FF6692\", \"#B6E880\", \"#FF97FF\", \"#FECB52\"], \"font\": {\"color\": \"#2a3f5f\"}, \"geo\": {\"bgcolor\": \"white\", \"lakecolor\": \"white\", \"landcolor\": \"white\", \"showlakes\": true, \"showland\": true, \"subunitcolor\": \"#C8D4E3\"}, \"hoverlabel\": {\"align\": \"left\"}, \"hovermode\": \"closest\", \"mapbox\": {\"style\": \"light\"}, \"paper_bgcolor\": \"white\", \"plot_bgcolor\": \"white\", \"polar\": {\"angularaxis\": {\"gridcolor\": \"#EBF0F8\", \"linecolor\": \"#EBF0F8\", \"ticks\": \"\"}, \"bgcolor\": \"white\", \"radialaxis\": {\"gridcolor\": \"#EBF0F8\", \"linecolor\": \"#EBF0F8\", \"ticks\": \"\"}}, \"scene\": {\"xaxis\": {\"backgroundcolor\": \"white\", \"gridcolor\": \"#DFE8F3\", \"gridwidth\": 2, \"linecolor\": \"#EBF0F8\", \"showbackground\": true, \"ticks\": \"\", \"zerolinecolor\": \"#EBF0F8\"}, \"yaxis\": {\"backgroundcolor\": \"white\", \"gridcolor\": \"#DFE8F3\", \"gridwidth\": 2, \"linecolor\": \"#EBF0F8\", \"showbackground\": true, \"ticks\": \"\", \"zerolinecolor\": \"#EBF0F8\"}, \"zaxis\": {\"backgroundcolor\": \"white\", \"gridcolor\": \"#DFE8F3\", \"gridwidth\": 2, \"linecolor\": \"#EBF0F8\", \"showbackground\": true, \"ticks\": \"\", \"zerolinecolor\": \"#EBF0F8\"}}, \"shapedefaults\": {\"line\": {\"color\": \"#2a3f5f\"}}, \"ternary\": {\"aaxis\": {\"gridcolor\": \"#DFE8F3\", \"linecolor\": \"#A2B1C6\", \"ticks\": \"\"}, \"baxis\": {\"gridcolor\": \"#DFE8F3\", \"linecolor\": \"#A2B1C6\", \"ticks\": \"\"}, \"bgcolor\": \"white\", \"caxis\": {\"gridcolor\": \"#DFE8F3\", \"linecolor\": \"#A2B1C6\", \"ticks\": \"\"}}, \"title\": {\"x\": 0.05}, \"xaxis\": {\"automargin\": true, \"gridcolor\": \"#EBF0F8\", \"linecolor\": \"#EBF0F8\", \"ticks\": \"\", \"title\": {\"standoff\": 15}, \"zerolinecolor\": \"#EBF0F8\", \"zerolinewidth\": 2}, \"yaxis\": {\"automargin\": true, \"gridcolor\": \"#EBF0F8\", \"linecolor\": \"#EBF0F8\", \"ticks\": \"\", \"title\": {\"standoff\": 15}, \"zerolinecolor\": \"#EBF0F8\", \"zerolinewidth\": 2}}}, \"xaxis\": {\"anchor\": \"y\", \"domain\": [0.0, 1.0], \"title\": {\"text\": \"num_known\"}}, \"yaxis\": {\"anchor\": \"x\", \"domain\": [0.0, 1.0], \"title\": {\"text\": \"counts\"}}},\n",
       "                        {\"responsive\": true}\n",
       "                    ).then(function(){\n",
       "                            \n",
       "var gd = document.getElementById('d80c7e61-7249-4514-88d9-ad29dbb7a73c');\n",
       "var x = new MutationObserver(function (mutations, observer) {{\n",
       "        var display = window.getComputedStyle(gd).display;\n",
       "        if (!display || display === 'none') {{\n",
       "            console.log([gd, 'removed!']);\n",
       "            Plotly.purge(gd);\n",
       "            observer.disconnect();\n",
       "        }}\n",
       "}});\n",
       "\n",
       "// Listen for the removal of the full notebook cells\n",
       "var notebookContainer = gd.closest('#notebook-container');\n",
       "if (notebookContainer) {{\n",
       "    x.observe(notebookContainer, {childList: true});\n",
       "}}\n",
       "\n",
       "// Listen for the clearing of the current output cell\n",
       "var outputEl = gd.closest('.output');\n",
       "if (outputEl) {{\n",
       "    x.observe(outputEl, {childList: true});\n",
       "}}\n",
       "\n",
       "                        })\n",
       "                };\n",
       "                });\n",
       "            </script>\n",
       "        </div>"
      ]
     },
     "metadata": {},
     "output_type": "display_data"
    }
   ],
   "source": [
    "known_frame = clique_motif_frame[['clique_idx', 'membership', 'num_known']].drop_duplicates()\n",
    "\n",
    "known_hist = known_frame.\\\n",
    "    groupby('num_known').apply(lambda x : pd.Series({'counts':x.shape[0]})).reset_index()\n",
    "\n",
    "px.bar(\n",
    "    known_hist, x = 'num_known', y = 'counts'\n",
    ")"
   ]
  },
  {
   "cell_type": "markdown",
   "metadata": {},
   "source": [
    "## Membership size of nodes with number of motifs found"
   ]
  },
  {
   "cell_type": "code",
   "execution_count": 14,
   "metadata": {
    "ExecuteTime": {
     "end_time": "2020-07-08T16:34:00.889077Z",
     "start_time": "2020-07-08T16:34:00.567218Z"
    }
   },
   "outputs": [
    {
     "data": {
      "application/vnd.plotly.v1+json": {
       "config": {
        "plotlyServerURL": "https://plot.ly"
       },
       "data": [
        {
         "alignmentgroup": "True",
         "hoverlabel": {
          "namelength": 0
         },
         "hovertemplate": "<b>%{hovertext}</b><br><br>num_known=%{x}<br>membership=%{y}",
         "hovertext": [
          292,
          120,
          220,
          219,
          123,
          217,
          216,
          215,
          214,
          119,
          213,
          131,
          132,
          133,
          134,
          135,
          212,
          211,
          210,
          130,
          221,
          222,
          116,
          93,
          190,
          95,
          96,
          231,
          98,
          99,
          102,
          228,
          104,
          106,
          107,
          108,
          109,
          110,
          111,
          226,
          225,
          223,
          209,
          140,
          141,
          208,
          168,
          169,
          170,
          195,
          172,
          173,
          174,
          175,
          176,
          177,
          194,
          179,
          193,
          181,
          182,
          183,
          184,
          192,
          191,
          167,
          234,
          166,
          197,
          144,
          145,
          206,
          147,
          149,
          150,
          151,
          152,
          204,
          154,
          203,
          202,
          201,
          158,
          200,
          199,
          161,
          198,
          163,
          196,
          90,
          232,
          236,
          29,
          266,
          265,
          263,
          262,
          35,
          261,
          37,
          27,
          38,
          260,
          41,
          42,
          259,
          45,
          256,
          48,
          255,
          39,
          254,
          26,
          24,
          290,
          289,
          287,
          286,
          283,
          280,
          279,
          278,
          268,
          277,
          275,
          274,
          273,
          272,
          271,
          270,
          22,
          269,
          276,
          51,
          257,
          53,
          70,
          253,
          243,
          74,
          75,
          76,
          77,
          69,
          78,
          239,
          238,
          83,
          84,
          237,
          86,
          87,
          241,
          244,
          71,
          189,
          248,
          251,
          61,
          250,
          62,
          55,
          246,
          252,
          65,
          66,
          247,
          58,
          288,
          233,
          285,
          284,
          235,
          282,
          281,
          264,
          230,
          229,
          245,
          207,
          249,
          227,
          218,
          205,
          242,
          267,
          224,
          258,
          240,
          146,
          187,
          57,
          59,
          60,
          63,
          64,
          67,
          68,
          72,
          188,
          81,
          85,
          88,
          92,
          97,
          101,
          56,
          103,
          54,
          47,
          2,
          3,
          6,
          11,
          12,
          13,
          18,
          25,
          32,
          33,
          36,
          40,
          43,
          44,
          46,
          52,
          105,
          79,
          113,
          143,
          291,
          148,
          153,
          155,
          112,
          157,
          159,
          160,
          162,
          164,
          165,
          171,
          178,
          180,
          185,
          186,
          142,
          138,
          156,
          124,
          118,
          121,
          117,
          122,
          115,
          125,
          136,
          114,
          127,
          128,
          129,
          100,
          20,
          10,
          91,
          1,
          15,
          17,
          89,
          4,
          137,
          0,
          28,
          30,
          139,
          31,
          50,
          82,
          34,
          80,
          126,
          73,
          19,
          49,
          5,
          9,
          94,
          14,
          16,
          7,
          21,
          8,
          23
         ],
         "legendgroup": "",
         "marker": {
          "color": "#636efa"
         },
         "name": "",
         "notched": false,
         "offsetgroup": "",
         "orientation": "v",
         "showlegend": false,
         "type": "box",
         "x": [
          0,
          0,
          0,
          0,
          0,
          0,
          0,
          0,
          0,
          0,
          0,
          0,
          0,
          0,
          0,
          0,
          0,
          0,
          0,
          0,
          0,
          0,
          0,
          0,
          0,
          0,
          0,
          0,
          0,
          0,
          0,
          0,
          0,
          0,
          0,
          0,
          0,
          0,
          0,
          0,
          0,
          0,
          0,
          0,
          0,
          0,
          0,
          0,
          0,
          0,
          0,
          0,
          0,
          0,
          0,
          0,
          0,
          0,
          0,
          0,
          0,
          0,
          0,
          0,
          0,
          0,
          0,
          0,
          0,
          0,
          0,
          0,
          0,
          0,
          0,
          0,
          0,
          0,
          0,
          0,
          0,
          0,
          0,
          0,
          0,
          0,
          0,
          0,
          0,
          0,
          0,
          0,
          0,
          0,
          0,
          0,
          0,
          0,
          0,
          0,
          0,
          0,
          0,
          0,
          0,
          0,
          0,
          0,
          0,
          0,
          0,
          0,
          0,
          0,
          0,
          0,
          0,
          0,
          0,
          0,
          0,
          0,
          0,
          0,
          0,
          0,
          0,
          0,
          0,
          0,
          0,
          0,
          0,
          0,
          0,
          0,
          0,
          0,
          0,
          0,
          0,
          0,
          0,
          0,
          0,
          0,
          0,
          0,
          0,
          0,
          0,
          0,
          0,
          0,
          0,
          0,
          0,
          0,
          0,
          0,
          0,
          0,
          0,
          0,
          0,
          0,
          0,
          0,
          1,
          1,
          1,
          1,
          1,
          1,
          1,
          1,
          1,
          1,
          1,
          1,
          1,
          1,
          1,
          1,
          1,
          1,
          1,
          1,
          1,
          1,
          1,
          1,
          1,
          1,
          1,
          1,
          1,
          1,
          1,
          1,
          1,
          1,
          1,
          1,
          1,
          1,
          1,
          1,
          1,
          1,
          1,
          1,
          1,
          1,
          1,
          1,
          1,
          1,
          1,
          1,
          1,
          1,
          1,
          1,
          1,
          1,
          1,
          1,
          1,
          1,
          1,
          1,
          1,
          1,
          1,
          1,
          1,
          1,
          1,
          1,
          1,
          1,
          1,
          1,
          1,
          1,
          1,
          1,
          1,
          1,
          1,
          1,
          1,
          1,
          1,
          1,
          1,
          1,
          1,
          1,
          1,
          2,
          2,
          2,
          2,
          2,
          2,
          2,
          2,
          2,
          2,
          2,
          2,
          2,
          2,
          2,
          2,
          2,
          2,
          2,
          2,
          2,
          3,
          3,
          3,
          3,
          3,
          3,
          3,
          3,
          3,
          4,
          4
         ],
         "x0": " ",
         "xaxis": "x",
         "y": [
          2,
          4,
          2,
          2,
          4,
          2,
          2,
          2,
          2,
          4,
          2,
          4,
          4,
          4,
          4,
          4,
          2,
          2,
          2,
          4,
          2,
          2,
          4,
          6,
          3,
          6,
          5,
          2,
          5,
          5,
          5,
          2,
          5,
          5,
          5,
          5,
          5,
          5,
          5,
          2,
          2,
          2,
          2,
          4,
          4,
          2,
          3,
          3,
          3,
          3,
          3,
          3,
          3,
          3,
          3,
          3,
          3,
          3,
          3,
          3,
          3,
          3,
          3,
          3,
          3,
          3,
          2,
          3,
          2,
          4,
          4,
          2,
          3,
          3,
          3,
          3,
          3,
          2,
          3,
          2,
          2,
          2,
          3,
          2,
          2,
          3,
          2,
          3,
          3,
          6,
          2,
          2,
          15,
          2,
          2,
          2,
          2,
          13,
          2,
          13,
          15,
          13,
          2,
          12,
          11,
          2,
          10,
          2,
          10,
          2,
          13,
          2,
          16,
          19,
          2,
          2,
          2,
          2,
          2,
          2,
          2,
          2,
          2,
          2,
          2,
          2,
          2,
          2,
          2,
          2,
          21,
          2,
          2,
          9,
          2,
          9,
          7,
          2,
          2,
          7,
          7,
          7,
          7,
          7,
          7,
          2,
          2,
          6,
          6,
          2,
          6,
          6,
          2,
          2,
          7,
          3,
          2,
          2,
          8,
          2,
          8,
          8,
          2,
          2,
          7,
          7,
          2,
          8,
          2,
          2,
          2,
          2,
          2,
          2,
          2,
          2,
          2,
          2,
          2,
          2,
          2,
          2,
          2,
          2,
          2,
          2,
          2,
          2,
          2,
          3,
          3,
          8,
          8,
          8,
          8,
          7,
          7,
          7,
          7,
          3,
          6,
          6,
          6,
          6,
          5,
          5,
          8,
          5,
          8,
          10,
          77,
          65,
          41,
          28,
          27,
          26,
          24,
          17,
          14,
          14,
          13,
          13,
          11,
          11,
          10,
          9,
          5,
          7,
          5,
          4,
          2,
          3,
          3,
          3,
          5,
          3,
          3,
          3,
          3,
          3,
          3,
          3,
          3,
          3,
          3,
          3,
          4,
          4,
          3,
          4,
          4,
          4,
          4,
          4,
          4,
          4,
          4,
          5,
          4,
          4,
          4,
          5,
          21,
          29,
          6,
          169,
          25,
          24,
          6,
          57,
          4,
          464,
          15,
          14,
          4,
          14,
          9,
          6,
          13,
          7,
          4,
          7,
          23,
          9,
          57,
          31,
          6,
          25,
          25,
          38,
          21,
          31,
          20
         ],
         "y0": " ",
         "yaxis": "y"
        }
       ],
       "layout": {
        "boxmode": "group",
        "height": 1000,
        "legend": {
         "tracegroupgap": 0
        },
        "margin": {
         "t": 60
        },
        "template": {
         "data": {
          "bar": [
           {
            "error_x": {
             "color": "#2a3f5f"
            },
            "error_y": {
             "color": "#2a3f5f"
            },
            "marker": {
             "line": {
              "color": "white",
              "width": 0.5
             }
            },
            "type": "bar"
           }
          ],
          "barpolar": [
           {
            "marker": {
             "line": {
              "color": "white",
              "width": 0.5
             }
            },
            "type": "barpolar"
           }
          ],
          "carpet": [
           {
            "aaxis": {
             "endlinecolor": "#2a3f5f",
             "gridcolor": "#C8D4E3",
             "linecolor": "#C8D4E3",
             "minorgridcolor": "#C8D4E3",
             "startlinecolor": "#2a3f5f"
            },
            "baxis": {
             "endlinecolor": "#2a3f5f",
             "gridcolor": "#C8D4E3",
             "linecolor": "#C8D4E3",
             "minorgridcolor": "#C8D4E3",
             "startlinecolor": "#2a3f5f"
            },
            "type": "carpet"
           }
          ],
          "choropleth": [
           {
            "colorbar": {
             "outlinewidth": 0,
             "ticks": ""
            },
            "type": "choropleth"
           }
          ],
          "contour": [
           {
            "colorbar": {
             "outlinewidth": 0,
             "ticks": ""
            },
            "colorscale": [
             [
              0,
              "#0d0887"
             ],
             [
              0.1111111111111111,
              "#46039f"
             ],
             [
              0.2222222222222222,
              "#7201a8"
             ],
             [
              0.3333333333333333,
              "#9c179e"
             ],
             [
              0.4444444444444444,
              "#bd3786"
             ],
             [
              0.5555555555555556,
              "#d8576b"
             ],
             [
              0.6666666666666666,
              "#ed7953"
             ],
             [
              0.7777777777777778,
              "#fb9f3a"
             ],
             [
              0.8888888888888888,
              "#fdca26"
             ],
             [
              1,
              "#f0f921"
             ]
            ],
            "type": "contour"
           }
          ],
          "contourcarpet": [
           {
            "colorbar": {
             "outlinewidth": 0,
             "ticks": ""
            },
            "type": "contourcarpet"
           }
          ],
          "heatmap": [
           {
            "colorbar": {
             "outlinewidth": 0,
             "ticks": ""
            },
            "colorscale": [
             [
              0,
              "#0d0887"
             ],
             [
              0.1111111111111111,
              "#46039f"
             ],
             [
              0.2222222222222222,
              "#7201a8"
             ],
             [
              0.3333333333333333,
              "#9c179e"
             ],
             [
              0.4444444444444444,
              "#bd3786"
             ],
             [
              0.5555555555555556,
              "#d8576b"
             ],
             [
              0.6666666666666666,
              "#ed7953"
             ],
             [
              0.7777777777777778,
              "#fb9f3a"
             ],
             [
              0.8888888888888888,
              "#fdca26"
             ],
             [
              1,
              "#f0f921"
             ]
            ],
            "type": "heatmap"
           }
          ],
          "heatmapgl": [
           {
            "colorbar": {
             "outlinewidth": 0,
             "ticks": ""
            },
            "colorscale": [
             [
              0,
              "#0d0887"
             ],
             [
              0.1111111111111111,
              "#46039f"
             ],
             [
              0.2222222222222222,
              "#7201a8"
             ],
             [
              0.3333333333333333,
              "#9c179e"
             ],
             [
              0.4444444444444444,
              "#bd3786"
             ],
             [
              0.5555555555555556,
              "#d8576b"
             ],
             [
              0.6666666666666666,
              "#ed7953"
             ],
             [
              0.7777777777777778,
              "#fb9f3a"
             ],
             [
              0.8888888888888888,
              "#fdca26"
             ],
             [
              1,
              "#f0f921"
             ]
            ],
            "type": "heatmapgl"
           }
          ],
          "histogram": [
           {
            "marker": {
             "colorbar": {
              "outlinewidth": 0,
              "ticks": ""
             }
            },
            "type": "histogram"
           }
          ],
          "histogram2d": [
           {
            "colorbar": {
             "outlinewidth": 0,
             "ticks": ""
            },
            "colorscale": [
             [
              0,
              "#0d0887"
             ],
             [
              0.1111111111111111,
              "#46039f"
             ],
             [
              0.2222222222222222,
              "#7201a8"
             ],
             [
              0.3333333333333333,
              "#9c179e"
             ],
             [
              0.4444444444444444,
              "#bd3786"
             ],
             [
              0.5555555555555556,
              "#d8576b"
             ],
             [
              0.6666666666666666,
              "#ed7953"
             ],
             [
              0.7777777777777778,
              "#fb9f3a"
             ],
             [
              0.8888888888888888,
              "#fdca26"
             ],
             [
              1,
              "#f0f921"
             ]
            ],
            "type": "histogram2d"
           }
          ],
          "histogram2dcontour": [
           {
            "colorbar": {
             "outlinewidth": 0,
             "ticks": ""
            },
            "colorscale": [
             [
              0,
              "#0d0887"
             ],
             [
              0.1111111111111111,
              "#46039f"
             ],
             [
              0.2222222222222222,
              "#7201a8"
             ],
             [
              0.3333333333333333,
              "#9c179e"
             ],
             [
              0.4444444444444444,
              "#bd3786"
             ],
             [
              0.5555555555555556,
              "#d8576b"
             ],
             [
              0.6666666666666666,
              "#ed7953"
             ],
             [
              0.7777777777777778,
              "#fb9f3a"
             ],
             [
              0.8888888888888888,
              "#fdca26"
             ],
             [
              1,
              "#f0f921"
             ]
            ],
            "type": "histogram2dcontour"
           }
          ],
          "mesh3d": [
           {
            "colorbar": {
             "outlinewidth": 0,
             "ticks": ""
            },
            "type": "mesh3d"
           }
          ],
          "parcoords": [
           {
            "line": {
             "colorbar": {
              "outlinewidth": 0,
              "ticks": ""
             }
            },
            "type": "parcoords"
           }
          ],
          "pie": [
           {
            "automargin": true,
            "type": "pie"
           }
          ],
          "scatter": [
           {
            "marker": {
             "colorbar": {
              "outlinewidth": 0,
              "ticks": ""
             }
            },
            "type": "scatter"
           }
          ],
          "scatter3d": [
           {
            "line": {
             "colorbar": {
              "outlinewidth": 0,
              "ticks": ""
             }
            },
            "marker": {
             "colorbar": {
              "outlinewidth": 0,
              "ticks": ""
             }
            },
            "type": "scatter3d"
           }
          ],
          "scattercarpet": [
           {
            "marker": {
             "colorbar": {
              "outlinewidth": 0,
              "ticks": ""
             }
            },
            "type": "scattercarpet"
           }
          ],
          "scattergeo": [
           {
            "marker": {
             "colorbar": {
              "outlinewidth": 0,
              "ticks": ""
             }
            },
            "type": "scattergeo"
           }
          ],
          "scattergl": [
           {
            "marker": {
             "colorbar": {
              "outlinewidth": 0,
              "ticks": ""
             }
            },
            "type": "scattergl"
           }
          ],
          "scattermapbox": [
           {
            "marker": {
             "colorbar": {
              "outlinewidth": 0,
              "ticks": ""
             }
            },
            "type": "scattermapbox"
           }
          ],
          "scatterpolar": [
           {
            "marker": {
             "colorbar": {
              "outlinewidth": 0,
              "ticks": ""
             }
            },
            "type": "scatterpolar"
           }
          ],
          "scatterpolargl": [
           {
            "marker": {
             "colorbar": {
              "outlinewidth": 0,
              "ticks": ""
             }
            },
            "type": "scatterpolargl"
           }
          ],
          "scatterternary": [
           {
            "marker": {
             "colorbar": {
              "outlinewidth": 0,
              "ticks": ""
             }
            },
            "type": "scatterternary"
           }
          ],
          "surface": [
           {
            "colorbar": {
             "outlinewidth": 0,
             "ticks": ""
            },
            "colorscale": [
             [
              0,
              "#0d0887"
             ],
             [
              0.1111111111111111,
              "#46039f"
             ],
             [
              0.2222222222222222,
              "#7201a8"
             ],
             [
              0.3333333333333333,
              "#9c179e"
             ],
             [
              0.4444444444444444,
              "#bd3786"
             ],
             [
              0.5555555555555556,
              "#d8576b"
             ],
             [
              0.6666666666666666,
              "#ed7953"
             ],
             [
              0.7777777777777778,
              "#fb9f3a"
             ],
             [
              0.8888888888888888,
              "#fdca26"
             ],
             [
              1,
              "#f0f921"
             ]
            ],
            "type": "surface"
           }
          ],
          "table": [
           {
            "cells": {
             "fill": {
              "color": "#EBF0F8"
             },
             "line": {
              "color": "white"
             }
            },
            "header": {
             "fill": {
              "color": "#C8D4E3"
             },
             "line": {
              "color": "white"
             }
            },
            "type": "table"
           }
          ]
         },
         "layout": {
          "annotationdefaults": {
           "arrowcolor": "#2a3f5f",
           "arrowhead": 0,
           "arrowwidth": 1
          },
          "coloraxis": {
           "colorbar": {
            "outlinewidth": 0,
            "ticks": ""
           }
          },
          "colorscale": {
           "diverging": [
            [
             0,
             "#8e0152"
            ],
            [
             0.1,
             "#c51b7d"
            ],
            [
             0.2,
             "#de77ae"
            ],
            [
             0.3,
             "#f1b6da"
            ],
            [
             0.4,
             "#fde0ef"
            ],
            [
             0.5,
             "#f7f7f7"
            ],
            [
             0.6,
             "#e6f5d0"
            ],
            [
             0.7,
             "#b8e186"
            ],
            [
             0.8,
             "#7fbc41"
            ],
            [
             0.9,
             "#4d9221"
            ],
            [
             1,
             "#276419"
            ]
           ],
           "sequential": [
            [
             0,
             "#0d0887"
            ],
            [
             0.1111111111111111,
             "#46039f"
            ],
            [
             0.2222222222222222,
             "#7201a8"
            ],
            [
             0.3333333333333333,
             "#9c179e"
            ],
            [
             0.4444444444444444,
             "#bd3786"
            ],
            [
             0.5555555555555556,
             "#d8576b"
            ],
            [
             0.6666666666666666,
             "#ed7953"
            ],
            [
             0.7777777777777778,
             "#fb9f3a"
            ],
            [
             0.8888888888888888,
             "#fdca26"
            ],
            [
             1,
             "#f0f921"
            ]
           ],
           "sequentialminus": [
            [
             0,
             "#0d0887"
            ],
            [
             0.1111111111111111,
             "#46039f"
            ],
            [
             0.2222222222222222,
             "#7201a8"
            ],
            [
             0.3333333333333333,
             "#9c179e"
            ],
            [
             0.4444444444444444,
             "#bd3786"
            ],
            [
             0.5555555555555556,
             "#d8576b"
            ],
            [
             0.6666666666666666,
             "#ed7953"
            ],
            [
             0.7777777777777778,
             "#fb9f3a"
            ],
            [
             0.8888888888888888,
             "#fdca26"
            ],
            [
             1,
             "#f0f921"
            ]
           ]
          },
          "colorway": [
           "#636efa",
           "#EF553B",
           "#00cc96",
           "#ab63fa",
           "#FFA15A",
           "#19d3f3",
           "#FF6692",
           "#B6E880",
           "#FF97FF",
           "#FECB52"
          ],
          "font": {
           "color": "#2a3f5f"
          },
          "geo": {
           "bgcolor": "white",
           "lakecolor": "white",
           "landcolor": "white",
           "showlakes": true,
           "showland": true,
           "subunitcolor": "#C8D4E3"
          },
          "hoverlabel": {
           "align": "left"
          },
          "hovermode": "closest",
          "mapbox": {
           "style": "light"
          },
          "paper_bgcolor": "white",
          "plot_bgcolor": "white",
          "polar": {
           "angularaxis": {
            "gridcolor": "#EBF0F8",
            "linecolor": "#EBF0F8",
            "ticks": ""
           },
           "bgcolor": "white",
           "radialaxis": {
            "gridcolor": "#EBF0F8",
            "linecolor": "#EBF0F8",
            "ticks": ""
           }
          },
          "scene": {
           "xaxis": {
            "backgroundcolor": "white",
            "gridcolor": "#DFE8F3",
            "gridwidth": 2,
            "linecolor": "#EBF0F8",
            "showbackground": true,
            "ticks": "",
            "zerolinecolor": "#EBF0F8"
           },
           "yaxis": {
            "backgroundcolor": "white",
            "gridcolor": "#DFE8F3",
            "gridwidth": 2,
            "linecolor": "#EBF0F8",
            "showbackground": true,
            "ticks": "",
            "zerolinecolor": "#EBF0F8"
           },
           "zaxis": {
            "backgroundcolor": "white",
            "gridcolor": "#DFE8F3",
            "gridwidth": 2,
            "linecolor": "#EBF0F8",
            "showbackground": true,
            "ticks": "",
            "zerolinecolor": "#EBF0F8"
           }
          },
          "shapedefaults": {
           "line": {
            "color": "#2a3f5f"
           }
          },
          "ternary": {
           "aaxis": {
            "gridcolor": "#DFE8F3",
            "linecolor": "#A2B1C6",
            "ticks": ""
           },
           "baxis": {
            "gridcolor": "#DFE8F3",
            "linecolor": "#A2B1C6",
            "ticks": ""
           },
           "bgcolor": "white",
           "caxis": {
            "gridcolor": "#DFE8F3",
            "linecolor": "#A2B1C6",
            "ticks": ""
           }
          },
          "title": {
           "x": 0.05
          },
          "xaxis": {
           "automargin": true,
           "gridcolor": "#EBF0F8",
           "linecolor": "#EBF0F8",
           "ticks": "",
           "title": {
            "standoff": 15
           },
           "zerolinecolor": "#EBF0F8",
           "zerolinewidth": 2
          },
          "yaxis": {
           "automargin": true,
           "gridcolor": "#EBF0F8",
           "linecolor": "#EBF0F8",
           "ticks": "",
           "title": {
            "standoff": 15
           },
           "zerolinecolor": "#EBF0F8",
           "zerolinewidth": 2
          }
         }
        },
        "xaxis": {
         "anchor": "y",
         "domain": [
          0,
          1
         ],
         "title": {
          "text": "num_known"
         }
        },
        "yaxis": {
         "anchor": "x",
         "domain": [
          0,
          1
         ],
         "title": {
          "text": "membership"
         },
         "type": "log"
        }
       }
      },
      "text/html": [
       "<div>\n",
       "        \n",
       "        \n",
       "            <div id=\"cfa70b60-ef4d-4e51-8fb9-434f22972efd\" class=\"plotly-graph-div\" style=\"height:1000px; width:100%;\"></div>\n",
       "            <script type=\"text/javascript\">\n",
       "                require([\"plotly\"], function(Plotly) {\n",
       "                    window.PLOTLYENV=window.PLOTLYENV || {};\n",
       "                    \n",
       "                if (document.getElementById(\"cfa70b60-ef4d-4e51-8fb9-434f22972efd\")) {\n",
       "                    Plotly.newPlot(\n",
       "                        'cfa70b60-ef4d-4e51-8fb9-434f22972efd',\n",
       "                        [{\"alignmentgroup\": \"True\", \"hoverlabel\": {\"namelength\": 0}, \"hovertemplate\": \"<b>%{hovertext}</b><br><br>num_known=%{x}<br>membership=%{y}\", \"hovertext\": [292.0, 120.0, 220.0, 219.0, 123.0, 217.0, 216.0, 215.0, 214.0, 119.0, 213.0, 131.0, 132.0, 133.0, 134.0, 135.0, 212.0, 211.0, 210.0, 130.0, 221.0, 222.0, 116.0, 93.0, 190.0, 95.0, 96.0, 231.0, 98.0, 99.0, 102.0, 228.0, 104.0, 106.0, 107.0, 108.0, 109.0, 110.0, 111.0, 226.0, 225.0, 223.0, 209.0, 140.0, 141.0, 208.0, 168.0, 169.0, 170.0, 195.0, 172.0, 173.0, 174.0, 175.0, 176.0, 177.0, 194.0, 179.0, 193.0, 181.0, 182.0, 183.0, 184.0, 192.0, 191.0, 167.0, 234.0, 166.0, 197.0, 144.0, 145.0, 206.0, 147.0, 149.0, 150.0, 151.0, 152.0, 204.0, 154.0, 203.0, 202.0, 201.0, 158.0, 200.0, 199.0, 161.0, 198.0, 163.0, 196.0, 90.0, 232.0, 236.0, 29.0, 266.0, 265.0, 263.0, 262.0, 35.0, 261.0, 37.0, 27.0, 38.0, 260.0, 41.0, 42.0, 259.0, 45.0, 256.0, 48.0, 255.0, 39.0, 254.0, 26.0, 24.0, 290.0, 289.0, 287.0, 286.0, 283.0, 280.0, 279.0, 278.0, 268.0, 277.0, 275.0, 274.0, 273.0, 272.0, 271.0, 270.0, 22.0, 269.0, 276.0, 51.0, 257.0, 53.0, 70.0, 253.0, 243.0, 74.0, 75.0, 76.0, 77.0, 69.0, 78.0, 239.0, 238.0, 83.0, 84.0, 237.0, 86.0, 87.0, 241.0, 244.0, 71.0, 189.0, 248.0, 251.0, 61.0, 250.0, 62.0, 55.0, 246.0, 252.0, 65.0, 66.0, 247.0, 58.0, 288.0, 233.0, 285.0, 284.0, 235.0, 282.0, 281.0, 264.0, 230.0, 229.0, 245.0, 207.0, 249.0, 227.0, 218.0, 205.0, 242.0, 267.0, 224.0, 258.0, 240.0, 146.0, 187.0, 57.0, 59.0, 60.0, 63.0, 64.0, 67.0, 68.0, 72.0, 188.0, 81.0, 85.0, 88.0, 92.0, 97.0, 101.0, 56.0, 103.0, 54.0, 47.0, 2.0, 3.0, 6.0, 11.0, 12.0, 13.0, 18.0, 25.0, 32.0, 33.0, 36.0, 40.0, 43.0, 44.0, 46.0, 52.0, 105.0, 79.0, 113.0, 143.0, 291.0, 148.0, 153.0, 155.0, 112.0, 157.0, 159.0, 160.0, 162.0, 164.0, 165.0, 171.0, 178.0, 180.0, 185.0, 186.0, 142.0, 138.0, 156.0, 124.0, 118.0, 121.0, 117.0, 122.0, 115.0, 125.0, 136.0, 114.0, 127.0, 128.0, 129.0, 100.0, 20.0, 10.0, 91.0, 1.0, 15.0, 17.0, 89.0, 4.0, 137.0, 0.0, 28.0, 30.0, 139.0, 31.0, 50.0, 82.0, 34.0, 80.0, 126.0, 73.0, 19.0, 49.0, 5.0, 9.0, 94.0, 14.0, 16.0, 7.0, 21.0, 8.0, 23.0], \"legendgroup\": \"\", \"marker\": {\"color\": \"#636efa\"}, \"name\": \"\", \"notched\": false, \"offsetgroup\": \"\", \"orientation\": \"v\", \"showlegend\": false, \"type\": \"box\", \"x\": [0, 0, 0, 0, 0, 0, 0, 0, 0, 0, 0, 0, 0, 0, 0, 0, 0, 0, 0, 0, 0, 0, 0, 0, 0, 0, 0, 0, 0, 0, 0, 0, 0, 0, 0, 0, 0, 0, 0, 0, 0, 0, 0, 0, 0, 0, 0, 0, 0, 0, 0, 0, 0, 0, 0, 0, 0, 0, 0, 0, 0, 0, 0, 0, 0, 0, 0, 0, 0, 0, 0, 0, 0, 0, 0, 0, 0, 0, 0, 0, 0, 0, 0, 0, 0, 0, 0, 0, 0, 0, 0, 0, 0, 0, 0, 0, 0, 0, 0, 0, 0, 0, 0, 0, 0, 0, 0, 0, 0, 0, 0, 0, 0, 0, 0, 0, 0, 0, 0, 0, 0, 0, 0, 0, 0, 0, 0, 0, 0, 0, 0, 0, 0, 0, 0, 0, 0, 0, 0, 0, 0, 0, 0, 0, 0, 0, 0, 0, 0, 0, 0, 0, 0, 0, 0, 0, 0, 0, 0, 0, 0, 0, 0, 0, 0, 0, 0, 0, 1, 1, 1, 1, 1, 1, 1, 1, 1, 1, 1, 1, 1, 1, 1, 1, 1, 1, 1, 1, 1, 1, 1, 1, 1, 1, 1, 1, 1, 1, 1, 1, 1, 1, 1, 1, 1, 1, 1, 1, 1, 1, 1, 1, 1, 1, 1, 1, 1, 1, 1, 1, 1, 1, 1, 1, 1, 1, 1, 1, 1, 1, 1, 1, 1, 1, 1, 1, 1, 1, 1, 1, 1, 1, 1, 1, 1, 1, 1, 1, 1, 1, 1, 1, 1, 1, 1, 1, 1, 1, 1, 1, 1, 2, 2, 2, 2, 2, 2, 2, 2, 2, 2, 2, 2, 2, 2, 2, 2, 2, 2, 2, 2, 2, 3, 3, 3, 3, 3, 3, 3, 3, 3, 4, 4], \"x0\": \" \", \"xaxis\": \"x\", \"y\": [2, 4, 2, 2, 4, 2, 2, 2, 2, 4, 2, 4, 4, 4, 4, 4, 2, 2, 2, 4, 2, 2, 4, 6, 3, 6, 5, 2, 5, 5, 5, 2, 5, 5, 5, 5, 5, 5, 5, 2, 2, 2, 2, 4, 4, 2, 3, 3, 3, 3, 3, 3, 3, 3, 3, 3, 3, 3, 3, 3, 3, 3, 3, 3, 3, 3, 2, 3, 2, 4, 4, 2, 3, 3, 3, 3, 3, 2, 3, 2, 2, 2, 3, 2, 2, 3, 2, 3, 3, 6, 2, 2, 15, 2, 2, 2, 2, 13, 2, 13, 15, 13, 2, 12, 11, 2, 10, 2, 10, 2, 13, 2, 16, 19, 2, 2, 2, 2, 2, 2, 2, 2, 2, 2, 2, 2, 2, 2, 2, 2, 21, 2, 2, 9, 2, 9, 7, 2, 2, 7, 7, 7, 7, 7, 7, 2, 2, 6, 6, 2, 6, 6, 2, 2, 7, 3, 2, 2, 8, 2, 8, 8, 2, 2, 7, 7, 2, 8, 2, 2, 2, 2, 2, 2, 2, 2, 2, 2, 2, 2, 2, 2, 2, 2, 2, 2, 2, 2, 2, 3, 3, 8, 8, 8, 8, 7, 7, 7, 7, 3, 6, 6, 6, 6, 5, 5, 8, 5, 8, 10, 77, 65, 41, 28, 27, 26, 24, 17, 14, 14, 13, 13, 11, 11, 10, 9, 5, 7, 5, 4, 2, 3, 3, 3, 5, 3, 3, 3, 3, 3, 3, 3, 3, 3, 3, 3, 4, 4, 3, 4, 4, 4, 4, 4, 4, 4, 4, 5, 4, 4, 4, 5, 21, 29, 6, 169, 25, 24, 6, 57, 4, 464, 15, 14, 4, 14, 9, 6, 13, 7, 4, 7, 23, 9, 57, 31, 6, 25, 25, 38, 21, 31, 20], \"y0\": \" \", \"yaxis\": \"y\"}],\n",
       "                        {\"boxmode\": \"group\", \"height\": 1000, \"legend\": {\"tracegroupgap\": 0}, \"margin\": {\"t\": 60}, \"template\": {\"data\": {\"bar\": [{\"error_x\": {\"color\": \"#2a3f5f\"}, \"error_y\": {\"color\": \"#2a3f5f\"}, \"marker\": {\"line\": {\"color\": \"white\", \"width\": 0.5}}, \"type\": \"bar\"}], \"barpolar\": [{\"marker\": {\"line\": {\"color\": \"white\", \"width\": 0.5}}, \"type\": \"barpolar\"}], \"carpet\": [{\"aaxis\": {\"endlinecolor\": \"#2a3f5f\", \"gridcolor\": \"#C8D4E3\", \"linecolor\": \"#C8D4E3\", \"minorgridcolor\": \"#C8D4E3\", \"startlinecolor\": \"#2a3f5f\"}, \"baxis\": {\"endlinecolor\": \"#2a3f5f\", \"gridcolor\": \"#C8D4E3\", \"linecolor\": \"#C8D4E3\", \"minorgridcolor\": \"#C8D4E3\", \"startlinecolor\": \"#2a3f5f\"}, \"type\": \"carpet\"}], \"choropleth\": [{\"colorbar\": {\"outlinewidth\": 0, \"ticks\": \"\"}, \"type\": \"choropleth\"}], \"contour\": [{\"colorbar\": {\"outlinewidth\": 0, \"ticks\": \"\"}, \"colorscale\": [[0.0, \"#0d0887\"], [0.1111111111111111, \"#46039f\"], [0.2222222222222222, \"#7201a8\"], [0.3333333333333333, \"#9c179e\"], [0.4444444444444444, \"#bd3786\"], [0.5555555555555556, \"#d8576b\"], [0.6666666666666666, \"#ed7953\"], [0.7777777777777778, \"#fb9f3a\"], [0.8888888888888888, \"#fdca26\"], [1.0, \"#f0f921\"]], \"type\": \"contour\"}], \"contourcarpet\": [{\"colorbar\": {\"outlinewidth\": 0, \"ticks\": \"\"}, \"type\": \"contourcarpet\"}], \"heatmap\": [{\"colorbar\": {\"outlinewidth\": 0, \"ticks\": \"\"}, \"colorscale\": [[0.0, \"#0d0887\"], [0.1111111111111111, \"#46039f\"], [0.2222222222222222, \"#7201a8\"], [0.3333333333333333, \"#9c179e\"], [0.4444444444444444, \"#bd3786\"], [0.5555555555555556, \"#d8576b\"], [0.6666666666666666, \"#ed7953\"], [0.7777777777777778, \"#fb9f3a\"], [0.8888888888888888, \"#fdca26\"], [1.0, \"#f0f921\"]], \"type\": \"heatmap\"}], \"heatmapgl\": [{\"colorbar\": {\"outlinewidth\": 0, \"ticks\": \"\"}, \"colorscale\": [[0.0, \"#0d0887\"], [0.1111111111111111, \"#46039f\"], [0.2222222222222222, \"#7201a8\"], [0.3333333333333333, \"#9c179e\"], [0.4444444444444444, \"#bd3786\"], [0.5555555555555556, \"#d8576b\"], [0.6666666666666666, \"#ed7953\"], [0.7777777777777778, \"#fb9f3a\"], [0.8888888888888888, \"#fdca26\"], [1.0, \"#f0f921\"]], \"type\": \"heatmapgl\"}], \"histogram\": [{\"marker\": {\"colorbar\": {\"outlinewidth\": 0, \"ticks\": \"\"}}, \"type\": \"histogram\"}], \"histogram2d\": [{\"colorbar\": {\"outlinewidth\": 0, \"ticks\": \"\"}, \"colorscale\": [[0.0, \"#0d0887\"], [0.1111111111111111, \"#46039f\"], [0.2222222222222222, \"#7201a8\"], [0.3333333333333333, \"#9c179e\"], [0.4444444444444444, \"#bd3786\"], [0.5555555555555556, \"#d8576b\"], [0.6666666666666666, \"#ed7953\"], [0.7777777777777778, \"#fb9f3a\"], [0.8888888888888888, \"#fdca26\"], [1.0, \"#f0f921\"]], \"type\": \"histogram2d\"}], \"histogram2dcontour\": [{\"colorbar\": {\"outlinewidth\": 0, \"ticks\": \"\"}, \"colorscale\": [[0.0, \"#0d0887\"], [0.1111111111111111, \"#46039f\"], [0.2222222222222222, \"#7201a8\"], [0.3333333333333333, \"#9c179e\"], [0.4444444444444444, \"#bd3786\"], [0.5555555555555556, \"#d8576b\"], [0.6666666666666666, \"#ed7953\"], [0.7777777777777778, \"#fb9f3a\"], [0.8888888888888888, \"#fdca26\"], [1.0, \"#f0f921\"]], \"type\": \"histogram2dcontour\"}], \"mesh3d\": [{\"colorbar\": {\"outlinewidth\": 0, \"ticks\": \"\"}, \"type\": \"mesh3d\"}], \"parcoords\": [{\"line\": {\"colorbar\": {\"outlinewidth\": 0, \"ticks\": \"\"}}, \"type\": \"parcoords\"}], \"pie\": [{\"automargin\": true, \"type\": \"pie\"}], \"scatter\": [{\"marker\": {\"colorbar\": {\"outlinewidth\": 0, \"ticks\": \"\"}}, \"type\": \"scatter\"}], \"scatter3d\": [{\"line\": {\"colorbar\": {\"outlinewidth\": 0, \"ticks\": \"\"}}, \"marker\": {\"colorbar\": {\"outlinewidth\": 0, \"ticks\": \"\"}}, \"type\": \"scatter3d\"}], \"scattercarpet\": [{\"marker\": {\"colorbar\": {\"outlinewidth\": 0, \"ticks\": \"\"}}, \"type\": \"scattercarpet\"}], \"scattergeo\": [{\"marker\": {\"colorbar\": {\"outlinewidth\": 0, \"ticks\": \"\"}}, \"type\": \"scattergeo\"}], \"scattergl\": [{\"marker\": {\"colorbar\": {\"outlinewidth\": 0, \"ticks\": \"\"}}, \"type\": \"scattergl\"}], \"scattermapbox\": [{\"marker\": {\"colorbar\": {\"outlinewidth\": 0, \"ticks\": \"\"}}, \"type\": \"scattermapbox\"}], \"scatterpolar\": [{\"marker\": {\"colorbar\": {\"outlinewidth\": 0, \"ticks\": \"\"}}, \"type\": \"scatterpolar\"}], \"scatterpolargl\": [{\"marker\": {\"colorbar\": {\"outlinewidth\": 0, \"ticks\": \"\"}}, \"type\": \"scatterpolargl\"}], \"scatterternary\": [{\"marker\": {\"colorbar\": {\"outlinewidth\": 0, \"ticks\": \"\"}}, \"type\": \"scatterternary\"}], \"surface\": [{\"colorbar\": {\"outlinewidth\": 0, \"ticks\": \"\"}, \"colorscale\": [[0.0, \"#0d0887\"], [0.1111111111111111, \"#46039f\"], [0.2222222222222222, \"#7201a8\"], [0.3333333333333333, \"#9c179e\"], [0.4444444444444444, \"#bd3786\"], [0.5555555555555556, \"#d8576b\"], [0.6666666666666666, \"#ed7953\"], [0.7777777777777778, \"#fb9f3a\"], [0.8888888888888888, \"#fdca26\"], [1.0, \"#f0f921\"]], \"type\": \"surface\"}], \"table\": [{\"cells\": {\"fill\": {\"color\": \"#EBF0F8\"}, \"line\": {\"color\": \"white\"}}, \"header\": {\"fill\": {\"color\": \"#C8D4E3\"}, \"line\": {\"color\": \"white\"}}, \"type\": \"table\"}]}, \"layout\": {\"annotationdefaults\": {\"arrowcolor\": \"#2a3f5f\", \"arrowhead\": 0, \"arrowwidth\": 1}, \"coloraxis\": {\"colorbar\": {\"outlinewidth\": 0, \"ticks\": \"\"}}, \"colorscale\": {\"diverging\": [[0, \"#8e0152\"], [0.1, \"#c51b7d\"], [0.2, \"#de77ae\"], [0.3, \"#f1b6da\"], [0.4, \"#fde0ef\"], [0.5, \"#f7f7f7\"], [0.6, \"#e6f5d0\"], [0.7, \"#b8e186\"], [0.8, \"#7fbc41\"], [0.9, \"#4d9221\"], [1, \"#276419\"]], \"sequential\": [[0.0, \"#0d0887\"], [0.1111111111111111, \"#46039f\"], [0.2222222222222222, \"#7201a8\"], [0.3333333333333333, \"#9c179e\"], [0.4444444444444444, \"#bd3786\"], [0.5555555555555556, \"#d8576b\"], [0.6666666666666666, \"#ed7953\"], [0.7777777777777778, \"#fb9f3a\"], [0.8888888888888888, \"#fdca26\"], [1.0, \"#f0f921\"]], \"sequentialminus\": [[0.0, \"#0d0887\"], [0.1111111111111111, \"#46039f\"], [0.2222222222222222, \"#7201a8\"], [0.3333333333333333, \"#9c179e\"], [0.4444444444444444, \"#bd3786\"], [0.5555555555555556, \"#d8576b\"], [0.6666666666666666, \"#ed7953\"], [0.7777777777777778, \"#fb9f3a\"], [0.8888888888888888, \"#fdca26\"], [1.0, \"#f0f921\"]]}, \"colorway\": [\"#636efa\", \"#EF553B\", \"#00cc96\", \"#ab63fa\", \"#FFA15A\", \"#19d3f3\", \"#FF6692\", \"#B6E880\", \"#FF97FF\", \"#FECB52\"], \"font\": {\"color\": \"#2a3f5f\"}, \"geo\": {\"bgcolor\": \"white\", \"lakecolor\": \"white\", \"landcolor\": \"white\", \"showlakes\": true, \"showland\": true, \"subunitcolor\": \"#C8D4E3\"}, \"hoverlabel\": {\"align\": \"left\"}, \"hovermode\": \"closest\", \"mapbox\": {\"style\": \"light\"}, \"paper_bgcolor\": \"white\", \"plot_bgcolor\": \"white\", \"polar\": {\"angularaxis\": {\"gridcolor\": \"#EBF0F8\", \"linecolor\": \"#EBF0F8\", \"ticks\": \"\"}, \"bgcolor\": \"white\", \"radialaxis\": {\"gridcolor\": \"#EBF0F8\", \"linecolor\": \"#EBF0F8\", \"ticks\": \"\"}}, \"scene\": {\"xaxis\": {\"backgroundcolor\": \"white\", \"gridcolor\": \"#DFE8F3\", \"gridwidth\": 2, \"linecolor\": \"#EBF0F8\", \"showbackground\": true, \"ticks\": \"\", \"zerolinecolor\": \"#EBF0F8\"}, \"yaxis\": {\"backgroundcolor\": \"white\", \"gridcolor\": \"#DFE8F3\", \"gridwidth\": 2, \"linecolor\": \"#EBF0F8\", \"showbackground\": true, \"ticks\": \"\", \"zerolinecolor\": \"#EBF0F8\"}, \"zaxis\": {\"backgroundcolor\": \"white\", \"gridcolor\": \"#DFE8F3\", \"gridwidth\": 2, \"linecolor\": \"#EBF0F8\", \"showbackground\": true, \"ticks\": \"\", \"zerolinecolor\": \"#EBF0F8\"}}, \"shapedefaults\": {\"line\": {\"color\": \"#2a3f5f\"}}, \"ternary\": {\"aaxis\": {\"gridcolor\": \"#DFE8F3\", \"linecolor\": \"#A2B1C6\", \"ticks\": \"\"}, \"baxis\": {\"gridcolor\": \"#DFE8F3\", \"linecolor\": \"#A2B1C6\", \"ticks\": \"\"}, \"bgcolor\": \"white\", \"caxis\": {\"gridcolor\": \"#DFE8F3\", \"linecolor\": \"#A2B1C6\", \"ticks\": \"\"}}, \"title\": {\"x\": 0.05}, \"xaxis\": {\"automargin\": true, \"gridcolor\": \"#EBF0F8\", \"linecolor\": \"#EBF0F8\", \"ticks\": \"\", \"title\": {\"standoff\": 15}, \"zerolinecolor\": \"#EBF0F8\", \"zerolinewidth\": 2}, \"yaxis\": {\"automargin\": true, \"gridcolor\": \"#EBF0F8\", \"linecolor\": \"#EBF0F8\", \"ticks\": \"\", \"title\": {\"standoff\": 15}, \"zerolinecolor\": \"#EBF0F8\", \"zerolinewidth\": 2}}}, \"xaxis\": {\"anchor\": \"y\", \"domain\": [0.0, 1.0], \"title\": {\"text\": \"num_known\"}}, \"yaxis\": {\"anchor\": \"x\", \"domain\": [0.0, 1.0], \"title\": {\"text\": \"membership\"}, \"type\": \"log\"}},\n",
       "                        {\"responsive\": true}\n",
       "                    ).then(function(){\n",
       "                            \n",
       "var gd = document.getElementById('cfa70b60-ef4d-4e51-8fb9-434f22972efd');\n",
       "var x = new MutationObserver(function (mutations, observer) {{\n",
       "        var display = window.getComputedStyle(gd).display;\n",
       "        if (!display || display === 'none') {{\n",
       "            console.log([gd, 'removed!']);\n",
       "            Plotly.purge(gd);\n",
       "            observer.disconnect();\n",
       "        }}\n",
       "}});\n",
       "\n",
       "// Listen for the removal of the full notebook cells\n",
       "var notebookContainer = gd.closest('#notebook-container');\n",
       "if (notebookContainer) {{\n",
       "    x.observe(notebookContainer, {childList: true});\n",
       "}}\n",
       "\n",
       "// Listen for the clearing of the current output cell\n",
       "var outputEl = gd.closest('.output');\n",
       "if (outputEl) {{\n",
       "    x.observe(outputEl, {childList: true});\n",
       "}}\n",
       "\n",
       "                        })\n",
       "                };\n",
       "                });\n",
       "            </script>\n",
       "        </div>"
      ]
     },
     "metadata": {},
     "output_type": "display_data"
    }
   ],
   "source": [
    "fig = px.box(\n",
    "    known_frame, x = 'num_known', y = 'membership',\n",
    "    log_y=True, hover_name='clique_idx'\n",
    ")\n",
    "\n",
    "fig.update_layout(height = 1000)"
   ]
  },
  {
   "cell_type": "code",
   "execution_count": 15,
   "metadata": {
    "ExecuteTime": {
     "end_time": "2020-07-08T16:34:03.453062Z",
     "start_time": "2020-07-08T16:34:03.428767Z"
    }
   },
   "outputs": [
    {
     "name": "stdout",
     "output_type": "stream",
     "text": [
      "Total Unknown Clique Motifs : 168 / 293 ( 0.573 )\n"
     ]
    }
   ],
   "source": [
    "num_unknown_motifs = (known_frame.num_known.astype(int) == 0).sum()\n",
    "total_cliques = known_frame.clique_idx.unique().size\n",
    "\n",
    "print(\n",
    "    \"Total Unknown Clique Motifs : {} / {} ( {:.3f} )\".\\\n",
    "    format(num_unknown_motifs, total_cliques, num_unknown_motifs/total_cliques)\n",
    ")\n",
    "\n",
    "# known_frame.clique_idx.unique().size"
   ]
  },
  {
   "cell_type": "code",
   "execution_count": 16,
   "metadata": {
    "ExecuteTime": {
     "end_time": "2020-07-08T16:34:05.444216Z",
     "start_time": "2020-07-08T16:34:05.407439Z"
    }
   },
   "outputs": [
    {
     "data": {
      "text/html": [
       "<div>\n",
       "<style scoped>\n",
       "    .dataframe tbody tr th:only-of-type {\n",
       "        vertical-align: middle;\n",
       "    }\n",
       "\n",
       "    .dataframe tbody tr th {\n",
       "        vertical-align: top;\n",
       "    }\n",
       "\n",
       "    .dataframe thead th {\n",
       "        text-align: right;\n",
       "    }\n",
       "</style>\n",
       "<table border=\"1\" class=\"dataframe\">\n",
       "  <thead>\n",
       "    <tr style=\"text-align: right;\">\n",
       "      <th></th>\n",
       "      <th>clique_idx</th>\n",
       "      <th>membership</th>\n",
       "      <th>agg_x</th>\n",
       "      <th>agg_y</th>\n",
       "      <th>qseqid</th>\n",
       "      <th>sequences</th>\n",
       "      <th>sseqid</th>\n",
       "      <th>num_known</th>\n",
       "      <th>joined_sequences</th>\n",
       "      <th>joined_epitopes</th>\n",
       "    </tr>\n",
       "  </thead>\n",
       "  <tbody>\n",
       "    <tr>\n",
       "      <th>42</th>\n",
       "      <td>42</td>\n",
       "      <td>11</td>\n",
       "      <td>0.622609</td>\n",
       "      <td>-0.371800</td>\n",
       "      <td>[]</td>\n",
       "      <td>[]</td>\n",
       "      <td>[]</td>\n",
       "      <td>0</td>\n",
       "      <td></td>\n",
       "      <td></td>\n",
       "    </tr>\n",
       "    <tr>\n",
       "      <th>41</th>\n",
       "      <td>41</td>\n",
       "      <td>12</td>\n",
       "      <td>-0.620587</td>\n",
       "      <td>-0.237495</td>\n",
       "      <td>[]</td>\n",
       "      <td>[]</td>\n",
       "      <td>[]</td>\n",
       "      <td>0</td>\n",
       "      <td></td>\n",
       "      <td></td>\n",
       "    </tr>\n",
       "    <tr>\n",
       "      <th>35</th>\n",
       "      <td>35</td>\n",
       "      <td>13</td>\n",
       "      <td>0.211972</td>\n",
       "      <td>-0.663392</td>\n",
       "      <td>[]</td>\n",
       "      <td>[]</td>\n",
       "      <td>[]</td>\n",
       "      <td>0</td>\n",
       "      <td></td>\n",
       "      <td></td>\n",
       "    </tr>\n",
       "    <tr>\n",
       "      <th>37</th>\n",
       "      <td>37</td>\n",
       "      <td>13</td>\n",
       "      <td>0.422244</td>\n",
       "      <td>0.224141</td>\n",
       "      <td>[]</td>\n",
       "      <td>[]</td>\n",
       "      <td>[]</td>\n",
       "      <td>0</td>\n",
       "      <td></td>\n",
       "      <td></td>\n",
       "    </tr>\n",
       "    <tr>\n",
       "      <th>38</th>\n",
       "      <td>38</td>\n",
       "      <td>13</td>\n",
       "      <td>0.535226</td>\n",
       "      <td>0.248323</td>\n",
       "      <td>[]</td>\n",
       "      <td>[]</td>\n",
       "      <td>[]</td>\n",
       "      <td>0</td>\n",
       "      <td></td>\n",
       "      <td></td>\n",
       "    </tr>\n",
       "    <tr>\n",
       "      <th>39</th>\n",
       "      <td>39</td>\n",
       "      <td>13</td>\n",
       "      <td>-0.520317</td>\n",
       "      <td>-0.477629</td>\n",
       "      <td>[]</td>\n",
       "      <td>[]</td>\n",
       "      <td>[]</td>\n",
       "      <td>0</td>\n",
       "      <td></td>\n",
       "      <td></td>\n",
       "    </tr>\n",
       "    <tr>\n",
       "      <th>29</th>\n",
       "      <td>29</td>\n",
       "      <td>15</td>\n",
       "      <td>-0.637808</td>\n",
       "      <td>0.192836</td>\n",
       "      <td>[]</td>\n",
       "      <td>[]</td>\n",
       "      <td>[]</td>\n",
       "      <td>0</td>\n",
       "      <td></td>\n",
       "      <td></td>\n",
       "    </tr>\n",
       "    <tr>\n",
       "      <th>27</th>\n",
       "      <td>27</td>\n",
       "      <td>15</td>\n",
       "      <td>0.105428</td>\n",
       "      <td>-0.585399</td>\n",
       "      <td>[]</td>\n",
       "      <td>[]</td>\n",
       "      <td>[]</td>\n",
       "      <td>0</td>\n",
       "      <td></td>\n",
       "      <td></td>\n",
       "    </tr>\n",
       "    <tr>\n",
       "      <th>26</th>\n",
       "      <td>26</td>\n",
       "      <td>16</td>\n",
       "      <td>-0.138100</td>\n",
       "      <td>0.359486</td>\n",
       "      <td>[]</td>\n",
       "      <td>[]</td>\n",
       "      <td>[]</td>\n",
       "      <td>0</td>\n",
       "      <td></td>\n",
       "      <td></td>\n",
       "    </tr>\n",
       "    <tr>\n",
       "      <th>24</th>\n",
       "      <td>24</td>\n",
       "      <td>19</td>\n",
       "      <td>0.055179</td>\n",
       "      <td>0.337752</td>\n",
       "      <td>[]</td>\n",
       "      <td>[]</td>\n",
       "      <td>[]</td>\n",
       "      <td>0</td>\n",
       "      <td></td>\n",
       "      <td></td>\n",
       "    </tr>\n",
       "    <tr>\n",
       "      <th>22</th>\n",
       "      <td>22</td>\n",
       "      <td>21</td>\n",
       "      <td>0.051838</td>\n",
       "      <td>-0.338244</td>\n",
       "      <td>[]</td>\n",
       "      <td>[]</td>\n",
       "      <td>[]</td>\n",
       "      <td>0</td>\n",
       "      <td></td>\n",
       "      <td></td>\n",
       "    </tr>\n",
       "  </tbody>\n",
       "</table>\n",
       "</div>"
      ],
      "text/plain": [
       "    clique_idx  membership     agg_x     agg_y qseqid sequences sseqid  \\\n",
       "42          42          11  0.622609 -0.371800     []        []     []   \n",
       "41          41          12 -0.620587 -0.237495     []        []     []   \n",
       "35          35          13  0.211972 -0.663392     []        []     []   \n",
       "37          37          13  0.422244  0.224141     []        []     []   \n",
       "38          38          13  0.535226  0.248323     []        []     []   \n",
       "39          39          13 -0.520317 -0.477629     []        []     []   \n",
       "29          29          15 -0.637808  0.192836     []        []     []   \n",
       "27          27          15  0.105428 -0.585399     []        []     []   \n",
       "26          26          16 -0.138100  0.359486     []        []     []   \n",
       "24          24          19  0.055179  0.337752     []        []     []   \n",
       "22          22          21  0.051838 -0.338244     []        []     []   \n",
       "\n",
       "    num_known joined_sequences joined_epitopes  \n",
       "42          0                                   \n",
       "41          0                                   \n",
       "35          0                                   \n",
       "37          0                                   \n",
       "38          0                                   \n",
       "39          0                                   \n",
       "29          0                                   \n",
       "27          0                                   \n",
       "26          0                                   \n",
       "24          0                                   \n",
       "22          0                                   "
      ]
     },
     "execution_count": 16,
     "metadata": {},
     "output_type": "execute_result"
    }
   ],
   "source": [
    "clique_motif_frame[\n",
    "    (clique_motif_frame.num_known == 0) & \n",
    "    (clique_motif_frame.membership > 10)\n",
    "].sort_values(\"membership\")"
   ]
  },
  {
   "cell_type": "markdown",
   "metadata": {},
   "source": [
    "# Motif Distribution"
   ]
  },
  {
   "cell_type": "code",
   "execution_count": 92,
   "metadata": {
    "ExecuteTime": {
     "end_time": "2020-07-08T22:16:27.404501Z",
     "start_time": "2020-07-08T22:16:27.363787Z"
    }
   },
   "outputs": [
    {
     "data": {
      "text/html": [
       "<div>\n",
       "<style scoped>\n",
       "    .dataframe tbody tr th:only-of-type {\n",
       "        vertical-align: middle;\n",
       "    }\n",
       "\n",
       "    .dataframe tbody tr th {\n",
       "        vertical-align: top;\n",
       "    }\n",
       "\n",
       "    .dataframe thead th {\n",
       "        text-align: right;\n",
       "    }\n",
       "</style>\n",
       "<table border=\"1\" class=\"dataframe\">\n",
       "  <thead>\n",
       "    <tr style=\"text-align: right;\">\n",
       "      <th></th>\n",
       "      <th>clique_idx</th>\n",
       "      <th>motif_id</th>\n",
       "      <th>evalue</th>\n",
       "      <th>seq</th>\n",
       "      <th>membership</th>\n",
       "    </tr>\n",
       "  </thead>\n",
       "  <tbody>\n",
       "    <tr>\n",
       "      <th>0</th>\n",
       "      <td>0</td>\n",
       "      <td>MEME-0</td>\n",
       "      <td>0.000000e+00</td>\n",
       "      <td>VIPEELVEEVIP</td>\n",
       "      <td>464</td>\n",
       "    </tr>\n",
       "    <tr>\n",
       "      <th>1</th>\n",
       "      <td>0</td>\n",
       "      <td>MEME-1</td>\n",
       "      <td>0.000000e+00</td>\n",
       "      <td>VVEEVVPEELVE</td>\n",
       "      <td>464</td>\n",
       "    </tr>\n",
       "    <tr>\n",
       "      <th>2</th>\n",
       "      <td>0</td>\n",
       "      <td>MEME-2</td>\n",
       "      <td>0.000000e+00</td>\n",
       "      <td>EVVEEVVPE</td>\n",
       "      <td>464</td>\n",
       "    </tr>\n",
       "    <tr>\n",
       "      <th>3</th>\n",
       "      <td>0</td>\n",
       "      <td>MEME-3</td>\n",
       "      <td>1.000000e-67</td>\n",
       "      <td>PEELVEE</td>\n",
       "      <td>464</td>\n",
       "    </tr>\n",
       "    <tr>\n",
       "      <th>4</th>\n",
       "      <td>0</td>\n",
       "      <td>MEME-4</td>\n",
       "      <td>5.500000e-53</td>\n",
       "      <td>EELVEEV</td>\n",
       "      <td>464</td>\n",
       "    </tr>\n",
       "    <tr>\n",
       "      <th>...</th>\n",
       "      <td>...</td>\n",
       "      <td>...</td>\n",
       "      <td>...</td>\n",
       "      <td>...</td>\n",
       "      <td>...</td>\n",
       "    </tr>\n",
       "    <tr>\n",
       "      <th>372</th>\n",
       "      <td>95</td>\n",
       "      <td>MEME-0</td>\n",
       "      <td>3.900000e-27</td>\n",
       "      <td>TINNLYVGDFY</td>\n",
       "      <td>6</td>\n",
       "    </tr>\n",
       "    <tr>\n",
       "      <th>373</th>\n",
       "      <td>95</td>\n",
       "      <td>MEME-1</td>\n",
       "      <td>2.400000e-07</td>\n",
       "      <td>QKKEYEK</td>\n",
       "      <td>6</td>\n",
       "    </tr>\n",
       "    <tr>\n",
       "      <th>374</th>\n",
       "      <td>97</td>\n",
       "      <td>MEME-0</td>\n",
       "      <td>1.400000e-107</td>\n",
       "      <td>NDKDIYNNM</td>\n",
       "      <td>5</td>\n",
       "    </tr>\n",
       "    <tr>\n",
       "      <th>375</th>\n",
       "      <td>98</td>\n",
       "      <td>MEME-0</td>\n",
       "      <td>1.600000e-60</td>\n",
       "      <td>DVDGENKKNGEH</td>\n",
       "      <td>5</td>\n",
       "    </tr>\n",
       "    <tr>\n",
       "      <th>376</th>\n",
       "      <td>99</td>\n",
       "      <td>MEME-0</td>\n",
       "      <td>2.300000e-105</td>\n",
       "      <td>VDEDNNNKY</td>\n",
       "      <td>5</td>\n",
       "    </tr>\n",
       "  </tbody>\n",
       "</table>\n",
       "<p>377 rows × 5 columns</p>\n",
       "</div>"
      ],
      "text/plain": [
       "     clique_idx motif_id         evalue           seq  membership\n",
       "0             0   MEME-0   0.000000e+00  VIPEELVEEVIP         464\n",
       "1             0   MEME-1   0.000000e+00  VVEEVVPEELVE         464\n",
       "2             0   MEME-2   0.000000e+00     EVVEEVVPE         464\n",
       "3             0   MEME-3   1.000000e-67       PEELVEE         464\n",
       "4             0   MEME-4   5.500000e-53       EELVEEV         464\n",
       "..          ...      ...            ...           ...         ...\n",
       "372          95   MEME-0   3.900000e-27   TINNLYVGDFY           6\n",
       "373          95   MEME-1   2.400000e-07       QKKEYEK           6\n",
       "374          97   MEME-0  1.400000e-107     NDKDIYNNM           5\n",
       "375          98   MEME-0   1.600000e-60  DVDGENKKNGEH           5\n",
       "376          99   MEME-0  2.300000e-105     VDEDNNNKY           5\n",
       "\n",
       "[377 rows x 5 columns]"
      ]
     },
     "execution_count": 92,
     "metadata": {},
     "output_type": "execute_result"
    }
   ],
   "source": [
    "import scipy\n",
    "\n",
    "motif_seq_frame = []\n",
    "\n",
    "for h, s in seqReader(motif_seq_fn):\n",
    "    _, clique_idx, motif_id, evalue = h.split(\"_\")\n",
    "    motif_seq_frame.append({\n",
    "        \"clique_idx\" : int(clique_idx),\n",
    "        \"motif_id\" : motif_id,\n",
    "        \"evalue\" : float(evalue),\n",
    "        \"seq\" : s\n",
    "    })\n",
    "    \n",
    "motif_seq_frame = pd.DataFrame(motif_seq_frame).merge(clique_motif_frame[[\"clique_idx\", \"membership\"]])\n",
    "motif_seq_frame"
   ]
  },
  {
   "cell_type": "markdown",
   "metadata": {},
   "source": [
    "## Plot Correlation of membership and discovered motifs"
   ]
  },
  {
   "cell_type": "code",
   "execution_count": 93,
   "metadata": {
    "ExecuteTime": {
     "end_time": "2020-07-08T22:16:30.132948Z",
     "start_time": "2020-07-08T22:16:29.586874Z"
    }
   },
   "outputs": [
    {
     "data": {
      "application/vnd.plotly.v1+json": {
       "config": {
        "plotlyServerURL": "https://plot.ly"
       },
       "data": [
        {
         "hoverlabel": {
          "namelength": 0
         },
         "hovertemplate": "membership=%{x}<br>n_motifs=%{y}",
         "legendgroup": "",
         "marker": {
          "color": "#636efa",
          "symbol": "circle"
         },
         "mode": "markers",
         "name": "",
         "showlegend": false,
         "type": "scatter",
         "x": [
          464,
          169,
          77,
          65,
          57,
          57,
          41,
          38,
          31,
          31,
          29,
          28,
          27,
          26,
          25,
          25,
          25,
          24,
          24,
          23,
          21,
          21,
          21,
          20,
          19,
          17,
          16,
          15,
          15,
          15,
          14,
          14,
          14,
          14,
          13,
          13,
          13,
          13,
          13,
          13,
          13,
          12,
          11,
          11,
          11,
          10,
          10,
          10,
          10,
          9,
          9,
          9,
          9,
          9,
          8,
          8,
          8,
          8,
          8,
          8,
          8,
          8,
          8,
          8,
          7,
          7,
          7,
          7,
          7,
          7,
          7,
          7,
          7,
          7,
          7,
          7,
          7,
          7,
          7,
          7,
          7,
          6,
          6,
          6,
          6,
          6,
          6,
          6,
          6,
          6,
          6,
          6,
          6,
          6,
          6,
          6,
          5,
          5,
          5,
          5,
          5,
          5,
          5,
          5,
          5,
          5,
          5,
          5,
          5,
          5,
          5,
          5,
          4,
          4,
          4,
          4,
          4,
          4,
          4,
          4,
          4,
          4,
          4,
          4,
          4,
          4,
          4,
          4,
          4,
          4,
          4,
          4,
          4,
          4,
          4,
          4,
          4,
          4,
          4,
          4,
          3,
          3,
          3,
          3,
          3,
          3,
          3,
          3,
          3,
          3,
          3,
          3,
          3,
          3,
          3,
          3,
          3,
          3,
          3,
          3,
          3,
          3,
          3,
          3,
          3,
          3,
          3,
          3,
          3,
          3,
          3,
          3,
          3,
          3,
          2,
          2,
          2,
          2,
          2,
          2,
          2,
          2,
          2,
          2,
          2,
          2,
          2,
          2,
          2,
          2,
          2,
          2,
          2,
          2,
          2,
          2,
          2,
          2,
          2,
          2,
          2,
          2,
          2,
          2,
          2,
          2,
          2,
          2,
          2,
          2,
          2,
          2,
          2,
          2,
          2
         ],
         "xaxis": "x",
         "y": [
          5,
          12,
          5,
          5,
          3,
          4,
          3,
          3,
          5,
          8,
          5,
          2,
          4,
          2,
          4,
          5,
          6,
          2,
          5,
          3,
          3,
          3,
          2,
          5,
          2,
          1,
          1,
          4,
          2,
          3,
          2,
          4,
          4,
          2,
          2,
          2,
          2,
          1,
          2,
          2,
          1,
          2,
          2,
          2,
          3,
          1,
          2,
          2,
          1,
          3,
          2,
          1,
          2,
          1,
          2,
          2,
          1,
          3,
          1,
          1,
          1,
          2,
          2,
          2,
          1,
          2,
          1,
          1,
          2,
          1,
          1,
          1,
          1,
          3,
          1,
          1,
          1,
          1,
          2,
          2,
          2,
          1,
          2,
          2,
          1,
          2,
          2,
          2,
          2,
          2,
          1,
          2,
          3,
          1,
          4,
          2,
          1,
          1,
          1,
          2,
          2,
          1,
          1,
          1,
          1,
          2,
          1,
          1,
          1,
          2,
          2,
          1,
          2,
          2,
          1,
          1,
          1,
          1,
          1,
          1,
          1,
          1,
          2,
          2,
          1,
          1,
          2,
          2,
          1,
          1,
          2,
          1,
          2,
          1,
          2,
          1,
          1,
          3,
          1,
          2,
          1,
          1,
          1,
          1,
          1,
          3,
          1,
          1,
          1,
          1,
          2,
          1,
          1,
          1,
          1,
          1,
          1,
          1,
          1,
          2,
          1,
          1,
          1,
          1,
          1,
          1,
          1,
          1,
          1,
          1,
          1,
          2,
          1,
          1,
          1,
          1,
          1,
          1,
          1,
          1,
          1,
          1,
          1,
          1,
          1,
          1,
          1,
          1,
          1,
          1,
          2,
          1,
          1,
          1,
          1,
          1,
          1,
          1,
          1,
          1,
          1,
          1,
          1,
          1,
          1,
          1,
          1,
          1,
          1,
          1,
          1,
          1,
          1,
          1,
          1
         ],
         "yaxis": "y"
        }
       ],
       "layout": {
        "legend": {
         "tracegroupgap": 0
        },
        "margin": {
         "t": 60
        },
        "template": {
         "data": {
          "bar": [
           {
            "error_x": {
             "color": "#2a3f5f"
            },
            "error_y": {
             "color": "#2a3f5f"
            },
            "marker": {
             "line": {
              "color": "white",
              "width": 0.5
             }
            },
            "type": "bar"
           }
          ],
          "barpolar": [
           {
            "marker": {
             "line": {
              "color": "white",
              "width": 0.5
             }
            },
            "type": "barpolar"
           }
          ],
          "carpet": [
           {
            "aaxis": {
             "endlinecolor": "#2a3f5f",
             "gridcolor": "#C8D4E3",
             "linecolor": "#C8D4E3",
             "minorgridcolor": "#C8D4E3",
             "startlinecolor": "#2a3f5f"
            },
            "baxis": {
             "endlinecolor": "#2a3f5f",
             "gridcolor": "#C8D4E3",
             "linecolor": "#C8D4E3",
             "minorgridcolor": "#C8D4E3",
             "startlinecolor": "#2a3f5f"
            },
            "type": "carpet"
           }
          ],
          "choropleth": [
           {
            "colorbar": {
             "outlinewidth": 0,
             "ticks": ""
            },
            "type": "choropleth"
           }
          ],
          "contour": [
           {
            "colorbar": {
             "outlinewidth": 0,
             "ticks": ""
            },
            "colorscale": [
             [
              0,
              "#0d0887"
             ],
             [
              0.1111111111111111,
              "#46039f"
             ],
             [
              0.2222222222222222,
              "#7201a8"
             ],
             [
              0.3333333333333333,
              "#9c179e"
             ],
             [
              0.4444444444444444,
              "#bd3786"
             ],
             [
              0.5555555555555556,
              "#d8576b"
             ],
             [
              0.6666666666666666,
              "#ed7953"
             ],
             [
              0.7777777777777778,
              "#fb9f3a"
             ],
             [
              0.8888888888888888,
              "#fdca26"
             ],
             [
              1,
              "#f0f921"
             ]
            ],
            "type": "contour"
           }
          ],
          "contourcarpet": [
           {
            "colorbar": {
             "outlinewidth": 0,
             "ticks": ""
            },
            "type": "contourcarpet"
           }
          ],
          "heatmap": [
           {
            "colorbar": {
             "outlinewidth": 0,
             "ticks": ""
            },
            "colorscale": [
             [
              0,
              "#0d0887"
             ],
             [
              0.1111111111111111,
              "#46039f"
             ],
             [
              0.2222222222222222,
              "#7201a8"
             ],
             [
              0.3333333333333333,
              "#9c179e"
             ],
             [
              0.4444444444444444,
              "#bd3786"
             ],
             [
              0.5555555555555556,
              "#d8576b"
             ],
             [
              0.6666666666666666,
              "#ed7953"
             ],
             [
              0.7777777777777778,
              "#fb9f3a"
             ],
             [
              0.8888888888888888,
              "#fdca26"
             ],
             [
              1,
              "#f0f921"
             ]
            ],
            "type": "heatmap"
           }
          ],
          "heatmapgl": [
           {
            "colorbar": {
             "outlinewidth": 0,
             "ticks": ""
            },
            "colorscale": [
             [
              0,
              "#0d0887"
             ],
             [
              0.1111111111111111,
              "#46039f"
             ],
             [
              0.2222222222222222,
              "#7201a8"
             ],
             [
              0.3333333333333333,
              "#9c179e"
             ],
             [
              0.4444444444444444,
              "#bd3786"
             ],
             [
              0.5555555555555556,
              "#d8576b"
             ],
             [
              0.6666666666666666,
              "#ed7953"
             ],
             [
              0.7777777777777778,
              "#fb9f3a"
             ],
             [
              0.8888888888888888,
              "#fdca26"
             ],
             [
              1,
              "#f0f921"
             ]
            ],
            "type": "heatmapgl"
           }
          ],
          "histogram": [
           {
            "marker": {
             "colorbar": {
              "outlinewidth": 0,
              "ticks": ""
             }
            },
            "type": "histogram"
           }
          ],
          "histogram2d": [
           {
            "colorbar": {
             "outlinewidth": 0,
             "ticks": ""
            },
            "colorscale": [
             [
              0,
              "#0d0887"
             ],
             [
              0.1111111111111111,
              "#46039f"
             ],
             [
              0.2222222222222222,
              "#7201a8"
             ],
             [
              0.3333333333333333,
              "#9c179e"
             ],
             [
              0.4444444444444444,
              "#bd3786"
             ],
             [
              0.5555555555555556,
              "#d8576b"
             ],
             [
              0.6666666666666666,
              "#ed7953"
             ],
             [
              0.7777777777777778,
              "#fb9f3a"
             ],
             [
              0.8888888888888888,
              "#fdca26"
             ],
             [
              1,
              "#f0f921"
             ]
            ],
            "type": "histogram2d"
           }
          ],
          "histogram2dcontour": [
           {
            "colorbar": {
             "outlinewidth": 0,
             "ticks": ""
            },
            "colorscale": [
             [
              0,
              "#0d0887"
             ],
             [
              0.1111111111111111,
              "#46039f"
             ],
             [
              0.2222222222222222,
              "#7201a8"
             ],
             [
              0.3333333333333333,
              "#9c179e"
             ],
             [
              0.4444444444444444,
              "#bd3786"
             ],
             [
              0.5555555555555556,
              "#d8576b"
             ],
             [
              0.6666666666666666,
              "#ed7953"
             ],
             [
              0.7777777777777778,
              "#fb9f3a"
             ],
             [
              0.8888888888888888,
              "#fdca26"
             ],
             [
              1,
              "#f0f921"
             ]
            ],
            "type": "histogram2dcontour"
           }
          ],
          "mesh3d": [
           {
            "colorbar": {
             "outlinewidth": 0,
             "ticks": ""
            },
            "type": "mesh3d"
           }
          ],
          "parcoords": [
           {
            "line": {
             "colorbar": {
              "outlinewidth": 0,
              "ticks": ""
             }
            },
            "type": "parcoords"
           }
          ],
          "pie": [
           {
            "automargin": true,
            "type": "pie"
           }
          ],
          "scatter": [
           {
            "marker": {
             "colorbar": {
              "outlinewidth": 0,
              "ticks": ""
             }
            },
            "type": "scatter"
           }
          ],
          "scatter3d": [
           {
            "line": {
             "colorbar": {
              "outlinewidth": 0,
              "ticks": ""
             }
            },
            "marker": {
             "colorbar": {
              "outlinewidth": 0,
              "ticks": ""
             }
            },
            "type": "scatter3d"
           }
          ],
          "scattercarpet": [
           {
            "marker": {
             "colorbar": {
              "outlinewidth": 0,
              "ticks": ""
             }
            },
            "type": "scattercarpet"
           }
          ],
          "scattergeo": [
           {
            "marker": {
             "colorbar": {
              "outlinewidth": 0,
              "ticks": ""
             }
            },
            "type": "scattergeo"
           }
          ],
          "scattergl": [
           {
            "marker": {
             "colorbar": {
              "outlinewidth": 0,
              "ticks": ""
             }
            },
            "type": "scattergl"
           }
          ],
          "scattermapbox": [
           {
            "marker": {
             "colorbar": {
              "outlinewidth": 0,
              "ticks": ""
             }
            },
            "type": "scattermapbox"
           }
          ],
          "scatterpolar": [
           {
            "marker": {
             "colorbar": {
              "outlinewidth": 0,
              "ticks": ""
             }
            },
            "type": "scatterpolar"
           }
          ],
          "scatterpolargl": [
           {
            "marker": {
             "colorbar": {
              "outlinewidth": 0,
              "ticks": ""
             }
            },
            "type": "scatterpolargl"
           }
          ],
          "scatterternary": [
           {
            "marker": {
             "colorbar": {
              "outlinewidth": 0,
              "ticks": ""
             }
            },
            "type": "scatterternary"
           }
          ],
          "surface": [
           {
            "colorbar": {
             "outlinewidth": 0,
             "ticks": ""
            },
            "colorscale": [
             [
              0,
              "#0d0887"
             ],
             [
              0.1111111111111111,
              "#46039f"
             ],
             [
              0.2222222222222222,
              "#7201a8"
             ],
             [
              0.3333333333333333,
              "#9c179e"
             ],
             [
              0.4444444444444444,
              "#bd3786"
             ],
             [
              0.5555555555555556,
              "#d8576b"
             ],
             [
              0.6666666666666666,
              "#ed7953"
             ],
             [
              0.7777777777777778,
              "#fb9f3a"
             ],
             [
              0.8888888888888888,
              "#fdca26"
             ],
             [
              1,
              "#f0f921"
             ]
            ],
            "type": "surface"
           }
          ],
          "table": [
           {
            "cells": {
             "fill": {
              "color": "#EBF0F8"
             },
             "line": {
              "color": "white"
             }
            },
            "header": {
             "fill": {
              "color": "#C8D4E3"
             },
             "line": {
              "color": "white"
             }
            },
            "type": "table"
           }
          ]
         },
         "layout": {
          "annotationdefaults": {
           "arrowcolor": "#2a3f5f",
           "arrowhead": 0,
           "arrowwidth": 1
          },
          "coloraxis": {
           "colorbar": {
            "outlinewidth": 0,
            "ticks": ""
           }
          },
          "colorscale": {
           "diverging": [
            [
             0,
             "#8e0152"
            ],
            [
             0.1,
             "#c51b7d"
            ],
            [
             0.2,
             "#de77ae"
            ],
            [
             0.3,
             "#f1b6da"
            ],
            [
             0.4,
             "#fde0ef"
            ],
            [
             0.5,
             "#f7f7f7"
            ],
            [
             0.6,
             "#e6f5d0"
            ],
            [
             0.7,
             "#b8e186"
            ],
            [
             0.8,
             "#7fbc41"
            ],
            [
             0.9,
             "#4d9221"
            ],
            [
             1,
             "#276419"
            ]
           ],
           "sequential": [
            [
             0,
             "#0d0887"
            ],
            [
             0.1111111111111111,
             "#46039f"
            ],
            [
             0.2222222222222222,
             "#7201a8"
            ],
            [
             0.3333333333333333,
             "#9c179e"
            ],
            [
             0.4444444444444444,
             "#bd3786"
            ],
            [
             0.5555555555555556,
             "#d8576b"
            ],
            [
             0.6666666666666666,
             "#ed7953"
            ],
            [
             0.7777777777777778,
             "#fb9f3a"
            ],
            [
             0.8888888888888888,
             "#fdca26"
            ],
            [
             1,
             "#f0f921"
            ]
           ],
           "sequentialminus": [
            [
             0,
             "#0d0887"
            ],
            [
             0.1111111111111111,
             "#46039f"
            ],
            [
             0.2222222222222222,
             "#7201a8"
            ],
            [
             0.3333333333333333,
             "#9c179e"
            ],
            [
             0.4444444444444444,
             "#bd3786"
            ],
            [
             0.5555555555555556,
             "#d8576b"
            ],
            [
             0.6666666666666666,
             "#ed7953"
            ],
            [
             0.7777777777777778,
             "#fb9f3a"
            ],
            [
             0.8888888888888888,
             "#fdca26"
            ],
            [
             1,
             "#f0f921"
            ]
           ]
          },
          "colorway": [
           "#636efa",
           "#EF553B",
           "#00cc96",
           "#ab63fa",
           "#FFA15A",
           "#19d3f3",
           "#FF6692",
           "#B6E880",
           "#FF97FF",
           "#FECB52"
          ],
          "font": {
           "color": "#2a3f5f"
          },
          "geo": {
           "bgcolor": "white",
           "lakecolor": "white",
           "landcolor": "white",
           "showlakes": true,
           "showland": true,
           "subunitcolor": "#C8D4E3"
          },
          "hoverlabel": {
           "align": "left"
          },
          "hovermode": "closest",
          "mapbox": {
           "style": "light"
          },
          "paper_bgcolor": "white",
          "plot_bgcolor": "white",
          "polar": {
           "angularaxis": {
            "gridcolor": "#EBF0F8",
            "linecolor": "#EBF0F8",
            "ticks": ""
           },
           "bgcolor": "white",
           "radialaxis": {
            "gridcolor": "#EBF0F8",
            "linecolor": "#EBF0F8",
            "ticks": ""
           }
          },
          "scene": {
           "xaxis": {
            "backgroundcolor": "white",
            "gridcolor": "#DFE8F3",
            "gridwidth": 2,
            "linecolor": "#EBF0F8",
            "showbackground": true,
            "ticks": "",
            "zerolinecolor": "#EBF0F8"
           },
           "yaxis": {
            "backgroundcolor": "white",
            "gridcolor": "#DFE8F3",
            "gridwidth": 2,
            "linecolor": "#EBF0F8",
            "showbackground": true,
            "ticks": "",
            "zerolinecolor": "#EBF0F8"
           },
           "zaxis": {
            "backgroundcolor": "white",
            "gridcolor": "#DFE8F3",
            "gridwidth": 2,
            "linecolor": "#EBF0F8",
            "showbackground": true,
            "ticks": "",
            "zerolinecolor": "#EBF0F8"
           }
          },
          "shapedefaults": {
           "line": {
            "color": "#2a3f5f"
           }
          },
          "ternary": {
           "aaxis": {
            "gridcolor": "#DFE8F3",
            "linecolor": "#A2B1C6",
            "ticks": ""
           },
           "baxis": {
            "gridcolor": "#DFE8F3",
            "linecolor": "#A2B1C6",
            "ticks": ""
           },
           "bgcolor": "white",
           "caxis": {
            "gridcolor": "#DFE8F3",
            "linecolor": "#A2B1C6",
            "ticks": ""
           }
          },
          "title": {
           "x": 0.05
          },
          "xaxis": {
           "automargin": true,
           "gridcolor": "#EBF0F8",
           "linecolor": "#EBF0F8",
           "ticks": "",
           "title": {
            "standoff": 15
           },
           "zerolinecolor": "#EBF0F8",
           "zerolinewidth": 2
          },
          "yaxis": {
           "automargin": true,
           "gridcolor": "#EBF0F8",
           "linecolor": "#EBF0F8",
           "ticks": "",
           "title": {
            "standoff": 15
           },
           "zerolinecolor": "#EBF0F8",
           "zerolinewidth": 2
          }
         }
        },
        "xaxis": {
         "anchor": "y",
         "domain": [
          0,
          1
         ],
         "title": {
          "text": "membership"
         },
         "type": "log"
        },
        "yaxis": {
         "anchor": "x",
         "domain": [
          0,
          1
         ],
         "title": {
          "text": "n_motifs"
         }
        }
       }
      },
      "text/html": [
       "<div>\n",
       "        \n",
       "        \n",
       "            <div id=\"f4bc97e1-8cde-4c04-8d9d-420f323854c1\" class=\"plotly-graph-div\" style=\"height:525px; width:100%;\"></div>\n",
       "            <script type=\"text/javascript\">\n",
       "                require([\"plotly\"], function(Plotly) {\n",
       "                    window.PLOTLYENV=window.PLOTLYENV || {};\n",
       "                    \n",
       "                if (document.getElementById(\"f4bc97e1-8cde-4c04-8d9d-420f323854c1\")) {\n",
       "                    Plotly.newPlot(\n",
       "                        'f4bc97e1-8cde-4c04-8d9d-420f323854c1',\n",
       "                        [{\"hoverlabel\": {\"namelength\": 0}, \"hovertemplate\": \"membership=%{x}<br>n_motifs=%{y}\", \"legendgroup\": \"\", \"marker\": {\"color\": \"#636efa\", \"symbol\": \"circle\"}, \"mode\": \"markers\", \"name\": \"\", \"showlegend\": false, \"type\": \"scatter\", \"x\": [464, 169, 77, 65, 57, 57, 41, 38, 31, 31, 29, 28, 27, 26, 25, 25, 25, 24, 24, 23, 21, 21, 21, 20, 19, 17, 16, 15, 15, 15, 14, 14, 14, 14, 13, 13, 13, 13, 13, 13, 13, 12, 11, 11, 11, 10, 10, 10, 10, 9, 9, 9, 9, 9, 8, 8, 8, 8, 8, 8, 8, 8, 8, 8, 7, 7, 7, 7, 7, 7, 7, 7, 7, 7, 7, 7, 7, 7, 7, 7, 7, 6, 6, 6, 6, 6, 6, 6, 6, 6, 6, 6, 6, 6, 6, 6, 5, 5, 5, 5, 5, 5, 5, 5, 5, 5, 5, 5, 5, 5, 5, 5, 4, 4, 4, 4, 4, 4, 4, 4, 4, 4, 4, 4, 4, 4, 4, 4, 4, 4, 4, 4, 4, 4, 4, 4, 4, 4, 4, 4, 3, 3, 3, 3, 3, 3, 3, 3, 3, 3, 3, 3, 3, 3, 3, 3, 3, 3, 3, 3, 3, 3, 3, 3, 3, 3, 3, 3, 3, 3, 3, 3, 3, 3, 2, 2, 2, 2, 2, 2, 2, 2, 2, 2, 2, 2, 2, 2, 2, 2, 2, 2, 2, 2, 2, 2, 2, 2, 2, 2, 2, 2, 2, 2, 2, 2, 2, 2, 2, 2, 2, 2, 2, 2, 2], \"xaxis\": \"x\", \"y\": [5, 12, 5, 5, 3, 4, 3, 3, 5, 8, 5, 2, 4, 2, 4, 5, 6, 2, 5, 3, 3, 3, 2, 5, 2, 1, 1, 4, 2, 3, 2, 4, 4, 2, 2, 2, 2, 1, 2, 2, 1, 2, 2, 2, 3, 1, 2, 2, 1, 3, 2, 1, 2, 1, 2, 2, 1, 3, 1, 1, 1, 2, 2, 2, 1, 2, 1, 1, 2, 1, 1, 1, 1, 3, 1, 1, 1, 1, 2, 2, 2, 1, 2, 2, 1, 2, 2, 2, 2, 2, 1, 2, 3, 1, 4, 2, 1, 1, 1, 2, 2, 1, 1, 1, 1, 2, 1, 1, 1, 2, 2, 1, 2, 2, 1, 1, 1, 1, 1, 1, 1, 1, 2, 2, 1, 1, 2, 2, 1, 1, 2, 1, 2, 1, 2, 1, 1, 3, 1, 2, 1, 1, 1, 1, 1, 3, 1, 1, 1, 1, 2, 1, 1, 1, 1, 1, 1, 1, 1, 2, 1, 1, 1, 1, 1, 1, 1, 1, 1, 1, 1, 2, 1, 1, 1, 1, 1, 1, 1, 1, 1, 1, 1, 1, 1, 1, 1, 1, 1, 1, 2, 1, 1, 1, 1, 1, 1, 1, 1, 1, 1, 1, 1, 1, 1, 1, 1, 1, 1, 1, 1, 1, 1, 1, 1], \"yaxis\": \"y\"}],\n",
       "                        {\"legend\": {\"tracegroupgap\": 0}, \"margin\": {\"t\": 60}, \"template\": {\"data\": {\"bar\": [{\"error_x\": {\"color\": \"#2a3f5f\"}, \"error_y\": {\"color\": \"#2a3f5f\"}, \"marker\": {\"line\": {\"color\": \"white\", \"width\": 0.5}}, \"type\": \"bar\"}], \"barpolar\": [{\"marker\": {\"line\": {\"color\": \"white\", \"width\": 0.5}}, \"type\": \"barpolar\"}], \"carpet\": [{\"aaxis\": {\"endlinecolor\": \"#2a3f5f\", \"gridcolor\": \"#C8D4E3\", \"linecolor\": \"#C8D4E3\", \"minorgridcolor\": \"#C8D4E3\", \"startlinecolor\": \"#2a3f5f\"}, \"baxis\": {\"endlinecolor\": \"#2a3f5f\", \"gridcolor\": \"#C8D4E3\", \"linecolor\": \"#C8D4E3\", \"minorgridcolor\": \"#C8D4E3\", \"startlinecolor\": \"#2a3f5f\"}, \"type\": \"carpet\"}], \"choropleth\": [{\"colorbar\": {\"outlinewidth\": 0, \"ticks\": \"\"}, \"type\": \"choropleth\"}], \"contour\": [{\"colorbar\": {\"outlinewidth\": 0, \"ticks\": \"\"}, \"colorscale\": [[0.0, \"#0d0887\"], [0.1111111111111111, \"#46039f\"], [0.2222222222222222, \"#7201a8\"], [0.3333333333333333, \"#9c179e\"], [0.4444444444444444, \"#bd3786\"], [0.5555555555555556, \"#d8576b\"], [0.6666666666666666, \"#ed7953\"], [0.7777777777777778, \"#fb9f3a\"], [0.8888888888888888, \"#fdca26\"], [1.0, \"#f0f921\"]], \"type\": \"contour\"}], \"contourcarpet\": [{\"colorbar\": {\"outlinewidth\": 0, \"ticks\": \"\"}, \"type\": \"contourcarpet\"}], \"heatmap\": [{\"colorbar\": {\"outlinewidth\": 0, \"ticks\": \"\"}, \"colorscale\": [[0.0, \"#0d0887\"], [0.1111111111111111, \"#46039f\"], [0.2222222222222222, \"#7201a8\"], [0.3333333333333333, \"#9c179e\"], [0.4444444444444444, \"#bd3786\"], [0.5555555555555556, \"#d8576b\"], [0.6666666666666666, \"#ed7953\"], [0.7777777777777778, \"#fb9f3a\"], [0.8888888888888888, \"#fdca26\"], [1.0, \"#f0f921\"]], \"type\": \"heatmap\"}], \"heatmapgl\": [{\"colorbar\": {\"outlinewidth\": 0, \"ticks\": \"\"}, \"colorscale\": [[0.0, \"#0d0887\"], [0.1111111111111111, \"#46039f\"], [0.2222222222222222, \"#7201a8\"], [0.3333333333333333, \"#9c179e\"], [0.4444444444444444, \"#bd3786\"], [0.5555555555555556, \"#d8576b\"], [0.6666666666666666, \"#ed7953\"], [0.7777777777777778, \"#fb9f3a\"], [0.8888888888888888, \"#fdca26\"], [1.0, \"#f0f921\"]], \"type\": \"heatmapgl\"}], \"histogram\": [{\"marker\": {\"colorbar\": {\"outlinewidth\": 0, \"ticks\": \"\"}}, \"type\": \"histogram\"}], \"histogram2d\": [{\"colorbar\": {\"outlinewidth\": 0, \"ticks\": \"\"}, \"colorscale\": [[0.0, \"#0d0887\"], [0.1111111111111111, \"#46039f\"], [0.2222222222222222, \"#7201a8\"], [0.3333333333333333, \"#9c179e\"], [0.4444444444444444, \"#bd3786\"], [0.5555555555555556, \"#d8576b\"], [0.6666666666666666, \"#ed7953\"], [0.7777777777777778, \"#fb9f3a\"], [0.8888888888888888, \"#fdca26\"], [1.0, \"#f0f921\"]], \"type\": \"histogram2d\"}], \"histogram2dcontour\": [{\"colorbar\": {\"outlinewidth\": 0, \"ticks\": \"\"}, \"colorscale\": [[0.0, \"#0d0887\"], [0.1111111111111111, \"#46039f\"], [0.2222222222222222, \"#7201a8\"], [0.3333333333333333, \"#9c179e\"], [0.4444444444444444, \"#bd3786\"], [0.5555555555555556, \"#d8576b\"], [0.6666666666666666, \"#ed7953\"], [0.7777777777777778, \"#fb9f3a\"], [0.8888888888888888, \"#fdca26\"], [1.0, \"#f0f921\"]], \"type\": \"histogram2dcontour\"}], \"mesh3d\": [{\"colorbar\": {\"outlinewidth\": 0, \"ticks\": \"\"}, \"type\": \"mesh3d\"}], \"parcoords\": [{\"line\": {\"colorbar\": {\"outlinewidth\": 0, \"ticks\": \"\"}}, \"type\": \"parcoords\"}], \"pie\": [{\"automargin\": true, \"type\": \"pie\"}], \"scatter\": [{\"marker\": {\"colorbar\": {\"outlinewidth\": 0, \"ticks\": \"\"}}, \"type\": \"scatter\"}], \"scatter3d\": [{\"line\": {\"colorbar\": {\"outlinewidth\": 0, \"ticks\": \"\"}}, \"marker\": {\"colorbar\": {\"outlinewidth\": 0, \"ticks\": \"\"}}, \"type\": \"scatter3d\"}], \"scattercarpet\": [{\"marker\": {\"colorbar\": {\"outlinewidth\": 0, \"ticks\": \"\"}}, \"type\": \"scattercarpet\"}], \"scattergeo\": [{\"marker\": {\"colorbar\": {\"outlinewidth\": 0, \"ticks\": \"\"}}, \"type\": \"scattergeo\"}], \"scattergl\": [{\"marker\": {\"colorbar\": {\"outlinewidth\": 0, \"ticks\": \"\"}}, \"type\": \"scattergl\"}], \"scattermapbox\": [{\"marker\": {\"colorbar\": {\"outlinewidth\": 0, \"ticks\": \"\"}}, \"type\": \"scattermapbox\"}], \"scatterpolar\": [{\"marker\": {\"colorbar\": {\"outlinewidth\": 0, \"ticks\": \"\"}}, \"type\": \"scatterpolar\"}], \"scatterpolargl\": [{\"marker\": {\"colorbar\": {\"outlinewidth\": 0, \"ticks\": \"\"}}, \"type\": \"scatterpolargl\"}], \"scatterternary\": [{\"marker\": {\"colorbar\": {\"outlinewidth\": 0, \"ticks\": \"\"}}, \"type\": \"scatterternary\"}], \"surface\": [{\"colorbar\": {\"outlinewidth\": 0, \"ticks\": \"\"}, \"colorscale\": [[0.0, \"#0d0887\"], [0.1111111111111111, \"#46039f\"], [0.2222222222222222, \"#7201a8\"], [0.3333333333333333, \"#9c179e\"], [0.4444444444444444, \"#bd3786\"], [0.5555555555555556, \"#d8576b\"], [0.6666666666666666, \"#ed7953\"], [0.7777777777777778, \"#fb9f3a\"], [0.8888888888888888, \"#fdca26\"], [1.0, \"#f0f921\"]], \"type\": \"surface\"}], \"table\": [{\"cells\": {\"fill\": {\"color\": \"#EBF0F8\"}, \"line\": {\"color\": \"white\"}}, \"header\": {\"fill\": {\"color\": \"#C8D4E3\"}, \"line\": {\"color\": \"white\"}}, \"type\": \"table\"}]}, \"layout\": {\"annotationdefaults\": {\"arrowcolor\": \"#2a3f5f\", \"arrowhead\": 0, \"arrowwidth\": 1}, \"coloraxis\": {\"colorbar\": {\"outlinewidth\": 0, \"ticks\": \"\"}}, \"colorscale\": {\"diverging\": [[0, \"#8e0152\"], [0.1, \"#c51b7d\"], [0.2, \"#de77ae\"], [0.3, \"#f1b6da\"], [0.4, \"#fde0ef\"], [0.5, \"#f7f7f7\"], [0.6, \"#e6f5d0\"], [0.7, \"#b8e186\"], [0.8, \"#7fbc41\"], [0.9, \"#4d9221\"], [1, \"#276419\"]], \"sequential\": [[0.0, \"#0d0887\"], [0.1111111111111111, \"#46039f\"], [0.2222222222222222, \"#7201a8\"], [0.3333333333333333, \"#9c179e\"], [0.4444444444444444, \"#bd3786\"], [0.5555555555555556, \"#d8576b\"], [0.6666666666666666, \"#ed7953\"], [0.7777777777777778, \"#fb9f3a\"], [0.8888888888888888, \"#fdca26\"], [1.0, \"#f0f921\"]], \"sequentialminus\": [[0.0, \"#0d0887\"], [0.1111111111111111, \"#46039f\"], [0.2222222222222222, \"#7201a8\"], [0.3333333333333333, \"#9c179e\"], [0.4444444444444444, \"#bd3786\"], [0.5555555555555556, \"#d8576b\"], [0.6666666666666666, \"#ed7953\"], [0.7777777777777778, \"#fb9f3a\"], [0.8888888888888888, \"#fdca26\"], [1.0, \"#f0f921\"]]}, \"colorway\": [\"#636efa\", \"#EF553B\", \"#00cc96\", \"#ab63fa\", \"#FFA15A\", \"#19d3f3\", \"#FF6692\", \"#B6E880\", \"#FF97FF\", \"#FECB52\"], \"font\": {\"color\": \"#2a3f5f\"}, \"geo\": {\"bgcolor\": \"white\", \"lakecolor\": \"white\", \"landcolor\": \"white\", \"showlakes\": true, \"showland\": true, \"subunitcolor\": \"#C8D4E3\"}, \"hoverlabel\": {\"align\": \"left\"}, \"hovermode\": \"closest\", \"mapbox\": {\"style\": \"light\"}, \"paper_bgcolor\": \"white\", \"plot_bgcolor\": \"white\", \"polar\": {\"angularaxis\": {\"gridcolor\": \"#EBF0F8\", \"linecolor\": \"#EBF0F8\", \"ticks\": \"\"}, \"bgcolor\": \"white\", \"radialaxis\": {\"gridcolor\": \"#EBF0F8\", \"linecolor\": \"#EBF0F8\", \"ticks\": \"\"}}, \"scene\": {\"xaxis\": {\"backgroundcolor\": \"white\", \"gridcolor\": \"#DFE8F3\", \"gridwidth\": 2, \"linecolor\": \"#EBF0F8\", \"showbackground\": true, \"ticks\": \"\", \"zerolinecolor\": \"#EBF0F8\"}, \"yaxis\": {\"backgroundcolor\": \"white\", \"gridcolor\": \"#DFE8F3\", \"gridwidth\": 2, \"linecolor\": \"#EBF0F8\", \"showbackground\": true, \"ticks\": \"\", \"zerolinecolor\": \"#EBF0F8\"}, \"zaxis\": {\"backgroundcolor\": \"white\", \"gridcolor\": \"#DFE8F3\", \"gridwidth\": 2, \"linecolor\": \"#EBF0F8\", \"showbackground\": true, \"ticks\": \"\", \"zerolinecolor\": \"#EBF0F8\"}}, \"shapedefaults\": {\"line\": {\"color\": \"#2a3f5f\"}}, \"ternary\": {\"aaxis\": {\"gridcolor\": \"#DFE8F3\", \"linecolor\": \"#A2B1C6\", \"ticks\": \"\"}, \"baxis\": {\"gridcolor\": \"#DFE8F3\", \"linecolor\": \"#A2B1C6\", \"ticks\": \"\"}, \"bgcolor\": \"white\", \"caxis\": {\"gridcolor\": \"#DFE8F3\", \"linecolor\": \"#A2B1C6\", \"ticks\": \"\"}}, \"title\": {\"x\": 0.05}, \"xaxis\": {\"automargin\": true, \"gridcolor\": \"#EBF0F8\", \"linecolor\": \"#EBF0F8\", \"ticks\": \"\", \"title\": {\"standoff\": 15}, \"zerolinecolor\": \"#EBF0F8\", \"zerolinewidth\": 2}, \"yaxis\": {\"automargin\": true, \"gridcolor\": \"#EBF0F8\", \"linecolor\": \"#EBF0F8\", \"ticks\": \"\", \"title\": {\"standoff\": 15}, \"zerolinecolor\": \"#EBF0F8\", \"zerolinewidth\": 2}}}, \"xaxis\": {\"anchor\": \"y\", \"domain\": [0.0, 1.0], \"title\": {\"text\": \"membership\"}, \"type\": \"log\"}, \"yaxis\": {\"anchor\": \"x\", \"domain\": [0.0, 1.0], \"title\": {\"text\": \"n_motifs\"}}},\n",
       "                        {\"responsive\": true}\n",
       "                    ).then(function(){\n",
       "                            \n",
       "var gd = document.getElementById('f4bc97e1-8cde-4c04-8d9d-420f323854c1');\n",
       "var x = new MutationObserver(function (mutations, observer) {{\n",
       "        var display = window.getComputedStyle(gd).display;\n",
       "        if (!display || display === 'none') {{\n",
       "            console.log([gd, 'removed!']);\n",
       "            Plotly.purge(gd);\n",
       "            observer.disconnect();\n",
       "        }}\n",
       "}});\n",
       "\n",
       "// Listen for the removal of the full notebook cells\n",
       "var notebookContainer = gd.closest('#notebook-container');\n",
       "if (notebookContainer) {{\n",
       "    x.observe(notebookContainer, {childList: true});\n",
       "}}\n",
       "\n",
       "// Listen for the clearing of the current output cell\n",
       "var outputEl = gd.closest('.output');\n",
       "if (outputEl) {{\n",
       "    x.observe(outputEl, {childList: true});\n",
       "}}\n",
       "\n",
       "                        })\n",
       "                };\n",
       "                });\n",
       "            </script>\n",
       "        </div>"
      ]
     },
     "metadata": {},
     "output_type": "display_data"
    }
   ],
   "source": [
    "n_motifs_frame = motif_seq_frame.\\\n",
    "    groupby([\"clique_idx\", \"membership\"]).\\\n",
    "    apply(lambda x : pd.Series({\"n_motifs\" : x.shape[0]})).\\\n",
    "    reset_index()\n",
    "\n",
    "px.scatter(\n",
    "    n_motifs_frame, x = 'membership', y = \"n_motifs\",\n",
    "    log_x = True\n",
    ")"
   ]
  },
  {
   "cell_type": "markdown",
   "metadata": {},
   "source": [
    "## Distribution of E-Value with Motif Rank"
   ]
  },
  {
   "cell_type": "code",
   "execution_count": 94,
   "metadata": {
    "ExecuteTime": {
     "end_time": "2020-07-08T22:16:30.757898Z",
     "start_time": "2020-07-08T22:16:30.526956Z"
    }
   },
   "outputs": [
    {
     "data": {
      "application/vnd.plotly.v1+json": {
       "config": {
        "plotlyServerURL": "https://plot.ly"
       },
       "data": [
        {
         "alignmentgroup": "True",
         "boxpoints": "all",
         "hoverlabel": {
          "namelength": 0
         },
         "hovertemplate": "motif_id=%{x}<br>evalue=%{y}",
         "legendgroup": "",
         "marker": {
          "color": "#636efa"
         },
         "name": "",
         "notched": false,
         "offsetgroup": "",
         "orientation": "v",
         "showlegend": false,
         "type": "box",
         "x": [
          "MEME-0",
          "MEME-1",
          "MEME-2",
          "MEME-3",
          "MEME-4",
          "MEME-0",
          "MEME-1",
          "MEME-2",
          "MEME-3",
          "MEME-4",
          "MEME-5",
          "MEME-6",
          "MEME-7",
          "MEME-8",
          "MEME-9",
          "MEME-10",
          "MEME-11",
          "MEME-0",
          "MEME-1",
          "MEME-2",
          "MEME-3",
          "MEME-4",
          "MEME-0",
          "MEME-1",
          "MEME-0",
          "MEME-1",
          "MEME-0",
          "MEME-0",
          "MEME-0",
          "MEME-0",
          "MEME-0",
          "MEME-1",
          "MEME-0",
          "MEME-0",
          "MEME-0",
          "MEME-0",
          "MEME-1",
          "MEME-0",
          "MEME-1",
          "MEME-0",
          "MEME-1",
          "MEME-0",
          "MEME-0",
          "MEME-1",
          "MEME-0",
          "MEME-1",
          "MEME-0",
          "MEME-0",
          "MEME-0",
          "MEME-0",
          "MEME-1",
          "MEME-2",
          "MEME-3",
          "MEME-0",
          "MEME-0",
          "MEME-0",
          "MEME-0",
          "MEME-0",
          "MEME-0",
          "MEME-1",
          "MEME-0",
          "MEME-1",
          "MEME-0",
          "MEME-0",
          "MEME-0",
          "MEME-1",
          "MEME-0",
          "MEME-1",
          "MEME-0",
          "MEME-1",
          "MEME-0",
          "MEME-0",
          "MEME-0",
          "MEME-1",
          "MEME-0",
          "MEME-0",
          "MEME-1",
          "MEME-0",
          "MEME-0",
          "MEME-1",
          "MEME-0",
          "MEME-1",
          "MEME-2",
          "MEME-3",
          "MEME-0",
          "MEME-0",
          "MEME-0",
          "MEME-1",
          "MEME-2",
          "MEME-0",
          "MEME-0",
          "MEME-1",
          "MEME-0",
          "MEME-0",
          "MEME-0",
          "MEME-1",
          "MEME-2",
          "MEME-3",
          "MEME-4",
          "MEME-0",
          "MEME-0",
          "MEME-0",
          "MEME-0",
          "MEME-1",
          "MEME-2",
          "MEME-0",
          "MEME-0",
          "MEME-0",
          "MEME-0",
          "MEME-0",
          "MEME-1",
          "MEME-0",
          "MEME-1",
          "MEME-2",
          "MEME-3",
          "MEME-4",
          "MEME-5",
          "MEME-0",
          "MEME-0",
          "MEME-0",
          "MEME-0",
          "MEME-0",
          "MEME-0",
          "MEME-0",
          "MEME-0",
          "MEME-1",
          "MEME-0",
          "MEME-0",
          "MEME-1",
          "MEME-0",
          "MEME-0",
          "MEME-0",
          "MEME-0",
          "MEME-0",
          "MEME-1",
          "MEME-2",
          "MEME-3",
          "MEME-4",
          "MEME-0",
          "MEME-0",
          "MEME-0",
          "MEME-0",
          "MEME-0",
          "MEME-0",
          "MEME-0",
          "MEME-0",
          "MEME-1",
          "MEME-0",
          "MEME-0",
          "MEME-1",
          "MEME-2",
          "MEME-0",
          "MEME-0",
          "MEME-0",
          "MEME-1",
          "MEME-2",
          "MEME-3",
          "MEME-4",
          "MEME-0",
          "MEME-1",
          "MEME-2",
          "MEME-0",
          "MEME-0",
          "MEME-0",
          "MEME-0",
          "MEME-1",
          "MEME-2",
          "MEME-0",
          "MEME-0",
          "MEME-1",
          "MEME-0",
          "MEME-0",
          "MEME-0",
          "MEME-0",
          "MEME-0",
          "MEME-0",
          "MEME-1",
          "MEME-2",
          "MEME-3",
          "MEME-4",
          "MEME-0",
          "MEME-0",
          "MEME-0",
          "MEME-0",
          "MEME-0",
          "MEME-0",
          "MEME-0",
          "MEME-1",
          "MEME-0",
          "MEME-1",
          "MEME-0",
          "MEME-0",
          "MEME-0",
          "MEME-0",
          "MEME-0",
          "MEME-0",
          "MEME-0",
          "MEME-0",
          "MEME-0",
          "MEME-0",
          "MEME-0",
          "MEME-0",
          "MEME-0",
          "MEME-0",
          "MEME-0",
          "MEME-0",
          "MEME-0",
          "MEME-0",
          "MEME-1",
          "MEME-2",
          "MEME-3",
          "MEME-0",
          "MEME-0",
          "MEME-1",
          "MEME-0",
          "MEME-0",
          "MEME-0",
          "MEME-0",
          "MEME-0",
          "MEME-0",
          "MEME-0",
          "MEME-1",
          "MEME-2",
          "MEME-0",
          "MEME-0",
          "MEME-0",
          "MEME-1",
          "MEME-2",
          "MEME-3",
          "MEME-4",
          "MEME-0",
          "MEME-1",
          "MEME-0",
          "MEME-1",
          "MEME-2",
          "MEME-3",
          "MEME-0",
          "MEME-1",
          "MEME-2",
          "MEME-3",
          "MEME-0",
          "MEME-1",
          "MEME-0",
          "MEME-1",
          "MEME-0",
          "MEME-1",
          "MEME-0",
          "MEME-1",
          "MEME-0",
          "MEME-0",
          "MEME-1",
          "MEME-0",
          "MEME-1",
          "MEME-0",
          "MEME-1",
          "MEME-2",
          "MEME-0",
          "MEME-0",
          "MEME-1",
          "MEME-0",
          "MEME-1",
          "MEME-0",
          "MEME-1",
          "MEME-0",
          "MEME-1",
          "MEME-2",
          "MEME-0",
          "MEME-0",
          "MEME-1",
          "MEME-0",
          "MEME-1",
          "MEME-0",
          "MEME-0",
          "MEME-1",
          "MEME-2",
          "MEME-0",
          "MEME-1",
          "MEME-2",
          "MEME-3",
          "MEME-0",
          "MEME-1",
          "MEME-0",
          "MEME-0",
          "MEME-1",
          "MEME-0",
          "MEME-0",
          "MEME-1",
          "MEME-0",
          "MEME-1",
          "MEME-0",
          "MEME-0",
          "MEME-1",
          "MEME-2",
          "MEME-0",
          "MEME-0",
          "MEME-0",
          "MEME-1",
          "MEME-2",
          "MEME-0",
          "MEME-0",
          "MEME-1",
          "MEME-0",
          "MEME-1",
          "MEME-0",
          "MEME-1",
          "MEME-0",
          "MEME-0",
          "MEME-1",
          "MEME-0",
          "MEME-0",
          "MEME-0",
          "MEME-1",
          "MEME-0",
          "MEME-0",
          "MEME-1",
          "MEME-2",
          "MEME-0",
          "MEME-0",
          "MEME-0",
          "MEME-0",
          "MEME-1",
          "MEME-2",
          "MEME-0",
          "MEME-0",
          "MEME-0",
          "MEME-0",
          "MEME-0",
          "MEME-1",
          "MEME-0",
          "MEME-1",
          "MEME-0",
          "MEME-1",
          "MEME-2",
          "MEME-3",
          "MEME-4",
          "MEME-0",
          "MEME-1",
          "MEME-0",
          "MEME-0",
          "MEME-1",
          "MEME-0",
          "MEME-1",
          "MEME-0",
          "MEME-0",
          "MEME-1",
          "MEME-0",
          "MEME-1",
          "MEME-0",
          "MEME-1",
          "MEME-0",
          "MEME-1",
          "MEME-0",
          "MEME-1",
          "MEME-0",
          "MEME-1",
          "MEME-2",
          "MEME-3",
          "MEME-4",
          "MEME-5",
          "MEME-6",
          "MEME-7",
          "MEME-0",
          "MEME-0",
          "MEME-1",
          "MEME-0",
          "MEME-1",
          "MEME-2",
          "MEME-0",
          "MEME-0",
          "MEME-1",
          "MEME-2",
          "MEME-3",
          "MEME-0",
          "MEME-1",
          "MEME-0",
          "MEME-0",
          "MEME-0"
         ],
         "x0": " ",
         "xaxis": "x",
         "y": [
          0,
          0,
          0,
          1e-67,
          5.5e-53,
          0,
          0,
          0,
          0,
          2.4e-274,
          1.8e-97,
          6.4e-92,
          6.3e-24,
          2.8e-13,
          3.3e-11,
          6.8e-08,
          1.5e-06,
          0,
          1.6e-101,
          2.2e-69,
          2.7e-31,
          2.2e-07,
          1.4e-22,
          3.4e-13,
          3.8e-36,
          1.1e-08,
          3.3e-100,
          1.8e-66,
          5.3e-15,
          2.1e-82,
          2.5e-11,
          6.8e-07,
          2.8e-08,
          6.1e-81,
          1.9e-110,
          0,
          3.5e-27,
          7.9e-29,
          2.4e-12,
          9.1e-45,
          4.5e-06,
          3.2e-33,
          5.5e-26,
          1.9e-16,
          2.7e-09,
          1.4e-06,
          3.7e-45,
          1.5e-17,
          2.7e-14,
          0,
          7.5e-36,
          1.1e-27,
          4.2e-06,
          2.8e-10,
          1.6e-22,
          4.6e-21,
          3.6e-26,
          6.1e-77,
          1.7e-29,
          1.2e-08,
          1.8e-20,
          4.5e-06,
          6.1e-132,
          1.9e-32,
          1.7e-22,
          9.2e-20,
          0,
          1.6e-284,
          5.3e-14,
          2.4e-10,
          3.9e-09,
          7.7e-17,
          1.1e-66,
          4.7e-14,
          2.3e-22,
          3.1e-36,
          6.8e-06,
          5e-10,
          3.1e-16,
          7.4e-09,
          0,
          6.2e-91,
          1.2e-44,
          1.6e-14,
          1.6e-36,
          5.5e-22,
          1.7e-15,
          1.1e-08,
          8e-06,
          1.1e-09,
          9.1e-18,
          9.9e-08,
          3.1e-07,
          1.5e-58,
          2.4e-279,
          4e-44,
          2e-23,
          1.5e-22,
          6.7e-20,
          2.5e-09,
          3.9e-13,
          8e-15,
          2.4e-44,
          3e-12,
          2.3e-06,
          2e-07,
          1.1e-07,
          1.1e-11,
          1.3e-12,
          7.9e-31,
          2.4e-07,
          2.5e-260,
          1.4e-159,
          6.2e-80,
          9.9e-32,
          3.5e-27,
          1e-10,
          6.9e-85,
          6e-17,
          9.5e-07,
          2.7e-12,
          1.8e-14,
          2.3e-08,
          1.9e-08,
          2.8e-214,
          1.3e-38,
          3.7e-42,
          2.5e-21,
          8.8e-11,
          2.2e-129,
          1e-13,
          6.3e-64,
          3.2e-22,
          1.7e-202,
          3.1e-90,
          1.8e-47,
          3.8e-22,
          7.7e-10,
          1.5e-21,
          2.5e-43,
          1.5e-76,
          2.3e-39,
          2.4e-10,
          8.8e-15,
          2.2e-16,
          1.3e-17,
          4.4e-08,
          6.4e-08,
          0,
          4.9e-48,
          1.3e-19,
          7.7e-22,
          1.2e-15,
          0,
          0,
          2.5e-299,
          4.8e-67,
          2.2e-48,
          3.3e-201,
          4.4e-07,
          1.4e-06,
          1.1e-43,
          1.9e-34,
          5.6e-21,
          5.4e-304,
          2.2e-52,
          1.6e-26,
          7.6e-42,
          2.3e-72,
          6.2e-06,
          8.1e-10,
          2.6e-09,
          6.2e-21,
          1.8e-12,
          4.5e-06,
          5.8e-125,
          1.2e-25,
          1.8e-11,
          9e-09,
          1.7e-07,
          5.6e-16,
          1.7e-06,
          2.3e-14,
          3.8e-07,
          4e-08,
          3.9e-10,
          3.3e-23,
          6.9e-08,
          0,
          2.4e-09,
          3.4e-08,
          4.8e-47,
          1.8e-10,
          9.1e-08,
          6.7e-14,
          1.3e-15,
          5.5e-24,
          0,
          1e-06,
          2.9e-20,
          4.2e-06,
          2.1e-13,
          1.5e-239,
          1.4e-22,
          1e-28,
          2e-34,
          1e-06,
          6.2e-160,
          2e-15,
          2.8e-16,
          3e-12,
          4.3e-20,
          3e-198,
          4.3e-101,
          6.2e-10,
          9.7e-07,
          1.5e-31,
          7.9e-13,
          2.8e-14,
          3.6e-10,
          1.1e-289,
          5.7e-123,
          2.1e-40,
          5.3e-23,
          2.9e-08,
          0,
          6.5e-135,
          3.4e-58,
          5.1e-27,
          3.7e-10,
          0,
          1.8e-76,
          2.7e-143,
          1.3e-56,
          3e-09,
          4.4e-09,
          1.8e-90,
          6.9e-12,
          7.8e-07,
          1.5e-09,
          6.8e-310,
          7e-135,
          1.3e-230,
          5.1e-14,
          8.4e-284,
          7.5e-16,
          4.1e-57,
          6.9e-12,
          7.8e-245,
          2.9e-257,
          1.6e-07,
          6.2e-203,
          1.7e-15,
          0,
          4e-144,
          2.2e-11,
          9.3e-211,
          0,
          5e-12,
          1.5e-255,
          1e-16,
          8.5e-192,
          2e-06,
          6e-77,
          8.4e-19,
          2.5e-10,
          2.5e-12,
          4.7e-301,
          1.7e-60,
          3.2e-107,
          2.6e-18,
          4e-81,
          4e-91,
          8.7e-53,
          4e-11,
          0,
          7.8e-321,
          9.6e-50,
          7.8e-23,
          2.7e-33,
          7.2e-06,
          0,
          4.5e-193,
          6.5e-13,
          6.3e-182,
          3.3e-142,
          3.3e-30,
          7.8e-234,
          1.4e-111,
          2.4e-233,
          4.5e-53,
          9.7e-14,
          4.3e-12,
          3.5e-27,
          5.4e-89,
          0,
          2.2e-227,
          1.7e-16,
          1.1e-186,
          3.7e-158,
          1.2e-07,
          9.2e-110,
          2.4e-53,
          3.4e-36,
          1.4e-20,
          8.7e-45,
          2e-199,
          5.1e-08,
          4.3e-101,
          6.3e-161,
          1.8e-110,
          8.6e-11,
          9.4e-179,
          0,
          1.9e-77,
          9.7e-07,
          1.6e-64,
          7.9e-211,
          6e-107,
          6.3e-54,
          8.7e-12,
          8.6e-06,
          2.7e-117,
          8.6e-53,
          4.1e-47,
          6.4e-150,
          9.8e-245,
          9.7e-15,
          1e-23,
          1.3e-13,
          0,
          5.1e-265,
          1.6e-88,
          1.2e-84,
          5.7e-40,
          6e-52,
          3e-13,
          7.5e-132,
          1.9e-15,
          1.5e-06,
          1.3e-101,
          1.3e-06,
          2.1e-23,
          2.8e-68,
          9.3e-07,
          1.5e-172,
          9.3e-14,
          8.7e-64,
          1.5e-11,
          3.1e-42,
          3.4e-09,
          1.7e-29,
          4.3e-10,
          8.9e-232,
          2.8e-160,
          2.2e-68,
          7.2e-62,
          1.2e-22,
          3.7e-20,
          8.7e-16,
          8.5e-06,
          4e-27,
          1.8e-51,
          1.2e-09,
          1.7e-45,
          7.8e-12,
          5.9e-09,
          1.2e-36,
          2e-30,
          2.5e-21,
          2.4e-10,
          5.3e-10,
          3.9e-27,
          2.4e-07,
          1.4e-107,
          1.6e-60,
          2.3e-105
         ],
         "y0": " ",
         "yaxis": "y"
        }
       ],
       "layout": {
        "boxmode": "group",
        "legend": {
         "tracegroupgap": 0
        },
        "margin": {
         "t": 60
        },
        "template": {
         "data": {
          "bar": [
           {
            "error_x": {
             "color": "#2a3f5f"
            },
            "error_y": {
             "color": "#2a3f5f"
            },
            "marker": {
             "line": {
              "color": "white",
              "width": 0.5
             }
            },
            "type": "bar"
           }
          ],
          "barpolar": [
           {
            "marker": {
             "line": {
              "color": "white",
              "width": 0.5
             }
            },
            "type": "barpolar"
           }
          ],
          "carpet": [
           {
            "aaxis": {
             "endlinecolor": "#2a3f5f",
             "gridcolor": "#C8D4E3",
             "linecolor": "#C8D4E3",
             "minorgridcolor": "#C8D4E3",
             "startlinecolor": "#2a3f5f"
            },
            "baxis": {
             "endlinecolor": "#2a3f5f",
             "gridcolor": "#C8D4E3",
             "linecolor": "#C8D4E3",
             "minorgridcolor": "#C8D4E3",
             "startlinecolor": "#2a3f5f"
            },
            "type": "carpet"
           }
          ],
          "choropleth": [
           {
            "colorbar": {
             "outlinewidth": 0,
             "ticks": ""
            },
            "type": "choropleth"
           }
          ],
          "contour": [
           {
            "colorbar": {
             "outlinewidth": 0,
             "ticks": ""
            },
            "colorscale": [
             [
              0,
              "#0d0887"
             ],
             [
              0.1111111111111111,
              "#46039f"
             ],
             [
              0.2222222222222222,
              "#7201a8"
             ],
             [
              0.3333333333333333,
              "#9c179e"
             ],
             [
              0.4444444444444444,
              "#bd3786"
             ],
             [
              0.5555555555555556,
              "#d8576b"
             ],
             [
              0.6666666666666666,
              "#ed7953"
             ],
             [
              0.7777777777777778,
              "#fb9f3a"
             ],
             [
              0.8888888888888888,
              "#fdca26"
             ],
             [
              1,
              "#f0f921"
             ]
            ],
            "type": "contour"
           }
          ],
          "contourcarpet": [
           {
            "colorbar": {
             "outlinewidth": 0,
             "ticks": ""
            },
            "type": "contourcarpet"
           }
          ],
          "heatmap": [
           {
            "colorbar": {
             "outlinewidth": 0,
             "ticks": ""
            },
            "colorscale": [
             [
              0,
              "#0d0887"
             ],
             [
              0.1111111111111111,
              "#46039f"
             ],
             [
              0.2222222222222222,
              "#7201a8"
             ],
             [
              0.3333333333333333,
              "#9c179e"
             ],
             [
              0.4444444444444444,
              "#bd3786"
             ],
             [
              0.5555555555555556,
              "#d8576b"
             ],
             [
              0.6666666666666666,
              "#ed7953"
             ],
             [
              0.7777777777777778,
              "#fb9f3a"
             ],
             [
              0.8888888888888888,
              "#fdca26"
             ],
             [
              1,
              "#f0f921"
             ]
            ],
            "type": "heatmap"
           }
          ],
          "heatmapgl": [
           {
            "colorbar": {
             "outlinewidth": 0,
             "ticks": ""
            },
            "colorscale": [
             [
              0,
              "#0d0887"
             ],
             [
              0.1111111111111111,
              "#46039f"
             ],
             [
              0.2222222222222222,
              "#7201a8"
             ],
             [
              0.3333333333333333,
              "#9c179e"
             ],
             [
              0.4444444444444444,
              "#bd3786"
             ],
             [
              0.5555555555555556,
              "#d8576b"
             ],
             [
              0.6666666666666666,
              "#ed7953"
             ],
             [
              0.7777777777777778,
              "#fb9f3a"
             ],
             [
              0.8888888888888888,
              "#fdca26"
             ],
             [
              1,
              "#f0f921"
             ]
            ],
            "type": "heatmapgl"
           }
          ],
          "histogram": [
           {
            "marker": {
             "colorbar": {
              "outlinewidth": 0,
              "ticks": ""
             }
            },
            "type": "histogram"
           }
          ],
          "histogram2d": [
           {
            "colorbar": {
             "outlinewidth": 0,
             "ticks": ""
            },
            "colorscale": [
             [
              0,
              "#0d0887"
             ],
             [
              0.1111111111111111,
              "#46039f"
             ],
             [
              0.2222222222222222,
              "#7201a8"
             ],
             [
              0.3333333333333333,
              "#9c179e"
             ],
             [
              0.4444444444444444,
              "#bd3786"
             ],
             [
              0.5555555555555556,
              "#d8576b"
             ],
             [
              0.6666666666666666,
              "#ed7953"
             ],
             [
              0.7777777777777778,
              "#fb9f3a"
             ],
             [
              0.8888888888888888,
              "#fdca26"
             ],
             [
              1,
              "#f0f921"
             ]
            ],
            "type": "histogram2d"
           }
          ],
          "histogram2dcontour": [
           {
            "colorbar": {
             "outlinewidth": 0,
             "ticks": ""
            },
            "colorscale": [
             [
              0,
              "#0d0887"
             ],
             [
              0.1111111111111111,
              "#46039f"
             ],
             [
              0.2222222222222222,
              "#7201a8"
             ],
             [
              0.3333333333333333,
              "#9c179e"
             ],
             [
              0.4444444444444444,
              "#bd3786"
             ],
             [
              0.5555555555555556,
              "#d8576b"
             ],
             [
              0.6666666666666666,
              "#ed7953"
             ],
             [
              0.7777777777777778,
              "#fb9f3a"
             ],
             [
              0.8888888888888888,
              "#fdca26"
             ],
             [
              1,
              "#f0f921"
             ]
            ],
            "type": "histogram2dcontour"
           }
          ],
          "mesh3d": [
           {
            "colorbar": {
             "outlinewidth": 0,
             "ticks": ""
            },
            "type": "mesh3d"
           }
          ],
          "parcoords": [
           {
            "line": {
             "colorbar": {
              "outlinewidth": 0,
              "ticks": ""
             }
            },
            "type": "parcoords"
           }
          ],
          "pie": [
           {
            "automargin": true,
            "type": "pie"
           }
          ],
          "scatter": [
           {
            "marker": {
             "colorbar": {
              "outlinewidth": 0,
              "ticks": ""
             }
            },
            "type": "scatter"
           }
          ],
          "scatter3d": [
           {
            "line": {
             "colorbar": {
              "outlinewidth": 0,
              "ticks": ""
             }
            },
            "marker": {
             "colorbar": {
              "outlinewidth": 0,
              "ticks": ""
             }
            },
            "type": "scatter3d"
           }
          ],
          "scattercarpet": [
           {
            "marker": {
             "colorbar": {
              "outlinewidth": 0,
              "ticks": ""
             }
            },
            "type": "scattercarpet"
           }
          ],
          "scattergeo": [
           {
            "marker": {
             "colorbar": {
              "outlinewidth": 0,
              "ticks": ""
             }
            },
            "type": "scattergeo"
           }
          ],
          "scattergl": [
           {
            "marker": {
             "colorbar": {
              "outlinewidth": 0,
              "ticks": ""
             }
            },
            "type": "scattergl"
           }
          ],
          "scattermapbox": [
           {
            "marker": {
             "colorbar": {
              "outlinewidth": 0,
              "ticks": ""
             }
            },
            "type": "scattermapbox"
           }
          ],
          "scatterpolar": [
           {
            "marker": {
             "colorbar": {
              "outlinewidth": 0,
              "ticks": ""
             }
            },
            "type": "scatterpolar"
           }
          ],
          "scatterpolargl": [
           {
            "marker": {
             "colorbar": {
              "outlinewidth": 0,
              "ticks": ""
             }
            },
            "type": "scatterpolargl"
           }
          ],
          "scatterternary": [
           {
            "marker": {
             "colorbar": {
              "outlinewidth": 0,
              "ticks": ""
             }
            },
            "type": "scatterternary"
           }
          ],
          "surface": [
           {
            "colorbar": {
             "outlinewidth": 0,
             "ticks": ""
            },
            "colorscale": [
             [
              0,
              "#0d0887"
             ],
             [
              0.1111111111111111,
              "#46039f"
             ],
             [
              0.2222222222222222,
              "#7201a8"
             ],
             [
              0.3333333333333333,
              "#9c179e"
             ],
             [
              0.4444444444444444,
              "#bd3786"
             ],
             [
              0.5555555555555556,
              "#d8576b"
             ],
             [
              0.6666666666666666,
              "#ed7953"
             ],
             [
              0.7777777777777778,
              "#fb9f3a"
             ],
             [
              0.8888888888888888,
              "#fdca26"
             ],
             [
              1,
              "#f0f921"
             ]
            ],
            "type": "surface"
           }
          ],
          "table": [
           {
            "cells": {
             "fill": {
              "color": "#EBF0F8"
             },
             "line": {
              "color": "white"
             }
            },
            "header": {
             "fill": {
              "color": "#C8D4E3"
             },
             "line": {
              "color": "white"
             }
            },
            "type": "table"
           }
          ]
         },
         "layout": {
          "annotationdefaults": {
           "arrowcolor": "#2a3f5f",
           "arrowhead": 0,
           "arrowwidth": 1
          },
          "coloraxis": {
           "colorbar": {
            "outlinewidth": 0,
            "ticks": ""
           }
          },
          "colorscale": {
           "diverging": [
            [
             0,
             "#8e0152"
            ],
            [
             0.1,
             "#c51b7d"
            ],
            [
             0.2,
             "#de77ae"
            ],
            [
             0.3,
             "#f1b6da"
            ],
            [
             0.4,
             "#fde0ef"
            ],
            [
             0.5,
             "#f7f7f7"
            ],
            [
             0.6,
             "#e6f5d0"
            ],
            [
             0.7,
             "#b8e186"
            ],
            [
             0.8,
             "#7fbc41"
            ],
            [
             0.9,
             "#4d9221"
            ],
            [
             1,
             "#276419"
            ]
           ],
           "sequential": [
            [
             0,
             "#0d0887"
            ],
            [
             0.1111111111111111,
             "#46039f"
            ],
            [
             0.2222222222222222,
             "#7201a8"
            ],
            [
             0.3333333333333333,
             "#9c179e"
            ],
            [
             0.4444444444444444,
             "#bd3786"
            ],
            [
             0.5555555555555556,
             "#d8576b"
            ],
            [
             0.6666666666666666,
             "#ed7953"
            ],
            [
             0.7777777777777778,
             "#fb9f3a"
            ],
            [
             0.8888888888888888,
             "#fdca26"
            ],
            [
             1,
             "#f0f921"
            ]
           ],
           "sequentialminus": [
            [
             0,
             "#0d0887"
            ],
            [
             0.1111111111111111,
             "#46039f"
            ],
            [
             0.2222222222222222,
             "#7201a8"
            ],
            [
             0.3333333333333333,
             "#9c179e"
            ],
            [
             0.4444444444444444,
             "#bd3786"
            ],
            [
             0.5555555555555556,
             "#d8576b"
            ],
            [
             0.6666666666666666,
             "#ed7953"
            ],
            [
             0.7777777777777778,
             "#fb9f3a"
            ],
            [
             0.8888888888888888,
             "#fdca26"
            ],
            [
             1,
             "#f0f921"
            ]
           ]
          },
          "colorway": [
           "#636efa",
           "#EF553B",
           "#00cc96",
           "#ab63fa",
           "#FFA15A",
           "#19d3f3",
           "#FF6692",
           "#B6E880",
           "#FF97FF",
           "#FECB52"
          ],
          "font": {
           "color": "#2a3f5f"
          },
          "geo": {
           "bgcolor": "white",
           "lakecolor": "white",
           "landcolor": "white",
           "showlakes": true,
           "showland": true,
           "subunitcolor": "#C8D4E3"
          },
          "hoverlabel": {
           "align": "left"
          },
          "hovermode": "closest",
          "mapbox": {
           "style": "light"
          },
          "paper_bgcolor": "white",
          "plot_bgcolor": "white",
          "polar": {
           "angularaxis": {
            "gridcolor": "#EBF0F8",
            "linecolor": "#EBF0F8",
            "ticks": ""
           },
           "bgcolor": "white",
           "radialaxis": {
            "gridcolor": "#EBF0F8",
            "linecolor": "#EBF0F8",
            "ticks": ""
           }
          },
          "scene": {
           "xaxis": {
            "backgroundcolor": "white",
            "gridcolor": "#DFE8F3",
            "gridwidth": 2,
            "linecolor": "#EBF0F8",
            "showbackground": true,
            "ticks": "",
            "zerolinecolor": "#EBF0F8"
           },
           "yaxis": {
            "backgroundcolor": "white",
            "gridcolor": "#DFE8F3",
            "gridwidth": 2,
            "linecolor": "#EBF0F8",
            "showbackground": true,
            "ticks": "",
            "zerolinecolor": "#EBF0F8"
           },
           "zaxis": {
            "backgroundcolor": "white",
            "gridcolor": "#DFE8F3",
            "gridwidth": 2,
            "linecolor": "#EBF0F8",
            "showbackground": true,
            "ticks": "",
            "zerolinecolor": "#EBF0F8"
           }
          },
          "shapedefaults": {
           "line": {
            "color": "#2a3f5f"
           }
          },
          "ternary": {
           "aaxis": {
            "gridcolor": "#DFE8F3",
            "linecolor": "#A2B1C6",
            "ticks": ""
           },
           "baxis": {
            "gridcolor": "#DFE8F3",
            "linecolor": "#A2B1C6",
            "ticks": ""
           },
           "bgcolor": "white",
           "caxis": {
            "gridcolor": "#DFE8F3",
            "linecolor": "#A2B1C6",
            "ticks": ""
           }
          },
          "title": {
           "x": 0.05
          },
          "xaxis": {
           "automargin": true,
           "gridcolor": "#EBF0F8",
           "linecolor": "#EBF0F8",
           "ticks": "",
           "title": {
            "standoff": 15
           },
           "zerolinecolor": "#EBF0F8",
           "zerolinewidth": 2
          },
          "yaxis": {
           "automargin": true,
           "gridcolor": "#EBF0F8",
           "linecolor": "#EBF0F8",
           "ticks": "",
           "title": {
            "standoff": 15
           },
           "zerolinecolor": "#EBF0F8",
           "zerolinewidth": 2
          }
         }
        },
        "xaxis": {
         "anchor": "y",
         "domain": [
          0,
          1
         ],
         "title": {
          "text": "motif_id"
         }
        },
        "yaxis": {
         "anchor": "x",
         "domain": [
          0,
          1
         ],
         "title": {
          "text": "evalue"
         },
         "type": "log"
        }
       }
      },
      "text/html": [
       "<div>\n",
       "        \n",
       "        \n",
       "            <div id=\"afa9d00d-9754-49b9-9ef7-842f2692e18b\" class=\"plotly-graph-div\" style=\"height:525px; width:100%;\"></div>\n",
       "            <script type=\"text/javascript\">\n",
       "                require([\"plotly\"], function(Plotly) {\n",
       "                    window.PLOTLYENV=window.PLOTLYENV || {};\n",
       "                    \n",
       "                if (document.getElementById(\"afa9d00d-9754-49b9-9ef7-842f2692e18b\")) {\n",
       "                    Plotly.newPlot(\n",
       "                        'afa9d00d-9754-49b9-9ef7-842f2692e18b',\n",
       "                        [{\"alignmentgroup\": \"True\", \"boxpoints\": \"all\", \"hoverlabel\": {\"namelength\": 0}, \"hovertemplate\": \"motif_id=%{x}<br>evalue=%{y}\", \"legendgroup\": \"\", \"marker\": {\"color\": \"#636efa\"}, \"name\": \"\", \"notched\": false, \"offsetgroup\": \"\", \"orientation\": \"v\", \"showlegend\": false, \"type\": \"box\", \"x\": [\"MEME-0\", \"MEME-1\", \"MEME-2\", \"MEME-3\", \"MEME-4\", \"MEME-0\", \"MEME-1\", \"MEME-2\", \"MEME-3\", \"MEME-4\", \"MEME-5\", \"MEME-6\", \"MEME-7\", \"MEME-8\", \"MEME-9\", \"MEME-10\", \"MEME-11\", \"MEME-0\", \"MEME-1\", \"MEME-2\", \"MEME-3\", \"MEME-4\", \"MEME-0\", \"MEME-1\", \"MEME-0\", \"MEME-1\", \"MEME-0\", \"MEME-0\", \"MEME-0\", \"MEME-0\", \"MEME-0\", \"MEME-1\", \"MEME-0\", \"MEME-0\", \"MEME-0\", \"MEME-0\", \"MEME-1\", \"MEME-0\", \"MEME-1\", \"MEME-0\", \"MEME-1\", \"MEME-0\", \"MEME-0\", \"MEME-1\", \"MEME-0\", \"MEME-1\", \"MEME-0\", \"MEME-0\", \"MEME-0\", \"MEME-0\", \"MEME-1\", \"MEME-2\", \"MEME-3\", \"MEME-0\", \"MEME-0\", \"MEME-0\", \"MEME-0\", \"MEME-0\", \"MEME-0\", \"MEME-1\", \"MEME-0\", \"MEME-1\", \"MEME-0\", \"MEME-0\", \"MEME-0\", \"MEME-1\", \"MEME-0\", \"MEME-1\", \"MEME-0\", \"MEME-1\", \"MEME-0\", \"MEME-0\", \"MEME-0\", \"MEME-1\", \"MEME-0\", \"MEME-0\", \"MEME-1\", \"MEME-0\", \"MEME-0\", \"MEME-1\", \"MEME-0\", \"MEME-1\", \"MEME-2\", \"MEME-3\", \"MEME-0\", \"MEME-0\", \"MEME-0\", \"MEME-1\", \"MEME-2\", \"MEME-0\", \"MEME-0\", \"MEME-1\", \"MEME-0\", \"MEME-0\", \"MEME-0\", \"MEME-1\", \"MEME-2\", \"MEME-3\", \"MEME-4\", \"MEME-0\", \"MEME-0\", \"MEME-0\", \"MEME-0\", \"MEME-1\", \"MEME-2\", \"MEME-0\", \"MEME-0\", \"MEME-0\", \"MEME-0\", \"MEME-0\", \"MEME-1\", \"MEME-0\", \"MEME-1\", \"MEME-2\", \"MEME-3\", \"MEME-4\", \"MEME-5\", \"MEME-0\", \"MEME-0\", \"MEME-0\", \"MEME-0\", \"MEME-0\", \"MEME-0\", \"MEME-0\", \"MEME-0\", \"MEME-1\", \"MEME-0\", \"MEME-0\", \"MEME-1\", \"MEME-0\", \"MEME-0\", \"MEME-0\", \"MEME-0\", \"MEME-0\", \"MEME-1\", \"MEME-2\", \"MEME-3\", \"MEME-4\", \"MEME-0\", \"MEME-0\", \"MEME-0\", \"MEME-0\", \"MEME-0\", \"MEME-0\", \"MEME-0\", \"MEME-0\", \"MEME-1\", \"MEME-0\", \"MEME-0\", \"MEME-1\", \"MEME-2\", \"MEME-0\", \"MEME-0\", \"MEME-0\", \"MEME-1\", \"MEME-2\", \"MEME-3\", \"MEME-4\", \"MEME-0\", \"MEME-1\", \"MEME-2\", \"MEME-0\", \"MEME-0\", \"MEME-0\", \"MEME-0\", \"MEME-1\", \"MEME-2\", \"MEME-0\", \"MEME-0\", \"MEME-1\", \"MEME-0\", \"MEME-0\", \"MEME-0\", \"MEME-0\", \"MEME-0\", \"MEME-0\", \"MEME-1\", \"MEME-2\", \"MEME-3\", \"MEME-4\", \"MEME-0\", \"MEME-0\", \"MEME-0\", \"MEME-0\", \"MEME-0\", \"MEME-0\", \"MEME-0\", \"MEME-1\", \"MEME-0\", \"MEME-1\", \"MEME-0\", \"MEME-0\", \"MEME-0\", \"MEME-0\", \"MEME-0\", \"MEME-0\", \"MEME-0\", \"MEME-0\", \"MEME-0\", \"MEME-0\", \"MEME-0\", \"MEME-0\", \"MEME-0\", \"MEME-0\", \"MEME-0\", \"MEME-0\", \"MEME-0\", \"MEME-0\", \"MEME-1\", \"MEME-2\", \"MEME-3\", \"MEME-0\", \"MEME-0\", \"MEME-1\", \"MEME-0\", \"MEME-0\", \"MEME-0\", \"MEME-0\", \"MEME-0\", \"MEME-0\", \"MEME-0\", \"MEME-1\", \"MEME-2\", \"MEME-0\", \"MEME-0\", \"MEME-0\", \"MEME-1\", \"MEME-2\", \"MEME-3\", \"MEME-4\", \"MEME-0\", \"MEME-1\", \"MEME-0\", \"MEME-1\", \"MEME-2\", \"MEME-3\", \"MEME-0\", \"MEME-1\", \"MEME-2\", \"MEME-3\", \"MEME-0\", \"MEME-1\", \"MEME-0\", \"MEME-1\", \"MEME-0\", \"MEME-1\", \"MEME-0\", \"MEME-1\", \"MEME-0\", \"MEME-0\", \"MEME-1\", \"MEME-0\", \"MEME-1\", \"MEME-0\", \"MEME-1\", \"MEME-2\", \"MEME-0\", \"MEME-0\", \"MEME-1\", \"MEME-0\", \"MEME-1\", \"MEME-0\", \"MEME-1\", \"MEME-0\", \"MEME-1\", \"MEME-2\", \"MEME-0\", \"MEME-0\", \"MEME-1\", \"MEME-0\", \"MEME-1\", \"MEME-0\", \"MEME-0\", \"MEME-1\", \"MEME-2\", \"MEME-0\", \"MEME-1\", \"MEME-2\", \"MEME-3\", \"MEME-0\", \"MEME-1\", \"MEME-0\", \"MEME-0\", \"MEME-1\", \"MEME-0\", \"MEME-0\", \"MEME-1\", \"MEME-0\", \"MEME-1\", \"MEME-0\", \"MEME-0\", \"MEME-1\", \"MEME-2\", \"MEME-0\", \"MEME-0\", \"MEME-0\", \"MEME-1\", \"MEME-2\", \"MEME-0\", \"MEME-0\", \"MEME-1\", \"MEME-0\", \"MEME-1\", \"MEME-0\", \"MEME-1\", \"MEME-0\", \"MEME-0\", \"MEME-1\", \"MEME-0\", \"MEME-0\", \"MEME-0\", \"MEME-1\", \"MEME-0\", \"MEME-0\", \"MEME-1\", \"MEME-2\", \"MEME-0\", \"MEME-0\", \"MEME-0\", \"MEME-0\", \"MEME-1\", \"MEME-2\", \"MEME-0\", \"MEME-0\", \"MEME-0\", \"MEME-0\", \"MEME-0\", \"MEME-1\", \"MEME-0\", \"MEME-1\", \"MEME-0\", \"MEME-1\", \"MEME-2\", \"MEME-3\", \"MEME-4\", \"MEME-0\", \"MEME-1\", \"MEME-0\", \"MEME-0\", \"MEME-1\", \"MEME-0\", \"MEME-1\", \"MEME-0\", \"MEME-0\", \"MEME-1\", \"MEME-0\", \"MEME-1\", \"MEME-0\", \"MEME-1\", \"MEME-0\", \"MEME-1\", \"MEME-0\", \"MEME-1\", \"MEME-0\", \"MEME-1\", \"MEME-2\", \"MEME-3\", \"MEME-4\", \"MEME-5\", \"MEME-6\", \"MEME-7\", \"MEME-0\", \"MEME-0\", \"MEME-1\", \"MEME-0\", \"MEME-1\", \"MEME-2\", \"MEME-0\", \"MEME-0\", \"MEME-1\", \"MEME-2\", \"MEME-3\", \"MEME-0\", \"MEME-1\", \"MEME-0\", \"MEME-0\", \"MEME-0\"], \"x0\": \" \", \"xaxis\": \"x\", \"y\": [0.0, 0.0, 0.0, 1e-67, 5.5e-53, 0.0, 0.0, 0.0, 0.0, 2.4e-274, 1.8e-97, 6.4e-92, 6.3e-24, 2.8e-13, 3.3e-11, 6.8e-08, 1.5e-06, 0.0, 1.6e-101, 2.2e-69, 2.7e-31, 2.2e-07, 1.4e-22, 3.4e-13, 3.8e-36, 1.1e-08, 3.3e-100, 1.8e-66, 5.3e-15, 2.1e-82, 2.5e-11, 6.8e-07, 2.8e-08, 6.1e-81, 1.9e-110, 0.0, 3.5e-27, 7.9e-29, 2.4e-12, 9.1e-45, 4.5e-06, 3.2e-33, 5.5e-26, 1.9e-16, 2.7e-09, 1.4e-06, 3.7e-45, 1.5e-17, 2.7e-14, 0.0, 7.5e-36, 1.1e-27, 4.2e-06, 2.8e-10, 1.6e-22, 4.6e-21, 3.6e-26, 6.1e-77, 1.7e-29, 1.2e-08, 1.8e-20, 4.5e-06, 6.1e-132, 1.9e-32, 1.7e-22, 9.2e-20, 0.0, 1.6e-284, 5.3e-14, 2.4e-10, 3.9e-09, 7.7e-17, 1.1e-66, 4.7e-14, 2.3e-22, 3.1e-36, 6.8e-06, 5e-10, 3.1e-16, 7.4e-09, 0.0, 6.2e-91, 1.2e-44, 1.6e-14, 1.6e-36, 5.5e-22, 1.7e-15, 1.1e-08, 8e-06, 1.1e-09, 9.1e-18, 9.9e-08, 3.1e-07, 1.5e-58, 2.4e-279, 4e-44, 2e-23, 1.5e-22, 6.7e-20, 2.5e-09, 3.9e-13, 8e-15, 2.4e-44, 3e-12, 2.3e-06, 2e-07, 1.1e-07, 1.1e-11, 1.3e-12, 7.9e-31, 2.4e-07, 2.5e-260, 1.4e-159, 6.2e-80, 9.9e-32, 3.5e-27, 1e-10, 6.9e-85, 6e-17, 9.5e-07, 2.7e-12, 1.8e-14, 2.3e-08, 1.9e-08, 2.8e-214, 1.3e-38, 3.7e-42, 2.5e-21, 8.8e-11, 2.2e-129, 1e-13, 6.3e-64, 3.2e-22, 1.7e-202, 3.1e-90, 1.8e-47, 3.8e-22, 7.7e-10, 1.5e-21, 2.5e-43, 1.5e-76, 2.3e-39, 2.4e-10, 8.8e-15, 2.2e-16, 1.3e-17, 4.4e-08, 6.4e-08, 0.0, 4.9e-48, 1.3e-19, 7.7e-22, 1.2e-15, 0.0, 0.0, 2.5e-299, 4.8e-67, 2.2e-48, 3.3e-201, 4.4e-07, 1.4e-06, 1.1e-43, 1.9e-34, 5.6e-21, 5.4e-304, 2.2e-52, 1.6e-26, 7.6e-42, 2.3e-72, 6.2e-06, 8.1e-10, 2.6e-09, 6.2e-21, 1.8e-12, 4.5e-06, 5.8e-125, 1.2e-25, 1.8e-11, 9e-09, 1.7e-07, 5.6e-16, 1.7e-06, 2.3e-14, 3.8e-07, 4e-08, 3.9e-10, 3.3e-23, 6.9e-08, 0.0, 2.4e-09, 3.4e-08, 4.8e-47, 1.8e-10, 9.1e-08, 6.7e-14, 1.3e-15, 5.5e-24, 0.0, 1e-06, 2.9e-20, 4.2e-06, 2.1e-13, 1.5e-239, 1.4e-22, 1e-28, 2e-34, 1e-06, 6.2e-160, 2e-15, 2.8e-16, 3e-12, 4.3e-20, 3e-198, 4.3e-101, 6.2e-10, 9.7e-07, 1.5e-31, 7.9e-13, 2.8e-14, 3.6e-10, 1.1e-289, 5.7e-123, 2.1e-40, 5.3e-23, 2.9e-08, 0.0, 6.5e-135, 3.4e-58, 5.1e-27, 3.7e-10, 0.0, 1.8e-76, 2.7e-143, 1.3e-56, 3e-09, 4.4e-09, 1.8e-90, 6.9e-12, 7.8e-07, 1.5e-09, 6.8e-310, 7e-135, 1.3e-230, 5.1e-14, 8.4e-284, 7.5e-16, 4.1e-57, 6.9e-12, 7.8e-245, 2.9e-257, 1.6e-07, 6.2e-203, 1.7e-15, 0.0, 4e-144, 2.2e-11, 9.3e-211, 0.0, 5e-12, 1.5e-255, 1e-16, 8.5e-192, 2e-06, 6e-77, 8.4e-19, 2.5e-10, 2.5e-12, 4.7e-301, 1.7e-60, 3.2e-107, 2.6e-18, 4e-81, 4e-91, 8.7e-53, 4e-11, 0.0, 7.8e-321, 9.6e-50, 7.8e-23, 2.7e-33, 7.2e-06, 0.0, 4.5e-193, 6.5e-13, 6.3e-182, 3.3e-142, 3.3e-30, 7.8e-234, 1.4e-111, 2.4e-233, 4.5e-53, 9.7e-14, 4.3e-12, 3.5e-27, 5.4e-89, 0.0, 2.2e-227, 1.7e-16, 1.1e-186, 3.7e-158, 1.2e-07, 9.2e-110, 2.4e-53, 3.4e-36, 1.4e-20, 8.7e-45, 2e-199, 5.1e-08, 4.3e-101, 6.3e-161, 1.8e-110, 8.6e-11, 9.4e-179, 0.0, 1.9e-77, 9.7e-07, 1.6e-64, 7.9e-211, 6e-107, 6.3e-54, 8.7e-12, 8.6e-06, 2.7e-117, 8.6e-53, 4.1e-47, 6.4e-150, 9.8e-245, 9.7e-15, 1e-23, 1.3e-13, 0.0, 5.1e-265, 1.6e-88, 1.2e-84, 5.7e-40, 6e-52, 3e-13, 7.5e-132, 1.9e-15, 1.5e-06, 1.3e-101, 1.3e-06, 2.1e-23, 2.8e-68, 9.3e-07, 1.5e-172, 9.3e-14, 8.7e-64, 1.5e-11, 3.1e-42, 3.4e-09, 1.7e-29, 4.3e-10, 8.9e-232, 2.8e-160, 2.2e-68, 7.2e-62, 1.2e-22, 3.7e-20, 8.7e-16, 8.5e-06, 4e-27, 1.8e-51, 1.2e-09, 1.7e-45, 7.8e-12, 5.9e-09, 1.2e-36, 2e-30, 2.5e-21, 2.4e-10, 5.3e-10, 3.9e-27, 2.4e-07, 1.4e-107, 1.6e-60, 2.3e-105], \"y0\": \" \", \"yaxis\": \"y\"}],\n",
       "                        {\"boxmode\": \"group\", \"legend\": {\"tracegroupgap\": 0}, \"margin\": {\"t\": 60}, \"template\": {\"data\": {\"bar\": [{\"error_x\": {\"color\": \"#2a3f5f\"}, \"error_y\": {\"color\": \"#2a3f5f\"}, \"marker\": {\"line\": {\"color\": \"white\", \"width\": 0.5}}, \"type\": \"bar\"}], \"barpolar\": [{\"marker\": {\"line\": {\"color\": \"white\", \"width\": 0.5}}, \"type\": \"barpolar\"}], \"carpet\": [{\"aaxis\": {\"endlinecolor\": \"#2a3f5f\", \"gridcolor\": \"#C8D4E3\", \"linecolor\": \"#C8D4E3\", \"minorgridcolor\": \"#C8D4E3\", \"startlinecolor\": \"#2a3f5f\"}, \"baxis\": {\"endlinecolor\": \"#2a3f5f\", \"gridcolor\": \"#C8D4E3\", \"linecolor\": \"#C8D4E3\", \"minorgridcolor\": \"#C8D4E3\", \"startlinecolor\": \"#2a3f5f\"}, \"type\": \"carpet\"}], \"choropleth\": [{\"colorbar\": {\"outlinewidth\": 0, \"ticks\": \"\"}, \"type\": \"choropleth\"}], \"contour\": [{\"colorbar\": {\"outlinewidth\": 0, \"ticks\": \"\"}, \"colorscale\": [[0.0, \"#0d0887\"], [0.1111111111111111, \"#46039f\"], [0.2222222222222222, \"#7201a8\"], [0.3333333333333333, \"#9c179e\"], [0.4444444444444444, \"#bd3786\"], [0.5555555555555556, \"#d8576b\"], [0.6666666666666666, \"#ed7953\"], [0.7777777777777778, \"#fb9f3a\"], [0.8888888888888888, \"#fdca26\"], [1.0, \"#f0f921\"]], \"type\": \"contour\"}], \"contourcarpet\": [{\"colorbar\": {\"outlinewidth\": 0, \"ticks\": \"\"}, \"type\": \"contourcarpet\"}], \"heatmap\": [{\"colorbar\": {\"outlinewidth\": 0, \"ticks\": \"\"}, \"colorscale\": [[0.0, \"#0d0887\"], [0.1111111111111111, \"#46039f\"], [0.2222222222222222, \"#7201a8\"], [0.3333333333333333, \"#9c179e\"], [0.4444444444444444, \"#bd3786\"], [0.5555555555555556, \"#d8576b\"], [0.6666666666666666, \"#ed7953\"], [0.7777777777777778, \"#fb9f3a\"], [0.8888888888888888, \"#fdca26\"], [1.0, \"#f0f921\"]], \"type\": \"heatmap\"}], \"heatmapgl\": [{\"colorbar\": {\"outlinewidth\": 0, \"ticks\": \"\"}, \"colorscale\": [[0.0, \"#0d0887\"], [0.1111111111111111, \"#46039f\"], [0.2222222222222222, \"#7201a8\"], [0.3333333333333333, \"#9c179e\"], [0.4444444444444444, \"#bd3786\"], [0.5555555555555556, \"#d8576b\"], [0.6666666666666666, \"#ed7953\"], [0.7777777777777778, \"#fb9f3a\"], [0.8888888888888888, \"#fdca26\"], [1.0, \"#f0f921\"]], \"type\": \"heatmapgl\"}], \"histogram\": [{\"marker\": {\"colorbar\": {\"outlinewidth\": 0, \"ticks\": \"\"}}, \"type\": \"histogram\"}], \"histogram2d\": [{\"colorbar\": {\"outlinewidth\": 0, \"ticks\": \"\"}, \"colorscale\": [[0.0, \"#0d0887\"], [0.1111111111111111, \"#46039f\"], [0.2222222222222222, \"#7201a8\"], [0.3333333333333333, \"#9c179e\"], [0.4444444444444444, \"#bd3786\"], [0.5555555555555556, \"#d8576b\"], [0.6666666666666666, \"#ed7953\"], [0.7777777777777778, \"#fb9f3a\"], [0.8888888888888888, \"#fdca26\"], [1.0, \"#f0f921\"]], \"type\": \"histogram2d\"}], \"histogram2dcontour\": [{\"colorbar\": {\"outlinewidth\": 0, \"ticks\": \"\"}, \"colorscale\": [[0.0, \"#0d0887\"], [0.1111111111111111, \"#46039f\"], [0.2222222222222222, \"#7201a8\"], [0.3333333333333333, \"#9c179e\"], [0.4444444444444444, \"#bd3786\"], [0.5555555555555556, \"#d8576b\"], [0.6666666666666666, \"#ed7953\"], [0.7777777777777778, \"#fb9f3a\"], [0.8888888888888888, \"#fdca26\"], [1.0, \"#f0f921\"]], \"type\": \"histogram2dcontour\"}], \"mesh3d\": [{\"colorbar\": {\"outlinewidth\": 0, \"ticks\": \"\"}, \"type\": \"mesh3d\"}], \"parcoords\": [{\"line\": {\"colorbar\": {\"outlinewidth\": 0, \"ticks\": \"\"}}, \"type\": \"parcoords\"}], \"pie\": [{\"automargin\": true, \"type\": \"pie\"}], \"scatter\": [{\"marker\": {\"colorbar\": {\"outlinewidth\": 0, \"ticks\": \"\"}}, \"type\": \"scatter\"}], \"scatter3d\": [{\"line\": {\"colorbar\": {\"outlinewidth\": 0, \"ticks\": \"\"}}, \"marker\": {\"colorbar\": {\"outlinewidth\": 0, \"ticks\": \"\"}}, \"type\": \"scatter3d\"}], \"scattercarpet\": [{\"marker\": {\"colorbar\": {\"outlinewidth\": 0, \"ticks\": \"\"}}, \"type\": \"scattercarpet\"}], \"scattergeo\": [{\"marker\": {\"colorbar\": {\"outlinewidth\": 0, \"ticks\": \"\"}}, \"type\": \"scattergeo\"}], \"scattergl\": [{\"marker\": {\"colorbar\": {\"outlinewidth\": 0, \"ticks\": \"\"}}, \"type\": \"scattergl\"}], \"scattermapbox\": [{\"marker\": {\"colorbar\": {\"outlinewidth\": 0, \"ticks\": \"\"}}, \"type\": \"scattermapbox\"}], \"scatterpolar\": [{\"marker\": {\"colorbar\": {\"outlinewidth\": 0, \"ticks\": \"\"}}, \"type\": \"scatterpolar\"}], \"scatterpolargl\": [{\"marker\": {\"colorbar\": {\"outlinewidth\": 0, \"ticks\": \"\"}}, \"type\": \"scatterpolargl\"}], \"scatterternary\": [{\"marker\": {\"colorbar\": {\"outlinewidth\": 0, \"ticks\": \"\"}}, \"type\": \"scatterternary\"}], \"surface\": [{\"colorbar\": {\"outlinewidth\": 0, \"ticks\": \"\"}, \"colorscale\": [[0.0, \"#0d0887\"], [0.1111111111111111, \"#46039f\"], [0.2222222222222222, \"#7201a8\"], [0.3333333333333333, \"#9c179e\"], [0.4444444444444444, \"#bd3786\"], [0.5555555555555556, \"#d8576b\"], [0.6666666666666666, \"#ed7953\"], [0.7777777777777778, \"#fb9f3a\"], [0.8888888888888888, \"#fdca26\"], [1.0, \"#f0f921\"]], \"type\": \"surface\"}], \"table\": [{\"cells\": {\"fill\": {\"color\": \"#EBF0F8\"}, \"line\": {\"color\": \"white\"}}, \"header\": {\"fill\": {\"color\": \"#C8D4E3\"}, \"line\": {\"color\": \"white\"}}, \"type\": \"table\"}]}, \"layout\": {\"annotationdefaults\": {\"arrowcolor\": \"#2a3f5f\", \"arrowhead\": 0, \"arrowwidth\": 1}, \"coloraxis\": {\"colorbar\": {\"outlinewidth\": 0, \"ticks\": \"\"}}, \"colorscale\": {\"diverging\": [[0, \"#8e0152\"], [0.1, \"#c51b7d\"], [0.2, \"#de77ae\"], [0.3, \"#f1b6da\"], [0.4, \"#fde0ef\"], [0.5, \"#f7f7f7\"], [0.6, \"#e6f5d0\"], [0.7, \"#b8e186\"], [0.8, \"#7fbc41\"], [0.9, \"#4d9221\"], [1, \"#276419\"]], \"sequential\": [[0.0, \"#0d0887\"], [0.1111111111111111, \"#46039f\"], [0.2222222222222222, \"#7201a8\"], [0.3333333333333333, \"#9c179e\"], [0.4444444444444444, \"#bd3786\"], [0.5555555555555556, \"#d8576b\"], [0.6666666666666666, \"#ed7953\"], [0.7777777777777778, \"#fb9f3a\"], [0.8888888888888888, \"#fdca26\"], [1.0, \"#f0f921\"]], \"sequentialminus\": [[0.0, \"#0d0887\"], [0.1111111111111111, \"#46039f\"], [0.2222222222222222, \"#7201a8\"], [0.3333333333333333, \"#9c179e\"], [0.4444444444444444, \"#bd3786\"], [0.5555555555555556, \"#d8576b\"], [0.6666666666666666, \"#ed7953\"], [0.7777777777777778, \"#fb9f3a\"], [0.8888888888888888, \"#fdca26\"], [1.0, \"#f0f921\"]]}, \"colorway\": [\"#636efa\", \"#EF553B\", \"#00cc96\", \"#ab63fa\", \"#FFA15A\", \"#19d3f3\", \"#FF6692\", \"#B6E880\", \"#FF97FF\", \"#FECB52\"], \"font\": {\"color\": \"#2a3f5f\"}, \"geo\": {\"bgcolor\": \"white\", \"lakecolor\": \"white\", \"landcolor\": \"white\", \"showlakes\": true, \"showland\": true, \"subunitcolor\": \"#C8D4E3\"}, \"hoverlabel\": {\"align\": \"left\"}, \"hovermode\": \"closest\", \"mapbox\": {\"style\": \"light\"}, \"paper_bgcolor\": \"white\", \"plot_bgcolor\": \"white\", \"polar\": {\"angularaxis\": {\"gridcolor\": \"#EBF0F8\", \"linecolor\": \"#EBF0F8\", \"ticks\": \"\"}, \"bgcolor\": \"white\", \"radialaxis\": {\"gridcolor\": \"#EBF0F8\", \"linecolor\": \"#EBF0F8\", \"ticks\": \"\"}}, \"scene\": {\"xaxis\": {\"backgroundcolor\": \"white\", \"gridcolor\": \"#DFE8F3\", \"gridwidth\": 2, \"linecolor\": \"#EBF0F8\", \"showbackground\": true, \"ticks\": \"\", \"zerolinecolor\": \"#EBF0F8\"}, \"yaxis\": {\"backgroundcolor\": \"white\", \"gridcolor\": \"#DFE8F3\", \"gridwidth\": 2, \"linecolor\": \"#EBF0F8\", \"showbackground\": true, \"ticks\": \"\", \"zerolinecolor\": \"#EBF0F8\"}, \"zaxis\": {\"backgroundcolor\": \"white\", \"gridcolor\": \"#DFE8F3\", \"gridwidth\": 2, \"linecolor\": \"#EBF0F8\", \"showbackground\": true, \"ticks\": \"\", \"zerolinecolor\": \"#EBF0F8\"}}, \"shapedefaults\": {\"line\": {\"color\": \"#2a3f5f\"}}, \"ternary\": {\"aaxis\": {\"gridcolor\": \"#DFE8F3\", \"linecolor\": \"#A2B1C6\", \"ticks\": \"\"}, \"baxis\": {\"gridcolor\": \"#DFE8F3\", \"linecolor\": \"#A2B1C6\", \"ticks\": \"\"}, \"bgcolor\": \"white\", \"caxis\": {\"gridcolor\": \"#DFE8F3\", \"linecolor\": \"#A2B1C6\", \"ticks\": \"\"}}, \"title\": {\"x\": 0.05}, \"xaxis\": {\"automargin\": true, \"gridcolor\": \"#EBF0F8\", \"linecolor\": \"#EBF0F8\", \"ticks\": \"\", \"title\": {\"standoff\": 15}, \"zerolinecolor\": \"#EBF0F8\", \"zerolinewidth\": 2}, \"yaxis\": {\"automargin\": true, \"gridcolor\": \"#EBF0F8\", \"linecolor\": \"#EBF0F8\", \"ticks\": \"\", \"title\": {\"standoff\": 15}, \"zerolinecolor\": \"#EBF0F8\", \"zerolinewidth\": 2}}}, \"xaxis\": {\"anchor\": \"y\", \"domain\": [0.0, 1.0], \"title\": {\"text\": \"motif_id\"}}, \"yaxis\": {\"anchor\": \"x\", \"domain\": [0.0, 1.0], \"title\": {\"text\": \"evalue\"}, \"type\": \"log\"}},\n",
       "                        {\"responsive\": true}\n",
       "                    ).then(function(){\n",
       "                            \n",
       "var gd = document.getElementById('afa9d00d-9754-49b9-9ef7-842f2692e18b');\n",
       "var x = new MutationObserver(function (mutations, observer) {{\n",
       "        var display = window.getComputedStyle(gd).display;\n",
       "        if (!display || display === 'none') {{\n",
       "            console.log([gd, 'removed!']);\n",
       "            Plotly.purge(gd);\n",
       "            observer.disconnect();\n",
       "        }}\n",
       "}});\n",
       "\n",
       "// Listen for the removal of the full notebook cells\n",
       "var notebookContainer = gd.closest('#notebook-container');\n",
       "if (notebookContainer) {{\n",
       "    x.observe(notebookContainer, {childList: true});\n",
       "}}\n",
       "\n",
       "// Listen for the clearing of the current output cell\n",
       "var outputEl = gd.closest('.output');\n",
       "if (outputEl) {{\n",
       "    x.observe(outputEl, {childList: true});\n",
       "}}\n",
       "\n",
       "                        })\n",
       "                };\n",
       "                });\n",
       "            </script>\n",
       "        </div>"
      ]
     },
     "metadata": {},
     "output_type": "display_data"
    }
   ],
   "source": [
    "px.box(\n",
    "    motif_seq_frame, x = 'motif_id', y = 'evalue',\n",
    "    points = 'all', log_y = True\n",
    ")"
   ]
  },
  {
   "cell_type": "code",
   "execution_count": 84,
   "metadata": {
    "ExecuteTime": {
     "end_time": "2020-07-08T22:13:52.042263Z",
     "start_time": "2020-07-08T22:13:52.010802Z"
    }
   },
   "outputs": [
    {
     "data": {
      "text/html": [
       "<div>\n",
       "<style scoped>\n",
       "    .dataframe tbody tr th:only-of-type {\n",
       "        vertical-align: middle;\n",
       "    }\n",
       "\n",
       "    .dataframe tbody tr th {\n",
       "        vertical-align: top;\n",
       "    }\n",
       "\n",
       "    .dataframe thead th {\n",
       "        text-align: right;\n",
       "    }\n",
       "</style>\n",
       "<table border=\"1\" class=\"dataframe\">\n",
       "  <thead>\n",
       "    <tr style=\"text-align: right;\">\n",
       "      <th></th>\n",
       "      <th>clique_idx</th>\n",
       "      <th>motif_id</th>\n",
       "      <th>evalue</th>\n",
       "      <th>seq</th>\n",
       "      <th>membership</th>\n",
       "    </tr>\n",
       "  </thead>\n",
       "  <tbody>\n",
       "    <tr>\n",
       "      <th>0</th>\n",
       "      <td>0</td>\n",
       "      <td>MEME-0</td>\n",
       "      <td>0.0</td>\n",
       "      <td>VIPEELVEEVIP</td>\n",
       "      <td>464</td>\n",
       "    </tr>\n",
       "    <tr>\n",
       "      <th>1</th>\n",
       "      <td>0</td>\n",
       "      <td>MEME-1</td>\n",
       "      <td>0.0</td>\n",
       "      <td>VVEEVVPEELVE</td>\n",
       "      <td>464</td>\n",
       "    </tr>\n",
       "    <tr>\n",
       "      <th>2</th>\n",
       "      <td>0</td>\n",
       "      <td>MEME-2</td>\n",
       "      <td>0.0</td>\n",
       "      <td>EVVEEVVPE</td>\n",
       "      <td>464</td>\n",
       "    </tr>\n",
       "    <tr>\n",
       "      <th>5</th>\n",
       "      <td>1</td>\n",
       "      <td>MEME-0</td>\n",
       "      <td>0.0</td>\n",
       "      <td>GIDJYBEVLKRK</td>\n",
       "      <td>169</td>\n",
       "    </tr>\n",
       "    <tr>\n",
       "      <th>6</th>\n",
       "      <td>1</td>\n",
       "      <td>MEME-1</td>\n",
       "      <td>0.0</td>\n",
       "      <td>NELFGTNHVKQT</td>\n",
       "      <td>169</td>\n",
       "    </tr>\n",
       "    <tr>\n",
       "      <th>7</th>\n",
       "      <td>1</td>\n",
       "      <td>MEME-2</td>\n",
       "      <td>0.0</td>\n",
       "      <td>DIPKYVSNNVYS</td>\n",
       "      <td>169</td>\n",
       "    </tr>\n",
       "    <tr>\n",
       "      <th>8</th>\n",
       "      <td>1</td>\n",
       "      <td>MEME-3</td>\n",
       "      <td>0.0</td>\n",
       "      <td>SSYNVAKSTNSD</td>\n",
       "      <td>169</td>\n",
       "    </tr>\n",
       "    <tr>\n",
       "      <th>17</th>\n",
       "      <td>10</td>\n",
       "      <td>MEME-0</td>\n",
       "      <td>0.0</td>\n",
       "      <td>RPQFLRWFTEWG</td>\n",
       "      <td>29</td>\n",
       "    </tr>\n",
       "    <tr>\n",
       "      <th>35</th>\n",
       "      <td>11</td>\n",
       "      <td>MEME-0</td>\n",
       "      <td>0.0</td>\n",
       "      <td>VEENVEE</td>\n",
       "      <td>28</td>\n",
       "    </tr>\n",
       "    <tr>\n",
       "      <th>49</th>\n",
       "      <td>12</td>\n",
       "      <td>MEME-0</td>\n",
       "      <td>0.0</td>\n",
       "      <td>RNQNVNDRRNFD</td>\n",
       "      <td>27</td>\n",
       "    </tr>\n",
       "    <tr>\n",
       "      <th>66</th>\n",
       "      <td>13</td>\n",
       "      <td>MEME-0</td>\n",
       "      <td>0.0</td>\n",
       "      <td>LAKGKEVTNKAH</td>\n",
       "      <td>26</td>\n",
       "    </tr>\n",
       "    <tr>\n",
       "      <th>80</th>\n",
       "      <td>14</td>\n",
       "      <td>MEME-0</td>\n",
       "      <td>0.0</td>\n",
       "      <td>QHEIVEVEEILP</td>\n",
       "      <td>25</td>\n",
       "    </tr>\n",
       "    <tr>\n",
       "      <th>148</th>\n",
       "      <td>19</td>\n",
       "      <td>MEME-0</td>\n",
       "      <td>0.0</td>\n",
       "      <td>PNANPNANPNAN</td>\n",
       "      <td>23</td>\n",
       "    </tr>\n",
       "    <tr>\n",
       "      <th>153</th>\n",
       "      <td>2</td>\n",
       "      <td>MEME-0</td>\n",
       "      <td>0.0</td>\n",
       "      <td>YEPMSTLEKELL</td>\n",
       "      <td>77</td>\n",
       "    </tr>\n",
       "    <tr>\n",
       "      <th>154</th>\n",
       "      <td>2</td>\n",
       "      <td>MEME-1</td>\n",
       "      <td>0.0</td>\n",
       "      <td>KSKKYQNTD</td>\n",
       "      <td>77</td>\n",
       "    </tr>\n",
       "    <tr>\n",
       "      <th>188</th>\n",
       "      <td>24</td>\n",
       "      <td>MEME-0</td>\n",
       "      <td>0.0</td>\n",
       "      <td>EEVAEELVEKVD</td>\n",
       "      <td>19</td>\n",
       "    </tr>\n",
       "    <tr>\n",
       "      <th>197</th>\n",
       "      <td>25</td>\n",
       "      <td>MEME-0</td>\n",
       "      <td>0.0</td>\n",
       "      <td>NTDTISTDN</td>\n",
       "      <td>17</td>\n",
       "    </tr>\n",
       "    <tr>\n",
       "      <th>225</th>\n",
       "      <td>3</td>\n",
       "      <td>MEME-0</td>\n",
       "      <td>0.0</td>\n",
       "      <td>QEPVTTQEPVTT</td>\n",
       "      <td>65</td>\n",
       "    </tr>\n",
       "    <tr>\n",
       "      <th>230</th>\n",
       "      <td>30</td>\n",
       "      <td>MEME-0</td>\n",
       "      <td>0.0</td>\n",
       "      <td>SNGREDKVSNGG</td>\n",
       "      <td>14</td>\n",
       "    </tr>\n",
       "    <tr>\n",
       "      <th>253</th>\n",
       "      <td>4</td>\n",
       "      <td>MEME-0</td>\n",
       "      <td>0.0</td>\n",
       "      <td>GQQNTGLKNTPS</td>\n",
       "      <td>57</td>\n",
       "    </tr>\n",
       "    <tr>\n",
       "      <th>257</th>\n",
       "      <td>41</td>\n",
       "      <td>MEME-0</td>\n",
       "      <td>0.0</td>\n",
       "      <td>PIHNEHATTPTN</td>\n",
       "      <td>12</td>\n",
       "    </tr>\n",
       "    <tr>\n",
       "      <th>275</th>\n",
       "      <td>5</td>\n",
       "      <td>MEME-0</td>\n",
       "      <td>0.0</td>\n",
       "      <td>KQILKDKCEKEJ</td>\n",
       "      <td>57</td>\n",
       "    </tr>\n",
       "    <tr>\n",
       "      <th>281</th>\n",
       "      <td>51</td>\n",
       "      <td>MEME-0</td>\n",
       "      <td>0.0</td>\n",
       "      <td>SHNFYNPTH</td>\n",
       "      <td>9</td>\n",
       "    </tr>\n",
       "    <tr>\n",
       "      <th>295</th>\n",
       "      <td>6</td>\n",
       "      <td>MEME-0</td>\n",
       "      <td>0.0</td>\n",
       "      <td>SNHKSDHNH</td>\n",
       "      <td>41</td>\n",
       "    </tr>\n",
       "    <tr>\n",
       "      <th>313</th>\n",
       "      <td>7</td>\n",
       "      <td>MEME-0</td>\n",
       "      <td>0.0</td>\n",
       "      <td>QQSDLEQERLAK</td>\n",
       "      <td>38</td>\n",
       "    </tr>\n",
       "    <tr>\n",
       "      <th>330</th>\n",
       "      <td>8</td>\n",
       "      <td>MEME-0</td>\n",
       "      <td>0.0</td>\n",
       "      <td>AITKYQNPH</td>\n",
       "      <td>31</td>\n",
       "    </tr>\n",
       "  </tbody>\n",
       "</table>\n",
       "</div>"
      ],
      "text/plain": [
       "     clique_idx motif_id  evalue           seq  membership\n",
       "0             0   MEME-0     0.0  VIPEELVEEVIP         464\n",
       "1             0   MEME-1     0.0  VVEEVVPEELVE         464\n",
       "2             0   MEME-2     0.0     EVVEEVVPE         464\n",
       "5             1   MEME-0     0.0  GIDJYBEVLKRK         169\n",
       "6             1   MEME-1     0.0  NELFGTNHVKQT         169\n",
       "7             1   MEME-2     0.0  DIPKYVSNNVYS         169\n",
       "8             1   MEME-3     0.0  SSYNVAKSTNSD         169\n",
       "17           10   MEME-0     0.0  RPQFLRWFTEWG          29\n",
       "35           11   MEME-0     0.0       VEENVEE          28\n",
       "49           12   MEME-0     0.0  RNQNVNDRRNFD          27\n",
       "66           13   MEME-0     0.0  LAKGKEVTNKAH          26\n",
       "80           14   MEME-0     0.0  QHEIVEVEEILP          25\n",
       "148          19   MEME-0     0.0  PNANPNANPNAN          23\n",
       "153           2   MEME-0     0.0  YEPMSTLEKELL          77\n",
       "154           2   MEME-1     0.0     KSKKYQNTD          77\n",
       "188          24   MEME-0     0.0  EEVAEELVEKVD          19\n",
       "197          25   MEME-0     0.0     NTDTISTDN          17\n",
       "225           3   MEME-0     0.0  QEPVTTQEPVTT          65\n",
       "230          30   MEME-0     0.0  SNGREDKVSNGG          14\n",
       "253           4   MEME-0     0.0  GQQNTGLKNTPS          57\n",
       "257          41   MEME-0     0.0  PIHNEHATTPTN          12\n",
       "275           5   MEME-0     0.0  KQILKDKCEKEJ          57\n",
       "281          51   MEME-0     0.0     SHNFYNPTH           9\n",
       "295           6   MEME-0     0.0     SNHKSDHNH          41\n",
       "313           7   MEME-0     0.0  QQSDLEQERLAK          38\n",
       "330           8   MEME-0     0.0     AITKYQNPH          31"
      ]
     },
     "execution_count": 84,
     "metadata": {},
     "output_type": "execute_result"
    }
   ],
   "source": [
    "motif_seq_frame[motif_seq_frame.evalue == 0]"
   ]
  },
  {
   "cell_type": "markdown",
   "metadata": {},
   "source": [
    "# Response Rate"
   ]
  },
  {
   "cell_type": "code",
   "execution_count": 72,
   "metadata": {
    "ExecuteTime": {
     "end_time": "2020-07-08T20:21:57.771527Z",
     "start_time": "2020-07-08T20:21:57.604388Z"
    }
   },
   "outputs": [],
   "source": [
    "patient_frame = []\n",
    "for fn in glob.glob(\"../data/enriched_fastas/Plate*.txt\"):\n",
    "    cid = fn.split(\"/\")[-1].split(\"_\")[1]\n",
    "    for header, seq in seqReader(fn):\n",
    "        patient_frame.append({\n",
    "            'cid' : cid,\n",
    "            \"header\" : header.strip(\">\")\n",
    "        })\n",
    "\n",
    "patient_frame = pd.DataFrame(patient_frame)\n",
    "patient_frame = patient_frame.merge(clique_table[['clique_idx', 'header']])"
   ]
  },
  {
   "cell_type": "code",
   "execution_count": 73,
   "metadata": {
    "ExecuteTime": {
     "end_time": "2020-07-08T20:21:58.031189Z",
     "start_time": "2020-07-08T20:21:57.895045Z"
    }
   },
   "outputs": [],
   "source": [
    "number_responses = patient_frame.\\\n",
    "    groupby('clique_idx').\\\n",
    "    apply(\n",
    "        lambda x : pd.Series({\n",
    "            'num_patients' : x.cid.unique().size\n",
    "        })\n",
    "    ).reset_index()"
   ]
  },
  {
   "cell_type": "markdown",
   "metadata": {},
   "source": [
    "## Clique Motifs with Patient Responses"
   ]
  },
  {
   "cell_type": "code",
   "execution_count": 74,
   "metadata": {
    "ExecuteTime": {
     "end_time": "2020-07-08T20:22:00.116138Z",
     "start_time": "2020-07-08T20:21:59.758684Z"
    }
   },
   "outputs": [
    {
     "data": {
      "application/vnd.plotly.v1+json": {
       "config": {
        "plotlyServerURL": "https://plot.ly"
       },
       "data": [
        {
         "customdata": [
          [
           [],
           [],
           []
          ],
          [
           [],
           [],
           []
          ],
          [
           [],
           [],
           []
          ],
          [
           [],
           [],
           []
          ],
          [
           [],
           [],
           []
          ],
          [
           [],
           [],
           []
          ],
          [
           [],
           [],
           []
          ],
          [
           [],
           [],
           []
          ],
          [
           [],
           [],
           []
          ],
          [
           [],
           [],
           []
          ],
          [
           [],
           [],
           []
          ],
          [
           [],
           [],
           []
          ],
          [
           [],
           [],
           []
          ],
          [
           [],
           [],
           []
          ],
          [
           [],
           [],
           []
          ],
          [
           [],
           [],
           []
          ],
          [
           [],
           [],
           []
          ],
          [
           [],
           [],
           []
          ],
          [
           [],
           [],
           []
          ],
          [
           [],
           [],
           []
          ],
          [
           [],
           [],
           []
          ],
          [
           [],
           [],
           []
          ],
          [
           [],
           [],
           []
          ],
          [
           [],
           [],
           []
          ],
          [
           [],
           [],
           []
          ],
          [
           [],
           [],
           []
          ],
          [
           [],
           [],
           []
          ],
          [
           [],
           [],
           []
          ],
          [
           [],
           [],
           []
          ],
          [
           [],
           [],
           []
          ],
          [
           [],
           [],
           []
          ],
          [
           [],
           [],
           []
          ],
          [
           [],
           [],
           []
          ],
          [
           [],
           [],
           []
          ],
          [
           [],
           [],
           []
          ],
          [
           [],
           [],
           []
          ],
          [
           [],
           [],
           []
          ],
          [
           [],
           [],
           []
          ],
          [
           [],
           [],
           []
          ],
          [
           [],
           [],
           []
          ],
          [
           [],
           [],
           []
          ],
          [
           [],
           [],
           []
          ],
          [
           [],
           [],
           []
          ],
          [
           [],
           [],
           []
          ],
          [
           [],
           [],
           []
          ],
          [
           [],
           [],
           []
          ],
          [
           [],
           [],
           []
          ],
          [
           [],
           [],
           []
          ],
          [
           [],
           [],
           []
          ],
          [
           [],
           [],
           []
          ],
          [
           [],
           [],
           []
          ],
          [
           [],
           [],
           []
          ],
          [
           [],
           [],
           []
          ],
          [
           [],
           [],
           []
          ],
          [
           [],
           [],
           []
          ],
          [
           [],
           [],
           []
          ],
          [
           [],
           [],
           []
          ],
          [
           [],
           [],
           []
          ],
          [
           [],
           [],
           []
          ],
          [
           [],
           [],
           []
          ],
          [
           [],
           [],
           []
          ],
          [
           [],
           [],
           []
          ],
          [
           [],
           [],
           []
          ],
          [
           [],
           [],
           []
          ],
          [
           [],
           [],
           []
          ],
          [
           [],
           [],
           []
          ],
          [
           [],
           [],
           []
          ],
          [
           [],
           [],
           []
          ],
          [
           [],
           [],
           []
          ],
          [
           [],
           [],
           []
          ],
          [
           [],
           [],
           []
          ],
          [
           [],
           [],
           []
          ],
          [
           [],
           [],
           []
          ],
          [
           [],
           [],
           []
          ],
          [
           [],
           [],
           []
          ],
          [
           [],
           [],
           []
          ],
          [
           [],
           [],
           []
          ],
          [
           [],
           [],
           []
          ],
          [
           [],
           [],
           []
          ],
          [
           [],
           [],
           []
          ],
          [
           [],
           [],
           []
          ],
          [
           [],
           [],
           []
          ],
          [
           [],
           [],
           []
          ],
          [
           [],
           [],
           []
          ],
          [
           [],
           [],
           []
          ],
          [
           [],
           [],
           []
          ],
          [
           [],
           [],
           []
          ],
          [
           [],
           [],
           []
          ],
          [
           [],
           [],
           []
          ],
          [
           [],
           [],
           []
          ],
          [
           [],
           [],
           []
          ],
          [
           [],
           [],
           []
          ],
          [
           [],
           [],
           []
          ],
          [
           [],
           [],
           []
          ],
          [
           [],
           [],
           []
          ],
          [
           [],
           [],
           []
          ],
          [
           [],
           [],
           []
          ],
          [
           [],
           [],
           []
          ],
          [
           [],
           [],
           []
          ],
          [
           [],
           [],
           []
          ],
          [
           [],
           [],
           []
          ],
          [
           [],
           [],
           []
          ],
          [
           [],
           [],
           []
          ],
          [
           [],
           [],
           []
          ],
          [
           [],
           [],
           []
          ],
          [
           [],
           [],
           []
          ],
          [
           [],
           [],
           []
          ],
          [
           [],
           [],
           []
          ],
          [
           [],
           [],
           []
          ],
          [
           [],
           [],
           []
          ],
          [
           [],
           [],
           []
          ],
          [
           [],
           [],
           []
          ],
          [
           [],
           [],
           []
          ],
          [
           [],
           [],
           []
          ],
          [
           [],
           [],
           []
          ],
          [
           [],
           [],
           []
          ],
          [
           [],
           [],
           []
          ],
          [
           [],
           [],
           []
          ],
          [
           [],
           [],
           []
          ],
          [
           [],
           [],
           []
          ],
          [
           [],
           [],
           []
          ],
          [
           [],
           [],
           []
          ],
          [
           [],
           [],
           []
          ],
          [
           [],
           [],
           []
          ],
          [
           [],
           [],
           []
          ],
          [
           [],
           [],
           []
          ],
          [
           [],
           [],
           []
          ],
          [
           [],
           [],
           []
          ],
          [
           [],
           [],
           []
          ],
          [
           [],
           [],
           []
          ],
          [
           [],
           [],
           []
          ],
          [
           [],
           [],
           []
          ],
          [
           [],
           [],
           []
          ],
          [
           [],
           [],
           []
          ],
          [
           [],
           [],
           []
          ],
          [
           [],
           [],
           []
          ],
          [
           [],
           [],
           []
          ],
          [
           [],
           [],
           []
          ],
          [
           [],
           [],
           []
          ],
          [
           [],
           [],
           []
          ],
          [
           [],
           [],
           []
          ],
          [
           [],
           [],
           []
          ],
          [
           [],
           [],
           []
          ],
          [
           [],
           [],
           []
          ],
          [
           [],
           [],
           []
          ],
          [
           [],
           [],
           []
          ],
          [
           [],
           [],
           []
          ],
          [
           [],
           [],
           []
          ],
          [
           [],
           [],
           []
          ],
          [
           [],
           [],
           []
          ],
          [
           [],
           [],
           []
          ],
          [
           [],
           [],
           []
          ],
          [
           [],
           [],
           []
          ],
          [
           [],
           [],
           []
          ],
          [
           [],
           [],
           []
          ],
          [
           [],
           [],
           []
          ],
          [
           [],
           [],
           []
          ],
          [
           [],
           [],
           []
          ],
          [
           [],
           [],
           []
          ],
          [
           [],
           [],
           []
          ],
          [
           [],
           [],
           []
          ],
          [
           [],
           [],
           []
          ],
          [
           [],
           [],
           []
          ],
          [
           [],
           [],
           []
          ],
          [
           [],
           [],
           []
          ],
          [
           [],
           [],
           []
          ],
          [
           [],
           [],
           []
          ],
          [
           [],
           [],
           []
          ]
         ],
         "hoverlabel": {
          "namelength": 0
         },
         "hovertemplate": "<b>%{hovertext}</b><br><br>num_known=0<br>agg_x=%{x}<br>agg_y=%{y}<br>membership=%{marker.size}<br>qseqid=%{customdata[0]}<br>sequences=%{customdata[1]}<br>sseqid=%{customdata[2]}<br>num_patients=%{marker.color}",
         "hovertext": [
          292,
          120,
          220,
          219,
          123,
          217,
          216,
          215,
          214,
          119,
          213,
          131,
          132,
          133,
          134,
          135,
          212,
          211,
          210,
          130,
          221,
          222,
          116,
          93,
          190,
          95,
          96,
          231,
          98,
          99,
          102,
          228,
          104,
          106,
          107,
          108,
          109,
          110,
          111,
          226,
          225,
          223,
          209,
          140,
          141,
          208,
          168,
          169,
          170,
          195,
          172,
          173,
          174,
          175,
          176,
          177,
          194,
          179,
          193,
          181,
          182,
          183,
          184,
          192,
          191,
          167,
          234,
          166,
          197,
          144,
          145,
          206,
          147,
          149,
          150,
          151,
          152,
          204,
          154,
          203,
          202,
          201,
          158,
          200,
          199,
          161,
          198,
          163,
          196,
          90,
          232,
          236,
          29,
          266,
          265,
          263,
          262,
          35,
          261,
          37,
          27,
          38,
          260,
          41,
          42,
          259,
          45,
          256,
          48,
          255,
          39,
          254,
          26,
          24,
          290,
          289,
          287,
          286,
          283,
          280,
          279,
          278,
          268,
          277,
          275,
          274,
          273,
          272,
          271,
          270,
          22,
          269,
          276,
          51,
          257,
          53,
          70,
          253,
          243,
          74,
          75,
          76,
          77,
          69,
          78,
          239,
          238,
          83,
          84,
          237,
          86,
          87,
          241,
          244,
          71,
          189,
          248,
          251,
          61,
          250,
          62,
          55,
          246,
          252,
          65,
          66,
          247,
          58
         ],
         "legendgroup": "",
         "marker": {
          "color": [
           17,
           30,
           24,
           19,
           31,
           26,
           56,
           40,
           22,
           40,
           23,
           40,
           28,
           28,
           30,
           49,
           24,
           20,
           35,
           27,
           22,
           53,
           69,
           63,
           25,
           18,
           52,
           23,
           46,
           53,
           23,
           11,
           28,
           52,
           32,
           30,
           31,
           42,
           33,
           12,
           36,
           19,
           27,
           26,
           27,
           20,
           23,
           25,
           22,
           24,
           37,
           29,
           27,
           23,
           9,
           28,
           71,
           29,
           43,
           17,
           32,
           38,
           54,
           30,
           33,
           25,
           15,
           20,
           17,
           26,
           31,
           26,
           23,
           36,
           29,
           26,
           32,
           16,
           15,
           19,
           17,
           22,
           20,
           21,
           22,
           37,
           18,
           40,
           29,
           60,
           23,
           35,
           131,
           21,
           19,
           13,
           20,
           47,
           17,
           32,
           96,
           64,
           18,
           52,
           64,
           12,
           97,
           18,
           76,
           35,
           51,
           29,
           54,
           45,
           22,
           22,
           12,
           43,
           46,
           12,
           21,
           25,
           23,
           15,
           24,
           11,
           20,
           22,
           25,
           25,
           103,
           29,
           18,
           38,
           31,
           32,
           102,
           24,
           13,
           47,
           48,
           40,
           39,
           17,
           44,
           11,
           12,
           29,
           79,
           34,
           25,
           32,
           17,
           22,
           51,
           36,
           22,
           28,
           87,
           23,
           47,
           15,
           20,
           22,
           29,
           53,
           18,
           65
          ],
          "coloraxis": "coloraxis",
          "size": [
           2,
           4,
           2,
           2,
           4,
           2,
           2,
           2,
           2,
           4,
           2,
           4,
           4,
           4,
           4,
           4,
           2,
           2,
           2,
           4,
           2,
           2,
           4,
           6,
           3,
           6,
           5,
           2,
           5,
           5,
           5,
           2,
           5,
           5,
           5,
           5,
           5,
           5,
           5,
           2,
           2,
           2,
           2,
           4,
           4,
           2,
           3,
           3,
           3,
           3,
           3,
           3,
           3,
           3,
           3,
           3,
           3,
           3,
           3,
           3,
           3,
           3,
           3,
           3,
           3,
           3,
           2,
           3,
           2,
           4,
           4,
           2,
           3,
           3,
           3,
           3,
           3,
           2,
           3,
           2,
           2,
           2,
           3,
           2,
           2,
           3,
           2,
           3,
           3,
           6,
           2,
           2,
           15,
           2,
           2,
           2,
           2,
           13,
           2,
           13,
           15,
           13,
           2,
           12,
           11,
           2,
           10,
           2,
           10,
           2,
           13,
           2,
           16,
           19,
           2,
           2,
           2,
           2,
           2,
           2,
           2,
           2,
           2,
           2,
           2,
           2,
           2,
           2,
           2,
           2,
           21,
           2,
           2,
           9,
           2,
           9,
           7,
           2,
           2,
           7,
           7,
           7,
           7,
           7,
           7,
           2,
           2,
           6,
           6,
           2,
           6,
           6,
           2,
           2,
           7,
           3,
           2,
           2,
           8,
           2,
           8,
           8,
           2,
           2,
           7,
           7,
           2,
           8
          ],
          "sizemode": "area",
          "sizeref": 0.1856,
          "symbol": "circle"
         },
         "mode": "markers",
         "name": "",
         "showlegend": false,
         "type": "scatter",
         "x": [
          0.6475355625152588,
          0.2518432065844536,
          -0.4241698533296585,
          -0.8175061643123627,
          -0.8761849850416183,
          -0.9982385039329529,
          0.5230086445808411,
          -0.761035293340683,
          -0.5240723192691803,
          -0.6348419487476349,
          0.10208119824528694,
          -0.7873566448688507,
          0.8431320935487747,
          -0.8277634084224701,
          -0.8284671157598495,
          -0.028145532589405775,
          -0.48834656178951263,
          -0.6134238243103027,
          0.6002441346645355,
          0.6898856610059738,
          -0.7212074100971222,
          -0.618577390909195,
          0.2708883732557297,
          0.8293770750363668,
          -0.833723763624827,
          -0.09100236743688583,
          -0.17580167353153228,
          0.8254100382328033,
          0.6572437047958374,
          -0.04528619721531868,
          -0.6193150997161865,
          -0.8677507638931274,
          -0.5851840615272522,
          0.5437123775482178,
          0.5034769296646118,
          0.6727539658546448,
          0.8864493250846863,
          0.5191182136535645,
          0.3928759515285492,
          -0.7123396098613739,
          -0.8445254862308502,
          0.6603643596172333,
          0.40816062688827515,
          -0.8457357436418533,
          0.8538035154342651,
          -0.601874440908432,
          -0.5825655460357666,
          -0.3931679626305898,
          0.6890831589698792,
          0.2398356000582377,
          0.9323257406552633,
          0.09784406175216039,
          -0.3463329275449117,
          0.8091156482696533,
          0.14589436848958334,
          -0.7921115954717001,
          -0.8237970272699991,
          0.754879097143809,
          0.4179978171984355,
          0.8028054436047872,
          -0.07725727061430614,
          -0.8402269879976908,
          -0.719156006971995,
          -0.4937218228975932,
          -0.667732854684194,
          0.8565682371457418,
          0.7978111803531647,
          0.4059058129787445,
          0.9803009927272797,
          -0.6087774634361267,
          0.4454371780157089,
          0.8563679754734039,
          0.4393457770347595,
          0.6803518732388815,
          -0.7467090487480164,
          -0.4245506326357524,
          0.7618539929389954,
          -0.6824122965335846,
          -0.20688551167647043,
          0.8862786889076233,
          -0.7095068395137787,
          0.9512266516685486,
          0.02820168249309063,
          0.33013686537742615,
          0.1665743589401245,
          0.8080452680587769,
          -0.04457945190370083,
          -0.2789967556794484,
          -0.5880341132481893,
          0.5884727239608765,
          0.44542641937732697,
          -0.805758535861969,
          -0.6378083189328512,
          -0.8779019415378571,
          -0.6946496665477753,
          -0.5498456060886383,
          0.820814847946167,
          0.21197162797817817,
          0.8477589190006256,
          0.42224403528066784,
          0.10542789548635483,
          0.5352259553395785,
          0.5923633575439453,
          -0.6205871303876241,
          0.6226093552329324,
          0.8585631847381592,
          -0.2512988895177841,
          0.6974952816963196,
          -0.45440555512905123,
          -0.8597918152809143,
          -0.5203170913916367,
          -0.03678949177265167,
          -0.13810021430253983,
          0.0551789665692731,
          -0.5786575376987457,
          0.7362712919712067,
          -0.4605129510164261,
          -0.757753998041153,
          0.8816474080085754,
          -0.5567535161972046,
          -0.17522230744361877,
          0.6122471392154694,
          0.8472238481044769,
          -0.5331206619739532,
          -0.7311710119247437,
          -0.02127851825207472,
          -0.7600481510162354,
          -0.4042147994041443,
          -0.7764822244644165,
          0.81825190782547,
          0.05183814572436469,
          0.23907049745321274,
          0.02295166812837124,
          0.5814485020107694,
          0.7946080267429352,
          -0.20864697131845686,
          -0.09239796442644936,
          -0.6497998833656311,
          -0.809581995010376,
          -0.6942738890647888,
          -0.7116037011146545,
          0.7321859427860805,
          0.6845015713146755,
          0.7677155477660043,
          -0.7091170719691685,
          -0.5099762082099915,
          0.8661114871501923,
          -0.21946121007204056,
          -0.7888917426268259,
          -0.8705456852912903,
          0.1681836023926735,
          0.027375131535033386,
          0.7477187812328339,
          0.824545830488205,
          0.5426077757562909,
          0.7120481530825297,
          -0.8434756398200989,
          -0.583617627620697,
          0.31089362874627113,
          -0.7615492343902588,
          -0.7760321125388145,
          -0.665095679461956,
          0.5773138701915741,
          0.3940075784921646,
          0.2841348094599588,
          -0.6260083573205131,
          0.32387781143188477,
          0.7163595333695412
         ],
         "xaxis": "x5",
         "y": [
          -0.5380062460899353,
          -0.8254193663597107,
          0.8573657274246216,
          -0.3184778094291687,
          0.3055094704031944,
          -0.2243606001138687,
          -0.8179677128791809,
          -0.5386039018630981,
          0.7136238217353821,
          0.46803103387355804,
          0.9017426371574402,
          0.4478585943579674,
          -0.46409714967012405,
          -0.20918551087379456,
          -0.025031602010130882,
          -0.7224023044109344,
          0.7479489147663116,
          0.6265020966529846,
          0.6366500854492188,
          -0.37172168493270874,
          -0.42120401561260223,
          -0.5024694800376892,
          0.8848880529403687,
          0.03497260374327501,
          0.06586311012506485,
          -0.8479793469111124,
          -0.8307247757911682,
          -0.15925990045070648,
          0.5312221765518188,
          0.7956620812416076,
          0.3972312033176422,
          0.13112268596887589,
          -0.4440335392951965,
          -0.5043089985847473,
          0.6308133482933045,
          0.33870763182640073,
          0.023481889814138412,
          -0.6466766595840454,
          0.6303765535354614,
          -0.6646806597709656,
          0.47243452072143555,
          -0.6634115874767303,
          -0.6524355113506317,
          0.2211168296635151,
          -0.13492607325315475,
          0.8880639374256134,
          0.7237107753753662,
          0.7740923563639323,
          -0.49017422397931415,
          0.7830337683359782,
          0.1601299544175466,
          0.8387977679570516,
          0.6663059790929159,
          0.2784966627756755,
          0.8732405702273051,
          0.2225214292605718,
          -0.09854647020498912,
          0.21857106188933054,
          0.694806436697642,
          0.43192485968271893,
          -0.8047234416007996,
          -0.26941487193107605,
          0.5723666548728943,
          0.6540312767028809,
          0.400736798842748,
          0.3340451121330261,
          0.10285058990120888,
          0.737184484799703,
          -0.11812270805239677,
          -0.5526965260505676,
          -0.6600757986307144,
          -0.2100047543644905,
          0.6273161768913269,
          -0.6306577920913696,
          0.14494189620018005,
          -0.709647019704183,
          -0.3494853973388672,
          0.5791778564453125,
          0.8626402616500854,
          0.3824079781770706,
          0.3736450970172882,
          0.2588624954223633,
          0.9051562746365865,
          0.8169146776199341,
          0.9580169916152954,
          -0.18725556135177612,
          0.5604053437709808,
          -0.8525710900624593,
          0.6664364536603292,
          -0.5097171713908514,
          0.7778818607330322,
          0.20523809641599655,
          0.19283572733402252,
          0.25316616892814636,
          0.49535389244556427,
          0.7260353565216064,
          -0.006654052762314677,
          -0.6633920669555664,
          0.081332478672266,
          0.22414105557478392,
          -0.5853990713755289,
          0.24832346576910752,
          -0.580075591802597,
          -0.23749471207459769,
          -0.3718002736568451,
          -0.3470030277967453,
          0.6471248388290405,
          0.4262312799692154,
          -0.5570680856704712,
          -0.09228573366999626,
          -0.4776285863839663,
          0.9095382392406464,
          0.35948610305786133,
          0.33775198930188227,
          -0.645016074180603,
          -0.5736989974975586,
          -0.7164072692394257,
          -0.19653627276420593,
          -0.11680850759148598,
          -0.5105507969856262,
          0.8790509700775146,
          0.42660559713840485,
          -0.07168517634272575,
          0.6260767877101898,
          0.32888640463352203,
          -0.8288385272026062,
          -0.24235264211893082,
          0.722096860408783,
          -0.5015540421009064,
          0.2060088887810707,
          -0.3382442494233449,
          -0.9274784028530121,
          0.8764851093292236,
          -0.42949040399657357,
          0.4805295169353485,
          0.7090266479386224,
          0.7799589293343681,
          0.06492535397410393,
          0.36735011637210846,
          -0.20308459443705423,
          0.3710737185818808,
          0.29228052496910095,
          -0.16927186293261393,
          -0.016130712814629078,
          0.12207349496228355,
          -0.8158153891563416,
          -0.2733161747455597,
          -0.7120779156684875,
          -0.2691040486097336,
          0.002141793433111161,
          0.7618382374445597,
          0.7423753639062246,
          0.18138714879751205,
          -0.538499504327774,
          0.5544085587774005,
          0.40100889404614765,
          0.49047642946243286,
          -0.7162346541881561,
          -0.7235517576336861,
          -0.4094488024711609,
          0.2733064331114292,
          -0.3712819516658783,
          -0.7326213121414185,
          -0.7904488146305084,
          0.6638110280036926,
          0.5113513810294015,
          -0.8597148656845093,
          0.09173860587179661
         ],
         "yaxis": "y5"
        },
        {
         "customdata": [
          [
           [
            "clique_288_MEME-1"
           ],
           [
            "GAAVETFFRWH"
           ],
           [
            "eid_1067369::erythrocyte_binding_antigen-175_[Plasmodium_falciparum_3D7]"
           ]
          ],
          [
           [
            "clique_233_MEME-1"
           ],
           [
            "ASKEAEE"
           ],
           [
            "eid_1066661::merozoite_surface_protein_3"
           ]
          ],
          [
           [
            "clique_285_MEME-1"
           ],
           [
            "DIDEINDIDEIN"
           ],
           [
            "eid_1067614::MSP7-like_protein_[Plasmodium_falciparum_3D7]"
           ]
          ],
          [
           [
            "clique_284_MEME-1"
           ],
           [
            "GASPPSGTS"
           ],
           [
            "eid_95828::merozoite_surface_protein_1"
           ]
          ],
          [
           [
            "clique_235_MEME-1"
           ],
           [
            "REYQLDNEGPD"
           ],
           [
            "eid_1067713::MSP7-like_protein_[Plasmodium_falciparum_3D7]"
           ]
          ],
          [
           [
            "clique_282_MEME-1"
           ],
           [
            "LIEEVVP"
           ],
           [
            "eid_11776::11-1_polypeptide"
           ]
          ],
          [
           [
            "clique_281_MEME-1"
           ],
           [
            "GTGQHGHMHGSR"
           ],
           [
            "eid_142387::merozoite_surface_protein_2"
           ]
          ],
          [
           [
            "clique_264_MEME-1"
           ],
           [
            "GSAGGSA"
           ],
           [
            "eid_1067295::merozoite_surface_protein_2_[Plasmodium_falciparum_3D7]"
           ]
          ],
          [
           [
            "clique_230_MEME-1"
           ],
           [
            "NENINKKDSDHN"
           ],
           [
            "eid_1067362::mature_parasite-infected_erythrocyte_surface_antigen_[Plasmodium_falciparum_3D7]"
           ]
          ],
          [
           [
            "clique_229_MEME-1"
           ],
           [
            "TYDEKVKKN"
           ],
           [
            "eid_59591::Liver_stage_antigen"
           ]
          ],
          [
           [
            "clique_245_MEME-1"
           ],
           [
            "EGPQGPADNVTP"
           ],
           [
            "eid_1068338::endoplasmin"
           ]
          ],
          [
           [
            "clique_207_MEME-1"
           ],
           [
            "NDENKTMEHIKI"
           ],
           [
            "eid_1067099::merozoite_surface_protein_[Plasmodium_falciparum_3D7]"
           ]
          ],
          [
           [
            "clique_249_MEME-1"
           ],
           [
            "NIKDNKHENIQD"
           ],
           [
            "eid_914121::conserved_Plasmodium_protein"
           ]
          ],
          [
           [
            "clique_227_MEME-1"
           ],
           [
            "RIPSGSFFBTP"
           ],
           [
            "eid_913458::conserved_Plasmodium_protein"
           ]
          ],
          [
           [
            "clique_218_MEME-1"
           ],
           [
            "QNNDYNQNNDYN"
           ],
           [
            "eid_1067639::cytoadherence_linked_asexual_protein_3.2_[Plasmodium_falciparum_3D7]"
           ]
          ],
          [
           [
            "clique_205_MEME-1"
           ],
           [
            "PQGSTGA"
           ],
           [
            "eid_227384::serine_repeat_antigen_5"
           ]
          ],
          [
           [
            "clique_242_MEME-1"
           ],
           [
            "FIWDGMJCA"
           ],
           [
            "eid_72351::erythrocyte_membrane_protein_1"
           ]
          ],
          [
           [
            "clique_267_MEME-1"
           ],
           [
            "CVDNLNYYFEFY"
           ],
           [
            "eid_914291::cytochrome_c_oxidase_assembly_protein_(heme_A:_farnesyltransferase)"
           ]
          ],
          [
           [
            "clique_224_MEME-1"
           ],
           [
            "QVPVSGSPL"
           ],
           [
            "eid_1068342::merozoite_surface_protein_1"
           ]
          ],
          [
           [
            "clique_258_MEME-1"
           ],
           [
            "LNQKEEENYKNH"
           ],
           [
            "eid_1066940::erythrocyte_binding_antigen-140_[Plasmodium_falciparum_3D7]"
           ]
          ],
          [
           [
            "clique_240_MEME-1"
           ],
           [
            "NIDNMENIDNM"
           ],
           [
            "eid_913455::calpain_[Plasmodium_falciparum_3D7]"
           ]
          ],
          [
           [
            "clique_146_MEME-1"
           ],
           [
            "SRIPSGSFF"
           ],
           [
            "eid_913458::conserved_Plasmodium_protein"
           ]
          ],
          [
           [
            "clique_187_MEME-1"
           ],
           [
            "DNIKGEDNIKG"
           ],
           [
            "eid_913077::schizont_egress_antigen-1_[Plasmodium_falciparum_3D7]"
           ]
          ],
          [
           [
            "clique_57_MEME-2"
           ],
           [
            "KLQNDKDSG"
           ],
           [
            "eid_1067335::glutamate-rich_protein_[Plasmodium_falciparum_3D7]"
           ]
          ],
          [
           [
            "clique_59_MEME-1"
           ],
           [
            "GDDNKNGDB"
           ],
           [
            "eid_1067240::merozoite_surface_protein_1"
           ]
          ],
          [
           [
            "clique_60_MEME-1"
           ],
           [
            "ETGESKETGESK"
           ],
           [
            "eid_1067392::mature_parasite-infected_erythrocyte_surface_antigen_[Plasmodium_falciparum_3D7]"
           ]
          ],
          [
           [
            "clique_63_MEME-1",
            "clique_63_MEME-2"
           ],
           [
            "YKLGNNKKSYLI",
            "NDVHKKKADDGN"
           ],
           [
            "eid_1068632::merozoite_surface_protein_10_[Plasmodium_falciparum_3D7]"
           ]
          ],
          [
           [
            "clique_64_MEME-1"
           ],
           [
            "NNNMDNKKNMDN"
           ],
           [
            "eid_1067999::duffy_binding-like_merozoite_surface_protein_[Plasmodium_falciparum_3D7]"
           ]
          ],
          [
           [
            "clique_67_MEME-1"
           ],
           [
            "QQSDLEQERRAK"
           ],
           [
            "eid_13914::Liver_stage_antigen"
           ]
          ],
          [
           [
            "clique_68_MEME-1"
           ],
           [
            "MEEHNKIEEHNK"
           ],
           [
            "eid_497298::early_transcribed_membrane_protein_13"
           ]
          ],
          [
           [
            "clique_72_MEME-1"
           ],
           [
            "DEGKTTDEGKTT"
           ],
           [
            "eid_1068178::mature_parasite-infected_erythrocyte_surface_antigen_[Plasmodium_falciparum_3D7]"
           ]
          ],
          [
           [
            "clique_188_MEME-1"
           ],
           [
            "RWLEEWGEEFCR"
           ],
           [
            "eid_70460::erythrocyte_membrane_protein_1_var_IT-ICAM"
           ]
          ],
          [
           [
            "clique_81_MEME-1"
           ],
           [
            "VAPSVEE"
           ],
           [
            "eid_68360::Liver_stage_antigen-3"
           ]
          ],
          [
           [
            "clique_85_MEME-1"
           ],
           [
            "EPFPNQKHKDLQ"
           ],
           [
            "eid_28742::glutamate-rich_protein"
           ]
          ],
          [
           [
            "clique_88_MEME-1"
           ],
           [
            "MSIHDGMKGQKY"
           ],
           [
            "eid_1066929::erythrocyte_binding_antigen-165_[Plasmodium_falciparum_3D7]"
           ]
          ],
          [
           [
            "clique_92_MEME-1"
           ],
           [
            "PCZLEYQWHTNV"
           ],
           [
            "eid_236266::erythrocyte_membrane_protein_1"
           ]
          ],
          [
           [
            "clique_97_MEME-1"
           ],
           [
            "NDKDIYNNM"
           ],
           [
            "eid_1068488::serine_repeat_antigen_5_[Plasmodium_falciparum_3D7]"
           ]
          ],
          [
           [
            "clique_101_MEME-1"
           ],
           [
            "SPRIFJSDBKDE"
           ],
           [
            "eid_74433::apical_membrane_antigen-1"
           ]
          ],
          [
           [
            "clique_56_MEME-1"
           ],
           [
            "KITLEKEIKNFR"
           ],
           [
            "eid_1067229::cytoadherence_linked_asexual_protein_9_[Plasmodium_falciparum_3D7]"
           ]
          ],
          [
           [
            "clique_103_MEME-1"
           ],
           [
            "CKCIPNYDCDIS"
           ],
           [
            "eid_1068270::merozoite_surface_protein_10_[Plasmodium_falciparum_3D7]"
           ]
          ],
          [
           [
            "clique_54_MEME-1"
           ],
           [
            "GPNDPFYDGTFN"
           ],
           [
            "eid_1067253::high_molecular_weight_rhoptry_protein_3_[Plasmodium_falciparum_3D7]"
           ]
          ],
          [
           [
            "clique_47_MEME-1"
           ],
           [
            "RQMFYTLGDYRD"
           ],
           [
            "eid_1068080::cytoadherence_linked_asexual_protein_3.2_[Plasmodium_falciparum_3D7]"
           ]
          ],
          [
           [
            "clique_2_MEME-3"
           ],
           [
            "DPYKQLKEVVEK"
           ],
           [
            "eid_11799::Liver_stage_antigen"
           ]
          ],
          [
           [
            "clique_3_MEME-1",
            "clique_3_MEME-2"
           ],
           [
            "QEPVTTQEPVTT",
            "QEPVTTQEP"
           ],
           [
            "eid_78559::Interspersed_repeat_antigen"
           ]
          ],
          [
           [
            "clique_6_MEME-3"
           ],
           [
            "CANCNEEDKNMS"
           ],
           [
            "eid_1066614::merozoite_surface_protein_1"
           ]
          ],
          [
           [
            "clique_11_MEME-1"
           ],
           [
            "VEENVEE"
           ],
           [
            "eid_68166::Ring-infected_erythrocyte_surface_antigen_precursor"
           ]
          ],
          [
           [
            "clique_12_MEME-1"
           ],
           [
            "RNQNVNDRRNFD"
           ],
           [
            "eid_1067300::cytoadherence_linked_asexual_protein_3.1_[Plasmodium_falciparum_3D7]"
           ]
          ],
          [
           [
            "clique_13_MEME-2"
           ],
           [
            "NLEEYBZTD"
           ],
           [
            "eid_1068644::mature_parasite-infected_erythrocyte_surface_antigen_[Plasmodium_falciparum_3D7]"
           ]
          ],
          [
           [
            "clique_18_MEME-5"
           ],
           [
            "SGEKLQYKKKEG"
           ],
           [
            "eid_1068066::merozoite_surface_protein_10_[Plasmodium_falciparum_3D7]"
           ]
          ],
          [
           [
            "clique_25_MEME-1"
           ],
           [
            "NTDTISTDN"
           ],
           [
            "eid_913827::sporozoite_threonine_and_asparagine-rich_protein_[Plasmodium_falciparum_3D7]"
           ]
          ],
          [
           [
            "clique_32_MEME-1"
           ],
           [
            "NNIYVKEFYKKL"
           ],
           [
            "eid_1066953::apical_membrane_antigen_1"
           ]
          ],
          [
           [
            "clique_33_MEME-2"
           ],
           [
            "ELKNKEL"
           ],
           [
            "eid_1067038::erythrocyte_binding_antigen-181_[Plasmodium_falciparum_3D7]"
           ]
          ],
          [
           [
            "clique_36_MEME-1",
            "clique_36_MEME-2"
           ],
           [
            "KEKEEVKEKEEV",
            "NKDKVIEQE"
           ],
           [
            "eid_1066787::mature_parasite-infected_erythrocyte_surface_antigen_[Plasmodium_falciparum_3D7]"
           ]
          ],
          [
           [
            "clique_40_MEME-1"
           ],
           [
            "GSVTEEIVE"
           ],
           [
            "eid_70537::antigen_332"
           ]
          ],
          [
           [
            "clique_43_MEME-2"
           ],
           [
            "TTVTEEDTFKGQ"
           ],
           [
            "eid_1067345::cytoadherence_linked_asexual_protein_8_[Plasmodium_falciparum_3D7]"
           ]
          ],
          [
           [
            "clique_44_MEME-2"
           ],
           [
            "ZFDKQKKKY"
           ],
           [
            "eid_181670::PfEMP1"
           ]
          ],
          [
           [
            "clique_46_MEME-1"
           ],
           [
            "SDGDKGP"
           ],
           [
            "eid_1067578::endoplasmin"
           ]
          ],
          [
           [
            "clique_52_MEME-1"
           ],
           [
            "ATKEASTSK"
           ],
           [
            "eid_58833::Knob-associated_histidine-rich_protein_precursor"
           ]
          ],
          [
           [
            "clique_105_MEME-1"
           ],
           [
            "TPQETVTTQEPV"
           ],
           [
            "eid_78559::Interspersed_repeat_antigen"
           ]
          ],
          [
           [
            "clique_79_MEME-2"
           ],
           [
            "FLKGDSEDGSEQ"
           ],
           [
            "eid_1067256::merozoite_surface_protein_7_[Plasmodium_falciparum_IGH-CR14]"
           ]
          ],
          [
           [
            "clique_113_MEME-1"
           ],
           [
            "NGNNFNKDNIFN"
           ],
           [
            "eid_1066909::merozoite_surface_protein_1"
           ]
          ],
          [
           [
            "clique_143_MEME-1"
           ],
           [
            "YLDEQEEDVYLD"
           ],
           [
            "eid_1066726::cytoadherence_linked_asexual_protein_8_[Plasmodium_falciparum_3D7]"
           ]
          ],
          [
           [
            "clique_291_MEME-1"
           ],
           [
            "NNKNGDNNKNGD"
           ],
           [
            "eid_21318::hypothetical_protein"
           ]
          ],
          [
           [
            "clique_148_MEME-1"
           ],
           [
            "KDINKTDSE"
           ],
           [
            "eid_4127::hypothetical_protein_PF14_0045"
           ]
          ],
          [
           [
            "clique_153_MEME-1"
           ],
           [
            "SNDKQSNDI"
           ],
           [
            "eid_1066904::merozoite_surface_protein_5_[Plasmodium_falciparum_3D7]"
           ]
          ],
          [
           [
            "clique_155_MEME-1"
           ],
           [
            "KSNEQSKREDDS"
           ],
           [
            "eid_1066839::erythrocyte_binding_antigen-175_[Plasmodium_falciparum_3D7]"
           ]
          ],
          [
           [
            "clique_112_MEME-2"
           ],
           [
            "QKSPPKELSNKQ"
           ],
           [
            "eid_1068371::merozoite_surface_protein_1"
           ]
          ],
          [
           [
            "clique_157_MEME-1"
           ],
           [
            "HDIYDIDTF"
           ],
           [
            "eid_1067530::erythrocyte_binding_antigen-140_[Plasmodium_falciparum_3D7]"
           ]
          ],
          [
           [
            "clique_159_MEME-2"
           ],
           [
            "SRNDEMLDP"
           ],
           [
            "eid_465588::apical_membrane_antigen_1"
           ]
          ],
          [
           [
            "clique_160_MEME-1"
           ],
           [
            "QNDKDSGKL"
           ],
           [
            "eid_1067335::glutamate-rich_protein_[Plasmodium_falciparum_3D7]"
           ]
          ],
          [
           [
            "clique_162_MEME-1"
           ],
           [
            "BNFDDKNPFDEY"
           ],
           [
            "eid_1067211::methionine--tRNA_ligase_[Plasmodium_falciparum_3D7]"
           ]
          ],
          [
           [
            "clique_164_MEME-1"
           ],
           [
            "SKSQVQHPK"
           ],
           [
            "eid_1068066::merozoite_surface_protein_10_[Plasmodium_falciparum_3D7]"
           ]
          ],
          [
           [
            "clique_165_MEME-1"
           ],
           [
            "GSFDTIFDGFVN"
           ],
           [
            "eid_1067481::merozoite_surface_protein_[Plasmodium_falciparum_3D7]"
           ]
          ],
          [
           [
            "clique_171_MEME-2"
           ],
           [
            "EKRNGFDLBDDT"
           ],
           [
            "eid_45337::sporozoite_surface_protein_2"
           ]
          ],
          [
           [
            "clique_178_MEME-1"
           ],
           [
            "YGPNGTYGPNGT"
           ],
           [
            "eid_58266::major_surface_antigen_p190"
           ]
          ],
          [
           [
            "clique_180_MEME-1"
           ],
           [
            "INNGGCGDDKIC"
           ],
           [
            "eid_1066917::merozoite_surface_protein_5_[Plasmodium_falciparum_3D7]"
           ]
          ],
          [
           [
            "clique_185_MEME-1"
           ],
           [
            "LPEEDIINEKVQ"
           ],
           [
            "eid_1066611::erythrocyte_binding_antigen-140_[Plasmodium_falciparum_3D7]"
           ]
          ],
          [
           [
            "clique_186_MEME-1"
           ],
           [
            "KPFNEPTYVDSN"
           ],
           [
            "eid_913520::glutamate-rich_protein_[Plasmodium_falciparum_3D7]"
           ]
          ],
          [
           [
            "clique_142_MEME-1"
           ],
           [
            "LDRHRDMCEKW"
           ],
           [
            "eid_913519::erythrocyte_membrane_protein_1_(PfEMP1)"
           ]
          ],
          [
           [
            "clique_138_MEME-1"
           ],
           [
            "NVHKNVNNDDM"
           ],
           [
            "eid_72884::Erythrocyte_binding_antigen"
           ]
          ],
          [
           [
            "clique_156_MEME-1"
           ],
           [
            "FDDCQLQNEFCD"
           ],
           [
            "eid_67995::hypothetical_protein_PFB0145c"
           ]
          ],
          [
           [
            "clique_124_MEME-1"
           ],
           [
            "APIFGSPSNKDD"
           ],
           [
            "eid_1068541::merozoite_surface_protein_8_[Plasmodium_falciparum_3D7]"
           ]
          ],
          [
           [
            "clique_118_MEME-1"
           ],
           [
            "ENKDKVIGQEII"
           ],
           [
            "eid_1068372::mature_parasite-infected_erythrocyte_surface_antigen_[Plasmodium_falciparum_3D7]"
           ]
          ],
          [
           [
            "clique_121_MEME-1"
           ],
           [
            "LSDDVRPDKNHE"
           ],
           [
            "eid_1066748::erythrocyte_binding_antigen-175_[Plasmodium_falciparum_3D7]"
           ]
          ],
          [
           [
            "clique_117_MEME-1"
           ],
           [
            "NEINREINNEIN"
           ],
           [
            "eid_43692::hypothetical_protein_PF07_0086"
           ]
          ],
          [
           [
            "clique_122_MEME-1"
           ],
           [
            "KKGDDNKMMVEN"
           ],
           [
            "eid_913638::sporozoite_surface_protein_3"
           ]
          ],
          [
           [
            "clique_115_MEME-1"
           ],
           [
            "YILGWEFGGGVP"
           ],
           [
            "eid_1068527::merozoite_surface_protein_3"
           ]
          ],
          [
           [
            "clique_125_MEME-2"
           ],
           [
            "LDPKFYNLGDFG"
           ],
           [
            "eid_39565::antigen_Pfg27/25"
           ]
          ],
          [
           [
            "clique_136_MEME-1"
           ],
           [
            "CIPPRRRKLTVG"
           ],
           [
            "eid_1067473::erythrocyte_binding_antigen-175_[Plasmodium_falciparum_3D7]"
           ]
          ],
          [
           [
            "clique_114_MEME-1"
           ],
           [
            "NHKSISNHKDIN"
           ],
           [
            "eid_1067788::methionine--tRNA_ligase_[Plasmodium_falciparum_3D7]"
           ]
          ],
          [
           [
            "clique_127_MEME-1"
           ],
           [
            "MNGDNKMNGDNK"
           ],
           [
            "eid_21318::hypothetical_protein"
           ]
          ],
          [
           [
            "clique_128_MEME-1"
           ],
           [
            "KLIGDNKLIGD"
           ],
           [
            "eid_11927::erythrocyte_membrane-associated_giant_protein_antigen_332"
           ]
          ],
          [
           [
            "clique_129_MEME-2"
           ],
           [
            "SIQEQLIGTIGR"
           ],
           [
            "eid_181694::erythrocyte_membrane_protein_1"
           ]
          ]
         ],
         "hoverlabel": {
          "namelength": 0
         },
         "hovertemplate": "<b>%{hovertext}</b><br><br>num_known=1<br>agg_x=%{x}<br>agg_y=%{y}<br>membership=%{marker.size}<br>qseqid=%{customdata[0]}<br>sequences=%{customdata[1]}<br>sseqid=%{customdata[2]}<br>num_patients=%{marker.color}",
         "hovertext": [
          288,
          233,
          285,
          284,
          235,
          282,
          281,
          264,
          230,
          229,
          245,
          207,
          249,
          227,
          218,
          205,
          242,
          267,
          224,
          258,
          240,
          146,
          187,
          57,
          59,
          60,
          63,
          64,
          67,
          68,
          72,
          188,
          81,
          85,
          88,
          92,
          97,
          101,
          56,
          103,
          54,
          47,
          2,
          3,
          6,
          11,
          12,
          13,
          18,
          25,
          32,
          33,
          36,
          40,
          43,
          44,
          46,
          52,
          105,
          79,
          113,
          143,
          291,
          148,
          153,
          155,
          112,
          157,
          159,
          160,
          162,
          164,
          165,
          171,
          178,
          180,
          185,
          186,
          142,
          138,
          156,
          124,
          118,
          121,
          117,
          122,
          115,
          125,
          136,
          114,
          127,
          128,
          129
         ],
         "legendgroup": "",
         "marker": {
          "color": [
           18,
           33,
           13,
           22,
           12,
           40,
           20,
           37,
           20,
           18,
           86,
           15,
           23,
           15,
           27,
           16,
           19,
           16,
           16,
           13,
           22,
           29,
           26,
           59,
           41,
           80,
           72,
           49,
           74,
           38,
           37,
           24,
           104,
           37,
           29,
           33,
           23,
           38,
           26,
           75,
           42,
           99,
           96,
           142,
           69,
           116,
           156,
           35,
           47,
           67,
           24,
           19,
           64,
           42,
           100,
           71,
           26,
           64,
           88,
           31,
           43,
           28,
           19,
           16,
           31,
           41,
           31,
           36,
           16,
           12,
           19,
           66,
           27,
           19,
           23,
           52,
           28,
           21,
           89,
           26,
           28,
           30,
           48,
           30,
           28,
           31,
           31,
           34,
           39,
           45,
           26,
           37,
           26
          ],
          "coloraxis": "coloraxis",
          "size": [
           2,
           2,
           2,
           2,
           2,
           2,
           2,
           2,
           2,
           2,
           2,
           2,
           2,
           2,
           2,
           2,
           2,
           2,
           2,
           2,
           2,
           3,
           3,
           8,
           8,
           8,
           8,
           7,
           7,
           7,
           7,
           3,
           6,
           6,
           6,
           6,
           5,
           5,
           8,
           5,
           8,
           10,
           77,
           65,
           41,
           28,
           27,
           26,
           24,
           17,
           14,
           14,
           13,
           13,
           11,
           11,
           10,
           9,
           5,
           7,
           5,
           4,
           2,
           3,
           3,
           3,
           5,
           3,
           3,
           3,
           3,
           3,
           3,
           3,
           3,
           3,
           3,
           3,
           4,
           4,
           3,
           4,
           4,
           4,
           4,
           4,
           4,
           4,
           4,
           5,
           4,
           4,
           4
          ],
          "sizemode": "area",
          "sizeref": 0.1856,
          "symbol": "circle"
         },
         "mode": "markers",
         "name": "",
         "showlegend": false,
         "type": "scatter",
         "x": [
          0.9683883488178253,
          0.2848224490880966,
          -0.07106811180710793,
          0.8846813142299652,
          -0.1479027345776558,
          -0.5710216164588928,
          -0.6447552144527435,
          -0.08799504116177559,
          -0.4417027086019516,
          0.9160798490047455,
          0.34834231436252594,
          0.12572979182004929,
          -0.6976119875907898,
          -0.7170154452323914,
          0.48320139944553375,
          -0.5005680173635483,
          -0.33626289665699005,
          -0.15690919011831284,
          0.36197255551815033,
          -0.6366885006427765,
          0.6557102799415588,
          0.12675794959068298,
          0.8027218381563822,
          -0.8021852225065231,
          0.19132046774029732,
          0.3337153233587742,
          0.6126223132014275,
          0.7990794011524746,
          0.10786050025905881,
          -0.7502149002892631,
          -0.14373990254742758,
          0.022318603470921516,
          0.4915817826986313,
          -0.3185959458351135,
          0.7759771843751272,
          -0.8085672855377197,
          0.7318092465400696,
          -0.8016077876091003,
          0.04246543953195214,
          -0.7248126983642578,
          -0.23797217197716236,
          -0.17038653939962387,
          0.10028295102831605,
          0.13599893221488366,
          0.2626943530105963,
          0.22160888356821878,
          0.26470695049674425,
          0.3815499120033704,
          -0.19524498718480268,
          0.5453455342965967,
          0.5376130087035043,
          -0.20126239955425262,
          -0.239200879748051,
          -0.4240639301446768,
          0.41531698541207746,
          0.33836168863556604,
          0.6292652666568757,
          -0.3770907786157396,
          -0.5519328713417053,
          -0.6865785121917725,
          -0.14431074857711793,
          0.34436342865228653,
          0.22018184512853622,
          0.8129599889119467,
          0.525420626004537,
          -0.915150503317515,
          0.5189517259597778,
          0.38185153404871625,
          -0.5025160809357961,
          -0.6382723251978556,
          -0.22568885485331217,
          0.3206254243850708,
          -0.7916970451672872,
          -0.5358479619026184,
          0.2744365135828654,
          -0.8302109638849894,
          0.1902943253517151,
          -0.48039209842681885,
          -0.7902465611696243,
          -0.7509220242500305,
          0.19435334702332815,
          -0.7714347839355469,
          0.6488337814807892,
          0.4459900036454201,
          0.7044094800949097,
          0.23840540274977684,
          0.8631899654865265,
          -0.6208752691745758,
          -0.7677550166845322,
          -0.25852261781692504,
          -0.30209603905677795,
          -0.820195883512497,
          -0.12556562013924122
         ],
         "xaxis": "x6",
         "y": [
          0.11551833525300026,
          -0.8137749135494232,
          0.879574328660965,
          0.45805034041404724,
          -0.867368221282959,
          0.5865812599658966,
          -0.7562623620033264,
          0.9356776773929596,
          -0.8715693652629852,
          -0.26067061722278595,
          0.8786535859107971,
          -0.8678090572357178,
          -0.7708384096622467,
          -0.5394929647445679,
          -0.9280313551425934,
          0.7307453155517578,
          -0.7579630315303802,
          0.8906595706939697,
          -0.8590510189533234,
          0.6117630302906036,
          -0.726637065410614,
          0.7973464330037435,
          -0.4002419610818227,
          0.03218135889619589,
          0.6846175193786621,
          -0.6355010420084,
          0.48768041282892227,
          -0.287009345633643,
          -0.7596533894538879,
          -0.09338677674531937,
          -0.7253856658935547,
          -0.8659860094388326,
          0.5984720091025034,
          -0.6456015706062317,
          0.14884061366319656,
          -0.15782354523738226,
          -0.2172500193119049,
          -0.06367101967334747,
          0.7873895093798637,
          -0.3121159017086029,
          0.7532577812671661,
          -0.44472399950027464,
          0.07119478198227944,
          -0.09500148880940218,
          -0.08497315699734338,
          0.2983198197824614,
          -0.27993960954524855,
          -0.027316443550472077,
          -0.2475086941073338,
          0.14524652502116034,
          0.47781750559806824,
          0.38067060496125904,
          -0.6518617822573736,
          0.447600972193938,
          -0.5018194995143197,
          0.5628869262608615,
          -0.20410573184490205,
          -0.6021683745914035,
          -0.5807798027992248,
          0.2599083738667624,
          0.7370436787605286,
          -0.7807630151510239,
          0.9236744940280914,
          0.07971878349781036,
          0.7657472093900045,
          0.17604359984397888,
          -0.5919845223426818,
          0.7877131700515747,
          -0.6260677377382914,
          0.5824171503384908,
          -0.8535464803377787,
          0.7400222023328146,
          0.40971426169077557,
          0.5234307845433553,
          0.7147271434466044,
          0.028452427436908085,
          0.8620549241701762,
          -0.663207471370697,
          0.16122323274612427,
          -0.3839089870452881,
          -0.843002180258433,
          -0.030995420180261135,
          0.39570529013872147,
          -0.6060331612825394,
          0.24150430411100388,
          -0.7652088701725006,
          0.14414530247449875,
          -0.3975786194205284,
          0.3299507349729538,
          -0.7905314803123474,
          -0.7629100978374481,
          0.15874144062399864,
          0.9195494800806046
         ],
         "yaxis": "y6"
        },
        {
         "customdata": [
          [
           [
            "clique_100_MEME-1",
            "clique_100_MEME-2"
           ],
           [
            "ILRKLNYDDFFT",
            "KDMNKENIKKTD"
           ],
           [
            "eid_74087::Circumsporozoite_protein_precursor",
            "eid_1067419::erythrocyte_binding_antigen-165_[Plasmodium_falciparum_3D7]"
           ]
          ],
          [
           [
            "clique_20_MEME-1",
            "clique_20_MEME-2"
           ],
           [
            "BSQNGKNEKNEK",
            "KIDMHNTYNDT"
           ],
           [
            "eid_7940::Circumsporozoite_protein_precursor",
            "eid_913115::petidase"
           ]
          ],
          [
           [
            "clique_10_MEME-1",
            "clique_10_MEME-2"
           ],
           [
            "RPQFLRWFTEWG",
            "EEFCRERKK"
           ],
           [
            "eid_1067630::erythrocyte_binding_antigen-140_[Plasmodium_falciparum_3D7]",
            "eid_181613::PfEMP1"
           ]
          ],
          [
           [
            "clique_91_MEME-1",
            "clique_91_MEME-2"
           ],
           [
            "DNIEVNNTJ",
            "NRELIKKESIY"
           ],
           [
            "eid_913807::protein_kinase",
            "eid_1067419::erythrocyte_binding_antigen-165_[Plasmodium_falciparum_3D7]"
           ]
          ],
          [
           [
            "clique_1_MEME-1",
            "clique_1_MEME-10"
           ],
           [
            "GIDJYBEVLKRK",
            "ENELFGT"
           ],
           [
            "eid_73540::PfEMP1_variant_1_of_strain_MC",
            "eid_913468::heat_shock_protein_90"
           ]
          ],
          [
           [
            "clique_15_MEME-3",
            "clique_15_MEME-5"
           ],
           [
            "AFHSNVPGBKRE",
            "VHNTQNTHDLLG"
           ],
           [
            "eid_1067253::high_molecular_weight_rhoptry_protein_3_[Plasmodium_falciparum_3D7]",
            "eid_181743::PfEMP1"
           ]
          ],
          [
           [
            "clique_17_MEME-1",
            "clique_17_MEME-2"
           ],
           [
            "NDTEEKDKVKKQ",
            "VEEGIKE"
           ],
           [
            "eid_1067371::mature_parasite-infected_erythrocyte_surface_antigen_[Plasmodium_falciparum_3D7]",
            "eid_1068514::mature_parasite-infected_erythrocyte_surface_antigen_[Plasmodium_falciparum_3D7]"
           ]
          ],
          [
           [
            "clique_89_MEME-1",
            "clique_89_MEME-2"
           ],
           [
            "NEVKSEVKNEVK",
            "YNHIIPYKNIKI"
           ],
           [
            "eid_1067428::merozoite_surface_protein_6_[Plasmodium_falciparum_3D7]",
            "eid_697078::Erythrocyte_membrane_protein_1"
           ]
          ],
          [
           [
            "clique_4_MEME-1",
            "clique_4_MEME-3"
           ],
           [
            "GQQNTGLKNTPS",
            "LNKDIRNKDLKN"
           ],
           [
            "eid_1067917::high_molecular_weight_rhoptry_protein_3_[Plasmodium_falciparum_3D7]",
            "eid_1066836::erythrocyte_binding_antigen-175_[Plasmodium_falciparum_3D7]"
           ]
          ],
          [
           [
            "clique_137_MEME-1",
            "clique_137_MEME-2"
           ],
           [
            "PPTQDAETKSPT",
            "GQHGHMH"
           ],
           [
            "eid_1068306::merozoite_surface_protein_2_[Plasmodium_falciparum_3D7]",
            "eid_1067688::merozoite_surface_protein_2_[Plasmodium_falciparum_3D7]"
           ]
          ],
          [
           [
            "clique_0_MEME-1",
            "clique_0_MEME-2",
            "clique_0_MEME-3"
           ],
           [
            "VIPEELVEEVIP",
            "VVEEVVPEELVE",
            "EVVEEVVPE"
           ],
           [
            "eid_11776::11-1_polypeptide",
            "eid_914212::glutamate-rich_protein_[Plasmodium_falciparum_3D7]"
           ]
          ],
          [
           [
            "clique_28_MEME-1",
            "clique_28_MEME-2"
           ],
           [
            "SAFGGGLPFSGY",
            "SSGIGNHNKCPD"
           ],
           [
            "eid_466413::erythrocyte_membrane_protein",
            "eid_1066698::duffy_binding-like_merozoite_surface_protein_[Plasmodium_falciparum_3D7]"
           ]
          ],
          [
           [
            "clique_30_MEME-1",
            "clique_30_MEME-2"
           ],
           [
            "SNGREDKVSNGG",
            "VSNGREDKV"
           ],
           [
            "eid_914261::S-antigen_[Plasmodium_falciparum_3D7]",
            "eid_913339::S-antigen_[Plasmodium_falciparum_3D7]"
           ]
          ],
          [
           [
            "clique_139_MEME-1",
            "clique_139_MEME-2"
           ],
           [
            "DLIEAFFPFIL",
            "LDNKYDDYYNLP"
           ],
           [
            "eid_1067859::merozoite_surface_protein_10_[Plasmodium_falciparum_3D7]",
            "eid_1067587::merozoite_surface_protein_10_[Plasmodium_falciparum_3D7]"
           ]
          ],
          [
           [
            "clique_31_MEME-2",
            "clique_31_MEME-4"
           ],
           [
            "LVDNMNITQ",
            "INSDDIKEK"
           ],
           [
            "eid_1067628::erythrocyte_binding_antigen-175_[Plasmodium_falciparum_3D7]",
            "eid_913036::schizont_egress_antigen-1_[Plasmodium_falciparum_3D7]"
           ]
          ],
          [
           [
            "clique_50_MEME-1",
            "clique_50_MEME-2"
           ],
           [
            "ENNENIENNENN",
            "HPGSCFVENKAH"
           ],
           [
            "eid_1068099::merozoite_surface_protein_10_[Plasmodium_falciparum_3D7]",
            "eid_1066886::erythrocyte_binding_antigen-175_[Plasmodium_falciparum_3D7]"
           ]
          ],
          [
           [
            "clique_82_MEME-1",
            "clique_82_MEME-2"
           ],
           [
            "PLDNTSEETTER",
            "NPNRSSDEGEAH"
           ],
           [
            "eid_21682::erythrocyte_binding_protein",
            "eid_1066886::erythrocyte_binding_antigen-175_[Plasmodium_falciparum_3D7]"
           ]
          ],
          [
           [
            "clique_34_MEME-1",
            "clique_34_MEME-2"
           ],
           [
            "NTSNKLKDEPVD",
            "LRDNYASEQEYF"
           ],
           [
            "eid_1068603::serine_repeat_antigen_5_[Plasmodium_falciparum_3D7]",
            "eid_1068141::antigen_332"
           ]
          ],
          [
           [
            "clique_80_MEME-1",
            "clique_80_MEME-2"
           ],
           [
            "DNMDNIYNV",
            "YKFLSMKHYKDS"
           ],
           [
            "eid_913791::conserved_Plasmodium_protein",
            "eid_1067951::merozoite_surface_protein_10_[Plasmodium_falciparum_3D7]"
           ]
          ],
          [
           [
            "clique_126_MEME-1",
            "clique_126_MEME-2"
           ],
           [
            "FIQEDQEGQTHS",
            "KGLDIDBIP"
           ],
           [
            "eid_1066701::glutamate-rich_protein_[Plasmodium_falciparum_3D7]",
            "eid_1068139::glutamate-rich_protein_[Plasmodium_falciparum_3D7]"
           ]
          ],
          [
           [
            "clique_73_MEME-1",
            "clique_73_MEME-3"
           ],
           [
            "FYKLLKEGKYCK",
            "AFTKQKEKYAKY"
           ],
           [
            "eid_1068564::endoplasmin",
            "eid_181693::erythrocyte_membrane_protein_1"
           ]
          ]
         ],
         "hoverlabel": {
          "namelength": 0
         },
         "hovertemplate": "<b>%{hovertext}</b><br><br>num_known=2<br>agg_x=%{x}<br>agg_y=%{y}<br>membership=%{marker.size}<br>qseqid=%{customdata[0]}<br>sequences=%{customdata[1]}<br>sseqid=%{customdata[2]}<br>num_patients=%{marker.color}",
         "hovertext": [
          100,
          20,
          10,
          91,
          1,
          15,
          17,
          89,
          4,
          137,
          0,
          28,
          30,
          139,
          31,
          50,
          82,
          34,
          80,
          126,
          73
         ],
         "legendgroup": "",
         "marker": {
          "color": [
           53,
           86,
           43,
           44,
           59,
           24,
           114,
           33,
           77,
           67,
           120,
           44,
           14,
           23,
           59,
           74,
           56,
           101,
           74,
           21,
           22
          ],
          "coloraxis": "coloraxis",
          "size": [
           5,
           21,
           29,
           6,
           169,
           25,
           24,
           6,
           57,
           4,
           464,
           15,
           14,
           4,
           14,
           9,
           6,
           13,
           7,
           4,
           7
          ],
          "sizemode": "area",
          "sizeref": 0.1856,
          "symbol": "circle"
         },
         "mode": "markers",
         "name": "",
         "showlegend": false,
         "type": "scatter",
         "x": [
          -0.28679958581924436,
          -0.3885052700837453,
          0.24030592369622197,
          -0.17122070988019308,
          -0.020564155559435752,
          -0.33407514095306395,
          0.14180235068003336,
          0.7716923654079437,
          0.15055599207418008,
          -0.3875867575407028,
          -0.03502683266836765,
          0.018894872441887856,
          -0.06838397628494672,
          0.3668384552001953,
          0.1851791058267866,
          0.1540113223923577,
          -0.7955708801746368,
          0.7042312622070312,
          0.6554255144936698,
          -0.35502658784389496,
          0.3459294097764151
         ],
         "xaxis": "x3",
         "y": [
          0.715939748287201,
          0.2654612177894229,
          -0.16563245243039623,
          0.806792289018631,
          -0.07760553837880581,
          0.02514634907245636,
          -0.3392336579660575,
          -0.0964203712840875,
          0.15527238762169554,
          0.6393765062093735,
          0.025516362106106406,
          -0.613791306813558,
          0.688004161630358,
          -0.6860976219177246,
          -0.3902381530829838,
          -0.7264526949988471,
          0.09847478196024895,
          -0.06323724096784225,
          -0.2955492394311087,
          -0.7248631119728088,
          0.6819206646510533
         ],
         "yaxis": "y3"
        },
        {
         "customdata": [
          [
           [
            "clique_19_MEME-1",
            "clique_19_MEME-2",
            "clique_19_MEME-3"
           ],
           [
            "PNANPNANPNAN",
            "NPBANPN",
            "KLRKPKHKKLKQ"
           ],
           [
            "eid_756411::circumsporozoite_(CS)_protein_[Plasmodium_falciparum_3D7]",
            "eid_45407::circumsporozoite_(CS)_protein_[Plasmodium_falciparum_3D7]",
            "eid_45110::Circumsporozoite_protein_precursor"
           ]
          ],
          [
           [
            "clique_49_MEME-1",
            "clique_49_MEME-2",
            "clique_49_MEME-3"
           ],
           [
            "PQYLRWFEEWAE",
            "YCRGNNGKC",
            "DVPTNFDYV"
           ],
           [
            "eid_70460::erythrocyte_membrane_protein_1_var_IT-ICAM",
            "eid_1068698::erythrocyte_binding_antigen-181_[Plasmodium_falciparum_3D7]",
            "eid_181818::PfEMP1"
           ]
          ],
          [
           [
            "clique_5_MEME-1",
            "clique_5_MEME-2",
            "clique_5_MEME-3"
           ],
           [
            "KQILKDKCEKEJ",
            "HEYDERMKT",
            "DPEMKEV"
           ],
           [
            "eid_1067912::merozoite_surface_protein_8_[Plasmodium_falciparum_3D7]",
            "eid_913629::sporozoite_surface_protein_3",
            "eid_912954::glutamate-rich_protein_[Plasmodium_falciparum_3D7]"
           ]
          ],
          [
           [
            "clique_9_MEME-3",
            "clique_9_MEME-4",
            "clique_9_MEME-5"
           ],
           [
            "FEKQKEKYEKEI",
            "EKLKNENYETVN",
            "TYESNDAIS"
           ],
           [
            "eid_1068177::duffy_binding-like_merozoite_surface_protein_[Plasmodium_falciparum_3D7]",
            "eid_1067370::antigen_332",
            "eid_1067417::antigen_332"
           ]
          ],
          [
           [
            "clique_94_MEME-1",
            "clique_94_MEME-2",
            "clique_94_MEME-3"
           ],
           [
            "NYHYEEPFILTP",
            "EAYEKAGEVIVE",
            "REVEKRSEKLID"
           ],
           [
            "eid_1068229::high_molecular_weight_rhoptry_protein_3_[Plasmodium_falciparum_3D7]",
            "eid_23729::merozoite_surface_protein_3",
            "eid_15297::sporozoite_surface_protein_2"
           ]
          ],
          [
           [
            "clique_14_MEME-1",
            "clique_14_MEME-2",
            "clique_14_MEME-4"
           ],
           [
            "QHEIVEVEEILP",
            "EDKNEKV",
            "HTEQLDLDHKTV"
           ],
           [
            "eid_469456::glutamate-rich_protein",
            "eid_913436::glutamate-rich_protein_[Plasmodium_falciparum_3D7]",
            "eid_1067856::glutamate-rich_protein_[Plasmodium_falciparum_3D7]"
           ]
          ],
          [
           [
            "clique_16_MEME-1",
            "clique_16_MEME-2",
            "clique_16_MEME-3",
            "clique_16_MEME-5"
           ],
           [
            "TDNEWNTLKDEF",
            "DIQNDGIPSSKI",
            "ISQYLQSEQPKD",
            "VPNDYQS"
           ],
           [
            "eid_43848::hypothetical_protein_PFL1930w",
            "eid_914273::thrombospondin-related_anonymous_protein_[Plasmodium_falciparum_3D7]",
            "eid_913681::erythrocyte_membrane_protein_1"
           ]
          ],
          [
           [
            "clique_7_MEME-1",
            "clique_7_MEME-2",
            "clique_7_MEME-3"
           ],
           [
            "QQSDLEQERLAK",
            "KLQEQQS",
            "LAKEKLQ"
           ],
           [
            "eid_913175::liver_stage_antigen_1_[Plasmodium_falciparum_3D7]",
            "eid_914045::liver_stage_antigen_1_[Plasmodium_falciparum_3D7]",
            "eid_913945::liver_stage_antigen_1_[Plasmodium_falciparum_3D7]"
           ]
          ],
          [
           [
            "clique_21_MEME-1",
            "clique_21_MEME-2",
            "clique_21_MEME-3"
           ],
           [
            "IYYDVNDDD",
            "KEKYPIADVWDI",
            "DKPFNEP"
           ],
           [
            "eid_1067887::acidic_basic_repeat_antigen_[Plasmodium_falciparum_3D7]",
            "eid_1066844::high_molecular_weight_rhoptry_protein_3_[Plasmodium_falciparum_3D7]",
            "eid_1066553::erythrocyte_binding_antigen-165_[Plasmodium_falciparum_3D7]"
           ]
          ]
         ],
         "hoverlabel": {
          "namelength": 0
         },
         "hovertemplate": "<b>%{hovertext}</b><br><br>num_known=3<br>agg_x=%{x}<br>agg_y=%{y}<br>membership=%{marker.size}<br>qseqid=%{customdata[0]}<br>sequences=%{customdata[1]}<br>sseqid=%{customdata[2]}<br>num_patients=%{marker.color}",
         "hovertext": [
          19,
          49,
          5,
          9,
          94,
          14,
          16,
          7,
          21
         ],
         "legendgroup": "",
         "marker": {
          "color": [
           39,
           28,
           56,
           40,
           43,
           106,
           47,
           122,
           43
          ],
          "coloraxis": "coloraxis",
          "size": [
           23,
           9,
           57,
           31,
           6,
           25,
           25,
           38,
           21
          ],
          "sizemode": "area",
          "sizeref": 0.1856,
          "symbol": "circle"
         },
         "mode": "markers",
         "name": "",
         "showlegend": false,
         "type": "scatter",
         "x": [
          -0.25944154547608417,
          -0.3654082483715481,
          -0.22799349667733176,
          -0.28828751271770847,
          0.7289892931779226,
          -0.04007857277989388,
          -0.3638659989833832,
          -0.29848755347101313,
          0.33953883392470224
         ],
         "xaxis": "x4",
         "y": [
          0.2790773472060328,
          0.5979923341009352,
          -0.016384447483639968,
          -0.19826547416948503,
          -0.3992217679818471,
          -0.35490927457809446,
          -0.04502427563071251,
          0.12033745215127342,
          0.10809899334396635
         ],
         "yaxis": "y4"
        },
        {
         "customdata": [
          [
           [
            "clique_8_MEME-1",
            "clique_8_MEME-2",
            "clique_8_MEME-3",
            "clique_8_MEME-4"
           ],
           [
            "AITKYQNPH",
            "YHNDPELKEIID",
            "NTQRTTIKSRLL",
            "DPYKQLKEVVEK"
           ],
           [
            "eid_17796::Cytoadherence_linked_asexual_protein",
            "eid_1068539::cytoadherence_linked_asexual_protein_2_[Plasmodium_falciparum_3D7]",
            "eid_914054::stevor_[Plasmodium_falciparum_3D7]",
            "eid_11799::Liver_stage_antigen"
           ]
          ],
          [
           [
            "clique_23_MEME-2",
            "clique_23_MEME-3",
            "clique_23_MEME-4",
            "clique_23_MEME-5"
           ],
           [
            "DSYRILSVSYKD",
            "DDEEKNETNDTE",
            "IEEEINTDG",
            "DIIKHNEDVR"
           ],
           [
            "eid_1068135::duffy_binding-like_merozoite_surface_protein_[Plasmodium_falciparum_3D7]",
            "eid_1066920::duffy_binding-like_merozoite_surface_protein_[Plasmodium_falciparum_3D7]",
            "eid_122259::erythrocyte_membrane_protein",
            "eid_1068370::duffy_binding-like_merozoite_surface_protein_[Plasmodium_falciparum_3D7]"
           ]
          ]
         ],
         "hoverlabel": {
          "namelength": 0
         },
         "hovertemplate": "<b>%{hovertext}</b><br><br>num_known=4<br>agg_x=%{x}<br>agg_y=%{y}<br>membership=%{marker.size}<br>qseqid=%{customdata[0]}<br>sequences=%{customdata[1]}<br>sseqid=%{customdata[2]}<br>num_patients=%{marker.color}",
         "hovertext": [
          8,
          23
         ],
         "legendgroup": "",
         "marker": {
          "color": [
           35,
           64
          ],
          "coloraxis": "coloraxis",
          "size": [
           31,
           20
          ],
          "sizemode": "area",
          "sizeref": 0.1856,
          "symbol": "circle"
         },
         "mode": "markers",
         "name": "",
         "showlegend": false,
         "type": "scatter",
         "x": [
          -0.11994561649137928,
          0.3469578132033348
         ],
         "xaxis": "x",
         "y": [
          -0.3245413957103606,
          0.2713040068745613
         ],
         "yaxis": "y"
        }
       ],
       "layout": {
        "annotations": [
         {
          "font": {},
          "showarrow": false,
          "text": "num_known=4",
          "x": 0.245,
          "xanchor": "center",
          "xref": "paper",
          "y": 0.2866666666666666,
          "yanchor": "bottom",
          "yref": "paper"
         },
         {
          "font": {},
          "showarrow": false,
          "text": "num_known=2",
          "x": 0.245,
          "xanchor": "center",
          "xref": "paper",
          "y": 0.6433333333333333,
          "yanchor": "bottom",
          "yref": "paper"
         },
         {
          "font": {},
          "showarrow": false,
          "text": "num_known=3",
          "x": 0.755,
          "xanchor": "center",
          "xref": "paper",
          "y": 0.6433333333333333,
          "yanchor": "bottom",
          "yref": "paper"
         },
         {
          "font": {},
          "showarrow": false,
          "text": "num_known=0",
          "x": 0.245,
          "xanchor": "center",
          "xref": "paper",
          "y": 0.9999999999999999,
          "yanchor": "bottom",
          "yref": "paper"
         },
         {
          "font": {},
          "showarrow": false,
          "text": "num_known=1",
          "x": 0.755,
          "xanchor": "center",
          "xref": "paper",
          "y": 0.9999999999999999,
          "yanchor": "bottom",
          "yref": "paper"
         }
        ],
        "coloraxis": {
         "colorbar": {
          "title": {
           "text": "num_patients"
          }
         },
         "colorscale": [
          [
           0,
           "rgb(255,247,236)"
          ],
          [
           0.125,
           "rgb(254,232,200)"
          ],
          [
           0.25,
           "rgb(253,212,158)"
          ],
          [
           0.375,
           "rgb(253,187,132)"
          ],
          [
           0.5,
           "rgb(252,141,89)"
          ],
          [
           0.625,
           "rgb(239,101,72)"
          ],
          [
           0.75,
           "rgb(215,48,31)"
          ],
          [
           0.875,
           "rgb(179,0,0)"
          ],
          [
           1,
           "rgb(127,0,0)"
          ]
         ]
        },
        "height": 1000,
        "legend": {
         "itemsizing": "constant",
         "tracegroupgap": 0
        },
        "margin": {
         "t": 60
        },
        "template": {
         "data": {
          "bar": [
           {
            "error_x": {
             "color": "#2a3f5f"
            },
            "error_y": {
             "color": "#2a3f5f"
            },
            "marker": {
             "line": {
              "color": "white",
              "width": 0.5
             }
            },
            "type": "bar"
           }
          ],
          "barpolar": [
           {
            "marker": {
             "line": {
              "color": "white",
              "width": 0.5
             }
            },
            "type": "barpolar"
           }
          ],
          "carpet": [
           {
            "aaxis": {
             "endlinecolor": "#2a3f5f",
             "gridcolor": "#C8D4E3",
             "linecolor": "#C8D4E3",
             "minorgridcolor": "#C8D4E3",
             "startlinecolor": "#2a3f5f"
            },
            "baxis": {
             "endlinecolor": "#2a3f5f",
             "gridcolor": "#C8D4E3",
             "linecolor": "#C8D4E3",
             "minorgridcolor": "#C8D4E3",
             "startlinecolor": "#2a3f5f"
            },
            "type": "carpet"
           }
          ],
          "choropleth": [
           {
            "colorbar": {
             "outlinewidth": 0,
             "ticks": ""
            },
            "type": "choropleth"
           }
          ],
          "contour": [
           {
            "colorbar": {
             "outlinewidth": 0,
             "ticks": ""
            },
            "colorscale": [
             [
              0,
              "#0d0887"
             ],
             [
              0.1111111111111111,
              "#46039f"
             ],
             [
              0.2222222222222222,
              "#7201a8"
             ],
             [
              0.3333333333333333,
              "#9c179e"
             ],
             [
              0.4444444444444444,
              "#bd3786"
             ],
             [
              0.5555555555555556,
              "#d8576b"
             ],
             [
              0.6666666666666666,
              "#ed7953"
             ],
             [
              0.7777777777777778,
              "#fb9f3a"
             ],
             [
              0.8888888888888888,
              "#fdca26"
             ],
             [
              1,
              "#f0f921"
             ]
            ],
            "type": "contour"
           }
          ],
          "contourcarpet": [
           {
            "colorbar": {
             "outlinewidth": 0,
             "ticks": ""
            },
            "type": "contourcarpet"
           }
          ],
          "heatmap": [
           {
            "colorbar": {
             "outlinewidth": 0,
             "ticks": ""
            },
            "colorscale": [
             [
              0,
              "#0d0887"
             ],
             [
              0.1111111111111111,
              "#46039f"
             ],
             [
              0.2222222222222222,
              "#7201a8"
             ],
             [
              0.3333333333333333,
              "#9c179e"
             ],
             [
              0.4444444444444444,
              "#bd3786"
             ],
             [
              0.5555555555555556,
              "#d8576b"
             ],
             [
              0.6666666666666666,
              "#ed7953"
             ],
             [
              0.7777777777777778,
              "#fb9f3a"
             ],
             [
              0.8888888888888888,
              "#fdca26"
             ],
             [
              1,
              "#f0f921"
             ]
            ],
            "type": "heatmap"
           }
          ],
          "heatmapgl": [
           {
            "colorbar": {
             "outlinewidth": 0,
             "ticks": ""
            },
            "colorscale": [
             [
              0,
              "#0d0887"
             ],
             [
              0.1111111111111111,
              "#46039f"
             ],
             [
              0.2222222222222222,
              "#7201a8"
             ],
             [
              0.3333333333333333,
              "#9c179e"
             ],
             [
              0.4444444444444444,
              "#bd3786"
             ],
             [
              0.5555555555555556,
              "#d8576b"
             ],
             [
              0.6666666666666666,
              "#ed7953"
             ],
             [
              0.7777777777777778,
              "#fb9f3a"
             ],
             [
              0.8888888888888888,
              "#fdca26"
             ],
             [
              1,
              "#f0f921"
             ]
            ],
            "type": "heatmapgl"
           }
          ],
          "histogram": [
           {
            "marker": {
             "colorbar": {
              "outlinewidth": 0,
              "ticks": ""
             }
            },
            "type": "histogram"
           }
          ],
          "histogram2d": [
           {
            "colorbar": {
             "outlinewidth": 0,
             "ticks": ""
            },
            "colorscale": [
             [
              0,
              "#0d0887"
             ],
             [
              0.1111111111111111,
              "#46039f"
             ],
             [
              0.2222222222222222,
              "#7201a8"
             ],
             [
              0.3333333333333333,
              "#9c179e"
             ],
             [
              0.4444444444444444,
              "#bd3786"
             ],
             [
              0.5555555555555556,
              "#d8576b"
             ],
             [
              0.6666666666666666,
              "#ed7953"
             ],
             [
              0.7777777777777778,
              "#fb9f3a"
             ],
             [
              0.8888888888888888,
              "#fdca26"
             ],
             [
              1,
              "#f0f921"
             ]
            ],
            "type": "histogram2d"
           }
          ],
          "histogram2dcontour": [
           {
            "colorbar": {
             "outlinewidth": 0,
             "ticks": ""
            },
            "colorscale": [
             [
              0,
              "#0d0887"
             ],
             [
              0.1111111111111111,
              "#46039f"
             ],
             [
              0.2222222222222222,
              "#7201a8"
             ],
             [
              0.3333333333333333,
              "#9c179e"
             ],
             [
              0.4444444444444444,
              "#bd3786"
             ],
             [
              0.5555555555555556,
              "#d8576b"
             ],
             [
              0.6666666666666666,
              "#ed7953"
             ],
             [
              0.7777777777777778,
              "#fb9f3a"
             ],
             [
              0.8888888888888888,
              "#fdca26"
             ],
             [
              1,
              "#f0f921"
             ]
            ],
            "type": "histogram2dcontour"
           }
          ],
          "mesh3d": [
           {
            "colorbar": {
             "outlinewidth": 0,
             "ticks": ""
            },
            "type": "mesh3d"
           }
          ],
          "parcoords": [
           {
            "line": {
             "colorbar": {
              "outlinewidth": 0,
              "ticks": ""
             }
            },
            "type": "parcoords"
           }
          ],
          "pie": [
           {
            "automargin": true,
            "type": "pie"
           }
          ],
          "scatter": [
           {
            "marker": {
             "colorbar": {
              "outlinewidth": 0,
              "ticks": ""
             }
            },
            "type": "scatter"
           }
          ],
          "scatter3d": [
           {
            "line": {
             "colorbar": {
              "outlinewidth": 0,
              "ticks": ""
             }
            },
            "marker": {
             "colorbar": {
              "outlinewidth": 0,
              "ticks": ""
             }
            },
            "type": "scatter3d"
           }
          ],
          "scattercarpet": [
           {
            "marker": {
             "colorbar": {
              "outlinewidth": 0,
              "ticks": ""
             }
            },
            "type": "scattercarpet"
           }
          ],
          "scattergeo": [
           {
            "marker": {
             "colorbar": {
              "outlinewidth": 0,
              "ticks": ""
             }
            },
            "type": "scattergeo"
           }
          ],
          "scattergl": [
           {
            "marker": {
             "colorbar": {
              "outlinewidth": 0,
              "ticks": ""
             }
            },
            "type": "scattergl"
           }
          ],
          "scattermapbox": [
           {
            "marker": {
             "colorbar": {
              "outlinewidth": 0,
              "ticks": ""
             }
            },
            "type": "scattermapbox"
           }
          ],
          "scatterpolar": [
           {
            "marker": {
             "colorbar": {
              "outlinewidth": 0,
              "ticks": ""
             }
            },
            "type": "scatterpolar"
           }
          ],
          "scatterpolargl": [
           {
            "marker": {
             "colorbar": {
              "outlinewidth": 0,
              "ticks": ""
             }
            },
            "type": "scatterpolargl"
           }
          ],
          "scatterternary": [
           {
            "marker": {
             "colorbar": {
              "outlinewidth": 0,
              "ticks": ""
             }
            },
            "type": "scatterternary"
           }
          ],
          "surface": [
           {
            "colorbar": {
             "outlinewidth": 0,
             "ticks": ""
            },
            "colorscale": [
             [
              0,
              "#0d0887"
             ],
             [
              0.1111111111111111,
              "#46039f"
             ],
             [
              0.2222222222222222,
              "#7201a8"
             ],
             [
              0.3333333333333333,
              "#9c179e"
             ],
             [
              0.4444444444444444,
              "#bd3786"
             ],
             [
              0.5555555555555556,
              "#d8576b"
             ],
             [
              0.6666666666666666,
              "#ed7953"
             ],
             [
              0.7777777777777778,
              "#fb9f3a"
             ],
             [
              0.8888888888888888,
              "#fdca26"
             ],
             [
              1,
              "#f0f921"
             ]
            ],
            "type": "surface"
           }
          ],
          "table": [
           {
            "cells": {
             "fill": {
              "color": "#EBF0F8"
             },
             "line": {
              "color": "white"
             }
            },
            "header": {
             "fill": {
              "color": "#C8D4E3"
             },
             "line": {
              "color": "white"
             }
            },
            "type": "table"
           }
          ]
         },
         "layout": {
          "annotationdefaults": {
           "arrowcolor": "#2a3f5f",
           "arrowhead": 0,
           "arrowwidth": 1
          },
          "coloraxis": {
           "colorbar": {
            "outlinewidth": 0,
            "ticks": ""
           }
          },
          "colorscale": {
           "diverging": [
            [
             0,
             "#8e0152"
            ],
            [
             0.1,
             "#c51b7d"
            ],
            [
             0.2,
             "#de77ae"
            ],
            [
             0.3,
             "#f1b6da"
            ],
            [
             0.4,
             "#fde0ef"
            ],
            [
             0.5,
             "#f7f7f7"
            ],
            [
             0.6,
             "#e6f5d0"
            ],
            [
             0.7,
             "#b8e186"
            ],
            [
             0.8,
             "#7fbc41"
            ],
            [
             0.9,
             "#4d9221"
            ],
            [
             1,
             "#276419"
            ]
           ],
           "sequential": [
            [
             0,
             "#0d0887"
            ],
            [
             0.1111111111111111,
             "#46039f"
            ],
            [
             0.2222222222222222,
             "#7201a8"
            ],
            [
             0.3333333333333333,
             "#9c179e"
            ],
            [
             0.4444444444444444,
             "#bd3786"
            ],
            [
             0.5555555555555556,
             "#d8576b"
            ],
            [
             0.6666666666666666,
             "#ed7953"
            ],
            [
             0.7777777777777778,
             "#fb9f3a"
            ],
            [
             0.8888888888888888,
             "#fdca26"
            ],
            [
             1,
             "#f0f921"
            ]
           ],
           "sequentialminus": [
            [
             0,
             "#0d0887"
            ],
            [
             0.1111111111111111,
             "#46039f"
            ],
            [
             0.2222222222222222,
             "#7201a8"
            ],
            [
             0.3333333333333333,
             "#9c179e"
            ],
            [
             0.4444444444444444,
             "#bd3786"
            ],
            [
             0.5555555555555556,
             "#d8576b"
            ],
            [
             0.6666666666666666,
             "#ed7953"
            ],
            [
             0.7777777777777778,
             "#fb9f3a"
            ],
            [
             0.8888888888888888,
             "#fdca26"
            ],
            [
             1,
             "#f0f921"
            ]
           ]
          },
          "colorway": [
           "#636efa",
           "#EF553B",
           "#00cc96",
           "#ab63fa",
           "#FFA15A",
           "#19d3f3",
           "#FF6692",
           "#B6E880",
           "#FF97FF",
           "#FECB52"
          ],
          "font": {
           "color": "#2a3f5f"
          },
          "geo": {
           "bgcolor": "white",
           "lakecolor": "white",
           "landcolor": "white",
           "showlakes": true,
           "showland": true,
           "subunitcolor": "#C8D4E3"
          },
          "hoverlabel": {
           "align": "left"
          },
          "hovermode": "closest",
          "mapbox": {
           "style": "light"
          },
          "paper_bgcolor": "white",
          "plot_bgcolor": "white",
          "polar": {
           "angularaxis": {
            "gridcolor": "#EBF0F8",
            "linecolor": "#EBF0F8",
            "ticks": ""
           },
           "bgcolor": "white",
           "radialaxis": {
            "gridcolor": "#EBF0F8",
            "linecolor": "#EBF0F8",
            "ticks": ""
           }
          },
          "scene": {
           "xaxis": {
            "backgroundcolor": "white",
            "gridcolor": "#DFE8F3",
            "gridwidth": 2,
            "linecolor": "#EBF0F8",
            "showbackground": true,
            "ticks": "",
            "zerolinecolor": "#EBF0F8"
           },
           "yaxis": {
            "backgroundcolor": "white",
            "gridcolor": "#DFE8F3",
            "gridwidth": 2,
            "linecolor": "#EBF0F8",
            "showbackground": true,
            "ticks": "",
            "zerolinecolor": "#EBF0F8"
           },
           "zaxis": {
            "backgroundcolor": "white",
            "gridcolor": "#DFE8F3",
            "gridwidth": 2,
            "linecolor": "#EBF0F8",
            "showbackground": true,
            "ticks": "",
            "zerolinecolor": "#EBF0F8"
           }
          },
          "shapedefaults": {
           "line": {
            "color": "#2a3f5f"
           }
          },
          "ternary": {
           "aaxis": {
            "gridcolor": "#DFE8F3",
            "linecolor": "#A2B1C6",
            "ticks": ""
           },
           "baxis": {
            "gridcolor": "#DFE8F3",
            "linecolor": "#A2B1C6",
            "ticks": ""
           },
           "bgcolor": "white",
           "caxis": {
            "gridcolor": "#DFE8F3",
            "linecolor": "#A2B1C6",
            "ticks": ""
           }
          },
          "title": {
           "x": 0.05
          },
          "xaxis": {
           "automargin": true,
           "gridcolor": "#EBF0F8",
           "linecolor": "#EBF0F8",
           "ticks": "",
           "title": {
            "standoff": 15
           },
           "zerolinecolor": "#EBF0F8",
           "zerolinewidth": 2
          },
          "yaxis": {
           "automargin": true,
           "gridcolor": "#EBF0F8",
           "linecolor": "#EBF0F8",
           "ticks": "",
           "title": {
            "standoff": 15
           },
           "zerolinecolor": "#EBF0F8",
           "zerolinewidth": 2
          }
         }
        },
        "width": 1000,
        "xaxis": {
         "anchor": "y",
         "domain": [
          0,
          0.49
         ],
         "title": {
          "text": "agg_x"
         }
        },
        "xaxis2": {
         "anchor": "y2",
         "domain": [
          0.51,
          1
         ],
         "matches": "x",
         "title": {
          "text": "agg_x"
         }
        },
        "xaxis3": {
         "anchor": "y3",
         "domain": [
          0,
          0.49
         ],
         "matches": "x",
         "showticklabels": false
        },
        "xaxis4": {
         "anchor": "y4",
         "domain": [
          0.51,
          1
         ],
         "matches": "x",
         "showticklabels": false
        },
        "xaxis5": {
         "anchor": "y5",
         "domain": [
          0,
          0.49
         ],
         "matches": "x",
         "showticklabels": false
        },
        "xaxis6": {
         "anchor": "y6",
         "domain": [
          0.51,
          1
         ],
         "matches": "x",
         "showticklabels": false
        },
        "yaxis": {
         "anchor": "x",
         "domain": [
          0,
          0.2866666666666666
         ],
         "title": {
          "text": "agg_y"
         }
        },
        "yaxis2": {
         "anchor": "x2",
         "domain": [
          0,
          0.2866666666666666
         ],
         "matches": "y",
         "showticklabels": false
        },
        "yaxis3": {
         "anchor": "x3",
         "domain": [
          0.35666666666666663,
          0.6433333333333333
         ],
         "matches": "y",
         "title": {
          "text": "agg_y"
         }
        },
        "yaxis4": {
         "anchor": "x4",
         "domain": [
          0.35666666666666663,
          0.6433333333333333
         ],
         "matches": "y",
         "showticklabels": false
        },
        "yaxis5": {
         "anchor": "x5",
         "domain": [
          0.7133333333333333,
          0.9999999999999999
         ],
         "matches": "y",
         "title": {
          "text": "agg_y"
         }
        },
        "yaxis6": {
         "anchor": "x6",
         "domain": [
          0.7133333333333333,
          0.9999999999999999
         ],
         "matches": "y",
         "showticklabels": false
        }
       }
      },
      "text/html": [
       "<div>\n",
       "        \n",
       "        \n",
       "            <div id=\"97c91f53-6cc2-4e88-b086-7793a658eb2c\" class=\"plotly-graph-div\" style=\"height:1000px; width:1000px;\"></div>\n",
       "            <script type=\"text/javascript\">\n",
       "                require([\"plotly\"], function(Plotly) {\n",
       "                    window.PLOTLYENV=window.PLOTLYENV || {};\n",
       "                    \n",
       "                if (document.getElementById(\"97c91f53-6cc2-4e88-b086-7793a658eb2c\")) {\n",
       "                    Plotly.newPlot(\n",
       "                        '97c91f53-6cc2-4e88-b086-7793a658eb2c',\n",
       "                        [{\"customdata\": [[[], [], []], [[], [], []], [[], [], []], [[], [], []], [[], [], []], [[], [], []], [[], [], []], [[], [], []], [[], [], []], [[], [], []], [[], [], []], [[], [], []], [[], [], []], [[], [], []], [[], [], []], [[], [], []], [[], [], []], [[], [], []], [[], [], []], [[], [], []], [[], [], []], [[], [], []], [[], [], []], [[], [], []], [[], [], []], [[], [], []], [[], [], []], [[], [], []], [[], [], []], [[], [], []], [[], [], []], [[], [], []], [[], [], []], [[], [], []], [[], [], []], [[], [], []], [[], [], []], [[], [], []], [[], [], []], [[], [], []], [[], [], []], [[], [], []], [[], [], []], [[], [], []], [[], [], []], [[], [], []], [[], [], []], [[], [], []], [[], [], []], [[], [], []], [[], [], []], [[], [], []], [[], [], []], [[], [], []], [[], [], []], [[], [], []], [[], [], []], [[], [], []], [[], [], []], [[], [], []], [[], [], []], [[], [], []], [[], [], []], [[], [], []], [[], [], []], [[], [], []], [[], [], []], [[], [], []], [[], [], []], [[], [], []], [[], [], []], [[], [], []], [[], [], []], [[], [], []], [[], [], []], [[], [], []], [[], [], []], [[], [], []], [[], [], []], [[], [], []], [[], [], []], [[], [], []], [[], [], []], [[], [], []], [[], [], []], [[], [], []], [[], [], []], [[], [], []], [[], [], []], [[], [], []], [[], [], []], [[], [], []], [[], [], []], [[], [], []], [[], [], []], [[], [], []], [[], [], []], [[], [], []], [[], [], []], [[], [], []], [[], [], []], [[], [], []], [[], [], []], [[], [], []], [[], [], []], [[], [], []], [[], [], []], [[], [], []], [[], [], []], [[], [], []], [[], [], []], [[], [], []], [[], [], []], [[], [], []], [[], [], []], [[], [], []], [[], [], []], [[], [], []], [[], [], []], [[], [], []], [[], [], []], [[], [], []], [[], [], []], [[], [], []], [[], [], []], [[], [], []], [[], [], []], [[], [], []], [[], [], []], [[], [], []], [[], [], []], [[], [], []], [[], [], []], [[], [], []], [[], [], []], [[], [], []], [[], [], []], [[], [], []], [[], [], []], [[], [], []], [[], [], []], [[], [], []], [[], [], []], [[], [], []], [[], [], []], [[], [], []], [[], [], []], [[], [], []], [[], [], []], [[], [], []], [[], [], []], [[], [], []], [[], [], []], [[], [], []], [[], [], []], [[], [], []], [[], [], []], [[], [], []], [[], [], []], [[], [], []], [[], [], []], [[], [], []], [[], [], []], [[], [], []], [[], [], []], [[], [], []], [[], [], []], [[], [], []]], \"hoverlabel\": {\"namelength\": 0}, \"hovertemplate\": \"<b>%{hovertext}</b><br><br>num_known=0<br>agg_x=%{x}<br>agg_y=%{y}<br>membership=%{marker.size}<br>qseqid=%{customdata[0]}<br>sequences=%{customdata[1]}<br>sseqid=%{customdata[2]}<br>num_patients=%{marker.color}\", \"hovertext\": [292.0, 120.0, 220.0, 219.0, 123.0, 217.0, 216.0, 215.0, 214.0, 119.0, 213.0, 131.0, 132.0, 133.0, 134.0, 135.0, 212.0, 211.0, 210.0, 130.0, 221.0, 222.0, 116.0, 93.0, 190.0, 95.0, 96.0, 231.0, 98.0, 99.0, 102.0, 228.0, 104.0, 106.0, 107.0, 108.0, 109.0, 110.0, 111.0, 226.0, 225.0, 223.0, 209.0, 140.0, 141.0, 208.0, 168.0, 169.0, 170.0, 195.0, 172.0, 173.0, 174.0, 175.0, 176.0, 177.0, 194.0, 179.0, 193.0, 181.0, 182.0, 183.0, 184.0, 192.0, 191.0, 167.0, 234.0, 166.0, 197.0, 144.0, 145.0, 206.0, 147.0, 149.0, 150.0, 151.0, 152.0, 204.0, 154.0, 203.0, 202.0, 201.0, 158.0, 200.0, 199.0, 161.0, 198.0, 163.0, 196.0, 90.0, 232.0, 236.0, 29.0, 266.0, 265.0, 263.0, 262.0, 35.0, 261.0, 37.0, 27.0, 38.0, 260.0, 41.0, 42.0, 259.0, 45.0, 256.0, 48.0, 255.0, 39.0, 254.0, 26.0, 24.0, 290.0, 289.0, 287.0, 286.0, 283.0, 280.0, 279.0, 278.0, 268.0, 277.0, 275.0, 274.0, 273.0, 272.0, 271.0, 270.0, 22.0, 269.0, 276.0, 51.0, 257.0, 53.0, 70.0, 253.0, 243.0, 74.0, 75.0, 76.0, 77.0, 69.0, 78.0, 239.0, 238.0, 83.0, 84.0, 237.0, 86.0, 87.0, 241.0, 244.0, 71.0, 189.0, 248.0, 251.0, 61.0, 250.0, 62.0, 55.0, 246.0, 252.0, 65.0, 66.0, 247.0, 58.0], \"legendgroup\": \"\", \"marker\": {\"color\": [17, 30, 24, 19, 31, 26, 56, 40, 22, 40, 23, 40, 28, 28, 30, 49, 24, 20, 35, 27, 22, 53, 69, 63, 25, 18, 52, 23, 46, 53, 23, 11, 28, 52, 32, 30, 31, 42, 33, 12, 36, 19, 27, 26, 27, 20, 23, 25, 22, 24, 37, 29, 27, 23, 9, 28, 71, 29, 43, 17, 32, 38, 54, 30, 33, 25, 15, 20, 17, 26, 31, 26, 23, 36, 29, 26, 32, 16, 15, 19, 17, 22, 20, 21, 22, 37, 18, 40, 29, 60, 23, 35, 131, 21, 19, 13, 20, 47, 17, 32, 96, 64, 18, 52, 64, 12, 97, 18, 76, 35, 51, 29, 54, 45, 22, 22, 12, 43, 46, 12, 21, 25, 23, 15, 24, 11, 20, 22, 25, 25, 103, 29, 18, 38, 31, 32, 102, 24, 13, 47, 48, 40, 39, 17, 44, 11, 12, 29, 79, 34, 25, 32, 17, 22, 51, 36, 22, 28, 87, 23, 47, 15, 20, 22, 29, 53, 18, 65], \"coloraxis\": \"coloraxis\", \"size\": [2, 4, 2, 2, 4, 2, 2, 2, 2, 4, 2, 4, 4, 4, 4, 4, 2, 2, 2, 4, 2, 2, 4, 6, 3, 6, 5, 2, 5, 5, 5, 2, 5, 5, 5, 5, 5, 5, 5, 2, 2, 2, 2, 4, 4, 2, 3, 3, 3, 3, 3, 3, 3, 3, 3, 3, 3, 3, 3, 3, 3, 3, 3, 3, 3, 3, 2, 3, 2, 4, 4, 2, 3, 3, 3, 3, 3, 2, 3, 2, 2, 2, 3, 2, 2, 3, 2, 3, 3, 6, 2, 2, 15, 2, 2, 2, 2, 13, 2, 13, 15, 13, 2, 12, 11, 2, 10, 2, 10, 2, 13, 2, 16, 19, 2, 2, 2, 2, 2, 2, 2, 2, 2, 2, 2, 2, 2, 2, 2, 2, 21, 2, 2, 9, 2, 9, 7, 2, 2, 7, 7, 7, 7, 7, 7, 2, 2, 6, 6, 2, 6, 6, 2, 2, 7, 3, 2, 2, 8, 2, 8, 8, 2, 2, 7, 7, 2, 8], \"sizemode\": \"area\", \"sizeref\": 0.1856, \"symbol\": \"circle\"}, \"mode\": \"markers\", \"name\": \"\", \"showlegend\": false, \"type\": \"scatter\", \"x\": [0.6475355625152588, 0.2518432065844536, -0.4241698533296585, -0.8175061643123627, -0.8761849850416183, -0.9982385039329529, 0.5230086445808411, -0.761035293340683, -0.5240723192691803, -0.6348419487476349, 0.10208119824528694, -0.7873566448688507, 0.8431320935487747, -0.8277634084224701, -0.8284671157598495, -0.028145532589405775, -0.48834656178951263, -0.6134238243103027, 0.6002441346645355, 0.6898856610059738, -0.7212074100971222, -0.618577390909195, 0.2708883732557297, 0.8293770750363668, -0.833723763624827, -0.09100236743688583, -0.17580167353153228, 0.8254100382328033, 0.6572437047958374, -0.04528619721531868, -0.6193150997161865, -0.8677507638931274, -0.5851840615272522, 0.5437123775482178, 0.5034769296646118, 0.6727539658546448, 0.8864493250846863, 0.5191182136535645, 0.3928759515285492, -0.7123396098613739, -0.8445254862308502, 0.6603643596172333, 0.40816062688827515, -0.8457357436418533, 0.8538035154342651, -0.601874440908432, -0.5825655460357666, -0.3931679626305898, 0.6890831589698792, 0.2398356000582377, 0.9323257406552633, 0.09784406175216039, -0.3463329275449117, 0.8091156482696533, 0.14589436848958334, -0.7921115954717001, -0.8237970272699991, 0.754879097143809, 0.4179978171984355, 0.8028054436047872, -0.07725727061430614, -0.8402269879976908, -0.719156006971995, -0.4937218228975932, -0.667732854684194, 0.8565682371457418, 0.7978111803531647, 0.4059058129787445, 0.9803009927272797, -0.6087774634361267, 0.4454371780157089, 0.8563679754734039, 0.4393457770347595, 0.6803518732388815, -0.7467090487480164, -0.4245506326357524, 0.7618539929389954, -0.6824122965335846, -0.20688551167647043, 0.8862786889076233, -0.7095068395137787, 0.9512266516685486, 0.02820168249309063, 0.33013686537742615, 0.1665743589401245, 0.8080452680587769, -0.04457945190370083, -0.2789967556794484, -0.5880341132481893, 0.5884727239608765, 0.44542641937732697, -0.805758535861969, -0.6378083189328512, -0.8779019415378571, -0.6946496665477753, -0.5498456060886383, 0.820814847946167, 0.21197162797817817, 0.8477589190006256, 0.42224403528066784, 0.10542789548635483, 0.5352259553395785, 0.5923633575439453, -0.6205871303876241, 0.6226093552329324, 0.8585631847381592, -0.2512988895177841, 0.6974952816963196, -0.45440555512905123, -0.8597918152809143, -0.5203170913916367, -0.03678949177265167, -0.13810021430253983, 0.0551789665692731, -0.5786575376987457, 0.7362712919712067, -0.4605129510164261, -0.757753998041153, 0.8816474080085754, -0.5567535161972046, -0.17522230744361877, 0.6122471392154694, 0.8472238481044769, -0.5331206619739532, -0.7311710119247437, -0.02127851825207472, -0.7600481510162354, -0.4042147994041443, -0.7764822244644165, 0.81825190782547, 0.05183814572436469, 0.23907049745321274, 0.02295166812837124, 0.5814485020107694, 0.7946080267429352, -0.20864697131845686, -0.09239796442644936, -0.6497998833656311, -0.809581995010376, -0.6942738890647888, -0.7116037011146545, 0.7321859427860805, 0.6845015713146755, 0.7677155477660043, -0.7091170719691685, -0.5099762082099915, 0.8661114871501923, -0.21946121007204056, -0.7888917426268259, -0.8705456852912903, 0.1681836023926735, 0.027375131535033386, 0.7477187812328339, 0.824545830488205, 0.5426077757562909, 0.7120481530825297, -0.8434756398200989, -0.583617627620697, 0.31089362874627113, -0.7615492343902588, -0.7760321125388145, -0.665095679461956, 0.5773138701915741, 0.3940075784921646, 0.2841348094599588, -0.6260083573205131, 0.32387781143188477, 0.7163595333695412], \"xaxis\": \"x5\", \"y\": [-0.5380062460899353, -0.8254193663597107, 0.8573657274246216, -0.3184778094291687, 0.3055094704031944, -0.2243606001138687, -0.8179677128791809, -0.5386039018630981, 0.7136238217353821, 0.46803103387355804, 0.9017426371574402, 0.4478585943579674, -0.46409714967012405, -0.20918551087379456, -0.025031602010130882, -0.7224023044109344, 0.7479489147663116, 0.6265020966529846, 0.6366500854492188, -0.37172168493270874, -0.42120401561260223, -0.5024694800376892, 0.8848880529403687, 0.03497260374327501, 0.06586311012506485, -0.8479793469111124, -0.8307247757911682, -0.15925990045070648, 0.5312221765518188, 0.7956620812416076, 0.3972312033176422, 0.13112268596887589, -0.4440335392951965, -0.5043089985847473, 0.6308133482933045, 0.33870763182640073, 0.023481889814138412, -0.6466766595840454, 0.6303765535354614, -0.6646806597709656, 0.47243452072143555, -0.6634115874767303, -0.6524355113506317, 0.2211168296635151, -0.13492607325315475, 0.8880639374256134, 0.7237107753753662, 0.7740923563639323, -0.49017422397931415, 0.7830337683359782, 0.1601299544175466, 0.8387977679570516, 0.6663059790929159, 0.2784966627756755, 0.8732405702273051, 0.2225214292605718, -0.09854647020498912, 0.21857106188933054, 0.694806436697642, 0.43192485968271893, -0.8047234416007996, -0.26941487193107605, 0.5723666548728943, 0.6540312767028809, 0.400736798842748, 0.3340451121330261, 0.10285058990120888, 0.737184484799703, -0.11812270805239677, -0.5526965260505676, -0.6600757986307144, -0.2100047543644905, 0.6273161768913269, -0.6306577920913696, 0.14494189620018005, -0.709647019704183, -0.3494853973388672, 0.5791778564453125, 0.8626402616500854, 0.3824079781770706, 0.3736450970172882, 0.2588624954223633, 0.9051562746365865, 0.8169146776199341, 0.9580169916152954, -0.18725556135177612, 0.5604053437709808, -0.8525710900624593, 0.6664364536603292, -0.5097171713908514, 0.7778818607330322, 0.20523809641599655, 0.19283572733402252, 0.25316616892814636, 0.49535389244556427, 0.7260353565216064, -0.006654052762314677, -0.6633920669555664, 0.081332478672266, 0.22414105557478392, -0.5853990713755289, 0.24832346576910752, -0.580075591802597, -0.23749471207459769, -0.3718002736568451, -0.3470030277967453, 0.6471248388290405, 0.4262312799692154, -0.5570680856704712, -0.09228573366999626, -0.4776285863839663, 0.9095382392406464, 0.35948610305786133, 0.33775198930188227, -0.645016074180603, -0.5736989974975586, -0.7164072692394257, -0.19653627276420593, -0.11680850759148598, -0.5105507969856262, 0.8790509700775146, 0.42660559713840485, -0.07168517634272575, 0.6260767877101898, 0.32888640463352203, -0.8288385272026062, -0.24235264211893082, 0.722096860408783, -0.5015540421009064, 0.2060088887810707, -0.3382442494233449, -0.9274784028530121, 0.8764851093292236, -0.42949040399657357, 0.4805295169353485, 0.7090266479386224, 0.7799589293343681, 0.06492535397410393, 0.36735011637210846, -0.20308459443705423, 0.3710737185818808, 0.29228052496910095, -0.16927186293261393, -0.016130712814629078, 0.12207349496228355, -0.8158153891563416, -0.2733161747455597, -0.7120779156684875, -0.2691040486097336, 0.002141793433111161, 0.7618382374445597, 0.7423753639062246, 0.18138714879751205, -0.538499504327774, 0.5544085587774005, 0.40100889404614765, 0.49047642946243286, -0.7162346541881561, -0.7235517576336861, -0.4094488024711609, 0.2733064331114292, -0.3712819516658783, -0.7326213121414185, -0.7904488146305084, 0.6638110280036926, 0.5113513810294015, -0.8597148656845093, 0.09173860587179661], \"yaxis\": \"y5\"}, {\"customdata\": [[[\"clique_288_MEME-1\"], [\"GAAVETFFRWH\"], [\"eid_1067369::erythrocyte_binding_antigen-175_[Plasmodium_falciparum_3D7]\"]], [[\"clique_233_MEME-1\"], [\"ASKEAEE\"], [\"eid_1066661::merozoite_surface_protein_3\"]], [[\"clique_285_MEME-1\"], [\"DIDEINDIDEIN\"], [\"eid_1067614::MSP7-like_protein_[Plasmodium_falciparum_3D7]\"]], [[\"clique_284_MEME-1\"], [\"GASPPSGTS\"], [\"eid_95828::merozoite_surface_protein_1\"]], [[\"clique_235_MEME-1\"], [\"REYQLDNEGPD\"], [\"eid_1067713::MSP7-like_protein_[Plasmodium_falciparum_3D7]\"]], [[\"clique_282_MEME-1\"], [\"LIEEVVP\"], [\"eid_11776::11-1_polypeptide\"]], [[\"clique_281_MEME-1\"], [\"GTGQHGHMHGSR\"], [\"eid_142387::merozoite_surface_protein_2\"]], [[\"clique_264_MEME-1\"], [\"GSAGGSA\"], [\"eid_1067295::merozoite_surface_protein_2_[Plasmodium_falciparum_3D7]\"]], [[\"clique_230_MEME-1\"], [\"NENINKKDSDHN\"], [\"eid_1067362::mature_parasite-infected_erythrocyte_surface_antigen_[Plasmodium_falciparum_3D7]\"]], [[\"clique_229_MEME-1\"], [\"TYDEKVKKN\"], [\"eid_59591::Liver_stage_antigen\"]], [[\"clique_245_MEME-1\"], [\"EGPQGPADNVTP\"], [\"eid_1068338::endoplasmin\"]], [[\"clique_207_MEME-1\"], [\"NDENKTMEHIKI\"], [\"eid_1067099::merozoite_surface_protein_[Plasmodium_falciparum_3D7]\"]], [[\"clique_249_MEME-1\"], [\"NIKDNKHENIQD\"], [\"eid_914121::conserved_Plasmodium_protein\"]], [[\"clique_227_MEME-1\"], [\"RIPSGSFFBTP\"], [\"eid_913458::conserved_Plasmodium_protein\"]], [[\"clique_218_MEME-1\"], [\"QNNDYNQNNDYN\"], [\"eid_1067639::cytoadherence_linked_asexual_protein_3.2_[Plasmodium_falciparum_3D7]\"]], [[\"clique_205_MEME-1\"], [\"PQGSTGA\"], [\"eid_227384::serine_repeat_antigen_5\"]], [[\"clique_242_MEME-1\"], [\"FIWDGMJCA\"], [\"eid_72351::erythrocyte_membrane_protein_1\"]], [[\"clique_267_MEME-1\"], [\"CVDNLNYYFEFY\"], [\"eid_914291::cytochrome_c_oxidase_assembly_protein_(heme_A:_farnesyltransferase)\"]], [[\"clique_224_MEME-1\"], [\"QVPVSGSPL\"], [\"eid_1068342::merozoite_surface_protein_1\"]], [[\"clique_258_MEME-1\"], [\"LNQKEEENYKNH\"], [\"eid_1066940::erythrocyte_binding_antigen-140_[Plasmodium_falciparum_3D7]\"]], [[\"clique_240_MEME-1\"], [\"NIDNMENIDNM\"], [\"eid_913455::calpain_[Plasmodium_falciparum_3D7]\"]], [[\"clique_146_MEME-1\"], [\"SRIPSGSFF\"], [\"eid_913458::conserved_Plasmodium_protein\"]], [[\"clique_187_MEME-1\"], [\"DNIKGEDNIKG\"], [\"eid_913077::schizont_egress_antigen-1_[Plasmodium_falciparum_3D7]\"]], [[\"clique_57_MEME-2\"], [\"KLQNDKDSG\"], [\"eid_1067335::glutamate-rich_protein_[Plasmodium_falciparum_3D7]\"]], [[\"clique_59_MEME-1\"], [\"GDDNKNGDB\"], [\"eid_1067240::merozoite_surface_protein_1\"]], [[\"clique_60_MEME-1\"], [\"ETGESKETGESK\"], [\"eid_1067392::mature_parasite-infected_erythrocyte_surface_antigen_[Plasmodium_falciparum_3D7]\"]], [[\"clique_63_MEME-1\", \"clique_63_MEME-2\"], [\"YKLGNNKKSYLI\", \"NDVHKKKADDGN\"], [\"eid_1068632::merozoite_surface_protein_10_[Plasmodium_falciparum_3D7]\"]], [[\"clique_64_MEME-1\"], [\"NNNMDNKKNMDN\"], [\"eid_1067999::duffy_binding-like_merozoite_surface_protein_[Plasmodium_falciparum_3D7]\"]], [[\"clique_67_MEME-1\"], [\"QQSDLEQERRAK\"], [\"eid_13914::Liver_stage_antigen\"]], [[\"clique_68_MEME-1\"], [\"MEEHNKIEEHNK\"], [\"eid_497298::early_transcribed_membrane_protein_13\"]], [[\"clique_72_MEME-1\"], [\"DEGKTTDEGKTT\"], [\"eid_1068178::mature_parasite-infected_erythrocyte_surface_antigen_[Plasmodium_falciparum_3D7]\"]], [[\"clique_188_MEME-1\"], [\"RWLEEWGEEFCR\"], [\"eid_70460::erythrocyte_membrane_protein_1_var_IT-ICAM\"]], [[\"clique_81_MEME-1\"], [\"VAPSVEE\"], [\"eid_68360::Liver_stage_antigen-3\"]], [[\"clique_85_MEME-1\"], [\"EPFPNQKHKDLQ\"], [\"eid_28742::glutamate-rich_protein\"]], [[\"clique_88_MEME-1\"], [\"MSIHDGMKGQKY\"], [\"eid_1066929::erythrocyte_binding_antigen-165_[Plasmodium_falciparum_3D7]\"]], [[\"clique_92_MEME-1\"], [\"PCZLEYQWHTNV\"], [\"eid_236266::erythrocyte_membrane_protein_1\"]], [[\"clique_97_MEME-1\"], [\"NDKDIYNNM\"], [\"eid_1068488::serine_repeat_antigen_5_[Plasmodium_falciparum_3D7]\"]], [[\"clique_101_MEME-1\"], [\"SPRIFJSDBKDE\"], [\"eid_74433::apical_membrane_antigen-1\"]], [[\"clique_56_MEME-1\"], [\"KITLEKEIKNFR\"], [\"eid_1067229::cytoadherence_linked_asexual_protein_9_[Plasmodium_falciparum_3D7]\"]], [[\"clique_103_MEME-1\"], [\"CKCIPNYDCDIS\"], [\"eid_1068270::merozoite_surface_protein_10_[Plasmodium_falciparum_3D7]\"]], [[\"clique_54_MEME-1\"], [\"GPNDPFYDGTFN\"], [\"eid_1067253::high_molecular_weight_rhoptry_protein_3_[Plasmodium_falciparum_3D7]\"]], [[\"clique_47_MEME-1\"], [\"RQMFYTLGDYRD\"], [\"eid_1068080::cytoadherence_linked_asexual_protein_3.2_[Plasmodium_falciparum_3D7]\"]], [[\"clique_2_MEME-3\"], [\"DPYKQLKEVVEK\"], [\"eid_11799::Liver_stage_antigen\"]], [[\"clique_3_MEME-1\", \"clique_3_MEME-2\"], [\"QEPVTTQEPVTT\", \"QEPVTTQEP\"], [\"eid_78559::Interspersed_repeat_antigen\"]], [[\"clique_6_MEME-3\"], [\"CANCNEEDKNMS\"], [\"eid_1066614::merozoite_surface_protein_1\"]], [[\"clique_11_MEME-1\"], [\"VEENVEE\"], [\"eid_68166::Ring-infected_erythrocyte_surface_antigen_precursor\"]], [[\"clique_12_MEME-1\"], [\"RNQNVNDRRNFD\"], [\"eid_1067300::cytoadherence_linked_asexual_protein_3.1_[Plasmodium_falciparum_3D7]\"]], [[\"clique_13_MEME-2\"], [\"NLEEYBZTD\"], [\"eid_1068644::mature_parasite-infected_erythrocyte_surface_antigen_[Plasmodium_falciparum_3D7]\"]], [[\"clique_18_MEME-5\"], [\"SGEKLQYKKKEG\"], [\"eid_1068066::merozoite_surface_protein_10_[Plasmodium_falciparum_3D7]\"]], [[\"clique_25_MEME-1\"], [\"NTDTISTDN\"], [\"eid_913827::sporozoite_threonine_and_asparagine-rich_protein_[Plasmodium_falciparum_3D7]\"]], [[\"clique_32_MEME-1\"], [\"NNIYVKEFYKKL\"], [\"eid_1066953::apical_membrane_antigen_1\"]], [[\"clique_33_MEME-2\"], [\"ELKNKEL\"], [\"eid_1067038::erythrocyte_binding_antigen-181_[Plasmodium_falciparum_3D7]\"]], [[\"clique_36_MEME-1\", \"clique_36_MEME-2\"], [\"KEKEEVKEKEEV\", \"NKDKVIEQE\"], [\"eid_1066787::mature_parasite-infected_erythrocyte_surface_antigen_[Plasmodium_falciparum_3D7]\"]], [[\"clique_40_MEME-1\"], [\"GSVTEEIVE\"], [\"eid_70537::antigen_332\"]], [[\"clique_43_MEME-2\"], [\"TTVTEEDTFKGQ\"], [\"eid_1067345::cytoadherence_linked_asexual_protein_8_[Plasmodium_falciparum_3D7]\"]], [[\"clique_44_MEME-2\"], [\"ZFDKQKKKY\"], [\"eid_181670::PfEMP1\"]], [[\"clique_46_MEME-1\"], [\"SDGDKGP\"], [\"eid_1067578::endoplasmin\"]], [[\"clique_52_MEME-1\"], [\"ATKEASTSK\"], [\"eid_58833::Knob-associated_histidine-rich_protein_precursor\"]], [[\"clique_105_MEME-1\"], [\"TPQETVTTQEPV\"], [\"eid_78559::Interspersed_repeat_antigen\"]], [[\"clique_79_MEME-2\"], [\"FLKGDSEDGSEQ\"], [\"eid_1067256::merozoite_surface_protein_7_[Plasmodium_falciparum_IGH-CR14]\"]], [[\"clique_113_MEME-1\"], [\"NGNNFNKDNIFN\"], [\"eid_1066909::merozoite_surface_protein_1\"]], [[\"clique_143_MEME-1\"], [\"YLDEQEEDVYLD\"], [\"eid_1066726::cytoadherence_linked_asexual_protein_8_[Plasmodium_falciparum_3D7]\"]], [[\"clique_291_MEME-1\"], [\"NNKNGDNNKNGD\"], [\"eid_21318::hypothetical_protein\"]], [[\"clique_148_MEME-1\"], [\"KDINKTDSE\"], [\"eid_4127::hypothetical_protein_PF14_0045\"]], [[\"clique_153_MEME-1\"], [\"SNDKQSNDI\"], [\"eid_1066904::merozoite_surface_protein_5_[Plasmodium_falciparum_3D7]\"]], [[\"clique_155_MEME-1\"], [\"KSNEQSKREDDS\"], [\"eid_1066839::erythrocyte_binding_antigen-175_[Plasmodium_falciparum_3D7]\"]], [[\"clique_112_MEME-2\"], [\"QKSPPKELSNKQ\"], [\"eid_1068371::merozoite_surface_protein_1\"]], [[\"clique_157_MEME-1\"], [\"HDIYDIDTF\"], [\"eid_1067530::erythrocyte_binding_antigen-140_[Plasmodium_falciparum_3D7]\"]], [[\"clique_159_MEME-2\"], [\"SRNDEMLDP\"], [\"eid_465588::apical_membrane_antigen_1\"]], [[\"clique_160_MEME-1\"], [\"QNDKDSGKL\"], [\"eid_1067335::glutamate-rich_protein_[Plasmodium_falciparum_3D7]\"]], [[\"clique_162_MEME-1\"], [\"BNFDDKNPFDEY\"], [\"eid_1067211::methionine--tRNA_ligase_[Plasmodium_falciparum_3D7]\"]], [[\"clique_164_MEME-1\"], [\"SKSQVQHPK\"], [\"eid_1068066::merozoite_surface_protein_10_[Plasmodium_falciparum_3D7]\"]], [[\"clique_165_MEME-1\"], [\"GSFDTIFDGFVN\"], [\"eid_1067481::merozoite_surface_protein_[Plasmodium_falciparum_3D7]\"]], [[\"clique_171_MEME-2\"], [\"EKRNGFDLBDDT\"], [\"eid_45337::sporozoite_surface_protein_2\"]], [[\"clique_178_MEME-1\"], [\"YGPNGTYGPNGT\"], [\"eid_58266::major_surface_antigen_p190\"]], [[\"clique_180_MEME-1\"], [\"INNGGCGDDKIC\"], [\"eid_1066917::merozoite_surface_protein_5_[Plasmodium_falciparum_3D7]\"]], [[\"clique_185_MEME-1\"], [\"LPEEDIINEKVQ\"], [\"eid_1066611::erythrocyte_binding_antigen-140_[Plasmodium_falciparum_3D7]\"]], [[\"clique_186_MEME-1\"], [\"KPFNEPTYVDSN\"], [\"eid_913520::glutamate-rich_protein_[Plasmodium_falciparum_3D7]\"]], [[\"clique_142_MEME-1\"], [\"LDRHRDMCEKW\"], [\"eid_913519::erythrocyte_membrane_protein_1_(PfEMP1)\"]], [[\"clique_138_MEME-1\"], [\"NVHKNVNNDDM\"], [\"eid_72884::Erythrocyte_binding_antigen\"]], [[\"clique_156_MEME-1\"], [\"FDDCQLQNEFCD\"], [\"eid_67995::hypothetical_protein_PFB0145c\"]], [[\"clique_124_MEME-1\"], [\"APIFGSPSNKDD\"], [\"eid_1068541::merozoite_surface_protein_8_[Plasmodium_falciparum_3D7]\"]], [[\"clique_118_MEME-1\"], [\"ENKDKVIGQEII\"], [\"eid_1068372::mature_parasite-infected_erythrocyte_surface_antigen_[Plasmodium_falciparum_3D7]\"]], [[\"clique_121_MEME-1\"], [\"LSDDVRPDKNHE\"], [\"eid_1066748::erythrocyte_binding_antigen-175_[Plasmodium_falciparum_3D7]\"]], [[\"clique_117_MEME-1\"], [\"NEINREINNEIN\"], [\"eid_43692::hypothetical_protein_PF07_0086\"]], [[\"clique_122_MEME-1\"], [\"KKGDDNKMMVEN\"], [\"eid_913638::sporozoite_surface_protein_3\"]], [[\"clique_115_MEME-1\"], [\"YILGWEFGGGVP\"], [\"eid_1068527::merozoite_surface_protein_3\"]], [[\"clique_125_MEME-2\"], [\"LDPKFYNLGDFG\"], [\"eid_39565::antigen_Pfg27/25\"]], [[\"clique_136_MEME-1\"], [\"CIPPRRRKLTVG\"], [\"eid_1067473::erythrocyte_binding_antigen-175_[Plasmodium_falciparum_3D7]\"]], [[\"clique_114_MEME-1\"], [\"NHKSISNHKDIN\"], [\"eid_1067788::methionine--tRNA_ligase_[Plasmodium_falciparum_3D7]\"]], [[\"clique_127_MEME-1\"], [\"MNGDNKMNGDNK\"], [\"eid_21318::hypothetical_protein\"]], [[\"clique_128_MEME-1\"], [\"KLIGDNKLIGD\"], [\"eid_11927::erythrocyte_membrane-associated_giant_protein_antigen_332\"]], [[\"clique_129_MEME-2\"], [\"SIQEQLIGTIGR\"], [\"eid_181694::erythrocyte_membrane_protein_1\"]]], \"hoverlabel\": {\"namelength\": 0}, \"hovertemplate\": \"<b>%{hovertext}</b><br><br>num_known=1<br>agg_x=%{x}<br>agg_y=%{y}<br>membership=%{marker.size}<br>qseqid=%{customdata[0]}<br>sequences=%{customdata[1]}<br>sseqid=%{customdata[2]}<br>num_patients=%{marker.color}\", \"hovertext\": [288.0, 233.0, 285.0, 284.0, 235.0, 282.0, 281.0, 264.0, 230.0, 229.0, 245.0, 207.0, 249.0, 227.0, 218.0, 205.0, 242.0, 267.0, 224.0, 258.0, 240.0, 146.0, 187.0, 57.0, 59.0, 60.0, 63.0, 64.0, 67.0, 68.0, 72.0, 188.0, 81.0, 85.0, 88.0, 92.0, 97.0, 101.0, 56.0, 103.0, 54.0, 47.0, 2.0, 3.0, 6.0, 11.0, 12.0, 13.0, 18.0, 25.0, 32.0, 33.0, 36.0, 40.0, 43.0, 44.0, 46.0, 52.0, 105.0, 79.0, 113.0, 143.0, 291.0, 148.0, 153.0, 155.0, 112.0, 157.0, 159.0, 160.0, 162.0, 164.0, 165.0, 171.0, 178.0, 180.0, 185.0, 186.0, 142.0, 138.0, 156.0, 124.0, 118.0, 121.0, 117.0, 122.0, 115.0, 125.0, 136.0, 114.0, 127.0, 128.0, 129.0], \"legendgroup\": \"\", \"marker\": {\"color\": [18, 33, 13, 22, 12, 40, 20, 37, 20, 18, 86, 15, 23, 15, 27, 16, 19, 16, 16, 13, 22, 29, 26, 59, 41, 80, 72, 49, 74, 38, 37, 24, 104, 37, 29, 33, 23, 38, 26, 75, 42, 99, 96, 142, 69, 116, 156, 35, 47, 67, 24, 19, 64, 42, 100, 71, 26, 64, 88, 31, 43, 28, 19, 16, 31, 41, 31, 36, 16, 12, 19, 66, 27, 19, 23, 52, 28, 21, 89, 26, 28, 30, 48, 30, 28, 31, 31, 34, 39, 45, 26, 37, 26], \"coloraxis\": \"coloraxis\", \"size\": [2, 2, 2, 2, 2, 2, 2, 2, 2, 2, 2, 2, 2, 2, 2, 2, 2, 2, 2, 2, 2, 3, 3, 8, 8, 8, 8, 7, 7, 7, 7, 3, 6, 6, 6, 6, 5, 5, 8, 5, 8, 10, 77, 65, 41, 28, 27, 26, 24, 17, 14, 14, 13, 13, 11, 11, 10, 9, 5, 7, 5, 4, 2, 3, 3, 3, 5, 3, 3, 3, 3, 3, 3, 3, 3, 3, 3, 3, 4, 4, 3, 4, 4, 4, 4, 4, 4, 4, 4, 5, 4, 4, 4], \"sizemode\": \"area\", \"sizeref\": 0.1856, \"symbol\": \"circle\"}, \"mode\": \"markers\", \"name\": \"\", \"showlegend\": false, \"type\": \"scatter\", \"x\": [0.9683883488178253, 0.2848224490880966, -0.07106811180710793, 0.8846813142299652, -0.1479027345776558, -0.5710216164588928, -0.6447552144527435, -0.08799504116177559, -0.4417027086019516, 0.9160798490047455, 0.34834231436252594, 0.12572979182004929, -0.6976119875907898, -0.7170154452323914, 0.48320139944553375, -0.5005680173635483, -0.33626289665699005, -0.15690919011831284, 0.36197255551815033, -0.6366885006427765, 0.6557102799415588, 0.12675794959068298, 0.8027218381563822, -0.8021852225065231, 0.19132046774029732, 0.3337153233587742, 0.6126223132014275, 0.7990794011524746, 0.10786050025905881, -0.7502149002892631, -0.14373990254742758, 0.022318603470921516, 0.4915817826986313, -0.3185959458351135, 0.7759771843751272, -0.8085672855377197, 0.7318092465400696, -0.8016077876091003, 0.04246543953195214, -0.7248126983642578, -0.23797217197716236, -0.17038653939962387, 0.10028295102831605, 0.13599893221488366, 0.2626943530105963, 0.22160888356821878, 0.26470695049674425, 0.3815499120033704, -0.19524498718480268, 0.5453455342965967, 0.5376130087035043, -0.20126239955425262, -0.239200879748051, -0.4240639301446768, 0.41531698541207746, 0.33836168863556604, 0.6292652666568757, -0.3770907786157396, -0.5519328713417053, -0.6865785121917725, -0.14431074857711793, 0.34436342865228653, 0.22018184512853622, 0.8129599889119467, 0.525420626004537, -0.915150503317515, 0.5189517259597778, 0.38185153404871625, -0.5025160809357961, -0.6382723251978556, -0.22568885485331217, 0.3206254243850708, -0.7916970451672872, -0.5358479619026184, 0.2744365135828654, -0.8302109638849894, 0.1902943253517151, -0.48039209842681885, -0.7902465611696243, -0.7509220242500305, 0.19435334702332815, -0.7714347839355469, 0.6488337814807892, 0.4459900036454201, 0.7044094800949097, 0.23840540274977684, 0.8631899654865265, -0.6208752691745758, -0.7677550166845322, -0.25852261781692504, -0.30209603905677795, -0.820195883512497, -0.12556562013924122], \"xaxis\": \"x6\", \"y\": [0.11551833525300026, -0.8137749135494232, 0.879574328660965, 0.45805034041404724, -0.867368221282959, 0.5865812599658966, -0.7562623620033264, 0.9356776773929596, -0.8715693652629852, -0.26067061722278595, 0.8786535859107971, -0.8678090572357178, -0.7708384096622467, -0.5394929647445679, -0.9280313551425934, 0.7307453155517578, -0.7579630315303802, 0.8906595706939697, -0.8590510189533234, 0.6117630302906036, -0.726637065410614, 0.7973464330037435, -0.4002419610818227, 0.03218135889619589, 0.6846175193786621, -0.6355010420084, 0.48768041282892227, -0.287009345633643, -0.7596533894538879, -0.09338677674531937, -0.7253856658935547, -0.8659860094388326, 0.5984720091025034, -0.6456015706062317, 0.14884061366319656, -0.15782354523738226, -0.2172500193119049, -0.06367101967334747, 0.7873895093798637, -0.3121159017086029, 0.7532577812671661, -0.44472399950027464, 0.07119478198227944, -0.09500148880940218, -0.08497315699734338, 0.2983198197824614, -0.27993960954524855, -0.027316443550472077, -0.2475086941073338, 0.14524652502116034, 0.47781750559806824, 0.38067060496125904, -0.6518617822573736, 0.447600972193938, -0.5018194995143197, 0.5628869262608615, -0.20410573184490205, -0.6021683745914035, -0.5807798027992248, 0.2599083738667624, 0.7370436787605286, -0.7807630151510239, 0.9236744940280914, 0.07971878349781036, 0.7657472093900045, 0.17604359984397888, -0.5919845223426818, 0.7877131700515747, -0.6260677377382914, 0.5824171503384908, -0.8535464803377787, 0.7400222023328146, 0.40971426169077557, 0.5234307845433553, 0.7147271434466044, 0.028452427436908085, 0.8620549241701762, -0.663207471370697, 0.16122323274612427, -0.3839089870452881, -0.843002180258433, -0.030995420180261135, 0.39570529013872147, -0.6060331612825394, 0.24150430411100388, -0.7652088701725006, 0.14414530247449875, -0.3975786194205284, 0.3299507349729538, -0.7905314803123474, -0.7629100978374481, 0.15874144062399864, 0.9195494800806046], \"yaxis\": \"y6\"}, {\"customdata\": [[[\"clique_100_MEME-1\", \"clique_100_MEME-2\"], [\"ILRKLNYDDFFT\", \"KDMNKENIKKTD\"], [\"eid_74087::Circumsporozoite_protein_precursor\", \"eid_1067419::erythrocyte_binding_antigen-165_[Plasmodium_falciparum_3D7]\"]], [[\"clique_20_MEME-1\", \"clique_20_MEME-2\"], [\"BSQNGKNEKNEK\", \"KIDMHNTYNDT\"], [\"eid_7940::Circumsporozoite_protein_precursor\", \"eid_913115::petidase\"]], [[\"clique_10_MEME-1\", \"clique_10_MEME-2\"], [\"RPQFLRWFTEWG\", \"EEFCRERKK\"], [\"eid_1067630::erythrocyte_binding_antigen-140_[Plasmodium_falciparum_3D7]\", \"eid_181613::PfEMP1\"]], [[\"clique_91_MEME-1\", \"clique_91_MEME-2\"], [\"DNIEVNNTJ\", \"NRELIKKESIY\"], [\"eid_913807::protein_kinase\", \"eid_1067419::erythrocyte_binding_antigen-165_[Plasmodium_falciparum_3D7]\"]], [[\"clique_1_MEME-1\", \"clique_1_MEME-10\"], [\"GIDJYBEVLKRK\", \"ENELFGT\"], [\"eid_73540::PfEMP1_variant_1_of_strain_MC\", \"eid_913468::heat_shock_protein_90\"]], [[\"clique_15_MEME-3\", \"clique_15_MEME-5\"], [\"AFHSNVPGBKRE\", \"VHNTQNTHDLLG\"], [\"eid_1067253::high_molecular_weight_rhoptry_protein_3_[Plasmodium_falciparum_3D7]\", \"eid_181743::PfEMP1\"]], [[\"clique_17_MEME-1\", \"clique_17_MEME-2\"], [\"NDTEEKDKVKKQ\", \"VEEGIKE\"], [\"eid_1067371::mature_parasite-infected_erythrocyte_surface_antigen_[Plasmodium_falciparum_3D7]\", \"eid_1068514::mature_parasite-infected_erythrocyte_surface_antigen_[Plasmodium_falciparum_3D7]\"]], [[\"clique_89_MEME-1\", \"clique_89_MEME-2\"], [\"NEVKSEVKNEVK\", \"YNHIIPYKNIKI\"], [\"eid_1067428::merozoite_surface_protein_6_[Plasmodium_falciparum_3D7]\", \"eid_697078::Erythrocyte_membrane_protein_1\"]], [[\"clique_4_MEME-1\", \"clique_4_MEME-3\"], [\"GQQNTGLKNTPS\", \"LNKDIRNKDLKN\"], [\"eid_1067917::high_molecular_weight_rhoptry_protein_3_[Plasmodium_falciparum_3D7]\", \"eid_1066836::erythrocyte_binding_antigen-175_[Plasmodium_falciparum_3D7]\"]], [[\"clique_137_MEME-1\", \"clique_137_MEME-2\"], [\"PPTQDAETKSPT\", \"GQHGHMH\"], [\"eid_1068306::merozoite_surface_protein_2_[Plasmodium_falciparum_3D7]\", \"eid_1067688::merozoite_surface_protein_2_[Plasmodium_falciparum_3D7]\"]], [[\"clique_0_MEME-1\", \"clique_0_MEME-2\", \"clique_0_MEME-3\"], [\"VIPEELVEEVIP\", \"VVEEVVPEELVE\", \"EVVEEVVPE\"], [\"eid_11776::11-1_polypeptide\", \"eid_914212::glutamate-rich_protein_[Plasmodium_falciparum_3D7]\"]], [[\"clique_28_MEME-1\", \"clique_28_MEME-2\"], [\"SAFGGGLPFSGY\", \"SSGIGNHNKCPD\"], [\"eid_466413::erythrocyte_membrane_protein\", \"eid_1066698::duffy_binding-like_merozoite_surface_protein_[Plasmodium_falciparum_3D7]\"]], [[\"clique_30_MEME-1\", \"clique_30_MEME-2\"], [\"SNGREDKVSNGG\", \"VSNGREDKV\"], [\"eid_914261::S-antigen_[Plasmodium_falciparum_3D7]\", \"eid_913339::S-antigen_[Plasmodium_falciparum_3D7]\"]], [[\"clique_139_MEME-1\", \"clique_139_MEME-2\"], [\"DLIEAFFPFIL\", \"LDNKYDDYYNLP\"], [\"eid_1067859::merozoite_surface_protein_10_[Plasmodium_falciparum_3D7]\", \"eid_1067587::merozoite_surface_protein_10_[Plasmodium_falciparum_3D7]\"]], [[\"clique_31_MEME-2\", \"clique_31_MEME-4\"], [\"LVDNMNITQ\", \"INSDDIKEK\"], [\"eid_1067628::erythrocyte_binding_antigen-175_[Plasmodium_falciparum_3D7]\", \"eid_913036::schizont_egress_antigen-1_[Plasmodium_falciparum_3D7]\"]], [[\"clique_50_MEME-1\", \"clique_50_MEME-2\"], [\"ENNENIENNENN\", \"HPGSCFVENKAH\"], [\"eid_1068099::merozoite_surface_protein_10_[Plasmodium_falciparum_3D7]\", \"eid_1066886::erythrocyte_binding_antigen-175_[Plasmodium_falciparum_3D7]\"]], [[\"clique_82_MEME-1\", \"clique_82_MEME-2\"], [\"PLDNTSEETTER\", \"NPNRSSDEGEAH\"], [\"eid_21682::erythrocyte_binding_protein\", \"eid_1066886::erythrocyte_binding_antigen-175_[Plasmodium_falciparum_3D7]\"]], [[\"clique_34_MEME-1\", \"clique_34_MEME-2\"], [\"NTSNKLKDEPVD\", \"LRDNYASEQEYF\"], [\"eid_1068603::serine_repeat_antigen_5_[Plasmodium_falciparum_3D7]\", \"eid_1068141::antigen_332\"]], [[\"clique_80_MEME-1\", \"clique_80_MEME-2\"], [\"DNMDNIYNV\", \"YKFLSMKHYKDS\"], [\"eid_913791::conserved_Plasmodium_protein\", \"eid_1067951::merozoite_surface_protein_10_[Plasmodium_falciparum_3D7]\"]], [[\"clique_126_MEME-1\", \"clique_126_MEME-2\"], [\"FIQEDQEGQTHS\", \"KGLDIDBIP\"], [\"eid_1066701::glutamate-rich_protein_[Plasmodium_falciparum_3D7]\", \"eid_1068139::glutamate-rich_protein_[Plasmodium_falciparum_3D7]\"]], [[\"clique_73_MEME-1\", \"clique_73_MEME-3\"], [\"FYKLLKEGKYCK\", \"AFTKQKEKYAKY\"], [\"eid_1068564::endoplasmin\", \"eid_181693::erythrocyte_membrane_protein_1\"]]], \"hoverlabel\": {\"namelength\": 0}, \"hovertemplate\": \"<b>%{hovertext}</b><br><br>num_known=2<br>agg_x=%{x}<br>agg_y=%{y}<br>membership=%{marker.size}<br>qseqid=%{customdata[0]}<br>sequences=%{customdata[1]}<br>sseqid=%{customdata[2]}<br>num_patients=%{marker.color}\", \"hovertext\": [100.0, 20.0, 10.0, 91.0, 1.0, 15.0, 17.0, 89.0, 4.0, 137.0, 0.0, 28.0, 30.0, 139.0, 31.0, 50.0, 82.0, 34.0, 80.0, 126.0, 73.0], \"legendgroup\": \"\", \"marker\": {\"color\": [53, 86, 43, 44, 59, 24, 114, 33, 77, 67, 120, 44, 14, 23, 59, 74, 56, 101, 74, 21, 22], \"coloraxis\": \"coloraxis\", \"size\": [5, 21, 29, 6, 169, 25, 24, 6, 57, 4, 464, 15, 14, 4, 14, 9, 6, 13, 7, 4, 7], \"sizemode\": \"area\", \"sizeref\": 0.1856, \"symbol\": \"circle\"}, \"mode\": \"markers\", \"name\": \"\", \"showlegend\": false, \"type\": \"scatter\", \"x\": [-0.28679958581924436, -0.3885052700837453, 0.24030592369622197, -0.17122070988019308, -0.020564155559435752, -0.33407514095306395, 0.14180235068003336, 0.7716923654079437, 0.15055599207418008, -0.3875867575407028, -0.03502683266836765, 0.018894872441887856, -0.06838397628494672, 0.3668384552001953, 0.1851791058267866, 0.1540113223923577, -0.7955708801746368, 0.7042312622070312, 0.6554255144936698, -0.35502658784389496, 0.3459294097764151], \"xaxis\": \"x3\", \"y\": [0.715939748287201, 0.2654612177894229, -0.16563245243039623, 0.806792289018631, -0.07760553837880581, 0.02514634907245636, -0.3392336579660575, -0.0964203712840875, 0.15527238762169554, 0.6393765062093735, 0.025516362106106406, -0.613791306813558, 0.688004161630358, -0.6860976219177246, -0.3902381530829838, -0.7264526949988471, 0.09847478196024895, -0.06323724096784225, -0.2955492394311087, -0.7248631119728088, 0.6819206646510533], \"yaxis\": \"y3\"}, {\"customdata\": [[[\"clique_19_MEME-1\", \"clique_19_MEME-2\", \"clique_19_MEME-3\"], [\"PNANPNANPNAN\", \"NPBANPN\", \"KLRKPKHKKLKQ\"], [\"eid_756411::circumsporozoite_(CS)_protein_[Plasmodium_falciparum_3D7]\", \"eid_45407::circumsporozoite_(CS)_protein_[Plasmodium_falciparum_3D7]\", \"eid_45110::Circumsporozoite_protein_precursor\"]], [[\"clique_49_MEME-1\", \"clique_49_MEME-2\", \"clique_49_MEME-3\"], [\"PQYLRWFEEWAE\", \"YCRGNNGKC\", \"DVPTNFDYV\"], [\"eid_70460::erythrocyte_membrane_protein_1_var_IT-ICAM\", \"eid_1068698::erythrocyte_binding_antigen-181_[Plasmodium_falciparum_3D7]\", \"eid_181818::PfEMP1\"]], [[\"clique_5_MEME-1\", \"clique_5_MEME-2\", \"clique_5_MEME-3\"], [\"KQILKDKCEKEJ\", \"HEYDERMKT\", \"DPEMKEV\"], [\"eid_1067912::merozoite_surface_protein_8_[Plasmodium_falciparum_3D7]\", \"eid_913629::sporozoite_surface_protein_3\", \"eid_912954::glutamate-rich_protein_[Plasmodium_falciparum_3D7]\"]], [[\"clique_9_MEME-3\", \"clique_9_MEME-4\", \"clique_9_MEME-5\"], [\"FEKQKEKYEKEI\", \"EKLKNENYETVN\", \"TYESNDAIS\"], [\"eid_1068177::duffy_binding-like_merozoite_surface_protein_[Plasmodium_falciparum_3D7]\", \"eid_1067370::antigen_332\", \"eid_1067417::antigen_332\"]], [[\"clique_94_MEME-1\", \"clique_94_MEME-2\", \"clique_94_MEME-3\"], [\"NYHYEEPFILTP\", \"EAYEKAGEVIVE\", \"REVEKRSEKLID\"], [\"eid_1068229::high_molecular_weight_rhoptry_protein_3_[Plasmodium_falciparum_3D7]\", \"eid_23729::merozoite_surface_protein_3\", \"eid_15297::sporozoite_surface_protein_2\"]], [[\"clique_14_MEME-1\", \"clique_14_MEME-2\", \"clique_14_MEME-4\"], [\"QHEIVEVEEILP\", \"EDKNEKV\", \"HTEQLDLDHKTV\"], [\"eid_469456::glutamate-rich_protein\", \"eid_913436::glutamate-rich_protein_[Plasmodium_falciparum_3D7]\", \"eid_1067856::glutamate-rich_protein_[Plasmodium_falciparum_3D7]\"]], [[\"clique_16_MEME-1\", \"clique_16_MEME-2\", \"clique_16_MEME-3\", \"clique_16_MEME-5\"], [\"TDNEWNTLKDEF\", \"DIQNDGIPSSKI\", \"ISQYLQSEQPKD\", \"VPNDYQS\"], [\"eid_43848::hypothetical_protein_PFL1930w\", \"eid_914273::thrombospondin-related_anonymous_protein_[Plasmodium_falciparum_3D7]\", \"eid_913681::erythrocyte_membrane_protein_1\"]], [[\"clique_7_MEME-1\", \"clique_7_MEME-2\", \"clique_7_MEME-3\"], [\"QQSDLEQERLAK\", \"KLQEQQS\", \"LAKEKLQ\"], [\"eid_913175::liver_stage_antigen_1_[Plasmodium_falciparum_3D7]\", \"eid_914045::liver_stage_antigen_1_[Plasmodium_falciparum_3D7]\", \"eid_913945::liver_stage_antigen_1_[Plasmodium_falciparum_3D7]\"]], [[\"clique_21_MEME-1\", \"clique_21_MEME-2\", \"clique_21_MEME-3\"], [\"IYYDVNDDD\", \"KEKYPIADVWDI\", \"DKPFNEP\"], [\"eid_1067887::acidic_basic_repeat_antigen_[Plasmodium_falciparum_3D7]\", \"eid_1066844::high_molecular_weight_rhoptry_protein_3_[Plasmodium_falciparum_3D7]\", \"eid_1066553::erythrocyte_binding_antigen-165_[Plasmodium_falciparum_3D7]\"]]], \"hoverlabel\": {\"namelength\": 0}, \"hovertemplate\": \"<b>%{hovertext}</b><br><br>num_known=3<br>agg_x=%{x}<br>agg_y=%{y}<br>membership=%{marker.size}<br>qseqid=%{customdata[0]}<br>sequences=%{customdata[1]}<br>sseqid=%{customdata[2]}<br>num_patients=%{marker.color}\", \"hovertext\": [19.0, 49.0, 5.0, 9.0, 94.0, 14.0, 16.0, 7.0, 21.0], \"legendgroup\": \"\", \"marker\": {\"color\": [39, 28, 56, 40, 43, 106, 47, 122, 43], \"coloraxis\": \"coloraxis\", \"size\": [23, 9, 57, 31, 6, 25, 25, 38, 21], \"sizemode\": \"area\", \"sizeref\": 0.1856, \"symbol\": \"circle\"}, \"mode\": \"markers\", \"name\": \"\", \"showlegend\": false, \"type\": \"scatter\", \"x\": [-0.25944154547608417, -0.3654082483715481, -0.22799349667733176, -0.28828751271770847, 0.7289892931779226, -0.04007857277989388, -0.3638659989833832, -0.29848755347101313, 0.33953883392470224], \"xaxis\": \"x4\", \"y\": [0.2790773472060328, 0.5979923341009352, -0.016384447483639968, -0.19826547416948503, -0.3992217679818471, -0.35490927457809446, -0.04502427563071251, 0.12033745215127342, 0.10809899334396635], \"yaxis\": \"y4\"}, {\"customdata\": [[[\"clique_8_MEME-1\", \"clique_8_MEME-2\", \"clique_8_MEME-3\", \"clique_8_MEME-4\"], [\"AITKYQNPH\", \"YHNDPELKEIID\", \"NTQRTTIKSRLL\", \"DPYKQLKEVVEK\"], [\"eid_17796::Cytoadherence_linked_asexual_protein\", \"eid_1068539::cytoadherence_linked_asexual_protein_2_[Plasmodium_falciparum_3D7]\", \"eid_914054::stevor_[Plasmodium_falciparum_3D7]\", \"eid_11799::Liver_stage_antigen\"]], [[\"clique_23_MEME-2\", \"clique_23_MEME-3\", \"clique_23_MEME-4\", \"clique_23_MEME-5\"], [\"DSYRILSVSYKD\", \"DDEEKNETNDTE\", \"IEEEINTDG\", \"DIIKHNEDVR\"], [\"eid_1068135::duffy_binding-like_merozoite_surface_protein_[Plasmodium_falciparum_3D7]\", \"eid_1066920::duffy_binding-like_merozoite_surface_protein_[Plasmodium_falciparum_3D7]\", \"eid_122259::erythrocyte_membrane_protein\", \"eid_1068370::duffy_binding-like_merozoite_surface_protein_[Plasmodium_falciparum_3D7]\"]]], \"hoverlabel\": {\"namelength\": 0}, \"hovertemplate\": \"<b>%{hovertext}</b><br><br>num_known=4<br>agg_x=%{x}<br>agg_y=%{y}<br>membership=%{marker.size}<br>qseqid=%{customdata[0]}<br>sequences=%{customdata[1]}<br>sseqid=%{customdata[2]}<br>num_patients=%{marker.color}\", \"hovertext\": [8.0, 23.0], \"legendgroup\": \"\", \"marker\": {\"color\": [35, 64], \"coloraxis\": \"coloraxis\", \"size\": [31, 20], \"sizemode\": \"area\", \"sizeref\": 0.1856, \"symbol\": \"circle\"}, \"mode\": \"markers\", \"name\": \"\", \"showlegend\": false, \"type\": \"scatter\", \"x\": [-0.11994561649137928, 0.3469578132033348], \"xaxis\": \"x\", \"y\": [-0.3245413957103606, 0.2713040068745613], \"yaxis\": \"y\"}],\n",
       "                        {\"annotations\": [{\"font\": {}, \"showarrow\": false, \"text\": \"num_known=4\", \"x\": 0.245, \"xanchor\": \"center\", \"xref\": \"paper\", \"y\": 0.2866666666666666, \"yanchor\": \"bottom\", \"yref\": \"paper\"}, {\"font\": {}, \"showarrow\": false, \"text\": \"num_known=2\", \"x\": 0.245, \"xanchor\": \"center\", \"xref\": \"paper\", \"y\": 0.6433333333333333, \"yanchor\": \"bottom\", \"yref\": \"paper\"}, {\"font\": {}, \"showarrow\": false, \"text\": \"num_known=3\", \"x\": 0.755, \"xanchor\": \"center\", \"xref\": \"paper\", \"y\": 0.6433333333333333, \"yanchor\": \"bottom\", \"yref\": \"paper\"}, {\"font\": {}, \"showarrow\": false, \"text\": \"num_known=0\", \"x\": 0.245, \"xanchor\": \"center\", \"xref\": \"paper\", \"y\": 0.9999999999999999, \"yanchor\": \"bottom\", \"yref\": \"paper\"}, {\"font\": {}, \"showarrow\": false, \"text\": \"num_known=1\", \"x\": 0.755, \"xanchor\": \"center\", \"xref\": \"paper\", \"y\": 0.9999999999999999, \"yanchor\": \"bottom\", \"yref\": \"paper\"}], \"coloraxis\": {\"colorbar\": {\"title\": {\"text\": \"num_patients\"}}, \"colorscale\": [[0.0, \"rgb(255,247,236)\"], [0.125, \"rgb(254,232,200)\"], [0.25, \"rgb(253,212,158)\"], [0.375, \"rgb(253,187,132)\"], [0.5, \"rgb(252,141,89)\"], [0.625, \"rgb(239,101,72)\"], [0.75, \"rgb(215,48,31)\"], [0.875, \"rgb(179,0,0)\"], [1.0, \"rgb(127,0,0)\"]]}, \"height\": 1000, \"legend\": {\"itemsizing\": \"constant\", \"tracegroupgap\": 0}, \"margin\": {\"t\": 60}, \"template\": {\"data\": {\"bar\": [{\"error_x\": {\"color\": \"#2a3f5f\"}, \"error_y\": {\"color\": \"#2a3f5f\"}, \"marker\": {\"line\": {\"color\": \"white\", \"width\": 0.5}}, \"type\": \"bar\"}], \"barpolar\": [{\"marker\": {\"line\": {\"color\": \"white\", \"width\": 0.5}}, \"type\": \"barpolar\"}], \"carpet\": [{\"aaxis\": {\"endlinecolor\": \"#2a3f5f\", \"gridcolor\": \"#C8D4E3\", \"linecolor\": \"#C8D4E3\", \"minorgridcolor\": \"#C8D4E3\", \"startlinecolor\": \"#2a3f5f\"}, \"baxis\": {\"endlinecolor\": \"#2a3f5f\", \"gridcolor\": \"#C8D4E3\", \"linecolor\": \"#C8D4E3\", \"minorgridcolor\": \"#C8D4E3\", \"startlinecolor\": \"#2a3f5f\"}, \"type\": \"carpet\"}], \"choropleth\": [{\"colorbar\": {\"outlinewidth\": 0, \"ticks\": \"\"}, \"type\": \"choropleth\"}], \"contour\": [{\"colorbar\": {\"outlinewidth\": 0, \"ticks\": \"\"}, \"colorscale\": [[0.0, \"#0d0887\"], [0.1111111111111111, \"#46039f\"], [0.2222222222222222, \"#7201a8\"], [0.3333333333333333, \"#9c179e\"], [0.4444444444444444, \"#bd3786\"], [0.5555555555555556, \"#d8576b\"], [0.6666666666666666, \"#ed7953\"], [0.7777777777777778, \"#fb9f3a\"], [0.8888888888888888, \"#fdca26\"], [1.0, \"#f0f921\"]], \"type\": \"contour\"}], \"contourcarpet\": [{\"colorbar\": {\"outlinewidth\": 0, \"ticks\": \"\"}, \"type\": \"contourcarpet\"}], \"heatmap\": [{\"colorbar\": {\"outlinewidth\": 0, \"ticks\": \"\"}, \"colorscale\": [[0.0, \"#0d0887\"], [0.1111111111111111, \"#46039f\"], [0.2222222222222222, \"#7201a8\"], [0.3333333333333333, \"#9c179e\"], [0.4444444444444444, \"#bd3786\"], [0.5555555555555556, \"#d8576b\"], [0.6666666666666666, \"#ed7953\"], [0.7777777777777778, \"#fb9f3a\"], [0.8888888888888888, \"#fdca26\"], [1.0, \"#f0f921\"]], \"type\": \"heatmap\"}], \"heatmapgl\": [{\"colorbar\": {\"outlinewidth\": 0, \"ticks\": \"\"}, \"colorscale\": [[0.0, \"#0d0887\"], [0.1111111111111111, \"#46039f\"], [0.2222222222222222, \"#7201a8\"], [0.3333333333333333, \"#9c179e\"], [0.4444444444444444, \"#bd3786\"], [0.5555555555555556, \"#d8576b\"], [0.6666666666666666, \"#ed7953\"], [0.7777777777777778, \"#fb9f3a\"], [0.8888888888888888, \"#fdca26\"], [1.0, \"#f0f921\"]], \"type\": \"heatmapgl\"}], \"histogram\": [{\"marker\": {\"colorbar\": {\"outlinewidth\": 0, \"ticks\": \"\"}}, \"type\": \"histogram\"}], \"histogram2d\": [{\"colorbar\": {\"outlinewidth\": 0, \"ticks\": \"\"}, \"colorscale\": [[0.0, \"#0d0887\"], [0.1111111111111111, \"#46039f\"], [0.2222222222222222, \"#7201a8\"], [0.3333333333333333, \"#9c179e\"], [0.4444444444444444, \"#bd3786\"], [0.5555555555555556, \"#d8576b\"], [0.6666666666666666, \"#ed7953\"], [0.7777777777777778, \"#fb9f3a\"], [0.8888888888888888, \"#fdca26\"], [1.0, \"#f0f921\"]], \"type\": \"histogram2d\"}], \"histogram2dcontour\": [{\"colorbar\": {\"outlinewidth\": 0, \"ticks\": \"\"}, \"colorscale\": [[0.0, \"#0d0887\"], [0.1111111111111111, \"#46039f\"], [0.2222222222222222, \"#7201a8\"], [0.3333333333333333, \"#9c179e\"], [0.4444444444444444, \"#bd3786\"], [0.5555555555555556, \"#d8576b\"], [0.6666666666666666, \"#ed7953\"], [0.7777777777777778, \"#fb9f3a\"], [0.8888888888888888, \"#fdca26\"], [1.0, \"#f0f921\"]], \"type\": \"histogram2dcontour\"}], \"mesh3d\": [{\"colorbar\": {\"outlinewidth\": 0, \"ticks\": \"\"}, \"type\": \"mesh3d\"}], \"parcoords\": [{\"line\": {\"colorbar\": {\"outlinewidth\": 0, \"ticks\": \"\"}}, \"type\": \"parcoords\"}], \"pie\": [{\"automargin\": true, \"type\": \"pie\"}], \"scatter\": [{\"marker\": {\"colorbar\": {\"outlinewidth\": 0, \"ticks\": \"\"}}, \"type\": \"scatter\"}], \"scatter3d\": [{\"line\": {\"colorbar\": {\"outlinewidth\": 0, \"ticks\": \"\"}}, \"marker\": {\"colorbar\": {\"outlinewidth\": 0, \"ticks\": \"\"}}, \"type\": \"scatter3d\"}], \"scattercarpet\": [{\"marker\": {\"colorbar\": {\"outlinewidth\": 0, \"ticks\": \"\"}}, \"type\": \"scattercarpet\"}], \"scattergeo\": [{\"marker\": {\"colorbar\": {\"outlinewidth\": 0, \"ticks\": \"\"}}, \"type\": \"scattergeo\"}], \"scattergl\": [{\"marker\": {\"colorbar\": {\"outlinewidth\": 0, \"ticks\": \"\"}}, \"type\": \"scattergl\"}], \"scattermapbox\": [{\"marker\": {\"colorbar\": {\"outlinewidth\": 0, \"ticks\": \"\"}}, \"type\": \"scattermapbox\"}], \"scatterpolar\": [{\"marker\": {\"colorbar\": {\"outlinewidth\": 0, \"ticks\": \"\"}}, \"type\": \"scatterpolar\"}], \"scatterpolargl\": [{\"marker\": {\"colorbar\": {\"outlinewidth\": 0, \"ticks\": \"\"}}, \"type\": \"scatterpolargl\"}], \"scatterternary\": [{\"marker\": {\"colorbar\": {\"outlinewidth\": 0, \"ticks\": \"\"}}, \"type\": \"scatterternary\"}], \"surface\": [{\"colorbar\": {\"outlinewidth\": 0, \"ticks\": \"\"}, \"colorscale\": [[0.0, \"#0d0887\"], [0.1111111111111111, \"#46039f\"], [0.2222222222222222, \"#7201a8\"], [0.3333333333333333, \"#9c179e\"], [0.4444444444444444, \"#bd3786\"], [0.5555555555555556, \"#d8576b\"], [0.6666666666666666, \"#ed7953\"], [0.7777777777777778, \"#fb9f3a\"], [0.8888888888888888, \"#fdca26\"], [1.0, \"#f0f921\"]], \"type\": \"surface\"}], \"table\": [{\"cells\": {\"fill\": {\"color\": \"#EBF0F8\"}, \"line\": {\"color\": \"white\"}}, \"header\": {\"fill\": {\"color\": \"#C8D4E3\"}, \"line\": {\"color\": \"white\"}}, \"type\": \"table\"}]}, \"layout\": {\"annotationdefaults\": {\"arrowcolor\": \"#2a3f5f\", \"arrowhead\": 0, \"arrowwidth\": 1}, \"coloraxis\": {\"colorbar\": {\"outlinewidth\": 0, \"ticks\": \"\"}}, \"colorscale\": {\"diverging\": [[0, \"#8e0152\"], [0.1, \"#c51b7d\"], [0.2, \"#de77ae\"], [0.3, \"#f1b6da\"], [0.4, \"#fde0ef\"], [0.5, \"#f7f7f7\"], [0.6, \"#e6f5d0\"], [0.7, \"#b8e186\"], [0.8, \"#7fbc41\"], [0.9, \"#4d9221\"], [1, \"#276419\"]], \"sequential\": [[0.0, \"#0d0887\"], [0.1111111111111111, \"#46039f\"], [0.2222222222222222, \"#7201a8\"], [0.3333333333333333, \"#9c179e\"], [0.4444444444444444, \"#bd3786\"], [0.5555555555555556, \"#d8576b\"], [0.6666666666666666, \"#ed7953\"], [0.7777777777777778, \"#fb9f3a\"], [0.8888888888888888, \"#fdca26\"], [1.0, \"#f0f921\"]], \"sequentialminus\": [[0.0, \"#0d0887\"], [0.1111111111111111, \"#46039f\"], [0.2222222222222222, \"#7201a8\"], [0.3333333333333333, \"#9c179e\"], [0.4444444444444444, \"#bd3786\"], [0.5555555555555556, \"#d8576b\"], [0.6666666666666666, \"#ed7953\"], [0.7777777777777778, \"#fb9f3a\"], [0.8888888888888888, \"#fdca26\"], [1.0, \"#f0f921\"]]}, \"colorway\": [\"#636efa\", \"#EF553B\", \"#00cc96\", \"#ab63fa\", \"#FFA15A\", \"#19d3f3\", \"#FF6692\", \"#B6E880\", \"#FF97FF\", \"#FECB52\"], \"font\": {\"color\": \"#2a3f5f\"}, \"geo\": {\"bgcolor\": \"white\", \"lakecolor\": \"white\", \"landcolor\": \"white\", \"showlakes\": true, \"showland\": true, \"subunitcolor\": \"#C8D4E3\"}, \"hoverlabel\": {\"align\": \"left\"}, \"hovermode\": \"closest\", \"mapbox\": {\"style\": \"light\"}, \"paper_bgcolor\": \"white\", \"plot_bgcolor\": \"white\", \"polar\": {\"angularaxis\": {\"gridcolor\": \"#EBF0F8\", \"linecolor\": \"#EBF0F8\", \"ticks\": \"\"}, \"bgcolor\": \"white\", \"radialaxis\": {\"gridcolor\": \"#EBF0F8\", \"linecolor\": \"#EBF0F8\", \"ticks\": \"\"}}, \"scene\": {\"xaxis\": {\"backgroundcolor\": \"white\", \"gridcolor\": \"#DFE8F3\", \"gridwidth\": 2, \"linecolor\": \"#EBF0F8\", \"showbackground\": true, \"ticks\": \"\", \"zerolinecolor\": \"#EBF0F8\"}, \"yaxis\": {\"backgroundcolor\": \"white\", \"gridcolor\": \"#DFE8F3\", \"gridwidth\": 2, \"linecolor\": \"#EBF0F8\", \"showbackground\": true, \"ticks\": \"\", \"zerolinecolor\": \"#EBF0F8\"}, \"zaxis\": {\"backgroundcolor\": \"white\", \"gridcolor\": \"#DFE8F3\", \"gridwidth\": 2, \"linecolor\": \"#EBF0F8\", \"showbackground\": true, \"ticks\": \"\", \"zerolinecolor\": \"#EBF0F8\"}}, \"shapedefaults\": {\"line\": {\"color\": \"#2a3f5f\"}}, \"ternary\": {\"aaxis\": {\"gridcolor\": \"#DFE8F3\", \"linecolor\": \"#A2B1C6\", \"ticks\": \"\"}, \"baxis\": {\"gridcolor\": \"#DFE8F3\", \"linecolor\": \"#A2B1C6\", \"ticks\": \"\"}, \"bgcolor\": \"white\", \"caxis\": {\"gridcolor\": \"#DFE8F3\", \"linecolor\": \"#A2B1C6\", \"ticks\": \"\"}}, \"title\": {\"x\": 0.05}, \"xaxis\": {\"automargin\": true, \"gridcolor\": \"#EBF0F8\", \"linecolor\": \"#EBF0F8\", \"ticks\": \"\", \"title\": {\"standoff\": 15}, \"zerolinecolor\": \"#EBF0F8\", \"zerolinewidth\": 2}, \"yaxis\": {\"automargin\": true, \"gridcolor\": \"#EBF0F8\", \"linecolor\": \"#EBF0F8\", \"ticks\": \"\", \"title\": {\"standoff\": 15}, \"zerolinecolor\": \"#EBF0F8\", \"zerolinewidth\": 2}}}, \"width\": 1000, \"xaxis\": {\"anchor\": \"y\", \"domain\": [0.0, 0.49], \"title\": {\"text\": \"agg_x\"}}, \"xaxis2\": {\"anchor\": \"y2\", \"domain\": [0.51, 1.0], \"matches\": \"x\", \"title\": {\"text\": \"agg_x\"}}, \"xaxis3\": {\"anchor\": \"y3\", \"domain\": [0.0, 0.49], \"matches\": \"x\", \"showticklabels\": false}, \"xaxis4\": {\"anchor\": \"y4\", \"domain\": [0.51, 1.0], \"matches\": \"x\", \"showticklabels\": false}, \"xaxis5\": {\"anchor\": \"y5\", \"domain\": [0.0, 0.49], \"matches\": \"x\", \"showticklabels\": false}, \"xaxis6\": {\"anchor\": \"y6\", \"domain\": [0.51, 1.0], \"matches\": \"x\", \"showticklabels\": false}, \"yaxis\": {\"anchor\": \"x\", \"domain\": [0.0, 0.2866666666666666], \"title\": {\"text\": \"agg_y\"}}, \"yaxis2\": {\"anchor\": \"x2\", \"domain\": [0.0, 0.2866666666666666], \"matches\": \"y\", \"showticklabels\": false}, \"yaxis3\": {\"anchor\": \"x3\", \"domain\": [0.35666666666666663, 0.6433333333333333], \"matches\": \"y\", \"title\": {\"text\": \"agg_y\"}}, \"yaxis4\": {\"anchor\": \"x4\", \"domain\": [0.35666666666666663, 0.6433333333333333], \"matches\": \"y\", \"showticklabels\": false}, \"yaxis5\": {\"anchor\": \"x5\", \"domain\": [0.7133333333333333, 0.9999999999999999], \"matches\": \"y\", \"title\": {\"text\": \"agg_y\"}}, \"yaxis6\": {\"anchor\": \"x6\", \"domain\": [0.7133333333333333, 0.9999999999999999], \"matches\": \"y\", \"showticklabels\": false}},\n",
       "                        {\"responsive\": true}\n",
       "                    ).then(function(){\n",
       "                            \n",
       "var gd = document.getElementById('97c91f53-6cc2-4e88-b086-7793a658eb2c');\n",
       "var x = new MutationObserver(function (mutations, observer) {{\n",
       "        var display = window.getComputedStyle(gd).display;\n",
       "        if (!display || display === 'none') {{\n",
       "            console.log([gd, 'removed!']);\n",
       "            Plotly.purge(gd);\n",
       "            observer.disconnect();\n",
       "        }}\n",
       "}});\n",
       "\n",
       "// Listen for the removal of the full notebook cells\n",
       "var notebookContainer = gd.closest('#notebook-container');\n",
       "if (notebookContainer) {{\n",
       "    x.observe(notebookContainer, {childList: true});\n",
       "}}\n",
       "\n",
       "// Listen for the clearing of the current output cell\n",
       "var outputEl = gd.closest('.output');\n",
       "if (outputEl) {{\n",
       "    x.observe(outputEl, {childList: true});\n",
       "}}\n",
       "\n",
       "                        })\n",
       "                };\n",
       "                });\n",
       "            </script>\n",
       "        </div>"
      ]
     },
     "metadata": {},
     "output_type": "display_data"
    }
   ],
   "source": [
    "clique_response_frame = clique_motif_frame.merge(number_responses)\n",
    "\n",
    "fig = px.scatter(\n",
    "    clique_response_frame, x = 'agg_x', y = 'agg_y', size = 'membership',\n",
    "    size_max = 50, hover_name='clique_idx', hover_data=['qseqid', 'sequences', 'sseqid'],\n",
    "    color = 'num_patients', color_continuous_scale=\"OrRd\",\n",
    "    facet_col=\"num_known\",facet_col_wrap=2\n",
    ")\n",
    "\n",
    "fig.update_layout(\n",
    "    height = 1000, width = 1000\n",
    ")\n",
    "\n",
    "fig.write_html(\"../figures/enriched_set_clique_motifs/patient_responses.html\")\n",
    "\n",
    "fig"
   ]
  },
  {
   "cell_type": "markdown",
   "metadata": {},
   "source": [
    "## Correlation of number of known motifs against patient recognition"
   ]
  },
  {
   "cell_type": "code",
   "execution_count": 20,
   "metadata": {
    "ExecuteTime": {
     "end_time": "2020-07-08T16:34:09.160381Z",
     "start_time": "2020-07-08T16:34:08.914608Z"
    }
   },
   "outputs": [
    {
     "data": {
      "application/vnd.plotly.v1+json": {
       "config": {
        "plotlyServerURL": "https://plot.ly"
       },
       "data": [
        {
         "hoverlabel": {
          "namelength": 0
         },
         "hovertemplate": "<b>%{hovertext}</b><br><br>num_known=%{marker.color}<br>num_patients=%{y}<br>membership=%{marker.size}",
         "hovertext": [
          292,
          120,
          220,
          219,
          123,
          217,
          216,
          215,
          214,
          119,
          213,
          131,
          132,
          133,
          134,
          135,
          212,
          211,
          210,
          130,
          221,
          222,
          116,
          93,
          190,
          95,
          96,
          231,
          98,
          99,
          102,
          228,
          104,
          106,
          107,
          108,
          109,
          110,
          111,
          226,
          225,
          223,
          209,
          140,
          141,
          208,
          168,
          169,
          170,
          195,
          172,
          173,
          174,
          175,
          176,
          177,
          194,
          179,
          193,
          181,
          182,
          183,
          184,
          192,
          191,
          167,
          234,
          166,
          197,
          144,
          145,
          206,
          147,
          149,
          150,
          151,
          152,
          204,
          154,
          203,
          202,
          201,
          158,
          200,
          199,
          161,
          198,
          163,
          196,
          90,
          232,
          236,
          29,
          266,
          265,
          263,
          262,
          35,
          261,
          37,
          27,
          38,
          260,
          41,
          42,
          259,
          45,
          256,
          48,
          255,
          39,
          254,
          26,
          24,
          290,
          289,
          287,
          286,
          283,
          280,
          279,
          278,
          268,
          277,
          275,
          274,
          273,
          272,
          271,
          270,
          22,
          269,
          276,
          51,
          257,
          53,
          70,
          253,
          243,
          74,
          75,
          76,
          77,
          69,
          78,
          239,
          238,
          83,
          84,
          237,
          86,
          87,
          241,
          244,
          71,
          189,
          248,
          251,
          61,
          250,
          62,
          55,
          246,
          252,
          65,
          66,
          247,
          58,
          288,
          233,
          285,
          284,
          235,
          282,
          281,
          264,
          230,
          229,
          245,
          207,
          249,
          227,
          218,
          205,
          242,
          267,
          224,
          258,
          240,
          146,
          187,
          57,
          59,
          60,
          63,
          64,
          67,
          68,
          72,
          188,
          81,
          85,
          88,
          92,
          97,
          101,
          56,
          103,
          54,
          47,
          2,
          3,
          6,
          11,
          12,
          13,
          18,
          25,
          32,
          33,
          36,
          40,
          43,
          44,
          46,
          52,
          105,
          79,
          113,
          143,
          291,
          148,
          153,
          155,
          112,
          157,
          159,
          160,
          162,
          164,
          165,
          171,
          178,
          180,
          185,
          186,
          142,
          138,
          156,
          124,
          118,
          121,
          117,
          122,
          115,
          125,
          136,
          114,
          127,
          128,
          129,
          100,
          20,
          10,
          91,
          1,
          15,
          17,
          89,
          4,
          137,
          0,
          28,
          30,
          139,
          31,
          50,
          82,
          34,
          80,
          126,
          73,
          19,
          49,
          5,
          9,
          94,
          14,
          16,
          7,
          21,
          8,
          23
         ],
         "legendgroup": "",
         "marker": {
          "color": [
           0,
           0,
           0,
           0,
           0,
           0,
           0,
           0,
           0,
           0,
           0,
           0,
           0,
           0,
           0,
           0,
           0,
           0,
           0,
           0,
           0,
           0,
           0,
           0,
           0,
           0,
           0,
           0,
           0,
           0,
           0,
           0,
           0,
           0,
           0,
           0,
           0,
           0,
           0,
           0,
           0,
           0,
           0,
           0,
           0,
           0,
           0,
           0,
           0,
           0,
           0,
           0,
           0,
           0,
           0,
           0,
           0,
           0,
           0,
           0,
           0,
           0,
           0,
           0,
           0,
           0,
           0,
           0,
           0,
           0,
           0,
           0,
           0,
           0,
           0,
           0,
           0,
           0,
           0,
           0,
           0,
           0,
           0,
           0,
           0,
           0,
           0,
           0,
           0,
           0,
           0,
           0,
           0,
           0,
           0,
           0,
           0,
           0,
           0,
           0,
           0,
           0,
           0,
           0,
           0,
           0,
           0,
           0,
           0,
           0,
           0,
           0,
           0,
           0,
           0,
           0,
           0,
           0,
           0,
           0,
           0,
           0,
           0,
           0,
           0,
           0,
           0,
           0,
           0,
           0,
           0,
           0,
           0,
           0,
           0,
           0,
           0,
           0,
           0,
           0,
           0,
           0,
           0,
           0,
           0,
           0,
           0,
           0,
           0,
           0,
           0,
           0,
           0,
           0,
           0,
           0,
           0,
           0,
           0,
           0,
           0,
           0,
           0,
           0,
           0,
           0,
           0,
           0,
           1,
           1,
           1,
           1,
           1,
           1,
           1,
           1,
           1,
           1,
           1,
           1,
           1,
           1,
           1,
           1,
           1,
           1,
           1,
           1,
           1,
           1,
           1,
           1,
           1,
           1,
           1,
           1,
           1,
           1,
           1,
           1,
           1,
           1,
           1,
           1,
           1,
           1,
           1,
           1,
           1,
           1,
           1,
           1,
           1,
           1,
           1,
           1,
           1,
           1,
           1,
           1,
           1,
           1,
           1,
           1,
           1,
           1,
           1,
           1,
           1,
           1,
           1,
           1,
           1,
           1,
           1,
           1,
           1,
           1,
           1,
           1,
           1,
           1,
           1,
           1,
           1,
           1,
           1,
           1,
           1,
           1,
           1,
           1,
           1,
           1,
           1,
           1,
           1,
           1,
           1,
           1,
           1,
           2,
           2,
           2,
           2,
           2,
           2,
           2,
           2,
           2,
           2,
           2,
           2,
           2,
           2,
           2,
           2,
           2,
           2,
           2,
           2,
           2,
           3,
           3,
           3,
           3,
           3,
           3,
           3,
           3,
           3,
           4,
           4
          ],
          "coloraxis": "coloraxis",
          "size": [
           2,
           4,
           2,
           2,
           4,
           2,
           2,
           2,
           2,
           4,
           2,
           4,
           4,
           4,
           4,
           4,
           2,
           2,
           2,
           4,
           2,
           2,
           4,
           6,
           3,
           6,
           5,
           2,
           5,
           5,
           5,
           2,
           5,
           5,
           5,
           5,
           5,
           5,
           5,
           2,
           2,
           2,
           2,
           4,
           4,
           2,
           3,
           3,
           3,
           3,
           3,
           3,
           3,
           3,
           3,
           3,
           3,
           3,
           3,
           3,
           3,
           3,
           3,
           3,
           3,
           3,
           2,
           3,
           2,
           4,
           4,
           2,
           3,
           3,
           3,
           3,
           3,
           2,
           3,
           2,
           2,
           2,
           3,
           2,
           2,
           3,
           2,
           3,
           3,
           6,
           2,
           2,
           15,
           2,
           2,
           2,
           2,
           13,
           2,
           13,
           15,
           13,
           2,
           12,
           11,
           2,
           10,
           2,
           10,
           2,
           13,
           2,
           16,
           19,
           2,
           2,
           2,
           2,
           2,
           2,
           2,
           2,
           2,
           2,
           2,
           2,
           2,
           2,
           2,
           2,
           21,
           2,
           2,
           9,
           2,
           9,
           7,
           2,
           2,
           7,
           7,
           7,
           7,
           7,
           7,
           2,
           2,
           6,
           6,
           2,
           6,
           6,
           2,
           2,
           7,
           3,
           2,
           2,
           8,
           2,
           8,
           8,
           2,
           2,
           7,
           7,
           2,
           8,
           2,
           2,
           2,
           2,
           2,
           2,
           2,
           2,
           2,
           2,
           2,
           2,
           2,
           2,
           2,
           2,
           2,
           2,
           2,
           2,
           2,
           3,
           3,
           8,
           8,
           8,
           8,
           7,
           7,
           7,
           7,
           3,
           6,
           6,
           6,
           6,
           5,
           5,
           8,
           5,
           8,
           10,
           77,
           65,
           41,
           28,
           27,
           26,
           24,
           17,
           14,
           14,
           13,
           13,
           11,
           11,
           10,
           9,
           5,
           7,
           5,
           4,
           2,
           3,
           3,
           3,
           5,
           3,
           3,
           3,
           3,
           3,
           3,
           3,
           3,
           3,
           3,
           3,
           4,
           4,
           3,
           4,
           4,
           4,
           4,
           4,
           4,
           4,
           4,
           5,
           4,
           4,
           4,
           5,
           21,
           29,
           6,
           169,
           25,
           24,
           6,
           57,
           4,
           464,
           15,
           14,
           4,
           14,
           9,
           6,
           13,
           7,
           4,
           7,
           23,
           9,
           57,
           31,
           6,
           25,
           25,
           38,
           21,
           31,
           20
          ],
          "sizemode": "area",
          "sizeref": 0.1856,
          "symbol": "circle"
         },
         "mode": "markers",
         "name": "",
         "showlegend": false,
         "type": "scatter",
         "x": [
          0,
          0,
          0,
          0,
          0,
          0,
          0,
          0,
          0,
          0,
          0,
          0,
          0,
          0,
          0,
          0,
          0,
          0,
          0,
          0,
          0,
          0,
          0,
          0,
          0,
          0,
          0,
          0,
          0,
          0,
          0,
          0,
          0,
          0,
          0,
          0,
          0,
          0,
          0,
          0,
          0,
          0,
          0,
          0,
          0,
          0,
          0,
          0,
          0,
          0,
          0,
          0,
          0,
          0,
          0,
          0,
          0,
          0,
          0,
          0,
          0,
          0,
          0,
          0,
          0,
          0,
          0,
          0,
          0,
          0,
          0,
          0,
          0,
          0,
          0,
          0,
          0,
          0,
          0,
          0,
          0,
          0,
          0,
          0,
          0,
          0,
          0,
          0,
          0,
          0,
          0,
          0,
          0,
          0,
          0,
          0,
          0,
          0,
          0,
          0,
          0,
          0,
          0,
          0,
          0,
          0,
          0,
          0,
          0,
          0,
          0,
          0,
          0,
          0,
          0,
          0,
          0,
          0,
          0,
          0,
          0,
          0,
          0,
          0,
          0,
          0,
          0,
          0,
          0,
          0,
          0,
          0,
          0,
          0,
          0,
          0,
          0,
          0,
          0,
          0,
          0,
          0,
          0,
          0,
          0,
          0,
          0,
          0,
          0,
          0,
          0,
          0,
          0,
          0,
          0,
          0,
          0,
          0,
          0,
          0,
          0,
          0,
          0,
          0,
          0,
          0,
          0,
          0,
          1,
          1,
          1,
          1,
          1,
          1,
          1,
          1,
          1,
          1,
          1,
          1,
          1,
          1,
          1,
          1,
          1,
          1,
          1,
          1,
          1,
          1,
          1,
          1,
          1,
          1,
          1,
          1,
          1,
          1,
          1,
          1,
          1,
          1,
          1,
          1,
          1,
          1,
          1,
          1,
          1,
          1,
          1,
          1,
          1,
          1,
          1,
          1,
          1,
          1,
          1,
          1,
          1,
          1,
          1,
          1,
          1,
          1,
          1,
          1,
          1,
          1,
          1,
          1,
          1,
          1,
          1,
          1,
          1,
          1,
          1,
          1,
          1,
          1,
          1,
          1,
          1,
          1,
          1,
          1,
          1,
          1,
          1,
          1,
          1,
          1,
          1,
          1,
          1,
          1,
          1,
          1,
          1,
          2,
          2,
          2,
          2,
          2,
          2,
          2,
          2,
          2,
          2,
          2,
          2,
          2,
          2,
          2,
          2,
          2,
          2,
          2,
          2,
          2,
          3,
          3,
          3,
          3,
          3,
          3,
          3,
          3,
          3,
          4,
          4
         ],
         "xaxis": "x",
         "y": [
          17,
          30,
          24,
          19,
          31,
          26,
          56,
          40,
          22,
          40,
          23,
          40,
          28,
          28,
          30,
          49,
          24,
          20,
          35,
          27,
          22,
          53,
          69,
          63,
          25,
          18,
          52,
          23,
          46,
          53,
          23,
          11,
          28,
          52,
          32,
          30,
          31,
          42,
          33,
          12,
          36,
          19,
          27,
          26,
          27,
          20,
          23,
          25,
          22,
          24,
          37,
          29,
          27,
          23,
          9,
          28,
          71,
          29,
          43,
          17,
          32,
          38,
          54,
          30,
          33,
          25,
          15,
          20,
          17,
          26,
          31,
          26,
          23,
          36,
          29,
          26,
          32,
          16,
          15,
          19,
          17,
          22,
          20,
          21,
          22,
          37,
          18,
          40,
          29,
          60,
          23,
          35,
          131,
          21,
          19,
          13,
          20,
          47,
          17,
          32,
          96,
          64,
          18,
          52,
          64,
          12,
          97,
          18,
          76,
          35,
          51,
          29,
          54,
          45,
          22,
          22,
          12,
          43,
          46,
          12,
          21,
          25,
          23,
          15,
          24,
          11,
          20,
          22,
          25,
          25,
          103,
          29,
          18,
          38,
          31,
          32,
          102,
          24,
          13,
          47,
          48,
          40,
          39,
          17,
          44,
          11,
          12,
          29,
          79,
          34,
          25,
          32,
          17,
          22,
          51,
          36,
          22,
          28,
          87,
          23,
          47,
          15,
          20,
          22,
          29,
          53,
          18,
          65,
          18,
          33,
          13,
          22,
          12,
          40,
          20,
          37,
          20,
          18,
          86,
          15,
          23,
          15,
          27,
          16,
          19,
          16,
          16,
          13,
          22,
          29,
          26,
          59,
          41,
          80,
          72,
          49,
          74,
          38,
          37,
          24,
          104,
          37,
          29,
          33,
          23,
          38,
          26,
          75,
          42,
          99,
          96,
          142,
          69,
          116,
          156,
          35,
          47,
          67,
          24,
          19,
          64,
          42,
          100,
          71,
          26,
          64,
          88,
          31,
          43,
          28,
          19,
          16,
          31,
          41,
          31,
          36,
          16,
          12,
          19,
          66,
          27,
          19,
          23,
          52,
          28,
          21,
          89,
          26,
          28,
          30,
          48,
          30,
          28,
          31,
          31,
          34,
          39,
          45,
          26,
          37,
          26,
          53,
          86,
          43,
          44,
          59,
          24,
          114,
          33,
          77,
          67,
          120,
          44,
          14,
          23,
          59,
          74,
          56,
          101,
          74,
          21,
          22,
          39,
          28,
          56,
          40,
          43,
          106,
          47,
          122,
          43,
          35,
          64
         ],
         "yaxis": "y"
        }
       ],
       "layout": {
        "coloraxis": {
         "colorbar": {
          "title": {
           "text": "num_known"
          }
         },
         "colorscale": [
          [
           0,
           "#0d0887"
          ],
          [
           0.1111111111111111,
           "#46039f"
          ],
          [
           0.2222222222222222,
           "#7201a8"
          ],
          [
           0.3333333333333333,
           "#9c179e"
          ],
          [
           0.4444444444444444,
           "#bd3786"
          ],
          [
           0.5555555555555556,
           "#d8576b"
          ],
          [
           0.6666666666666666,
           "#ed7953"
          ],
          [
           0.7777777777777778,
           "#fb9f3a"
          ],
          [
           0.8888888888888888,
           "#fdca26"
          ],
          [
           1,
           "#f0f921"
          ]
         ]
        },
        "legend": {
         "itemsizing": "constant",
         "tracegroupgap": 0
        },
        "margin": {
         "t": 60
        },
        "template": {
         "data": {
          "bar": [
           {
            "error_x": {
             "color": "#2a3f5f"
            },
            "error_y": {
             "color": "#2a3f5f"
            },
            "marker": {
             "line": {
              "color": "white",
              "width": 0.5
             }
            },
            "type": "bar"
           }
          ],
          "barpolar": [
           {
            "marker": {
             "line": {
              "color": "white",
              "width": 0.5
             }
            },
            "type": "barpolar"
           }
          ],
          "carpet": [
           {
            "aaxis": {
             "endlinecolor": "#2a3f5f",
             "gridcolor": "#C8D4E3",
             "linecolor": "#C8D4E3",
             "minorgridcolor": "#C8D4E3",
             "startlinecolor": "#2a3f5f"
            },
            "baxis": {
             "endlinecolor": "#2a3f5f",
             "gridcolor": "#C8D4E3",
             "linecolor": "#C8D4E3",
             "minorgridcolor": "#C8D4E3",
             "startlinecolor": "#2a3f5f"
            },
            "type": "carpet"
           }
          ],
          "choropleth": [
           {
            "colorbar": {
             "outlinewidth": 0,
             "ticks": ""
            },
            "type": "choropleth"
           }
          ],
          "contour": [
           {
            "colorbar": {
             "outlinewidth": 0,
             "ticks": ""
            },
            "colorscale": [
             [
              0,
              "#0d0887"
             ],
             [
              0.1111111111111111,
              "#46039f"
             ],
             [
              0.2222222222222222,
              "#7201a8"
             ],
             [
              0.3333333333333333,
              "#9c179e"
             ],
             [
              0.4444444444444444,
              "#bd3786"
             ],
             [
              0.5555555555555556,
              "#d8576b"
             ],
             [
              0.6666666666666666,
              "#ed7953"
             ],
             [
              0.7777777777777778,
              "#fb9f3a"
             ],
             [
              0.8888888888888888,
              "#fdca26"
             ],
             [
              1,
              "#f0f921"
             ]
            ],
            "type": "contour"
           }
          ],
          "contourcarpet": [
           {
            "colorbar": {
             "outlinewidth": 0,
             "ticks": ""
            },
            "type": "contourcarpet"
           }
          ],
          "heatmap": [
           {
            "colorbar": {
             "outlinewidth": 0,
             "ticks": ""
            },
            "colorscale": [
             [
              0,
              "#0d0887"
             ],
             [
              0.1111111111111111,
              "#46039f"
             ],
             [
              0.2222222222222222,
              "#7201a8"
             ],
             [
              0.3333333333333333,
              "#9c179e"
             ],
             [
              0.4444444444444444,
              "#bd3786"
             ],
             [
              0.5555555555555556,
              "#d8576b"
             ],
             [
              0.6666666666666666,
              "#ed7953"
             ],
             [
              0.7777777777777778,
              "#fb9f3a"
             ],
             [
              0.8888888888888888,
              "#fdca26"
             ],
             [
              1,
              "#f0f921"
             ]
            ],
            "type": "heatmap"
           }
          ],
          "heatmapgl": [
           {
            "colorbar": {
             "outlinewidth": 0,
             "ticks": ""
            },
            "colorscale": [
             [
              0,
              "#0d0887"
             ],
             [
              0.1111111111111111,
              "#46039f"
             ],
             [
              0.2222222222222222,
              "#7201a8"
             ],
             [
              0.3333333333333333,
              "#9c179e"
             ],
             [
              0.4444444444444444,
              "#bd3786"
             ],
             [
              0.5555555555555556,
              "#d8576b"
             ],
             [
              0.6666666666666666,
              "#ed7953"
             ],
             [
              0.7777777777777778,
              "#fb9f3a"
             ],
             [
              0.8888888888888888,
              "#fdca26"
             ],
             [
              1,
              "#f0f921"
             ]
            ],
            "type": "heatmapgl"
           }
          ],
          "histogram": [
           {
            "marker": {
             "colorbar": {
              "outlinewidth": 0,
              "ticks": ""
             }
            },
            "type": "histogram"
           }
          ],
          "histogram2d": [
           {
            "colorbar": {
             "outlinewidth": 0,
             "ticks": ""
            },
            "colorscale": [
             [
              0,
              "#0d0887"
             ],
             [
              0.1111111111111111,
              "#46039f"
             ],
             [
              0.2222222222222222,
              "#7201a8"
             ],
             [
              0.3333333333333333,
              "#9c179e"
             ],
             [
              0.4444444444444444,
              "#bd3786"
             ],
             [
              0.5555555555555556,
              "#d8576b"
             ],
             [
              0.6666666666666666,
              "#ed7953"
             ],
             [
              0.7777777777777778,
              "#fb9f3a"
             ],
             [
              0.8888888888888888,
              "#fdca26"
             ],
             [
              1,
              "#f0f921"
             ]
            ],
            "type": "histogram2d"
           }
          ],
          "histogram2dcontour": [
           {
            "colorbar": {
             "outlinewidth": 0,
             "ticks": ""
            },
            "colorscale": [
             [
              0,
              "#0d0887"
             ],
             [
              0.1111111111111111,
              "#46039f"
             ],
             [
              0.2222222222222222,
              "#7201a8"
             ],
             [
              0.3333333333333333,
              "#9c179e"
             ],
             [
              0.4444444444444444,
              "#bd3786"
             ],
             [
              0.5555555555555556,
              "#d8576b"
             ],
             [
              0.6666666666666666,
              "#ed7953"
             ],
             [
              0.7777777777777778,
              "#fb9f3a"
             ],
             [
              0.8888888888888888,
              "#fdca26"
             ],
             [
              1,
              "#f0f921"
             ]
            ],
            "type": "histogram2dcontour"
           }
          ],
          "mesh3d": [
           {
            "colorbar": {
             "outlinewidth": 0,
             "ticks": ""
            },
            "type": "mesh3d"
           }
          ],
          "parcoords": [
           {
            "line": {
             "colorbar": {
              "outlinewidth": 0,
              "ticks": ""
             }
            },
            "type": "parcoords"
           }
          ],
          "pie": [
           {
            "automargin": true,
            "type": "pie"
           }
          ],
          "scatter": [
           {
            "marker": {
             "colorbar": {
              "outlinewidth": 0,
              "ticks": ""
             }
            },
            "type": "scatter"
           }
          ],
          "scatter3d": [
           {
            "line": {
             "colorbar": {
              "outlinewidth": 0,
              "ticks": ""
             }
            },
            "marker": {
             "colorbar": {
              "outlinewidth": 0,
              "ticks": ""
             }
            },
            "type": "scatter3d"
           }
          ],
          "scattercarpet": [
           {
            "marker": {
             "colorbar": {
              "outlinewidth": 0,
              "ticks": ""
             }
            },
            "type": "scattercarpet"
           }
          ],
          "scattergeo": [
           {
            "marker": {
             "colorbar": {
              "outlinewidth": 0,
              "ticks": ""
             }
            },
            "type": "scattergeo"
           }
          ],
          "scattergl": [
           {
            "marker": {
             "colorbar": {
              "outlinewidth": 0,
              "ticks": ""
             }
            },
            "type": "scattergl"
           }
          ],
          "scattermapbox": [
           {
            "marker": {
             "colorbar": {
              "outlinewidth": 0,
              "ticks": ""
             }
            },
            "type": "scattermapbox"
           }
          ],
          "scatterpolar": [
           {
            "marker": {
             "colorbar": {
              "outlinewidth": 0,
              "ticks": ""
             }
            },
            "type": "scatterpolar"
           }
          ],
          "scatterpolargl": [
           {
            "marker": {
             "colorbar": {
              "outlinewidth": 0,
              "ticks": ""
             }
            },
            "type": "scatterpolargl"
           }
          ],
          "scatterternary": [
           {
            "marker": {
             "colorbar": {
              "outlinewidth": 0,
              "ticks": ""
             }
            },
            "type": "scatterternary"
           }
          ],
          "surface": [
           {
            "colorbar": {
             "outlinewidth": 0,
             "ticks": ""
            },
            "colorscale": [
             [
              0,
              "#0d0887"
             ],
             [
              0.1111111111111111,
              "#46039f"
             ],
             [
              0.2222222222222222,
              "#7201a8"
             ],
             [
              0.3333333333333333,
              "#9c179e"
             ],
             [
              0.4444444444444444,
              "#bd3786"
             ],
             [
              0.5555555555555556,
              "#d8576b"
             ],
             [
              0.6666666666666666,
              "#ed7953"
             ],
             [
              0.7777777777777778,
              "#fb9f3a"
             ],
             [
              0.8888888888888888,
              "#fdca26"
             ],
             [
              1,
              "#f0f921"
             ]
            ],
            "type": "surface"
           }
          ],
          "table": [
           {
            "cells": {
             "fill": {
              "color": "#EBF0F8"
             },
             "line": {
              "color": "white"
             }
            },
            "header": {
             "fill": {
              "color": "#C8D4E3"
             },
             "line": {
              "color": "white"
             }
            },
            "type": "table"
           }
          ]
         },
         "layout": {
          "annotationdefaults": {
           "arrowcolor": "#2a3f5f",
           "arrowhead": 0,
           "arrowwidth": 1
          },
          "coloraxis": {
           "colorbar": {
            "outlinewidth": 0,
            "ticks": ""
           }
          },
          "colorscale": {
           "diverging": [
            [
             0,
             "#8e0152"
            ],
            [
             0.1,
             "#c51b7d"
            ],
            [
             0.2,
             "#de77ae"
            ],
            [
             0.3,
             "#f1b6da"
            ],
            [
             0.4,
             "#fde0ef"
            ],
            [
             0.5,
             "#f7f7f7"
            ],
            [
             0.6,
             "#e6f5d0"
            ],
            [
             0.7,
             "#b8e186"
            ],
            [
             0.8,
             "#7fbc41"
            ],
            [
             0.9,
             "#4d9221"
            ],
            [
             1,
             "#276419"
            ]
           ],
           "sequential": [
            [
             0,
             "#0d0887"
            ],
            [
             0.1111111111111111,
             "#46039f"
            ],
            [
             0.2222222222222222,
             "#7201a8"
            ],
            [
             0.3333333333333333,
             "#9c179e"
            ],
            [
             0.4444444444444444,
             "#bd3786"
            ],
            [
             0.5555555555555556,
             "#d8576b"
            ],
            [
             0.6666666666666666,
             "#ed7953"
            ],
            [
             0.7777777777777778,
             "#fb9f3a"
            ],
            [
             0.8888888888888888,
             "#fdca26"
            ],
            [
             1,
             "#f0f921"
            ]
           ],
           "sequentialminus": [
            [
             0,
             "#0d0887"
            ],
            [
             0.1111111111111111,
             "#46039f"
            ],
            [
             0.2222222222222222,
             "#7201a8"
            ],
            [
             0.3333333333333333,
             "#9c179e"
            ],
            [
             0.4444444444444444,
             "#bd3786"
            ],
            [
             0.5555555555555556,
             "#d8576b"
            ],
            [
             0.6666666666666666,
             "#ed7953"
            ],
            [
             0.7777777777777778,
             "#fb9f3a"
            ],
            [
             0.8888888888888888,
             "#fdca26"
            ],
            [
             1,
             "#f0f921"
            ]
           ]
          },
          "colorway": [
           "#636efa",
           "#EF553B",
           "#00cc96",
           "#ab63fa",
           "#FFA15A",
           "#19d3f3",
           "#FF6692",
           "#B6E880",
           "#FF97FF",
           "#FECB52"
          ],
          "font": {
           "color": "#2a3f5f"
          },
          "geo": {
           "bgcolor": "white",
           "lakecolor": "white",
           "landcolor": "white",
           "showlakes": true,
           "showland": true,
           "subunitcolor": "#C8D4E3"
          },
          "hoverlabel": {
           "align": "left"
          },
          "hovermode": "closest",
          "mapbox": {
           "style": "light"
          },
          "paper_bgcolor": "white",
          "plot_bgcolor": "white",
          "polar": {
           "angularaxis": {
            "gridcolor": "#EBF0F8",
            "linecolor": "#EBF0F8",
            "ticks": ""
           },
           "bgcolor": "white",
           "radialaxis": {
            "gridcolor": "#EBF0F8",
            "linecolor": "#EBF0F8",
            "ticks": ""
           }
          },
          "scene": {
           "xaxis": {
            "backgroundcolor": "white",
            "gridcolor": "#DFE8F3",
            "gridwidth": 2,
            "linecolor": "#EBF0F8",
            "showbackground": true,
            "ticks": "",
            "zerolinecolor": "#EBF0F8"
           },
           "yaxis": {
            "backgroundcolor": "white",
            "gridcolor": "#DFE8F3",
            "gridwidth": 2,
            "linecolor": "#EBF0F8",
            "showbackground": true,
            "ticks": "",
            "zerolinecolor": "#EBF0F8"
           },
           "zaxis": {
            "backgroundcolor": "white",
            "gridcolor": "#DFE8F3",
            "gridwidth": 2,
            "linecolor": "#EBF0F8",
            "showbackground": true,
            "ticks": "",
            "zerolinecolor": "#EBF0F8"
           }
          },
          "shapedefaults": {
           "line": {
            "color": "#2a3f5f"
           }
          },
          "ternary": {
           "aaxis": {
            "gridcolor": "#DFE8F3",
            "linecolor": "#A2B1C6",
            "ticks": ""
           },
           "baxis": {
            "gridcolor": "#DFE8F3",
            "linecolor": "#A2B1C6",
            "ticks": ""
           },
           "bgcolor": "white",
           "caxis": {
            "gridcolor": "#DFE8F3",
            "linecolor": "#A2B1C6",
            "ticks": ""
           }
          },
          "title": {
           "x": 0.05
          },
          "xaxis": {
           "automargin": true,
           "gridcolor": "#EBF0F8",
           "linecolor": "#EBF0F8",
           "ticks": "",
           "title": {
            "standoff": 15
           },
           "zerolinecolor": "#EBF0F8",
           "zerolinewidth": 2
          },
          "yaxis": {
           "automargin": true,
           "gridcolor": "#EBF0F8",
           "linecolor": "#EBF0F8",
           "ticks": "",
           "title": {
            "standoff": 15
           },
           "zerolinecolor": "#EBF0F8",
           "zerolinewidth": 2
          }
         }
        },
        "xaxis": {
         "anchor": "y",
         "domain": [
          0,
          1
         ],
         "title": {
          "text": "num_known"
         }
        },
        "yaxis": {
         "anchor": "x",
         "domain": [
          0,
          1
         ],
         "title": {
          "text": "num_patients"
         }
        }
       }
      },
      "text/html": [
       "<div>\n",
       "        \n",
       "        \n",
       "            <div id=\"e18e7fb8-b560-4b00-ba11-9f3d4bc419c2\" class=\"plotly-graph-div\" style=\"height:525px; width:100%;\"></div>\n",
       "            <script type=\"text/javascript\">\n",
       "                require([\"plotly\"], function(Plotly) {\n",
       "                    window.PLOTLYENV=window.PLOTLYENV || {};\n",
       "                    \n",
       "                if (document.getElementById(\"e18e7fb8-b560-4b00-ba11-9f3d4bc419c2\")) {\n",
       "                    Plotly.newPlot(\n",
       "                        'e18e7fb8-b560-4b00-ba11-9f3d4bc419c2',\n",
       "                        [{\"hoverlabel\": {\"namelength\": 0}, \"hovertemplate\": \"<b>%{hovertext}</b><br><br>num_known=%{marker.color}<br>num_patients=%{y}<br>membership=%{marker.size}\", \"hovertext\": [292.0, 120.0, 220.0, 219.0, 123.0, 217.0, 216.0, 215.0, 214.0, 119.0, 213.0, 131.0, 132.0, 133.0, 134.0, 135.0, 212.0, 211.0, 210.0, 130.0, 221.0, 222.0, 116.0, 93.0, 190.0, 95.0, 96.0, 231.0, 98.0, 99.0, 102.0, 228.0, 104.0, 106.0, 107.0, 108.0, 109.0, 110.0, 111.0, 226.0, 225.0, 223.0, 209.0, 140.0, 141.0, 208.0, 168.0, 169.0, 170.0, 195.0, 172.0, 173.0, 174.0, 175.0, 176.0, 177.0, 194.0, 179.0, 193.0, 181.0, 182.0, 183.0, 184.0, 192.0, 191.0, 167.0, 234.0, 166.0, 197.0, 144.0, 145.0, 206.0, 147.0, 149.0, 150.0, 151.0, 152.0, 204.0, 154.0, 203.0, 202.0, 201.0, 158.0, 200.0, 199.0, 161.0, 198.0, 163.0, 196.0, 90.0, 232.0, 236.0, 29.0, 266.0, 265.0, 263.0, 262.0, 35.0, 261.0, 37.0, 27.0, 38.0, 260.0, 41.0, 42.0, 259.0, 45.0, 256.0, 48.0, 255.0, 39.0, 254.0, 26.0, 24.0, 290.0, 289.0, 287.0, 286.0, 283.0, 280.0, 279.0, 278.0, 268.0, 277.0, 275.0, 274.0, 273.0, 272.0, 271.0, 270.0, 22.0, 269.0, 276.0, 51.0, 257.0, 53.0, 70.0, 253.0, 243.0, 74.0, 75.0, 76.0, 77.0, 69.0, 78.0, 239.0, 238.0, 83.0, 84.0, 237.0, 86.0, 87.0, 241.0, 244.0, 71.0, 189.0, 248.0, 251.0, 61.0, 250.0, 62.0, 55.0, 246.0, 252.0, 65.0, 66.0, 247.0, 58.0, 288.0, 233.0, 285.0, 284.0, 235.0, 282.0, 281.0, 264.0, 230.0, 229.0, 245.0, 207.0, 249.0, 227.0, 218.0, 205.0, 242.0, 267.0, 224.0, 258.0, 240.0, 146.0, 187.0, 57.0, 59.0, 60.0, 63.0, 64.0, 67.0, 68.0, 72.0, 188.0, 81.0, 85.0, 88.0, 92.0, 97.0, 101.0, 56.0, 103.0, 54.0, 47.0, 2.0, 3.0, 6.0, 11.0, 12.0, 13.0, 18.0, 25.0, 32.0, 33.0, 36.0, 40.0, 43.0, 44.0, 46.0, 52.0, 105.0, 79.0, 113.0, 143.0, 291.0, 148.0, 153.0, 155.0, 112.0, 157.0, 159.0, 160.0, 162.0, 164.0, 165.0, 171.0, 178.0, 180.0, 185.0, 186.0, 142.0, 138.0, 156.0, 124.0, 118.0, 121.0, 117.0, 122.0, 115.0, 125.0, 136.0, 114.0, 127.0, 128.0, 129.0, 100.0, 20.0, 10.0, 91.0, 1.0, 15.0, 17.0, 89.0, 4.0, 137.0, 0.0, 28.0, 30.0, 139.0, 31.0, 50.0, 82.0, 34.0, 80.0, 126.0, 73.0, 19.0, 49.0, 5.0, 9.0, 94.0, 14.0, 16.0, 7.0, 21.0, 8.0, 23.0], \"legendgroup\": \"\", \"marker\": {\"color\": [0, 0, 0, 0, 0, 0, 0, 0, 0, 0, 0, 0, 0, 0, 0, 0, 0, 0, 0, 0, 0, 0, 0, 0, 0, 0, 0, 0, 0, 0, 0, 0, 0, 0, 0, 0, 0, 0, 0, 0, 0, 0, 0, 0, 0, 0, 0, 0, 0, 0, 0, 0, 0, 0, 0, 0, 0, 0, 0, 0, 0, 0, 0, 0, 0, 0, 0, 0, 0, 0, 0, 0, 0, 0, 0, 0, 0, 0, 0, 0, 0, 0, 0, 0, 0, 0, 0, 0, 0, 0, 0, 0, 0, 0, 0, 0, 0, 0, 0, 0, 0, 0, 0, 0, 0, 0, 0, 0, 0, 0, 0, 0, 0, 0, 0, 0, 0, 0, 0, 0, 0, 0, 0, 0, 0, 0, 0, 0, 0, 0, 0, 0, 0, 0, 0, 0, 0, 0, 0, 0, 0, 0, 0, 0, 0, 0, 0, 0, 0, 0, 0, 0, 0, 0, 0, 0, 0, 0, 0, 0, 0, 0, 0, 0, 0, 0, 0, 0, 1, 1, 1, 1, 1, 1, 1, 1, 1, 1, 1, 1, 1, 1, 1, 1, 1, 1, 1, 1, 1, 1, 1, 1, 1, 1, 1, 1, 1, 1, 1, 1, 1, 1, 1, 1, 1, 1, 1, 1, 1, 1, 1, 1, 1, 1, 1, 1, 1, 1, 1, 1, 1, 1, 1, 1, 1, 1, 1, 1, 1, 1, 1, 1, 1, 1, 1, 1, 1, 1, 1, 1, 1, 1, 1, 1, 1, 1, 1, 1, 1, 1, 1, 1, 1, 1, 1, 1, 1, 1, 1, 1, 1, 2, 2, 2, 2, 2, 2, 2, 2, 2, 2, 2, 2, 2, 2, 2, 2, 2, 2, 2, 2, 2, 3, 3, 3, 3, 3, 3, 3, 3, 3, 4, 4], \"coloraxis\": \"coloraxis\", \"size\": [2, 4, 2, 2, 4, 2, 2, 2, 2, 4, 2, 4, 4, 4, 4, 4, 2, 2, 2, 4, 2, 2, 4, 6, 3, 6, 5, 2, 5, 5, 5, 2, 5, 5, 5, 5, 5, 5, 5, 2, 2, 2, 2, 4, 4, 2, 3, 3, 3, 3, 3, 3, 3, 3, 3, 3, 3, 3, 3, 3, 3, 3, 3, 3, 3, 3, 2, 3, 2, 4, 4, 2, 3, 3, 3, 3, 3, 2, 3, 2, 2, 2, 3, 2, 2, 3, 2, 3, 3, 6, 2, 2, 15, 2, 2, 2, 2, 13, 2, 13, 15, 13, 2, 12, 11, 2, 10, 2, 10, 2, 13, 2, 16, 19, 2, 2, 2, 2, 2, 2, 2, 2, 2, 2, 2, 2, 2, 2, 2, 2, 21, 2, 2, 9, 2, 9, 7, 2, 2, 7, 7, 7, 7, 7, 7, 2, 2, 6, 6, 2, 6, 6, 2, 2, 7, 3, 2, 2, 8, 2, 8, 8, 2, 2, 7, 7, 2, 8, 2, 2, 2, 2, 2, 2, 2, 2, 2, 2, 2, 2, 2, 2, 2, 2, 2, 2, 2, 2, 2, 3, 3, 8, 8, 8, 8, 7, 7, 7, 7, 3, 6, 6, 6, 6, 5, 5, 8, 5, 8, 10, 77, 65, 41, 28, 27, 26, 24, 17, 14, 14, 13, 13, 11, 11, 10, 9, 5, 7, 5, 4, 2, 3, 3, 3, 5, 3, 3, 3, 3, 3, 3, 3, 3, 3, 3, 3, 4, 4, 3, 4, 4, 4, 4, 4, 4, 4, 4, 5, 4, 4, 4, 5, 21, 29, 6, 169, 25, 24, 6, 57, 4, 464, 15, 14, 4, 14, 9, 6, 13, 7, 4, 7, 23, 9, 57, 31, 6, 25, 25, 38, 21, 31, 20], \"sizemode\": \"area\", \"sizeref\": 0.1856, \"symbol\": \"circle\"}, \"mode\": \"markers\", \"name\": \"\", \"showlegend\": false, \"type\": \"scatter\", \"x\": [0, 0, 0, 0, 0, 0, 0, 0, 0, 0, 0, 0, 0, 0, 0, 0, 0, 0, 0, 0, 0, 0, 0, 0, 0, 0, 0, 0, 0, 0, 0, 0, 0, 0, 0, 0, 0, 0, 0, 0, 0, 0, 0, 0, 0, 0, 0, 0, 0, 0, 0, 0, 0, 0, 0, 0, 0, 0, 0, 0, 0, 0, 0, 0, 0, 0, 0, 0, 0, 0, 0, 0, 0, 0, 0, 0, 0, 0, 0, 0, 0, 0, 0, 0, 0, 0, 0, 0, 0, 0, 0, 0, 0, 0, 0, 0, 0, 0, 0, 0, 0, 0, 0, 0, 0, 0, 0, 0, 0, 0, 0, 0, 0, 0, 0, 0, 0, 0, 0, 0, 0, 0, 0, 0, 0, 0, 0, 0, 0, 0, 0, 0, 0, 0, 0, 0, 0, 0, 0, 0, 0, 0, 0, 0, 0, 0, 0, 0, 0, 0, 0, 0, 0, 0, 0, 0, 0, 0, 0, 0, 0, 0, 0, 0, 0, 0, 0, 0, 1, 1, 1, 1, 1, 1, 1, 1, 1, 1, 1, 1, 1, 1, 1, 1, 1, 1, 1, 1, 1, 1, 1, 1, 1, 1, 1, 1, 1, 1, 1, 1, 1, 1, 1, 1, 1, 1, 1, 1, 1, 1, 1, 1, 1, 1, 1, 1, 1, 1, 1, 1, 1, 1, 1, 1, 1, 1, 1, 1, 1, 1, 1, 1, 1, 1, 1, 1, 1, 1, 1, 1, 1, 1, 1, 1, 1, 1, 1, 1, 1, 1, 1, 1, 1, 1, 1, 1, 1, 1, 1, 1, 1, 2, 2, 2, 2, 2, 2, 2, 2, 2, 2, 2, 2, 2, 2, 2, 2, 2, 2, 2, 2, 2, 3, 3, 3, 3, 3, 3, 3, 3, 3, 4, 4], \"xaxis\": \"x\", \"y\": [17, 30, 24, 19, 31, 26, 56, 40, 22, 40, 23, 40, 28, 28, 30, 49, 24, 20, 35, 27, 22, 53, 69, 63, 25, 18, 52, 23, 46, 53, 23, 11, 28, 52, 32, 30, 31, 42, 33, 12, 36, 19, 27, 26, 27, 20, 23, 25, 22, 24, 37, 29, 27, 23, 9, 28, 71, 29, 43, 17, 32, 38, 54, 30, 33, 25, 15, 20, 17, 26, 31, 26, 23, 36, 29, 26, 32, 16, 15, 19, 17, 22, 20, 21, 22, 37, 18, 40, 29, 60, 23, 35, 131, 21, 19, 13, 20, 47, 17, 32, 96, 64, 18, 52, 64, 12, 97, 18, 76, 35, 51, 29, 54, 45, 22, 22, 12, 43, 46, 12, 21, 25, 23, 15, 24, 11, 20, 22, 25, 25, 103, 29, 18, 38, 31, 32, 102, 24, 13, 47, 48, 40, 39, 17, 44, 11, 12, 29, 79, 34, 25, 32, 17, 22, 51, 36, 22, 28, 87, 23, 47, 15, 20, 22, 29, 53, 18, 65, 18, 33, 13, 22, 12, 40, 20, 37, 20, 18, 86, 15, 23, 15, 27, 16, 19, 16, 16, 13, 22, 29, 26, 59, 41, 80, 72, 49, 74, 38, 37, 24, 104, 37, 29, 33, 23, 38, 26, 75, 42, 99, 96, 142, 69, 116, 156, 35, 47, 67, 24, 19, 64, 42, 100, 71, 26, 64, 88, 31, 43, 28, 19, 16, 31, 41, 31, 36, 16, 12, 19, 66, 27, 19, 23, 52, 28, 21, 89, 26, 28, 30, 48, 30, 28, 31, 31, 34, 39, 45, 26, 37, 26, 53, 86, 43, 44, 59, 24, 114, 33, 77, 67, 120, 44, 14, 23, 59, 74, 56, 101, 74, 21, 22, 39, 28, 56, 40, 43, 106, 47, 122, 43, 35, 64], \"yaxis\": \"y\"}],\n",
       "                        {\"coloraxis\": {\"colorbar\": {\"title\": {\"text\": \"num_known\"}}, \"colorscale\": [[0.0, \"#0d0887\"], [0.1111111111111111, \"#46039f\"], [0.2222222222222222, \"#7201a8\"], [0.3333333333333333, \"#9c179e\"], [0.4444444444444444, \"#bd3786\"], [0.5555555555555556, \"#d8576b\"], [0.6666666666666666, \"#ed7953\"], [0.7777777777777778, \"#fb9f3a\"], [0.8888888888888888, \"#fdca26\"], [1.0, \"#f0f921\"]]}, \"legend\": {\"itemsizing\": \"constant\", \"tracegroupgap\": 0}, \"margin\": {\"t\": 60}, \"template\": {\"data\": {\"bar\": [{\"error_x\": {\"color\": \"#2a3f5f\"}, \"error_y\": {\"color\": \"#2a3f5f\"}, \"marker\": {\"line\": {\"color\": \"white\", \"width\": 0.5}}, \"type\": \"bar\"}], \"barpolar\": [{\"marker\": {\"line\": {\"color\": \"white\", \"width\": 0.5}}, \"type\": \"barpolar\"}], \"carpet\": [{\"aaxis\": {\"endlinecolor\": \"#2a3f5f\", \"gridcolor\": \"#C8D4E3\", \"linecolor\": \"#C8D4E3\", \"minorgridcolor\": \"#C8D4E3\", \"startlinecolor\": \"#2a3f5f\"}, \"baxis\": {\"endlinecolor\": \"#2a3f5f\", \"gridcolor\": \"#C8D4E3\", \"linecolor\": \"#C8D4E3\", \"minorgridcolor\": \"#C8D4E3\", \"startlinecolor\": \"#2a3f5f\"}, \"type\": \"carpet\"}], \"choropleth\": [{\"colorbar\": {\"outlinewidth\": 0, \"ticks\": \"\"}, \"type\": \"choropleth\"}], \"contour\": [{\"colorbar\": {\"outlinewidth\": 0, \"ticks\": \"\"}, \"colorscale\": [[0.0, \"#0d0887\"], [0.1111111111111111, \"#46039f\"], [0.2222222222222222, \"#7201a8\"], [0.3333333333333333, \"#9c179e\"], [0.4444444444444444, \"#bd3786\"], [0.5555555555555556, \"#d8576b\"], [0.6666666666666666, \"#ed7953\"], [0.7777777777777778, \"#fb9f3a\"], [0.8888888888888888, \"#fdca26\"], [1.0, \"#f0f921\"]], \"type\": \"contour\"}], \"contourcarpet\": [{\"colorbar\": {\"outlinewidth\": 0, \"ticks\": \"\"}, \"type\": \"contourcarpet\"}], \"heatmap\": [{\"colorbar\": {\"outlinewidth\": 0, \"ticks\": \"\"}, \"colorscale\": [[0.0, \"#0d0887\"], [0.1111111111111111, \"#46039f\"], [0.2222222222222222, \"#7201a8\"], [0.3333333333333333, \"#9c179e\"], [0.4444444444444444, \"#bd3786\"], [0.5555555555555556, \"#d8576b\"], [0.6666666666666666, \"#ed7953\"], [0.7777777777777778, \"#fb9f3a\"], [0.8888888888888888, \"#fdca26\"], [1.0, \"#f0f921\"]], \"type\": \"heatmap\"}], \"heatmapgl\": [{\"colorbar\": {\"outlinewidth\": 0, \"ticks\": \"\"}, \"colorscale\": [[0.0, \"#0d0887\"], [0.1111111111111111, \"#46039f\"], [0.2222222222222222, \"#7201a8\"], [0.3333333333333333, \"#9c179e\"], [0.4444444444444444, \"#bd3786\"], [0.5555555555555556, \"#d8576b\"], [0.6666666666666666, \"#ed7953\"], [0.7777777777777778, \"#fb9f3a\"], [0.8888888888888888, \"#fdca26\"], [1.0, \"#f0f921\"]], \"type\": \"heatmapgl\"}], \"histogram\": [{\"marker\": {\"colorbar\": {\"outlinewidth\": 0, \"ticks\": \"\"}}, \"type\": \"histogram\"}], \"histogram2d\": [{\"colorbar\": {\"outlinewidth\": 0, \"ticks\": \"\"}, \"colorscale\": [[0.0, \"#0d0887\"], [0.1111111111111111, \"#46039f\"], [0.2222222222222222, \"#7201a8\"], [0.3333333333333333, \"#9c179e\"], [0.4444444444444444, \"#bd3786\"], [0.5555555555555556, \"#d8576b\"], [0.6666666666666666, \"#ed7953\"], [0.7777777777777778, \"#fb9f3a\"], [0.8888888888888888, \"#fdca26\"], [1.0, \"#f0f921\"]], \"type\": \"histogram2d\"}], \"histogram2dcontour\": [{\"colorbar\": {\"outlinewidth\": 0, \"ticks\": \"\"}, \"colorscale\": [[0.0, \"#0d0887\"], [0.1111111111111111, \"#46039f\"], [0.2222222222222222, \"#7201a8\"], [0.3333333333333333, \"#9c179e\"], [0.4444444444444444, \"#bd3786\"], [0.5555555555555556, \"#d8576b\"], [0.6666666666666666, \"#ed7953\"], [0.7777777777777778, \"#fb9f3a\"], [0.8888888888888888, \"#fdca26\"], [1.0, \"#f0f921\"]], \"type\": \"histogram2dcontour\"}], \"mesh3d\": [{\"colorbar\": {\"outlinewidth\": 0, \"ticks\": \"\"}, \"type\": \"mesh3d\"}], \"parcoords\": [{\"line\": {\"colorbar\": {\"outlinewidth\": 0, \"ticks\": \"\"}}, \"type\": \"parcoords\"}], \"pie\": [{\"automargin\": true, \"type\": \"pie\"}], \"scatter\": [{\"marker\": {\"colorbar\": {\"outlinewidth\": 0, \"ticks\": \"\"}}, \"type\": \"scatter\"}], \"scatter3d\": [{\"line\": {\"colorbar\": {\"outlinewidth\": 0, \"ticks\": \"\"}}, \"marker\": {\"colorbar\": {\"outlinewidth\": 0, \"ticks\": \"\"}}, \"type\": \"scatter3d\"}], \"scattercarpet\": [{\"marker\": {\"colorbar\": {\"outlinewidth\": 0, \"ticks\": \"\"}}, \"type\": \"scattercarpet\"}], \"scattergeo\": [{\"marker\": {\"colorbar\": {\"outlinewidth\": 0, \"ticks\": \"\"}}, \"type\": \"scattergeo\"}], \"scattergl\": [{\"marker\": {\"colorbar\": {\"outlinewidth\": 0, \"ticks\": \"\"}}, \"type\": \"scattergl\"}], \"scattermapbox\": [{\"marker\": {\"colorbar\": {\"outlinewidth\": 0, \"ticks\": \"\"}}, \"type\": \"scattermapbox\"}], \"scatterpolar\": [{\"marker\": {\"colorbar\": {\"outlinewidth\": 0, \"ticks\": \"\"}}, \"type\": \"scatterpolar\"}], \"scatterpolargl\": [{\"marker\": {\"colorbar\": {\"outlinewidth\": 0, \"ticks\": \"\"}}, \"type\": \"scatterpolargl\"}], \"scatterternary\": [{\"marker\": {\"colorbar\": {\"outlinewidth\": 0, \"ticks\": \"\"}}, \"type\": \"scatterternary\"}], \"surface\": [{\"colorbar\": {\"outlinewidth\": 0, \"ticks\": \"\"}, \"colorscale\": [[0.0, \"#0d0887\"], [0.1111111111111111, \"#46039f\"], [0.2222222222222222, \"#7201a8\"], [0.3333333333333333, \"#9c179e\"], [0.4444444444444444, \"#bd3786\"], [0.5555555555555556, \"#d8576b\"], [0.6666666666666666, \"#ed7953\"], [0.7777777777777778, \"#fb9f3a\"], [0.8888888888888888, \"#fdca26\"], [1.0, \"#f0f921\"]], \"type\": \"surface\"}], \"table\": [{\"cells\": {\"fill\": {\"color\": \"#EBF0F8\"}, \"line\": {\"color\": \"white\"}}, \"header\": {\"fill\": {\"color\": \"#C8D4E3\"}, \"line\": {\"color\": \"white\"}}, \"type\": \"table\"}]}, \"layout\": {\"annotationdefaults\": {\"arrowcolor\": \"#2a3f5f\", \"arrowhead\": 0, \"arrowwidth\": 1}, \"coloraxis\": {\"colorbar\": {\"outlinewidth\": 0, \"ticks\": \"\"}}, \"colorscale\": {\"diverging\": [[0, \"#8e0152\"], [0.1, \"#c51b7d\"], [0.2, \"#de77ae\"], [0.3, \"#f1b6da\"], [0.4, \"#fde0ef\"], [0.5, \"#f7f7f7\"], [0.6, \"#e6f5d0\"], [0.7, \"#b8e186\"], [0.8, \"#7fbc41\"], [0.9, \"#4d9221\"], [1, \"#276419\"]], \"sequential\": [[0.0, \"#0d0887\"], [0.1111111111111111, \"#46039f\"], [0.2222222222222222, \"#7201a8\"], [0.3333333333333333, \"#9c179e\"], [0.4444444444444444, \"#bd3786\"], [0.5555555555555556, \"#d8576b\"], [0.6666666666666666, \"#ed7953\"], [0.7777777777777778, \"#fb9f3a\"], [0.8888888888888888, \"#fdca26\"], [1.0, \"#f0f921\"]], \"sequentialminus\": [[0.0, \"#0d0887\"], [0.1111111111111111, \"#46039f\"], [0.2222222222222222, \"#7201a8\"], [0.3333333333333333, \"#9c179e\"], [0.4444444444444444, \"#bd3786\"], [0.5555555555555556, \"#d8576b\"], [0.6666666666666666, \"#ed7953\"], [0.7777777777777778, \"#fb9f3a\"], [0.8888888888888888, \"#fdca26\"], [1.0, \"#f0f921\"]]}, \"colorway\": [\"#636efa\", \"#EF553B\", \"#00cc96\", \"#ab63fa\", \"#FFA15A\", \"#19d3f3\", \"#FF6692\", \"#B6E880\", \"#FF97FF\", \"#FECB52\"], \"font\": {\"color\": \"#2a3f5f\"}, \"geo\": {\"bgcolor\": \"white\", \"lakecolor\": \"white\", \"landcolor\": \"white\", \"showlakes\": true, \"showland\": true, \"subunitcolor\": \"#C8D4E3\"}, \"hoverlabel\": {\"align\": \"left\"}, \"hovermode\": \"closest\", \"mapbox\": {\"style\": \"light\"}, \"paper_bgcolor\": \"white\", \"plot_bgcolor\": \"white\", \"polar\": {\"angularaxis\": {\"gridcolor\": \"#EBF0F8\", \"linecolor\": \"#EBF0F8\", \"ticks\": \"\"}, \"bgcolor\": \"white\", \"radialaxis\": {\"gridcolor\": \"#EBF0F8\", \"linecolor\": \"#EBF0F8\", \"ticks\": \"\"}}, \"scene\": {\"xaxis\": {\"backgroundcolor\": \"white\", \"gridcolor\": \"#DFE8F3\", \"gridwidth\": 2, \"linecolor\": \"#EBF0F8\", \"showbackground\": true, \"ticks\": \"\", \"zerolinecolor\": \"#EBF0F8\"}, \"yaxis\": {\"backgroundcolor\": \"white\", \"gridcolor\": \"#DFE8F3\", \"gridwidth\": 2, \"linecolor\": \"#EBF0F8\", \"showbackground\": true, \"ticks\": \"\", \"zerolinecolor\": \"#EBF0F8\"}, \"zaxis\": {\"backgroundcolor\": \"white\", \"gridcolor\": \"#DFE8F3\", \"gridwidth\": 2, \"linecolor\": \"#EBF0F8\", \"showbackground\": true, \"ticks\": \"\", \"zerolinecolor\": \"#EBF0F8\"}}, \"shapedefaults\": {\"line\": {\"color\": \"#2a3f5f\"}}, \"ternary\": {\"aaxis\": {\"gridcolor\": \"#DFE8F3\", \"linecolor\": \"#A2B1C6\", \"ticks\": \"\"}, \"baxis\": {\"gridcolor\": \"#DFE8F3\", \"linecolor\": \"#A2B1C6\", \"ticks\": \"\"}, \"bgcolor\": \"white\", \"caxis\": {\"gridcolor\": \"#DFE8F3\", \"linecolor\": \"#A2B1C6\", \"ticks\": \"\"}}, \"title\": {\"x\": 0.05}, \"xaxis\": {\"automargin\": true, \"gridcolor\": \"#EBF0F8\", \"linecolor\": \"#EBF0F8\", \"ticks\": \"\", \"title\": {\"standoff\": 15}, \"zerolinecolor\": \"#EBF0F8\", \"zerolinewidth\": 2}, \"yaxis\": {\"automargin\": true, \"gridcolor\": \"#EBF0F8\", \"linecolor\": \"#EBF0F8\", \"ticks\": \"\", \"title\": {\"standoff\": 15}, \"zerolinecolor\": \"#EBF0F8\", \"zerolinewidth\": 2}}}, \"xaxis\": {\"anchor\": \"y\", \"domain\": [0.0, 1.0], \"title\": {\"text\": \"num_known\"}}, \"yaxis\": {\"anchor\": \"x\", \"domain\": [0.0, 1.0], \"title\": {\"text\": \"num_patients\"}}},\n",
       "                        {\"responsive\": true}\n",
       "                    ).then(function(){\n",
       "                            \n",
       "var gd = document.getElementById('e18e7fb8-b560-4b00-ba11-9f3d4bc419c2');\n",
       "var x = new MutationObserver(function (mutations, observer) {{\n",
       "        var display = window.getComputedStyle(gd).display;\n",
       "        if (!display || display === 'none') {{\n",
       "            console.log([gd, 'removed!']);\n",
       "            Plotly.purge(gd);\n",
       "            observer.disconnect();\n",
       "        }}\n",
       "}});\n",
       "\n",
       "// Listen for the removal of the full notebook cells\n",
       "var notebookContainer = gd.closest('#notebook-container');\n",
       "if (notebookContainer) {{\n",
       "    x.observe(notebookContainer, {childList: true});\n",
       "}}\n",
       "\n",
       "// Listen for the clearing of the current output cell\n",
       "var outputEl = gd.closest('.output');\n",
       "if (outputEl) {{\n",
       "    x.observe(outputEl, {childList: true});\n",
       "}}\n",
       "\n",
       "                        })\n",
       "                };\n",
       "                });\n",
       "            </script>\n",
       "        </div>"
      ]
     },
     "metadata": {},
     "output_type": "display_data"
    }
   ],
   "source": [
    "clique_responses = clique_response_frame[\n",
    "    ['clique_idx', 'membership', 'num_known', 'num_patients']\n",
    "].drop_duplicates()\n",
    "\n",
    "px.scatter(\n",
    "    clique_responses, x = 'num_known', y = 'num_patients',\n",
    "    size = 'membership', color = 'num_known',\n",
    "    hover_name=\"clique_idx\", size_max=50\n",
    ")"
   ]
  },
  {
   "cell_type": "code",
   "execution_count": 21,
   "metadata": {
    "ExecuteTime": {
     "end_time": "2020-07-08T16:34:09.735847Z",
     "start_time": "2020-07-08T16:34:09.436521Z"
    }
   },
   "outputs": [
    {
     "data": {
      "text/html": [
       "<div>\n",
       "<style scoped>\n",
       "    .dataframe tbody tr th:only-of-type {\n",
       "        vertical-align: middle;\n",
       "    }\n",
       "\n",
       "    .dataframe tbody tr th {\n",
       "        vertical-align: top;\n",
       "    }\n",
       "\n",
       "    .dataframe thead th {\n",
       "        text-align: right;\n",
       "    }\n",
       "</style>\n",
       "<table border=\"1\" class=\"dataframe\">\n",
       "  <thead>\n",
       "    <tr style=\"text-align: right;\">\n",
       "      <th>location</th>\n",
       "      <th>clique_idx</th>\n",
       "      <th>Kanungu</th>\n",
       "      <th>Tororo</th>\n",
       "      <th>leaning</th>\n",
       "    </tr>\n",
       "  </thead>\n",
       "  <tbody>\n",
       "    <tr>\n",
       "      <th>0</th>\n",
       "      <td>0</td>\n",
       "      <td>47</td>\n",
       "      <td>73</td>\n",
       "      <td>T</td>\n",
       "    </tr>\n",
       "    <tr>\n",
       "      <th>1</th>\n",
       "      <td>1</td>\n",
       "      <td>17</td>\n",
       "      <td>42</td>\n",
       "      <td>T</td>\n",
       "    </tr>\n",
       "    <tr>\n",
       "      <th>2</th>\n",
       "      <td>2</td>\n",
       "      <td>32</td>\n",
       "      <td>64</td>\n",
       "      <td>T</td>\n",
       "    </tr>\n",
       "    <tr>\n",
       "      <th>3</th>\n",
       "      <td>3</td>\n",
       "      <td>72</td>\n",
       "      <td>70</td>\n",
       "      <td>K</td>\n",
       "    </tr>\n",
       "    <tr>\n",
       "      <th>4</th>\n",
       "      <td>4</td>\n",
       "      <td>54</td>\n",
       "      <td>23</td>\n",
       "      <td>K</td>\n",
       "    </tr>\n",
       "    <tr>\n",
       "      <th>...</th>\n",
       "      <td>...</td>\n",
       "      <td>...</td>\n",
       "      <td>...</td>\n",
       "      <td>...</td>\n",
       "    </tr>\n",
       "    <tr>\n",
       "      <th>288</th>\n",
       "      <td>288</td>\n",
       "      <td>10</td>\n",
       "      <td>8</td>\n",
       "      <td>K</td>\n",
       "    </tr>\n",
       "    <tr>\n",
       "      <th>289</th>\n",
       "      <td>289</td>\n",
       "      <td>12</td>\n",
       "      <td>10</td>\n",
       "      <td>K</td>\n",
       "    </tr>\n",
       "    <tr>\n",
       "      <th>290</th>\n",
       "      <td>290</td>\n",
       "      <td>9</td>\n",
       "      <td>13</td>\n",
       "      <td>T</td>\n",
       "    </tr>\n",
       "    <tr>\n",
       "      <th>291</th>\n",
       "      <td>291</td>\n",
       "      <td>5</td>\n",
       "      <td>14</td>\n",
       "      <td>T</td>\n",
       "    </tr>\n",
       "    <tr>\n",
       "      <th>292</th>\n",
       "      <td>292</td>\n",
       "      <td>6</td>\n",
       "      <td>11</td>\n",
       "      <td>T</td>\n",
       "    </tr>\n",
       "  </tbody>\n",
       "</table>\n",
       "<p>293 rows × 4 columns</p>\n",
       "</div>"
      ],
      "text/plain": [
       "location  clique_idx  Kanungu  Tororo leaning\n",
       "0                  0       47      73       T\n",
       "1                  1       17      42       T\n",
       "2                  2       32      64       T\n",
       "3                  3       72      70       K\n",
       "4                  4       54      23       K\n",
       "..               ...      ...     ...     ...\n",
       "288              288       10       8       K\n",
       "289              289       12      10       K\n",
       "290              290        9      13       T\n",
       "291              291        5      14       T\n",
       "292              292        6      11       T\n",
       "\n",
       "[293 rows x 4 columns]"
      ]
     },
     "execution_count": 21,
     "metadata": {},
     "output_type": "execute_result"
    }
   ],
   "source": [
    "patient_frame['location'] = patient_frame.cid.apply(lambda x : 'Tororo' if 'CT' in x else 'Kanungu')\n",
    "patient_response_by_region = patient_frame.\\\n",
    "    groupby(['location', 'clique_idx']).\\\n",
    "    apply(\n",
    "        lambda x : pd.Series({'num_patients' : x.cid.unique().size})\n",
    ").reset_index()\n",
    "\n",
    "patient_response_by_region = pd.pivot_table(\n",
    "    patient_response_by_region, index = 'clique_idx', \n",
    "    columns = 'location', values = 'num_patients'\n",
    ").reset_index()\n",
    "\n",
    "patient_response_by_region['leaning'] = patient_response_by_region.apply(\n",
    "    lambda x : 'K' if x.Kanungu > x.Tororo else 'T',\n",
    "    axis = 1\n",
    ")\n",
    "\n",
    "patient_response_by_region"
   ]
  },
  {
   "cell_type": "markdown",
   "metadata": {},
   "source": [
    "## Regional Observations of Cliques"
   ]
  },
  {
   "cell_type": "code",
   "execution_count": 22,
   "metadata": {
    "ExecuteTime": {
     "end_time": "2020-07-08T16:34:11.236396Z",
     "start_time": "2020-07-08T16:34:10.837770Z"
    }
   },
   "outputs": [
    {
     "data": {
      "application/vnd.plotly.v1+json": {
       "config": {
        "plotlyServerURL": "https://plot.ly"
       },
       "data": [
        {
         "customdata": [
          [
           [],
           [],
           []
          ],
          [
           [],
           [],
           []
          ],
          [
           [],
           [],
           []
          ],
          [
           [],
           [],
           []
          ],
          [
           [],
           [],
           []
          ],
          [
           [],
           [],
           []
          ],
          [
           [],
           [],
           []
          ],
          [
           [],
           [],
           []
          ],
          [
           [],
           [],
           []
          ],
          [
           [],
           [],
           []
          ],
          [
           [],
           [],
           []
          ],
          [
           [],
           [],
           []
          ],
          [
           [],
           [],
           []
          ],
          [
           [],
           [],
           []
          ],
          [
           [],
           [],
           []
          ],
          [
           [],
           [],
           []
          ],
          [
           [],
           [],
           []
          ],
          [
           [],
           [],
           []
          ],
          [
           [],
           [],
           []
          ],
          [
           [],
           [],
           []
          ],
          [
           [],
           [],
           []
          ],
          [
           [],
           [],
           []
          ],
          [
           [],
           [],
           []
          ],
          [
           [],
           [],
           []
          ],
          [
           [],
           [],
           []
          ],
          [
           [],
           [],
           []
          ],
          [
           [],
           [],
           []
          ],
          [
           [],
           [],
           []
          ],
          [
           [],
           [],
           []
          ],
          [
           [],
           [],
           []
          ],
          [
           [],
           [],
           []
          ],
          [
           [],
           [],
           []
          ],
          [
           [],
           [],
           []
          ],
          [
           [],
           [],
           []
          ],
          [
           [],
           [],
           []
          ],
          [
           [],
           [],
           []
          ],
          [
           [],
           [],
           []
          ],
          [
           [],
           [],
           []
          ],
          [
           [],
           [],
           []
          ],
          [
           [],
           [],
           []
          ],
          [
           [],
           [],
           []
          ],
          [
           [],
           [],
           []
          ],
          [
           [],
           [],
           []
          ],
          [
           [],
           [],
           []
          ],
          [
           [],
           [],
           []
          ],
          [
           [],
           [],
           []
          ],
          [
           [],
           [],
           []
          ],
          [
           [],
           [],
           []
          ],
          [
           [],
           [],
           []
          ],
          [
           [],
           [],
           []
          ],
          [
           [],
           [],
           []
          ],
          [
           [],
           [],
           []
          ],
          [
           [],
           [],
           []
          ],
          [
           [],
           [],
           []
          ],
          [
           [],
           [],
           []
          ],
          [
           [],
           [],
           []
          ],
          [
           [],
           [],
           []
          ],
          [
           [],
           [],
           []
          ],
          [
           [],
           [],
           []
          ],
          [
           [],
           [],
           []
          ],
          [
           [],
           [],
           []
          ],
          [
           [],
           [],
           []
          ],
          [
           [],
           [],
           []
          ],
          [
           [],
           [],
           []
          ],
          [
           [],
           [],
           []
          ],
          [
           [],
           [],
           []
          ],
          [
           [],
           [],
           []
          ],
          [
           [],
           [],
           []
          ],
          [
           [],
           [],
           []
          ],
          [
           [],
           [],
           []
          ],
          [
           [],
           [],
           []
          ],
          [
           [],
           [],
           []
          ],
          [
           [],
           [],
           []
          ],
          [
           [],
           [],
           []
          ],
          [
           [],
           [],
           []
          ],
          [
           [],
           [],
           []
          ],
          [
           [],
           [],
           []
          ],
          [
           [],
           [],
           []
          ],
          [
           [],
           [],
           []
          ],
          [
           [],
           [],
           []
          ],
          [
           [],
           [],
           []
          ],
          [
           [],
           [],
           []
          ],
          [
           [],
           [],
           []
          ],
          [
           [],
           [],
           []
          ],
          [
           [],
           [],
           []
          ],
          [
           [],
           [],
           []
          ],
          [
           [],
           [],
           []
          ],
          [
           [],
           [],
           []
          ],
          [
           [],
           [],
           []
          ],
          [
           [],
           [],
           []
          ],
          [
           [],
           [],
           []
          ],
          [
           [],
           [],
           []
          ],
          [
           [],
           [],
           []
          ],
          [
           [],
           [],
           []
          ],
          [
           [],
           [],
           []
          ],
          [
           [],
           [],
           []
          ],
          [
           [],
           [],
           []
          ],
          [
           [],
           [],
           []
          ],
          [
           [],
           [],
           []
          ],
          [
           [],
           [],
           []
          ],
          [
           [],
           [],
           []
          ],
          [
           [],
           [],
           []
          ],
          [
           [],
           [],
           []
          ],
          [
           [],
           [],
           []
          ],
          [
           [],
           [],
           []
          ],
          [
           [],
           [],
           []
          ],
          [
           [],
           [],
           []
          ],
          [
           [],
           [],
           []
          ],
          [
           [],
           [],
           []
          ],
          [
           [],
           [],
           []
          ],
          [
           [],
           [],
           []
          ],
          [
           [],
           [],
           []
          ],
          [
           [],
           [],
           []
          ],
          [
           [],
           [],
           []
          ],
          [
           [],
           [],
           []
          ],
          [
           [],
           [],
           []
          ],
          [
           [],
           [],
           []
          ],
          [
           [],
           [],
           []
          ],
          [
           [],
           [],
           []
          ],
          [
           [],
           [],
           []
          ],
          [
           [],
           [],
           []
          ],
          [
           [],
           [],
           []
          ],
          [
           [],
           [],
           []
          ],
          [
           [],
           [],
           []
          ],
          [
           [],
           [],
           []
          ],
          [
           [],
           [],
           []
          ],
          [
           [
            "clique_233_MEME-1"
           ],
           [
            "ASKEAEE"
           ],
           [
            "eid_1066661::merozoite_surface_protein_3"
           ]
          ],
          [
           [
            "clique_284_MEME-1"
           ],
           [
            "GASPPSGTS"
           ],
           [
            "eid_95828::merozoite_surface_protein_1"
           ]
          ],
          [
           [
            "clique_235_MEME-1"
           ],
           [
            "REYQLDNEGPD"
           ],
           [
            "eid_1067713::MSP7-like_protein_[Plasmodium_falciparum_3D7]"
           ]
          ],
          [
           [
            "clique_282_MEME-1"
           ],
           [
            "LIEEVVP"
           ],
           [
            "eid_11776::11-1_polypeptide"
           ]
          ],
          [
           [
            "clique_281_MEME-1"
           ],
           [
            "GTGQHGHMHGSR"
           ],
           [
            "eid_142387::merozoite_surface_protein_2"
           ]
          ],
          [
           [
            "clique_264_MEME-1"
           ],
           [
            "GSAGGSA"
           ],
           [
            "eid_1067295::merozoite_surface_protein_2_[Plasmodium_falciparum_3D7]"
           ]
          ],
          [
           [
            "clique_229_MEME-1"
           ],
           [
            "TYDEKVKKN"
           ],
           [
            "eid_59591::Liver_stage_antigen"
           ]
          ],
          [
           [
            "clique_245_MEME-1"
           ],
           [
            "EGPQGPADNVTP"
           ],
           [
            "eid_1068338::endoplasmin"
           ]
          ],
          [
           [
            "clique_207_MEME-1"
           ],
           [
            "NDENKTMEHIKI"
           ],
           [
            "eid_1067099::merozoite_surface_protein_[Plasmodium_falciparum_3D7]"
           ]
          ],
          [
           [
            "clique_249_MEME-1"
           ],
           [
            "NIKDNKHENIQD"
           ],
           [
            "eid_914121::conserved_Plasmodium_protein"
           ]
          ],
          [
           [
            "clique_227_MEME-1"
           ],
           [
            "RIPSGSFFBTP"
           ],
           [
            "eid_913458::conserved_Plasmodium_protein"
           ]
          ],
          [
           [
            "clique_242_MEME-1"
           ],
           [
            "FIWDGMJCA"
           ],
           [
            "eid_72351::erythrocyte_membrane_protein_1"
           ]
          ],
          [
           [
            "clique_267_MEME-1"
           ],
           [
            "CVDNLNYYFEFY"
           ],
           [
            "eid_914291::cytochrome_c_oxidase_assembly_protein_(heme_A:_farnesyltransferase)"
           ]
          ],
          [
           [
            "clique_258_MEME-1"
           ],
           [
            "LNQKEEENYKNH"
           ],
           [
            "eid_1066940::erythrocyte_binding_antigen-140_[Plasmodium_falciparum_3D7]"
           ]
          ],
          [
           [
            "clique_240_MEME-1"
           ],
           [
            "NIDNMENIDNM"
           ],
           [
            "eid_913455::calpain_[Plasmodium_falciparum_3D7]"
           ]
          ],
          [
           [
            "clique_146_MEME-1"
           ],
           [
            "SRIPSGSFF"
           ],
           [
            "eid_913458::conserved_Plasmodium_protein"
           ]
          ],
          [
           [
            "clique_187_MEME-1"
           ],
           [
            "DNIKGEDNIKG"
           ],
           [
            "eid_913077::schizont_egress_antigen-1_[Plasmodium_falciparum_3D7]"
           ]
          ],
          [
           [
            "clique_57_MEME-2"
           ],
           [
            "KLQNDKDSG"
           ],
           [
            "eid_1067335::glutamate-rich_protein_[Plasmodium_falciparum_3D7]"
           ]
          ],
          [
           [
            "clique_59_MEME-1"
           ],
           [
            "GDDNKNGDB"
           ],
           [
            "eid_1067240::merozoite_surface_protein_1"
           ]
          ],
          [
           [
            "clique_60_MEME-1"
           ],
           [
            "ETGESKETGESK"
           ],
           [
            "eid_1067392::mature_parasite-infected_erythrocyte_surface_antigen_[Plasmodium_falciparum_3D7]"
           ]
          ],
          [
           [
            "clique_63_MEME-1",
            "clique_63_MEME-2"
           ],
           [
            "YKLGNNKKSYLI",
            "NDVHKKKADDGN"
           ],
           [
            "eid_1068632::merozoite_surface_protein_10_[Plasmodium_falciparum_3D7]"
           ]
          ],
          [
           [
            "clique_64_MEME-1"
           ],
           [
            "NNNMDNKKNMDN"
           ],
           [
            "eid_1067999::duffy_binding-like_merozoite_surface_protein_[Plasmodium_falciparum_3D7]"
           ]
          ],
          [
           [
            "clique_67_MEME-1"
           ],
           [
            "QQSDLEQERRAK"
           ],
           [
            "eid_13914::Liver_stage_antigen"
           ]
          ],
          [
           [
            "clique_68_MEME-1"
           ],
           [
            "MEEHNKIEEHNK"
           ],
           [
            "eid_497298::early_transcribed_membrane_protein_13"
           ]
          ],
          [
           [
            "clique_72_MEME-1"
           ],
           [
            "DEGKTTDEGKTT"
           ],
           [
            "eid_1068178::mature_parasite-infected_erythrocyte_surface_antigen_[Plasmodium_falciparum_3D7]"
           ]
          ],
          [
           [
            "clique_188_MEME-1"
           ],
           [
            "RWLEEWGEEFCR"
           ],
           [
            "eid_70460::erythrocyte_membrane_protein_1_var_IT-ICAM"
           ]
          ],
          [
           [
            "clique_85_MEME-1"
           ],
           [
            "EPFPNQKHKDLQ"
           ],
           [
            "eid_28742::glutamate-rich_protein"
           ]
          ],
          [
           [
            "clique_92_MEME-1"
           ],
           [
            "PCZLEYQWHTNV"
           ],
           [
            "eid_236266::erythrocyte_membrane_protein_1"
           ]
          ],
          [
           [
            "clique_97_MEME-1"
           ],
           [
            "NDKDIYNNM"
           ],
           [
            "eid_1068488::serine_repeat_antigen_5_[Plasmodium_falciparum_3D7]"
           ]
          ],
          [
           [
            "clique_101_MEME-1"
           ],
           [
            "SPRIFJSDBKDE"
           ],
           [
            "eid_74433::apical_membrane_antigen-1"
           ]
          ],
          [
           [
            "clique_56_MEME-1"
           ],
           [
            "KITLEKEIKNFR"
           ],
           [
            "eid_1067229::cytoadherence_linked_asexual_protein_9_[Plasmodium_falciparum_3D7]"
           ]
          ],
          [
           [
            "clique_103_MEME-1"
           ],
           [
            "CKCIPNYDCDIS"
           ],
           [
            "eid_1068270::merozoite_surface_protein_10_[Plasmodium_falciparum_3D7]"
           ]
          ],
          [
           [
            "clique_54_MEME-1"
           ],
           [
            "GPNDPFYDGTFN"
           ],
           [
            "eid_1067253::high_molecular_weight_rhoptry_protein_3_[Plasmodium_falciparum_3D7]"
           ]
          ],
          [
           [
            "clique_47_MEME-1"
           ],
           [
            "RQMFYTLGDYRD"
           ],
           [
            "eid_1068080::cytoadherence_linked_asexual_protein_3.2_[Plasmodium_falciparum_3D7]"
           ]
          ],
          [
           [
            "clique_2_MEME-3"
           ],
           [
            "DPYKQLKEVVEK"
           ],
           [
            "eid_11799::Liver_stage_antigen"
           ]
          ],
          [
           [
            "clique_6_MEME-3"
           ],
           [
            "CANCNEEDKNMS"
           ],
           [
            "eid_1066614::merozoite_surface_protein_1"
           ]
          ],
          [
           [
            "clique_13_MEME-2"
           ],
           [
            "NLEEYBZTD"
           ],
           [
            "eid_1068644::mature_parasite-infected_erythrocyte_surface_antigen_[Plasmodium_falciparum_3D7]"
           ]
          ],
          [
           [
            "clique_18_MEME-5"
           ],
           [
            "SGEKLQYKKKEG"
           ],
           [
            "eid_1068066::merozoite_surface_protein_10_[Plasmodium_falciparum_3D7]"
           ]
          ],
          [
           [
            "clique_25_MEME-1"
           ],
           [
            "NTDTISTDN"
           ],
           [
            "eid_913827::sporozoite_threonine_and_asparagine-rich_protein_[Plasmodium_falciparum_3D7]"
           ]
          ],
          [
           [
            "clique_32_MEME-1"
           ],
           [
            "NNIYVKEFYKKL"
           ],
           [
            "eid_1066953::apical_membrane_antigen_1"
           ]
          ],
          [
           [
            "clique_36_MEME-1",
            "clique_36_MEME-2"
           ],
           [
            "KEKEEVKEKEEV",
            "NKDKVIEQE"
           ],
           [
            "eid_1066787::mature_parasite-infected_erythrocyte_surface_antigen_[Plasmodium_falciparum_3D7]"
           ]
          ],
          [
           [
            "clique_40_MEME-1"
           ],
           [
            "GSVTEEIVE"
           ],
           [
            "eid_70537::antigen_332"
           ]
          ],
          [
           [
            "clique_43_MEME-2"
           ],
           [
            "TTVTEEDTFKGQ"
           ],
           [
            "eid_1067345::cytoadherence_linked_asexual_protein_8_[Plasmodium_falciparum_3D7]"
           ]
          ],
          [
           [
            "clique_44_MEME-2"
           ],
           [
            "ZFDKQKKKY"
           ],
           [
            "eid_181670::PfEMP1"
           ]
          ],
          [
           [
            "clique_46_MEME-1"
           ],
           [
            "SDGDKGP"
           ],
           [
            "eid_1067578::endoplasmin"
           ]
          ],
          [
           [
            "clique_52_MEME-1"
           ],
           [
            "ATKEASTSK"
           ],
           [
            "eid_58833::Knob-associated_histidine-rich_protein_precursor"
           ]
          ],
          [
           [
            "clique_105_MEME-1"
           ],
           [
            "TPQETVTTQEPV"
           ],
           [
            "eid_78559::Interspersed_repeat_antigen"
           ]
          ],
          [
           [
            "clique_79_MEME-2"
           ],
           [
            "FLKGDSEDGSEQ"
           ],
           [
            "eid_1067256::merozoite_surface_protein_7_[Plasmodium_falciparum_IGH-CR14]"
           ]
          ],
          [
           [
            "clique_113_MEME-1"
           ],
           [
            "NGNNFNKDNIFN"
           ],
           [
            "eid_1066909::merozoite_surface_protein_1"
           ]
          ],
          [
           [
            "clique_143_MEME-1"
           ],
           [
            "YLDEQEEDVYLD"
           ],
           [
            "eid_1066726::cytoadherence_linked_asexual_protein_8_[Plasmodium_falciparum_3D7]"
           ]
          ],
          [
           [
            "clique_291_MEME-1"
           ],
           [
            "NNKNGDNNKNGD"
           ],
           [
            "eid_21318::hypothetical_protein"
           ]
          ],
          [
           [
            "clique_148_MEME-1"
           ],
           [
            "KDINKTDSE"
           ],
           [
            "eid_4127::hypothetical_protein_PF14_0045"
           ]
          ],
          [
           [
            "clique_153_MEME-1"
           ],
           [
            "SNDKQSNDI"
           ],
           [
            "eid_1066904::merozoite_surface_protein_5_[Plasmodium_falciparum_3D7]"
           ]
          ],
          [
           [
            "clique_112_MEME-2"
           ],
           [
            "QKSPPKELSNKQ"
           ],
           [
            "eid_1068371::merozoite_surface_protein_1"
           ]
          ],
          [
           [
            "clique_160_MEME-1"
           ],
           [
            "QNDKDSGKL"
           ],
           [
            "eid_1067335::glutamate-rich_protein_[Plasmodium_falciparum_3D7]"
           ]
          ],
          [
           [
            "clique_162_MEME-1"
           ],
           [
            "BNFDDKNPFDEY"
           ],
           [
            "eid_1067211::methionine--tRNA_ligase_[Plasmodium_falciparum_3D7]"
           ]
          ],
          [
           [
            "clique_164_MEME-1"
           ],
           [
            "SKSQVQHPK"
           ],
           [
            "eid_1068066::merozoite_surface_protein_10_[Plasmodium_falciparum_3D7]"
           ]
          ],
          [
           [
            "clique_165_MEME-1"
           ],
           [
            "GSFDTIFDGFVN"
           ],
           [
            "eid_1067481::merozoite_surface_protein_[Plasmodium_falciparum_3D7]"
           ]
          ],
          [
           [
            "clique_178_MEME-1"
           ],
           [
            "YGPNGTYGPNGT"
           ],
           [
            "eid_58266::major_surface_antigen_p190"
           ]
          ],
          [
           [
            "clique_180_MEME-1"
           ],
           [
            "INNGGCGDDKIC"
           ],
           [
            "eid_1066917::merozoite_surface_protein_5_[Plasmodium_falciparum_3D7]"
           ]
          ],
          [
           [
            "clique_185_MEME-1"
           ],
           [
            "LPEEDIINEKVQ"
           ],
           [
            "eid_1066611::erythrocyte_binding_antigen-140_[Plasmodium_falciparum_3D7]"
           ]
          ],
          [
           [
            "clique_142_MEME-1"
           ],
           [
            "LDRHRDMCEKW"
           ],
           [
            "eid_913519::erythrocyte_membrane_protein_1_(PfEMP1)"
           ]
          ],
          [
           [
            "clique_156_MEME-1"
           ],
           [
            "FDDCQLQNEFCD"
           ],
           [
            "eid_67995::hypothetical_protein_PFB0145c"
           ]
          ],
          [
           [
            "clique_124_MEME-1"
           ],
           [
            "APIFGSPSNKDD"
           ],
           [
            "eid_1068541::merozoite_surface_protein_8_[Plasmodium_falciparum_3D7]"
           ]
          ],
          [
           [
            "clique_118_MEME-1"
           ],
           [
            "ENKDKVIGQEII"
           ],
           [
            "eid_1068372::mature_parasite-infected_erythrocyte_surface_antigen_[Plasmodium_falciparum_3D7]"
           ]
          ],
          [
           [
            "clique_121_MEME-1"
           ],
           [
            "LSDDVRPDKNHE"
           ],
           [
            "eid_1066748::erythrocyte_binding_antigen-175_[Plasmodium_falciparum_3D7]"
           ]
          ],
          [
           [
            "clique_117_MEME-1"
           ],
           [
            "NEINREINNEIN"
           ],
           [
            "eid_43692::hypothetical_protein_PF07_0086"
           ]
          ],
          [
           [
            "clique_122_MEME-1"
           ],
           [
            "KKGDDNKMMVEN"
           ],
           [
            "eid_913638::sporozoite_surface_protein_3"
           ]
          ],
          [
           [
            "clique_115_MEME-1"
           ],
           [
            "YILGWEFGGGVP"
           ],
           [
            "eid_1068527::merozoite_surface_protein_3"
           ]
          ],
          [
           [
            "clique_125_MEME-2"
           ],
           [
            "LDPKFYNLGDFG"
           ],
           [
            "eid_39565::antigen_Pfg27/25"
           ]
          ],
          [
           [
            "clique_136_MEME-1"
           ],
           [
            "CIPPRRRKLTVG"
           ],
           [
            "eid_1067473::erythrocyte_binding_antigen-175_[Plasmodium_falciparum_3D7]"
           ]
          ],
          [
           [
            "clique_114_MEME-1"
           ],
           [
            "NHKSISNHKDIN"
           ],
           [
            "eid_1067788::methionine--tRNA_ligase_[Plasmodium_falciparum_3D7]"
           ]
          ],
          [
           [
            "clique_127_MEME-1"
           ],
           [
            "MNGDNKMNGDNK"
           ],
           [
            "eid_21318::hypothetical_protein"
           ]
          ],
          [
           [
            "clique_129_MEME-2"
           ],
           [
            "SIQEQLIGTIGR"
           ],
           [
            "eid_181694::erythrocyte_membrane_protein_1"
           ]
          ],
          [
           [
            "clique_100_MEME-1",
            "clique_100_MEME-2"
           ],
           [
            "ILRKLNYDDFFT",
            "KDMNKENIKKTD"
           ],
           [
            "eid_74087::Circumsporozoite_protein_precursor",
            "eid_1067419::erythrocyte_binding_antigen-165_[Plasmodium_falciparum_3D7]"
           ]
          ],
          [
           [
            "clique_20_MEME-1",
            "clique_20_MEME-2"
           ],
           [
            "BSQNGKNEKNEK",
            "KIDMHNTYNDT"
           ],
           [
            "eid_7940::Circumsporozoite_protein_precursor",
            "eid_913115::petidase"
           ]
          ],
          [
           [
            "clique_10_MEME-1",
            "clique_10_MEME-2"
           ],
           [
            "RPQFLRWFTEWG",
            "EEFCRERKK"
           ],
           [
            "eid_1067630::erythrocyte_binding_antigen-140_[Plasmodium_falciparum_3D7]",
            "eid_181613::PfEMP1"
           ]
          ],
          [
           [
            "clique_91_MEME-1",
            "clique_91_MEME-2"
           ],
           [
            "DNIEVNNTJ",
            "NRELIKKESIY"
           ],
           [
            "eid_913807::protein_kinase",
            "eid_1067419::erythrocyte_binding_antigen-165_[Plasmodium_falciparum_3D7]"
           ]
          ],
          [
           [
            "clique_1_MEME-1",
            "clique_1_MEME-10"
           ],
           [
            "GIDJYBEVLKRK",
            "ENELFGT"
           ],
           [
            "eid_73540::PfEMP1_variant_1_of_strain_MC",
            "eid_913468::heat_shock_protein_90"
           ]
          ],
          [
           [
            "clique_15_MEME-3",
            "clique_15_MEME-5"
           ],
           [
            "AFHSNVPGBKRE",
            "VHNTQNTHDLLG"
           ],
           [
            "eid_1067253::high_molecular_weight_rhoptry_protein_3_[Plasmodium_falciparum_3D7]",
            "eid_181743::PfEMP1"
           ]
          ],
          [
           [
            "clique_17_MEME-1",
            "clique_17_MEME-2"
           ],
           [
            "NDTEEKDKVKKQ",
            "VEEGIKE"
           ],
           [
            "eid_1067371::mature_parasite-infected_erythrocyte_surface_antigen_[Plasmodium_falciparum_3D7]",
            "eid_1068514::mature_parasite-infected_erythrocyte_surface_antigen_[Plasmodium_falciparum_3D7]"
           ]
          ],
          [
           [
            "clique_89_MEME-1",
            "clique_89_MEME-2"
           ],
           [
            "NEVKSEVKNEVK",
            "YNHIIPYKNIKI"
           ],
           [
            "eid_1067428::merozoite_surface_protein_6_[Plasmodium_falciparum_3D7]",
            "eid_697078::Erythrocyte_membrane_protein_1"
           ]
          ],
          [
           [
            "clique_137_MEME-1",
            "clique_137_MEME-2"
           ],
           [
            "PPTQDAETKSPT",
            "GQHGHMH"
           ],
           [
            "eid_1068306::merozoite_surface_protein_2_[Plasmodium_falciparum_3D7]",
            "eid_1067688::merozoite_surface_protein_2_[Plasmodium_falciparum_3D7]"
           ]
          ],
          [
           [
            "clique_0_MEME-1",
            "clique_0_MEME-2",
            "clique_0_MEME-3"
           ],
           [
            "VIPEELVEEVIP",
            "VVEEVVPEELVE",
            "EVVEEVVPE"
           ],
           [
            "eid_11776::11-1_polypeptide",
            "eid_914212::glutamate-rich_protein_[Plasmodium_falciparum_3D7]"
           ]
          ],
          [
           [
            "clique_28_MEME-1",
            "clique_28_MEME-2"
           ],
           [
            "SAFGGGLPFSGY",
            "SSGIGNHNKCPD"
           ],
           [
            "eid_466413::erythrocyte_membrane_protein",
            "eid_1066698::duffy_binding-like_merozoite_surface_protein_[Plasmodium_falciparum_3D7]"
           ]
          ],
          [
           [
            "clique_139_MEME-1",
            "clique_139_MEME-2"
           ],
           [
            "DLIEAFFPFIL",
            "LDNKYDDYYNLP"
           ],
           [
            "eid_1067859::merozoite_surface_protein_10_[Plasmodium_falciparum_3D7]",
            "eid_1067587::merozoite_surface_protein_10_[Plasmodium_falciparum_3D7]"
           ]
          ],
          [
           [
            "clique_31_MEME-2",
            "clique_31_MEME-4"
           ],
           [
            "LVDNMNITQ",
            "INSDDIKEK"
           ],
           [
            "eid_1067628::erythrocyte_binding_antigen-175_[Plasmodium_falciparum_3D7]",
            "eid_913036::schizont_egress_antigen-1_[Plasmodium_falciparum_3D7]"
           ]
          ],
          [
           [
            "clique_50_MEME-1",
            "clique_50_MEME-2"
           ],
           [
            "ENNENIENNENN",
            "HPGSCFVENKAH"
           ],
           [
            "eid_1068099::merozoite_surface_protein_10_[Plasmodium_falciparum_3D7]",
            "eid_1066886::erythrocyte_binding_antigen-175_[Plasmodium_falciparum_3D7]"
           ]
          ],
          [
           [
            "clique_82_MEME-1",
            "clique_82_MEME-2"
           ],
           [
            "PLDNTSEETTER",
            "NPNRSSDEGEAH"
           ],
           [
            "eid_21682::erythrocyte_binding_protein",
            "eid_1066886::erythrocyte_binding_antigen-175_[Plasmodium_falciparum_3D7]"
           ]
          ],
          [
           [
            "clique_34_MEME-1",
            "clique_34_MEME-2"
           ],
           [
            "NTSNKLKDEPVD",
            "LRDNYASEQEYF"
           ],
           [
            "eid_1068603::serine_repeat_antigen_5_[Plasmodium_falciparum_3D7]",
            "eid_1068141::antigen_332"
           ]
          ],
          [
           [
            "clique_80_MEME-1",
            "clique_80_MEME-2"
           ],
           [
            "DNMDNIYNV",
            "YKFLSMKHYKDS"
           ],
           [
            "eid_913791::conserved_Plasmodium_protein",
            "eid_1067951::merozoite_surface_protein_10_[Plasmodium_falciparum_3D7]"
           ]
          ],
          [
           [
            "clique_126_MEME-1",
            "clique_126_MEME-2"
           ],
           [
            "FIQEDQEGQTHS",
            "KGLDIDBIP"
           ],
           [
            "eid_1066701::glutamate-rich_protein_[Plasmodium_falciparum_3D7]",
            "eid_1068139::glutamate-rich_protein_[Plasmodium_falciparum_3D7]"
           ]
          ],
          [
           [
            "clique_73_MEME-1",
            "clique_73_MEME-3"
           ],
           [
            "FYKLLKEGKYCK",
            "AFTKQKEKYAKY"
           ],
           [
            "eid_1068564::endoplasmin",
            "eid_181693::erythrocyte_membrane_protein_1"
           ]
          ],
          [
           [
            "clique_19_MEME-1",
            "clique_19_MEME-2",
            "clique_19_MEME-3"
           ],
           [
            "PNANPNANPNAN",
            "NPBANPN",
            "KLRKPKHKKLKQ"
           ],
           [
            "eid_756411::circumsporozoite_(CS)_protein_[Plasmodium_falciparum_3D7]",
            "eid_45407::circumsporozoite_(CS)_protein_[Plasmodium_falciparum_3D7]",
            "eid_45110::Circumsporozoite_protein_precursor"
           ]
          ],
          [
           [
            "clique_49_MEME-1",
            "clique_49_MEME-2",
            "clique_49_MEME-3"
           ],
           [
            "PQYLRWFEEWAE",
            "YCRGNNGKC",
            "DVPTNFDYV"
           ],
           [
            "eid_70460::erythrocyte_membrane_protein_1_var_IT-ICAM",
            "eid_1068698::erythrocyte_binding_antigen-181_[Plasmodium_falciparum_3D7]",
            "eid_181818::PfEMP1"
           ]
          ],
          [
           [
            "clique_5_MEME-1",
            "clique_5_MEME-2",
            "clique_5_MEME-3"
           ],
           [
            "KQILKDKCEKEJ",
            "HEYDERMKT",
            "DPEMKEV"
           ],
           [
            "eid_1067912::merozoite_surface_protein_8_[Plasmodium_falciparum_3D7]",
            "eid_913629::sporozoite_surface_protein_3",
            "eid_912954::glutamate-rich_protein_[Plasmodium_falciparum_3D7]"
           ]
          ],
          [
           [
            "clique_9_MEME-3",
            "clique_9_MEME-4",
            "clique_9_MEME-5"
           ],
           [
            "FEKQKEKYEKEI",
            "EKLKNENYETVN",
            "TYESNDAIS"
           ],
           [
            "eid_1068177::duffy_binding-like_merozoite_surface_protein_[Plasmodium_falciparum_3D7]",
            "eid_1067370::antigen_332",
            "eid_1067417::antigen_332"
           ]
          ],
          [
           [
            "clique_94_MEME-1",
            "clique_94_MEME-2",
            "clique_94_MEME-3"
           ],
           [
            "NYHYEEPFILTP",
            "EAYEKAGEVIVE",
            "REVEKRSEKLID"
           ],
           [
            "eid_1068229::high_molecular_weight_rhoptry_protein_3_[Plasmodium_falciparum_3D7]",
            "eid_23729::merozoite_surface_protein_3",
            "eid_15297::sporozoite_surface_protein_2"
           ]
          ],
          [
           [
            "clique_14_MEME-1",
            "clique_14_MEME-2",
            "clique_14_MEME-4"
           ],
           [
            "QHEIVEVEEILP",
            "EDKNEKV",
            "HTEQLDLDHKTV"
           ],
           [
            "eid_469456::glutamate-rich_protein",
            "eid_913436::glutamate-rich_protein_[Plasmodium_falciparum_3D7]",
            "eid_1067856::glutamate-rich_protein_[Plasmodium_falciparum_3D7]"
           ]
          ],
          [
           [
            "clique_16_MEME-1",
            "clique_16_MEME-2",
            "clique_16_MEME-3",
            "clique_16_MEME-5"
           ],
           [
            "TDNEWNTLKDEF",
            "DIQNDGIPSSKI",
            "ISQYLQSEQPKD",
            "VPNDYQS"
           ],
           [
            "eid_43848::hypothetical_protein_PFL1930w",
            "eid_914273::thrombospondin-related_anonymous_protein_[Plasmodium_falciparum_3D7]",
            "eid_913681::erythrocyte_membrane_protein_1"
           ]
          ],
          [
           [
            "clique_7_MEME-1",
            "clique_7_MEME-2",
            "clique_7_MEME-3"
           ],
           [
            "QQSDLEQERLAK",
            "KLQEQQS",
            "LAKEKLQ"
           ],
           [
            "eid_913175::liver_stage_antigen_1_[Plasmodium_falciparum_3D7]",
            "eid_914045::liver_stage_antigen_1_[Plasmodium_falciparum_3D7]",
            "eid_913945::liver_stage_antigen_1_[Plasmodium_falciparum_3D7]"
           ]
          ],
          [
           [
            "clique_21_MEME-1",
            "clique_21_MEME-2",
            "clique_21_MEME-3"
           ],
           [
            "IYYDVNDDD",
            "KEKYPIADVWDI",
            "DKPFNEP"
           ],
           [
            "eid_1067887::acidic_basic_repeat_antigen_[Plasmodium_falciparum_3D7]",
            "eid_1066844::high_molecular_weight_rhoptry_protein_3_[Plasmodium_falciparum_3D7]",
            "eid_1066553::erythrocyte_binding_antigen-165_[Plasmodium_falciparum_3D7]"
           ]
          ],
          [
           [
            "clique_8_MEME-1",
            "clique_8_MEME-2",
            "clique_8_MEME-3",
            "clique_8_MEME-4"
           ],
           [
            "AITKYQNPH",
            "YHNDPELKEIID",
            "NTQRTTIKSRLL",
            "DPYKQLKEVVEK"
           ],
           [
            "eid_17796::Cytoadherence_linked_asexual_protein",
            "eid_1068539::cytoadherence_linked_asexual_protein_2_[Plasmodium_falciparum_3D7]",
            "eid_914054::stevor_[Plasmodium_falciparum_3D7]",
            "eid_11799::Liver_stage_antigen"
           ]
          ],
          [
           [
            "clique_23_MEME-2",
            "clique_23_MEME-3",
            "clique_23_MEME-4",
            "clique_23_MEME-5"
           ],
           [
            "DSYRILSVSYKD",
            "DDEEKNETNDTE",
            "IEEEINTDG",
            "DIIKHNEDVR"
           ],
           [
            "eid_1068135::duffy_binding-like_merozoite_surface_protein_[Plasmodium_falciparum_3D7]",
            "eid_1066920::duffy_binding-like_merozoite_surface_protein_[Plasmodium_falciparum_3D7]",
            "eid_122259::erythrocyte_membrane_protein",
            "eid_1068370::duffy_binding-like_merozoite_surface_protein_[Plasmodium_falciparum_3D7]"
           ]
          ]
         ],
         "hoverlabel": {
          "namelength": 0
         },
         "hovertemplate": "<b>%{hovertext}</b><br><br>leaning=T<br>agg_x=%{x}<br>agg_y=%{y}<br>membership=%{marker.size}<br>qseqid=%{customdata[0]}<br>sequences=%{customdata[1]}<br>sseqid=%{customdata[2]}<br>num_known=%{marker.color}",
         "hovertext": [
          292,
          120,
          220,
          216,
          215,
          119,
          213,
          131,
          132,
          134,
          135,
          212,
          211,
          210,
          130,
          221,
          116,
          93,
          190,
          95,
          96,
          231,
          98,
          99,
          102,
          228,
          104,
          106,
          108,
          109,
          110,
          111,
          226,
          223,
          140,
          208,
          168,
          169,
          170,
          195,
          172,
          174,
          194,
          193,
          181,
          182,
          183,
          192,
          191,
          167,
          234,
          166,
          197,
          145,
          206,
          147,
          149,
          150,
          151,
          152,
          204,
          202,
          200,
          199,
          161,
          163,
          196,
          90,
          232,
          236,
          29,
          263,
          262,
          35,
          261,
          37,
          38,
          260,
          45,
          256,
          48,
          255,
          39,
          254,
          26,
          24,
          290,
          287,
          286,
          283,
          280,
          279,
          278,
          274,
          272,
          22,
          276,
          51,
          257,
          53,
          70,
          253,
          74,
          75,
          76,
          77,
          69,
          78,
          239,
          238,
          84,
          86,
          87,
          241,
          71,
          189,
          248,
          251,
          61,
          250,
          62,
          55,
          246,
          65,
          66,
          58,
          233,
          284,
          235,
          282,
          281,
          264,
          229,
          245,
          207,
          249,
          227,
          242,
          267,
          258,
          240,
          146,
          187,
          57,
          59,
          60,
          63,
          64,
          67,
          68,
          72,
          188,
          85,
          92,
          97,
          101,
          56,
          103,
          54,
          47,
          2,
          6,
          13,
          18,
          25,
          32,
          36,
          40,
          43,
          44,
          46,
          52,
          105,
          79,
          113,
          143,
          291,
          148,
          153,
          112,
          160,
          162,
          164,
          165,
          178,
          180,
          185,
          142,
          156,
          124,
          118,
          121,
          117,
          122,
          115,
          125,
          136,
          114,
          127,
          129,
          100,
          20,
          10,
          91,
          1,
          15,
          17,
          89,
          137,
          0,
          28,
          139,
          31,
          50,
          82,
          34,
          80,
          126,
          73,
          19,
          49,
          5,
          9,
          94,
          14,
          16,
          7,
          21,
          8,
          23
         ],
         "legendgroup": "",
         "marker": {
          "color": [
           0,
           0,
           0,
           0,
           0,
           0,
           0,
           0,
           0,
           0,
           0,
           0,
           0,
           0,
           0,
           0,
           0,
           0,
           0,
           0,
           0,
           0,
           0,
           0,
           0,
           0,
           0,
           0,
           0,
           0,
           0,
           0,
           0,
           0,
           0,
           0,
           0,
           0,
           0,
           0,
           0,
           0,
           0,
           0,
           0,
           0,
           0,
           0,
           0,
           0,
           0,
           0,
           0,
           0,
           0,
           0,
           0,
           0,
           0,
           0,
           0,
           0,
           0,
           0,
           0,
           0,
           0,
           0,
           0,
           0,
           0,
           0,
           0,
           0,
           0,
           0,
           0,
           0,
           0,
           0,
           0,
           0,
           0,
           0,
           0,
           0,
           0,
           0,
           0,
           0,
           0,
           0,
           0,
           0,
           0,
           0,
           0,
           0,
           0,
           0,
           0,
           0,
           0,
           0,
           0,
           0,
           0,
           0,
           0,
           0,
           0,
           0,
           0,
           0,
           0,
           0,
           0,
           0,
           0,
           0,
           0,
           0,
           0,
           0,
           0,
           0,
           1,
           1,
           1,
           1,
           1,
           1,
           1,
           1,
           1,
           1,
           1,
           1,
           1,
           1,
           1,
           1,
           1,
           1,
           1,
           1,
           1,
           1,
           1,
           1,
           1,
           1,
           1,
           1,
           1,
           1,
           1,
           1,
           1,
           1,
           1,
           1,
           1,
           1,
           1,
           1,
           1,
           1,
           1,
           1,
           1,
           1,
           1,
           1,
           1,
           1,
           1,
           1,
           1,
           1,
           1,
           1,
           1,
           1,
           1,
           1,
           1,
           1,
           1,
           1,
           1,
           1,
           1,
           1,
           1,
           1,
           1,
           1,
           1,
           1,
           2,
           2,
           2,
           2,
           2,
           2,
           2,
           2,
           2,
           2,
           2,
           2,
           2,
           2,
           2,
           2,
           2,
           2,
           2,
           3,
           3,
           3,
           3,
           3,
           3,
           3,
           3,
           3,
           4,
           4
          ],
          "coloraxis": "coloraxis",
          "size": [
           2,
           4,
           2,
           2,
           2,
           4,
           2,
           4,
           4,
           4,
           4,
           2,
           2,
           2,
           4,
           2,
           4,
           6,
           3,
           6,
           5,
           2,
           5,
           5,
           5,
           2,
           5,
           5,
           5,
           5,
           5,
           5,
           2,
           2,
           4,
           2,
           3,
           3,
           3,
           3,
           3,
           3,
           3,
           3,
           3,
           3,
           3,
           3,
           3,
           3,
           2,
           3,
           2,
           4,
           2,
           3,
           3,
           3,
           3,
           3,
           2,
           2,
           2,
           2,
           3,
           3,
           3,
           6,
           2,
           2,
           15,
           2,
           2,
           13,
           2,
           13,
           13,
           2,
           10,
           2,
           10,
           2,
           13,
           2,
           16,
           19,
           2,
           2,
           2,
           2,
           2,
           2,
           2,
           2,
           2,
           21,
           2,
           9,
           2,
           9,
           7,
           2,
           7,
           7,
           7,
           7,
           7,
           7,
           2,
           2,
           6,
           6,
           6,
           2,
           7,
           3,
           2,
           2,
           8,
           2,
           8,
           8,
           2,
           7,
           7,
           8,
           2,
           2,
           2,
           2,
           2,
           2,
           2,
           2,
           2,
           2,
           2,
           2,
           2,
           2,
           2,
           3,
           3,
           8,
           8,
           8,
           8,
           7,
           7,
           7,
           7,
           3,
           6,
           6,
           5,
           5,
           8,
           5,
           8,
           10,
           77,
           41,
           26,
           24,
           17,
           14,
           13,
           13,
           11,
           11,
           10,
           9,
           5,
           7,
           5,
           4,
           2,
           3,
           3,
           5,
           3,
           3,
           3,
           3,
           3,
           3,
           3,
           4,
           3,
           4,
           4,
           4,
           4,
           4,
           4,
           4,
           4,
           5,
           4,
           4,
           5,
           21,
           29,
           6,
           169,
           25,
           24,
           6,
           4,
           464,
           15,
           4,
           14,
           9,
           6,
           13,
           7,
           4,
           7,
           23,
           9,
           57,
           31,
           6,
           25,
           25,
           38,
           21,
           31,
           20
          ],
          "sizemode": "area",
          "sizeref": 0.1856,
          "symbol": "circle"
         },
         "mode": "markers",
         "name": "",
         "showlegend": false,
         "type": "scatter",
         "x": [
          0.6475355625152588,
          0.2518432065844536,
          -0.4241698533296585,
          0.5230086445808411,
          -0.761035293340683,
          -0.6348419487476349,
          0.10208119824528694,
          -0.7873566448688507,
          0.8431320935487747,
          -0.8284671157598495,
          -0.028145532589405775,
          -0.48834656178951263,
          -0.6134238243103027,
          0.6002441346645355,
          0.6898856610059738,
          -0.7212074100971222,
          0.2708883732557297,
          0.8293770750363668,
          -0.833723763624827,
          -0.09100236743688583,
          -0.17580167353153228,
          0.8254100382328033,
          0.6572437047958374,
          -0.04528619721531868,
          -0.6193150997161865,
          -0.8677507638931274,
          -0.5851840615272522,
          0.5437123775482178,
          0.6727539658546448,
          0.8864493250846863,
          0.5191182136535645,
          0.3928759515285492,
          -0.7123396098613739,
          0.6603643596172333,
          -0.8457357436418533,
          -0.601874440908432,
          -0.5825655460357666,
          -0.3931679626305898,
          0.6890831589698792,
          0.2398356000582377,
          0.9323257406552633,
          -0.3463329275449117,
          -0.8237970272699991,
          0.4179978171984355,
          0.8028054436047872,
          -0.07725727061430614,
          -0.8402269879976908,
          -0.4937218228975932,
          -0.667732854684194,
          0.8565682371457418,
          0.7978111803531647,
          0.4059058129787445,
          0.9803009927272797,
          0.4454371780157089,
          0.8563679754734039,
          0.4393457770347595,
          0.6803518732388815,
          -0.7467090487480164,
          -0.4245506326357524,
          0.7618539929389954,
          -0.6824122965335846,
          -0.7095068395137787,
          0.33013686537742615,
          0.1665743589401245,
          0.8080452680587769,
          -0.2789967556794484,
          -0.5880341132481893,
          0.5884727239608765,
          0.44542641937732697,
          -0.805758535861969,
          -0.6378083189328512,
          -0.5498456060886383,
          0.820814847946167,
          0.21197162797817817,
          0.8477589190006256,
          0.42224403528066784,
          0.5352259553395785,
          0.5923633575439453,
          -0.2512988895177841,
          0.6974952816963196,
          -0.45440555512905123,
          -0.8597918152809143,
          -0.5203170913916367,
          -0.03678949177265167,
          -0.13810021430253983,
          0.0551789665692731,
          -0.5786575376987457,
          -0.4605129510164261,
          -0.757753998041153,
          0.8816474080085754,
          -0.5567535161972046,
          -0.17522230744361877,
          0.6122471392154694,
          -0.02127851825207472,
          -0.4042147994041443,
          0.05183814572436469,
          0.02295166812837124,
          0.5814485020107694,
          0.7946080267429352,
          -0.20864697131845686,
          -0.09239796442644936,
          -0.6497998833656311,
          -0.6942738890647888,
          -0.7116037011146545,
          0.7321859427860805,
          0.6845015713146755,
          0.7677155477660043,
          -0.7091170719691685,
          -0.5099762082099915,
          0.8661114871501923,
          -0.7888917426268259,
          0.1681836023926735,
          0.027375131535033386,
          0.7477187812328339,
          0.5426077757562909,
          0.7120481530825297,
          -0.8434756398200989,
          -0.583617627620697,
          0.31089362874627113,
          -0.7615492343902588,
          -0.7760321125388145,
          -0.665095679461956,
          0.5773138701915741,
          0.2841348094599588,
          -0.6260083573205131,
          0.7163595333695412,
          0.2848224490880966,
          0.8846813142299652,
          -0.1479027345776558,
          -0.5710216164588928,
          -0.6447552144527435,
          -0.08799504116177559,
          0.9160798490047455,
          0.34834231436252594,
          0.12572979182004929,
          -0.6976119875907898,
          -0.7170154452323914,
          -0.33626289665699005,
          -0.15690919011831284,
          -0.6366885006427765,
          0.6557102799415588,
          0.12675794959068298,
          0.8027218381563822,
          -0.8021852225065231,
          0.19132046774029732,
          0.3337153233587742,
          0.6126223132014275,
          0.7990794011524746,
          0.10786050025905881,
          -0.7502149002892631,
          -0.14373990254742758,
          0.022318603470921516,
          -0.3185959458351135,
          -0.8085672855377197,
          0.7318092465400696,
          -0.8016077876091003,
          0.04246543953195214,
          -0.7248126983642578,
          -0.23797217197716236,
          -0.17038653939962387,
          0.10028295102831605,
          0.2626943530105963,
          0.3815499120033704,
          -0.19524498718480268,
          0.5453455342965967,
          0.5376130087035043,
          -0.239200879748051,
          -0.4240639301446768,
          0.41531698541207746,
          0.33836168863556604,
          0.6292652666568757,
          -0.3770907786157396,
          -0.5519328713417053,
          -0.6865785121917725,
          -0.14431074857711793,
          0.34436342865228653,
          0.22018184512853622,
          0.8129599889119467,
          0.525420626004537,
          0.5189517259597778,
          -0.6382723251978556,
          -0.22568885485331217,
          0.3206254243850708,
          -0.7916970451672872,
          0.2744365135828654,
          -0.8302109638849894,
          0.1902943253517151,
          -0.7902465611696243,
          0.19435334702332815,
          -0.7714347839355469,
          0.6488337814807892,
          0.4459900036454201,
          0.7044094800949097,
          0.23840540274977684,
          0.8631899654865265,
          -0.6208752691745758,
          -0.7677550166845322,
          -0.25852261781692504,
          -0.30209603905677795,
          -0.12556562013924122,
          -0.28679958581924436,
          -0.3885052700837453,
          0.24030592369622197,
          -0.17122070988019308,
          -0.020564155559435752,
          -0.33407514095306395,
          0.14180235068003336,
          0.7716923654079437,
          -0.3875867575407028,
          -0.03502683266836765,
          0.018894872441887856,
          0.3668384552001953,
          0.1851791058267866,
          0.1540113223923577,
          -0.7955708801746368,
          0.7042312622070312,
          0.6554255144936698,
          -0.35502658784389496,
          0.3459294097764151,
          -0.25944154547608417,
          -0.3654082483715481,
          -0.22799349667733176,
          -0.28828751271770847,
          0.7289892931779226,
          -0.04007857277989388,
          -0.3638659989833832,
          -0.29848755347101313,
          0.33953883392470224,
          -0.11994561649137928,
          0.3469578132033348
         ],
         "xaxis": "x2",
         "y": [
          -0.5380062460899353,
          -0.8254193663597107,
          0.8573657274246216,
          -0.8179677128791809,
          -0.5386039018630981,
          0.46803103387355804,
          0.9017426371574402,
          0.4478585943579674,
          -0.46409714967012405,
          -0.025031602010130882,
          -0.7224023044109344,
          0.7479489147663116,
          0.6265020966529846,
          0.6366500854492188,
          -0.37172168493270874,
          -0.42120401561260223,
          0.8848880529403687,
          0.03497260374327501,
          0.06586311012506485,
          -0.8479793469111124,
          -0.8307247757911682,
          -0.15925990045070648,
          0.5312221765518188,
          0.7956620812416076,
          0.3972312033176422,
          0.13112268596887589,
          -0.4440335392951965,
          -0.5043089985847473,
          0.33870763182640073,
          0.023481889814138412,
          -0.6466766595840454,
          0.6303765535354614,
          -0.6646806597709656,
          -0.6634115874767303,
          0.2211168296635151,
          0.8880639374256134,
          0.7237107753753662,
          0.7740923563639323,
          -0.49017422397931415,
          0.7830337683359782,
          0.1601299544175466,
          0.6663059790929159,
          -0.09854647020498912,
          0.694806436697642,
          0.43192485968271893,
          -0.8047234416007996,
          -0.26941487193107605,
          0.6540312767028809,
          0.400736798842748,
          0.3340451121330261,
          0.10285058990120888,
          0.737184484799703,
          -0.11812270805239677,
          -0.6600757986307144,
          -0.2100047543644905,
          0.6273161768913269,
          -0.6306577920913696,
          0.14494189620018005,
          -0.709647019704183,
          -0.3494853973388672,
          0.5791778564453125,
          0.3736450970172882,
          0.8169146776199341,
          0.9580169916152954,
          -0.18725556135177612,
          -0.8525710900624593,
          0.6664364536603292,
          -0.5097171713908514,
          0.7778818607330322,
          0.20523809641599655,
          0.19283572733402252,
          0.7260353565216064,
          -0.006654052762314677,
          -0.6633920669555664,
          0.081332478672266,
          0.22414105557478392,
          0.24832346576910752,
          -0.580075591802597,
          0.6471248388290405,
          0.4262312799692154,
          -0.5570680856704712,
          -0.09228573366999626,
          -0.4776285863839663,
          0.9095382392406464,
          0.35948610305786133,
          0.33775198930188227,
          -0.645016074180603,
          -0.7164072692394257,
          -0.19653627276420593,
          -0.11680850759148598,
          -0.5105507969856262,
          0.8790509700775146,
          0.42660559713840485,
          -0.8288385272026062,
          0.722096860408783,
          -0.3382442494233449,
          0.8764851093292236,
          -0.42949040399657357,
          0.4805295169353485,
          0.7090266479386224,
          0.7799589293343681,
          0.06492535397410393,
          -0.20308459443705423,
          0.3710737185818808,
          0.29228052496910095,
          -0.16927186293261393,
          -0.016130712814629078,
          0.12207349496228355,
          -0.8158153891563416,
          -0.2733161747455597,
          -0.2691040486097336,
          0.7618382374445597,
          0.7423753639062246,
          0.18138714879751205,
          0.5544085587774005,
          0.40100889404614765,
          0.49047642946243286,
          -0.7162346541881561,
          -0.7235517576336861,
          -0.4094488024711609,
          0.2733064331114292,
          -0.3712819516658783,
          -0.7326213121414185,
          0.6638110280036926,
          0.5113513810294015,
          0.09173860587179661,
          -0.8137749135494232,
          0.45805034041404724,
          -0.867368221282959,
          0.5865812599658966,
          -0.7562623620033264,
          0.9356776773929596,
          -0.26067061722278595,
          0.8786535859107971,
          -0.8678090572357178,
          -0.7708384096622467,
          -0.5394929647445679,
          -0.7579630315303802,
          0.8906595706939697,
          0.6117630302906036,
          -0.726637065410614,
          0.7973464330037435,
          -0.4002419610818227,
          0.03218135889619589,
          0.6846175193786621,
          -0.6355010420084,
          0.48768041282892227,
          -0.287009345633643,
          -0.7596533894538879,
          -0.09338677674531937,
          -0.7253856658935547,
          -0.8659860094388326,
          -0.6456015706062317,
          -0.15782354523738226,
          -0.2172500193119049,
          -0.06367101967334747,
          0.7873895093798637,
          -0.3121159017086029,
          0.7532577812671661,
          -0.44472399950027464,
          0.07119478198227944,
          -0.08497315699734338,
          -0.027316443550472077,
          -0.2475086941073338,
          0.14524652502116034,
          0.47781750559806824,
          -0.6518617822573736,
          0.447600972193938,
          -0.5018194995143197,
          0.5628869262608615,
          -0.20410573184490205,
          -0.6021683745914035,
          -0.5807798027992248,
          0.2599083738667624,
          0.7370436787605286,
          -0.7807630151510239,
          0.9236744940280914,
          0.07971878349781036,
          0.7657472093900045,
          -0.5919845223426818,
          0.5824171503384908,
          -0.8535464803377787,
          0.7400222023328146,
          0.40971426169077557,
          0.7147271434466044,
          0.028452427436908085,
          0.8620549241701762,
          0.16122323274612427,
          -0.843002180258433,
          -0.030995420180261135,
          0.39570529013872147,
          -0.6060331612825394,
          0.24150430411100388,
          -0.7652088701725006,
          0.14414530247449875,
          -0.3975786194205284,
          0.3299507349729538,
          -0.7905314803123474,
          -0.7629100978374481,
          0.9195494800806046,
          0.715939748287201,
          0.2654612177894229,
          -0.16563245243039623,
          0.806792289018631,
          -0.07760553837880581,
          0.02514634907245636,
          -0.3392336579660575,
          -0.0964203712840875,
          0.6393765062093735,
          0.025516362106106406,
          -0.613791306813558,
          -0.6860976219177246,
          -0.3902381530829838,
          -0.7264526949988471,
          0.09847478196024895,
          -0.06323724096784225,
          -0.2955492394311087,
          -0.7248631119728088,
          0.6819206646510533,
          0.2790773472060328,
          0.5979923341009352,
          -0.016384447483639968,
          -0.19826547416948503,
          -0.3992217679818471,
          -0.35490927457809446,
          -0.04502427563071251,
          0.12033745215127342,
          0.10809899334396635,
          -0.3245413957103606,
          0.2713040068745613
         ],
         "yaxis": "y2"
        },
        {
         "customdata": [
          [
           [],
           [],
           []
          ],
          [
           [],
           [],
           []
          ],
          [
           [],
           [],
           []
          ],
          [
           [],
           [],
           []
          ],
          [
           [],
           [],
           []
          ],
          [
           [],
           [],
           []
          ],
          [
           [],
           [],
           []
          ],
          [
           [],
           [],
           []
          ],
          [
           [],
           [],
           []
          ],
          [
           [],
           [],
           []
          ],
          [
           [],
           [],
           []
          ],
          [
           [],
           [],
           []
          ],
          [
           [],
           [],
           []
          ],
          [
           [],
           [],
           []
          ],
          [
           [],
           [],
           []
          ],
          [
           [],
           [],
           []
          ],
          [
           [],
           [],
           []
          ],
          [
           [],
           [],
           []
          ],
          [
           [],
           [],
           []
          ],
          [
           [],
           [],
           []
          ],
          [
           [],
           [],
           []
          ],
          [
           [],
           [],
           []
          ],
          [
           [],
           [],
           []
          ],
          [
           [],
           [],
           []
          ],
          [
           [],
           [],
           []
          ],
          [
           [],
           [],
           []
          ],
          [
           [],
           [],
           []
          ],
          [
           [],
           [],
           []
          ],
          [
           [],
           [],
           []
          ],
          [
           [],
           [],
           []
          ],
          [
           [],
           [],
           []
          ],
          [
           [],
           [],
           []
          ],
          [
           [],
           [],
           []
          ],
          [
           [],
           [],
           []
          ],
          [
           [],
           [],
           []
          ],
          [
           [],
           [],
           []
          ],
          [
           [],
           [],
           []
          ],
          [
           [],
           [],
           []
          ],
          [
           [],
           [],
           []
          ],
          [
           [],
           [],
           []
          ],
          [
           [],
           [],
           []
          ],
          [
           [],
           [],
           []
          ],
          [
           [
            "clique_288_MEME-1"
           ],
           [
            "GAAVETFFRWH"
           ],
           [
            "eid_1067369::erythrocyte_binding_antigen-175_[Plasmodium_falciparum_3D7]"
           ]
          ],
          [
           [
            "clique_285_MEME-1"
           ],
           [
            "DIDEINDIDEIN"
           ],
           [
            "eid_1067614::MSP7-like_protein_[Plasmodium_falciparum_3D7]"
           ]
          ],
          [
           [
            "clique_230_MEME-1"
           ],
           [
            "NENINKKDSDHN"
           ],
           [
            "eid_1067362::mature_parasite-infected_erythrocyte_surface_antigen_[Plasmodium_falciparum_3D7]"
           ]
          ],
          [
           [
            "clique_218_MEME-1"
           ],
           [
            "QNNDYNQNNDYN"
           ],
           [
            "eid_1067639::cytoadherence_linked_asexual_protein_3.2_[Plasmodium_falciparum_3D7]"
           ]
          ],
          [
           [
            "clique_205_MEME-1"
           ],
           [
            "PQGSTGA"
           ],
           [
            "eid_227384::serine_repeat_antigen_5"
           ]
          ],
          [
           [
            "clique_224_MEME-1"
           ],
           [
            "QVPVSGSPL"
           ],
           [
            "eid_1068342::merozoite_surface_protein_1"
           ]
          ],
          [
           [
            "clique_81_MEME-1"
           ],
           [
            "VAPSVEE"
           ],
           [
            "eid_68360::Liver_stage_antigen-3"
           ]
          ],
          [
           [
            "clique_88_MEME-1"
           ],
           [
            "MSIHDGMKGQKY"
           ],
           [
            "eid_1066929::erythrocyte_binding_antigen-165_[Plasmodium_falciparum_3D7]"
           ]
          ],
          [
           [
            "clique_3_MEME-1",
            "clique_3_MEME-2"
           ],
           [
            "QEPVTTQEPVTT",
            "QEPVTTQEP"
           ],
           [
            "eid_78559::Interspersed_repeat_antigen"
           ]
          ],
          [
           [
            "clique_11_MEME-1"
           ],
           [
            "VEENVEE"
           ],
           [
            "eid_68166::Ring-infected_erythrocyte_surface_antigen_precursor"
           ]
          ],
          [
           [
            "clique_12_MEME-1"
           ],
           [
            "RNQNVNDRRNFD"
           ],
           [
            "eid_1067300::cytoadherence_linked_asexual_protein_3.1_[Plasmodium_falciparum_3D7]"
           ]
          ],
          [
           [
            "clique_33_MEME-2"
           ],
           [
            "ELKNKEL"
           ],
           [
            "eid_1067038::erythrocyte_binding_antigen-181_[Plasmodium_falciparum_3D7]"
           ]
          ],
          [
           [
            "clique_155_MEME-1"
           ],
           [
            "KSNEQSKREDDS"
           ],
           [
            "eid_1066839::erythrocyte_binding_antigen-175_[Plasmodium_falciparum_3D7]"
           ]
          ],
          [
           [
            "clique_157_MEME-1"
           ],
           [
            "HDIYDIDTF"
           ],
           [
            "eid_1067530::erythrocyte_binding_antigen-140_[Plasmodium_falciparum_3D7]"
           ]
          ],
          [
           [
            "clique_159_MEME-2"
           ],
           [
            "SRNDEMLDP"
           ],
           [
            "eid_465588::apical_membrane_antigen_1"
           ]
          ],
          [
           [
            "clique_171_MEME-2"
           ],
           [
            "EKRNGFDLBDDT"
           ],
           [
            "eid_45337::sporozoite_surface_protein_2"
           ]
          ],
          [
           [
            "clique_186_MEME-1"
           ],
           [
            "KPFNEPTYVDSN"
           ],
           [
            "eid_913520::glutamate-rich_protein_[Plasmodium_falciparum_3D7]"
           ]
          ],
          [
           [
            "clique_138_MEME-1"
           ],
           [
            "NVHKNVNNDDM"
           ],
           [
            "eid_72884::Erythrocyte_binding_antigen"
           ]
          ],
          [
           [
            "clique_128_MEME-1"
           ],
           [
            "KLIGDNKLIGD"
           ],
           [
            "eid_11927::erythrocyte_membrane-associated_giant_protein_antigen_332"
           ]
          ],
          [
           [
            "clique_4_MEME-1",
            "clique_4_MEME-3"
           ],
           [
            "GQQNTGLKNTPS",
            "LNKDIRNKDLKN"
           ],
           [
            "eid_1067917::high_molecular_weight_rhoptry_protein_3_[Plasmodium_falciparum_3D7]",
            "eid_1066836::erythrocyte_binding_antigen-175_[Plasmodium_falciparum_3D7]"
           ]
          ],
          [
           [
            "clique_30_MEME-1",
            "clique_30_MEME-2"
           ],
           [
            "SNGREDKVSNGG",
            "VSNGREDKV"
           ],
           [
            "eid_914261::S-antigen_[Plasmodium_falciparum_3D7]",
            "eid_913339::S-antigen_[Plasmodium_falciparum_3D7]"
           ]
          ]
         ],
         "hoverlabel": {
          "namelength": 0
         },
         "hovertemplate": "<b>%{hovertext}</b><br><br>leaning=K<br>agg_x=%{x}<br>agg_y=%{y}<br>membership=%{marker.size}<br>qseqid=%{customdata[0]}<br>sequences=%{customdata[1]}<br>sseqid=%{customdata[2]}<br>num_known=%{marker.color}",
         "hovertext": [
          219,
          123,
          217,
          214,
          133,
          222,
          107,
          225,
          209,
          141,
          173,
          175,
          176,
          177,
          179,
          184,
          144,
          154,
          203,
          201,
          158,
          198,
          266,
          265,
          27,
          41,
          42,
          259,
          289,
          268,
          277,
          275,
          273,
          271,
          270,
          269,
          243,
          83,
          237,
          244,
          252,
          247,
          288,
          285,
          230,
          218,
          205,
          224,
          81,
          88,
          3,
          11,
          12,
          33,
          155,
          157,
          159,
          171,
          186,
          138,
          128,
          4,
          30
         ],
         "legendgroup": "",
         "marker": {
          "color": [
           0,
           0,
           0,
           0,
           0,
           0,
           0,
           0,
           0,
           0,
           0,
           0,
           0,
           0,
           0,
           0,
           0,
           0,
           0,
           0,
           0,
           0,
           0,
           0,
           0,
           0,
           0,
           0,
           0,
           0,
           0,
           0,
           0,
           0,
           0,
           0,
           0,
           0,
           0,
           0,
           0,
           0,
           1,
           1,
           1,
           1,
           1,
           1,
           1,
           1,
           1,
           1,
           1,
           1,
           1,
           1,
           1,
           1,
           1,
           1,
           1,
           2,
           2
          ],
          "coloraxis": "coloraxis",
          "size": [
           2,
           4,
           2,
           2,
           4,
           2,
           5,
           2,
           2,
           4,
           3,
           3,
           3,
           3,
           3,
           3,
           4,
           3,
           2,
           2,
           3,
           2,
           2,
           2,
           15,
           12,
           11,
           2,
           2,
           2,
           2,
           2,
           2,
           2,
           2,
           2,
           2,
           6,
           2,
           2,
           2,
           2,
           2,
           2,
           2,
           2,
           2,
           2,
           6,
           6,
           65,
           28,
           27,
           14,
           3,
           3,
           3,
           3,
           3,
           4,
           4,
           57,
           14
          ],
          "sizemode": "area",
          "sizeref": 0.1856,
          "symbol": "circle"
         },
         "mode": "markers",
         "name": "",
         "showlegend": false,
         "type": "scatter",
         "x": [
          -0.8175061643123627,
          -0.8761849850416183,
          -0.9982385039329529,
          -0.5240723192691803,
          -0.8277634084224701,
          -0.618577390909195,
          0.5034769296646118,
          -0.8445254862308502,
          0.40816062688827515,
          0.8538035154342651,
          0.09784406175216039,
          0.8091156482696533,
          0.14589436848958334,
          -0.7921115954717001,
          0.754879097143809,
          -0.719156006971995,
          -0.6087774634361267,
          -0.20688551167647043,
          0.8862786889076233,
          0.9512266516685486,
          0.02820168249309063,
          -0.04457945190370083,
          -0.8779019415378571,
          -0.6946496665477753,
          0.10542789548635483,
          -0.6205871303876241,
          0.6226093552329324,
          0.8585631847381592,
          0.7362712919712067,
          0.8472238481044769,
          -0.5331206619739532,
          -0.7311710119247437,
          -0.7600481510162354,
          -0.7764822244644165,
          0.81825190782547,
          0.23907049745321274,
          -0.809581995010376,
          -0.21946121007204056,
          -0.8705456852912903,
          0.824545830488205,
          0.3940075784921646,
          0.32387781143188477,
          0.9683883488178253,
          -0.07106811180710793,
          -0.4417027086019516,
          0.48320139944553375,
          -0.5005680173635483,
          0.36197255551815033,
          0.4915817826986313,
          0.7759771843751272,
          0.13599893221488366,
          0.22160888356821878,
          0.26470695049674425,
          -0.20126239955425262,
          -0.915150503317515,
          0.38185153404871625,
          -0.5025160809357961,
          -0.5358479619026184,
          -0.48039209842681885,
          -0.7509220242500305,
          -0.820195883512497,
          0.15055599207418008,
          -0.06838397628494672
         ],
         "xaxis": "x",
         "y": [
          -0.3184778094291687,
          0.3055094704031944,
          -0.2243606001138687,
          0.7136238217353821,
          -0.20918551087379456,
          -0.5024694800376892,
          0.6308133482933045,
          0.47243452072143555,
          -0.6524355113506317,
          -0.13492607325315475,
          0.8387977679570516,
          0.2784966627756755,
          0.8732405702273051,
          0.2225214292605718,
          0.21857106188933054,
          0.5723666548728943,
          -0.5526965260505676,
          0.8626402616500854,
          0.3824079781770706,
          0.2588624954223633,
          0.9051562746365865,
          0.5604053437709808,
          0.25316616892814636,
          0.49535389244556427,
          -0.5853990713755289,
          -0.23749471207459769,
          -0.3718002736568451,
          -0.3470030277967453,
          -0.5736989974975586,
          -0.07168517634272575,
          0.6260767877101898,
          0.32888640463352203,
          -0.24235264211893082,
          -0.5015540421009064,
          0.2060088887810707,
          -0.9274784028530121,
          0.36735011637210846,
          -0.7120779156684875,
          0.002141793433111161,
          -0.538499504327774,
          -0.7904488146305084,
          -0.8597148656845093,
          0.11551833525300026,
          0.879574328660965,
          -0.8715693652629852,
          -0.9280313551425934,
          0.7307453155517578,
          -0.8590510189533234,
          0.5984720091025034,
          0.14884061366319656,
          -0.09500148880940218,
          0.2983198197824614,
          -0.27993960954524855,
          0.38067060496125904,
          0.17604359984397888,
          0.7877131700515747,
          -0.6260677377382914,
          0.5234307845433553,
          -0.663207471370697,
          -0.3839089870452881,
          0.15874144062399864,
          0.15527238762169554,
          0.688004161630358
         ],
         "yaxis": "y"
        }
       ],
       "layout": {
        "annotations": [
         {
          "font": {},
          "showarrow": false,
          "text": "leaning=K",
          "textangle": 90,
          "x": 0.98,
          "xanchor": "left",
          "xref": "paper",
          "y": 0.2425,
          "yanchor": "middle",
          "yref": "paper"
         },
         {
          "font": {},
          "showarrow": false,
          "text": "leaning=T",
          "textangle": 90,
          "x": 0.98,
          "xanchor": "left",
          "xref": "paper",
          "y": 0.7575000000000001,
          "yanchor": "middle",
          "yref": "paper"
         }
        ],
        "coloraxis": {
         "colorbar": {
          "tickvals": [
           0,
           1,
           2,
           3
          ],
          "title": {
           "text": "num_known"
          }
         },
         "colorscale": [
          [
           0,
           "#0d0887"
          ],
          [
           0.1111111111111111,
           "#46039f"
          ],
          [
           0.2222222222222222,
           "#7201a8"
          ],
          [
           0.3333333333333333,
           "#9c179e"
          ],
          [
           0.4444444444444444,
           "#bd3786"
          ],
          [
           0.5555555555555556,
           "#d8576b"
          ],
          [
           0.6666666666666666,
           "#ed7953"
          ],
          [
           0.7777777777777778,
           "#fb9f3a"
          ],
          [
           0.8888888888888888,
           "#fdca26"
          ],
          [
           1,
           "#f0f921"
          ]
         ]
        },
        "height": 1000,
        "legend": {
         "itemsizing": "constant",
         "tracegroupgap": 0
        },
        "margin": {
         "t": 60
        },
        "template": {
         "data": {
          "bar": [
           {
            "error_x": {
             "color": "#2a3f5f"
            },
            "error_y": {
             "color": "#2a3f5f"
            },
            "marker": {
             "line": {
              "color": "white",
              "width": 0.5
             }
            },
            "type": "bar"
           }
          ],
          "barpolar": [
           {
            "marker": {
             "line": {
              "color": "white",
              "width": 0.5
             }
            },
            "type": "barpolar"
           }
          ],
          "carpet": [
           {
            "aaxis": {
             "endlinecolor": "#2a3f5f",
             "gridcolor": "#C8D4E3",
             "linecolor": "#C8D4E3",
             "minorgridcolor": "#C8D4E3",
             "startlinecolor": "#2a3f5f"
            },
            "baxis": {
             "endlinecolor": "#2a3f5f",
             "gridcolor": "#C8D4E3",
             "linecolor": "#C8D4E3",
             "minorgridcolor": "#C8D4E3",
             "startlinecolor": "#2a3f5f"
            },
            "type": "carpet"
           }
          ],
          "choropleth": [
           {
            "colorbar": {
             "outlinewidth": 0,
             "ticks": ""
            },
            "type": "choropleth"
           }
          ],
          "contour": [
           {
            "colorbar": {
             "outlinewidth": 0,
             "ticks": ""
            },
            "colorscale": [
             [
              0,
              "#0d0887"
             ],
             [
              0.1111111111111111,
              "#46039f"
             ],
             [
              0.2222222222222222,
              "#7201a8"
             ],
             [
              0.3333333333333333,
              "#9c179e"
             ],
             [
              0.4444444444444444,
              "#bd3786"
             ],
             [
              0.5555555555555556,
              "#d8576b"
             ],
             [
              0.6666666666666666,
              "#ed7953"
             ],
             [
              0.7777777777777778,
              "#fb9f3a"
             ],
             [
              0.8888888888888888,
              "#fdca26"
             ],
             [
              1,
              "#f0f921"
             ]
            ],
            "type": "contour"
           }
          ],
          "contourcarpet": [
           {
            "colorbar": {
             "outlinewidth": 0,
             "ticks": ""
            },
            "type": "contourcarpet"
           }
          ],
          "heatmap": [
           {
            "colorbar": {
             "outlinewidth": 0,
             "ticks": ""
            },
            "colorscale": [
             [
              0,
              "#0d0887"
             ],
             [
              0.1111111111111111,
              "#46039f"
             ],
             [
              0.2222222222222222,
              "#7201a8"
             ],
             [
              0.3333333333333333,
              "#9c179e"
             ],
             [
              0.4444444444444444,
              "#bd3786"
             ],
             [
              0.5555555555555556,
              "#d8576b"
             ],
             [
              0.6666666666666666,
              "#ed7953"
             ],
             [
              0.7777777777777778,
              "#fb9f3a"
             ],
             [
              0.8888888888888888,
              "#fdca26"
             ],
             [
              1,
              "#f0f921"
             ]
            ],
            "type": "heatmap"
           }
          ],
          "heatmapgl": [
           {
            "colorbar": {
             "outlinewidth": 0,
             "ticks": ""
            },
            "colorscale": [
             [
              0,
              "#0d0887"
             ],
             [
              0.1111111111111111,
              "#46039f"
             ],
             [
              0.2222222222222222,
              "#7201a8"
             ],
             [
              0.3333333333333333,
              "#9c179e"
             ],
             [
              0.4444444444444444,
              "#bd3786"
             ],
             [
              0.5555555555555556,
              "#d8576b"
             ],
             [
              0.6666666666666666,
              "#ed7953"
             ],
             [
              0.7777777777777778,
              "#fb9f3a"
             ],
             [
              0.8888888888888888,
              "#fdca26"
             ],
             [
              1,
              "#f0f921"
             ]
            ],
            "type": "heatmapgl"
           }
          ],
          "histogram": [
           {
            "marker": {
             "colorbar": {
              "outlinewidth": 0,
              "ticks": ""
             }
            },
            "type": "histogram"
           }
          ],
          "histogram2d": [
           {
            "colorbar": {
             "outlinewidth": 0,
             "ticks": ""
            },
            "colorscale": [
             [
              0,
              "#0d0887"
             ],
             [
              0.1111111111111111,
              "#46039f"
             ],
             [
              0.2222222222222222,
              "#7201a8"
             ],
             [
              0.3333333333333333,
              "#9c179e"
             ],
             [
              0.4444444444444444,
              "#bd3786"
             ],
             [
              0.5555555555555556,
              "#d8576b"
             ],
             [
              0.6666666666666666,
              "#ed7953"
             ],
             [
              0.7777777777777778,
              "#fb9f3a"
             ],
             [
              0.8888888888888888,
              "#fdca26"
             ],
             [
              1,
              "#f0f921"
             ]
            ],
            "type": "histogram2d"
           }
          ],
          "histogram2dcontour": [
           {
            "colorbar": {
             "outlinewidth": 0,
             "ticks": ""
            },
            "colorscale": [
             [
              0,
              "#0d0887"
             ],
             [
              0.1111111111111111,
              "#46039f"
             ],
             [
              0.2222222222222222,
              "#7201a8"
             ],
             [
              0.3333333333333333,
              "#9c179e"
             ],
             [
              0.4444444444444444,
              "#bd3786"
             ],
             [
              0.5555555555555556,
              "#d8576b"
             ],
             [
              0.6666666666666666,
              "#ed7953"
             ],
             [
              0.7777777777777778,
              "#fb9f3a"
             ],
             [
              0.8888888888888888,
              "#fdca26"
             ],
             [
              1,
              "#f0f921"
             ]
            ],
            "type": "histogram2dcontour"
           }
          ],
          "mesh3d": [
           {
            "colorbar": {
             "outlinewidth": 0,
             "ticks": ""
            },
            "type": "mesh3d"
           }
          ],
          "parcoords": [
           {
            "line": {
             "colorbar": {
              "outlinewidth": 0,
              "ticks": ""
             }
            },
            "type": "parcoords"
           }
          ],
          "pie": [
           {
            "automargin": true,
            "type": "pie"
           }
          ],
          "scatter": [
           {
            "marker": {
             "colorbar": {
              "outlinewidth": 0,
              "ticks": ""
             }
            },
            "type": "scatter"
           }
          ],
          "scatter3d": [
           {
            "line": {
             "colorbar": {
              "outlinewidth": 0,
              "ticks": ""
             }
            },
            "marker": {
             "colorbar": {
              "outlinewidth": 0,
              "ticks": ""
             }
            },
            "type": "scatter3d"
           }
          ],
          "scattercarpet": [
           {
            "marker": {
             "colorbar": {
              "outlinewidth": 0,
              "ticks": ""
             }
            },
            "type": "scattercarpet"
           }
          ],
          "scattergeo": [
           {
            "marker": {
             "colorbar": {
              "outlinewidth": 0,
              "ticks": ""
             }
            },
            "type": "scattergeo"
           }
          ],
          "scattergl": [
           {
            "marker": {
             "colorbar": {
              "outlinewidth": 0,
              "ticks": ""
             }
            },
            "type": "scattergl"
           }
          ],
          "scattermapbox": [
           {
            "marker": {
             "colorbar": {
              "outlinewidth": 0,
              "ticks": ""
             }
            },
            "type": "scattermapbox"
           }
          ],
          "scatterpolar": [
           {
            "marker": {
             "colorbar": {
              "outlinewidth": 0,
              "ticks": ""
             }
            },
            "type": "scatterpolar"
           }
          ],
          "scatterpolargl": [
           {
            "marker": {
             "colorbar": {
              "outlinewidth": 0,
              "ticks": ""
             }
            },
            "type": "scatterpolargl"
           }
          ],
          "scatterternary": [
           {
            "marker": {
             "colorbar": {
              "outlinewidth": 0,
              "ticks": ""
             }
            },
            "type": "scatterternary"
           }
          ],
          "surface": [
           {
            "colorbar": {
             "outlinewidth": 0,
             "ticks": ""
            },
            "colorscale": [
             [
              0,
              "#0d0887"
             ],
             [
              0.1111111111111111,
              "#46039f"
             ],
             [
              0.2222222222222222,
              "#7201a8"
             ],
             [
              0.3333333333333333,
              "#9c179e"
             ],
             [
              0.4444444444444444,
              "#bd3786"
             ],
             [
              0.5555555555555556,
              "#d8576b"
             ],
             [
              0.6666666666666666,
              "#ed7953"
             ],
             [
              0.7777777777777778,
              "#fb9f3a"
             ],
             [
              0.8888888888888888,
              "#fdca26"
             ],
             [
              1,
              "#f0f921"
             ]
            ],
            "type": "surface"
           }
          ],
          "table": [
           {
            "cells": {
             "fill": {
              "color": "#EBF0F8"
             },
             "line": {
              "color": "white"
             }
            },
            "header": {
             "fill": {
              "color": "#C8D4E3"
             },
             "line": {
              "color": "white"
             }
            },
            "type": "table"
           }
          ]
         },
         "layout": {
          "annotationdefaults": {
           "arrowcolor": "#2a3f5f",
           "arrowhead": 0,
           "arrowwidth": 1
          },
          "coloraxis": {
           "colorbar": {
            "outlinewidth": 0,
            "ticks": ""
           }
          },
          "colorscale": {
           "diverging": [
            [
             0,
             "#8e0152"
            ],
            [
             0.1,
             "#c51b7d"
            ],
            [
             0.2,
             "#de77ae"
            ],
            [
             0.3,
             "#f1b6da"
            ],
            [
             0.4,
             "#fde0ef"
            ],
            [
             0.5,
             "#f7f7f7"
            ],
            [
             0.6,
             "#e6f5d0"
            ],
            [
             0.7,
             "#b8e186"
            ],
            [
             0.8,
             "#7fbc41"
            ],
            [
             0.9,
             "#4d9221"
            ],
            [
             1,
             "#276419"
            ]
           ],
           "sequential": [
            [
             0,
             "#0d0887"
            ],
            [
             0.1111111111111111,
             "#46039f"
            ],
            [
             0.2222222222222222,
             "#7201a8"
            ],
            [
             0.3333333333333333,
             "#9c179e"
            ],
            [
             0.4444444444444444,
             "#bd3786"
            ],
            [
             0.5555555555555556,
             "#d8576b"
            ],
            [
             0.6666666666666666,
             "#ed7953"
            ],
            [
             0.7777777777777778,
             "#fb9f3a"
            ],
            [
             0.8888888888888888,
             "#fdca26"
            ],
            [
             1,
             "#f0f921"
            ]
           ],
           "sequentialminus": [
            [
             0,
             "#0d0887"
            ],
            [
             0.1111111111111111,
             "#46039f"
            ],
            [
             0.2222222222222222,
             "#7201a8"
            ],
            [
             0.3333333333333333,
             "#9c179e"
            ],
            [
             0.4444444444444444,
             "#bd3786"
            ],
            [
             0.5555555555555556,
             "#d8576b"
            ],
            [
             0.6666666666666666,
             "#ed7953"
            ],
            [
             0.7777777777777778,
             "#fb9f3a"
            ],
            [
             0.8888888888888888,
             "#fdca26"
            ],
            [
             1,
             "#f0f921"
            ]
           ]
          },
          "colorway": [
           "#636efa",
           "#EF553B",
           "#00cc96",
           "#ab63fa",
           "#FFA15A",
           "#19d3f3",
           "#FF6692",
           "#B6E880",
           "#FF97FF",
           "#FECB52"
          ],
          "font": {
           "color": "#2a3f5f"
          },
          "geo": {
           "bgcolor": "white",
           "lakecolor": "white",
           "landcolor": "white",
           "showlakes": true,
           "showland": true,
           "subunitcolor": "#C8D4E3"
          },
          "hoverlabel": {
           "align": "left"
          },
          "hovermode": "closest",
          "mapbox": {
           "style": "light"
          },
          "paper_bgcolor": "white",
          "plot_bgcolor": "white",
          "polar": {
           "angularaxis": {
            "gridcolor": "#EBF0F8",
            "linecolor": "#EBF0F8",
            "ticks": ""
           },
           "bgcolor": "white",
           "radialaxis": {
            "gridcolor": "#EBF0F8",
            "linecolor": "#EBF0F8",
            "ticks": ""
           }
          },
          "scene": {
           "xaxis": {
            "backgroundcolor": "white",
            "gridcolor": "#DFE8F3",
            "gridwidth": 2,
            "linecolor": "#EBF0F8",
            "showbackground": true,
            "ticks": "",
            "zerolinecolor": "#EBF0F8"
           },
           "yaxis": {
            "backgroundcolor": "white",
            "gridcolor": "#DFE8F3",
            "gridwidth": 2,
            "linecolor": "#EBF0F8",
            "showbackground": true,
            "ticks": "",
            "zerolinecolor": "#EBF0F8"
           },
           "zaxis": {
            "backgroundcolor": "white",
            "gridcolor": "#DFE8F3",
            "gridwidth": 2,
            "linecolor": "#EBF0F8",
            "showbackground": true,
            "ticks": "",
            "zerolinecolor": "#EBF0F8"
           }
          },
          "shapedefaults": {
           "line": {
            "color": "#2a3f5f"
           }
          },
          "ternary": {
           "aaxis": {
            "gridcolor": "#DFE8F3",
            "linecolor": "#A2B1C6",
            "ticks": ""
           },
           "baxis": {
            "gridcolor": "#DFE8F3",
            "linecolor": "#A2B1C6",
            "ticks": ""
           },
           "bgcolor": "white",
           "caxis": {
            "gridcolor": "#DFE8F3",
            "linecolor": "#A2B1C6",
            "ticks": ""
           }
          },
          "title": {
           "x": 0.05
          },
          "xaxis": {
           "automargin": true,
           "gridcolor": "#EBF0F8",
           "linecolor": "#EBF0F8",
           "ticks": "",
           "title": {
            "standoff": 15
           },
           "zerolinecolor": "#EBF0F8",
           "zerolinewidth": 2
          },
          "yaxis": {
           "automargin": true,
           "gridcolor": "#EBF0F8",
           "linecolor": "#EBF0F8",
           "ticks": "",
           "title": {
            "standoff": 15
           },
           "zerolinecolor": "#EBF0F8",
           "zerolinewidth": 2
          }
         }
        },
        "width": 1000,
        "xaxis": {
         "anchor": "y",
         "domain": [
          0,
          0.98
         ],
         "title": {
          "text": "agg_x"
         }
        },
        "xaxis2": {
         "anchor": "y2",
         "domain": [
          0,
          0.98
         ],
         "matches": "x",
         "showticklabels": false
        },
        "yaxis": {
         "anchor": "x",
         "domain": [
          0,
          0.485
         ],
         "title": {
          "text": "agg_y"
         }
        },
        "yaxis2": {
         "anchor": "x2",
         "domain": [
          0.515,
          1
         ],
         "matches": "y",
         "title": {
          "text": "agg_y"
         }
        }
       }
      },
      "text/html": [
       "<div>\n",
       "        \n",
       "        \n",
       "            <div id=\"f86c9230-24f0-40fc-89c3-78a82cd4fa1a\" class=\"plotly-graph-div\" style=\"height:1000px; width:1000px;\"></div>\n",
       "            <script type=\"text/javascript\">\n",
       "                require([\"plotly\"], function(Plotly) {\n",
       "                    window.PLOTLYENV=window.PLOTLYENV || {};\n",
       "                    \n",
       "                if (document.getElementById(\"f86c9230-24f0-40fc-89c3-78a82cd4fa1a\")) {\n",
       "                    Plotly.newPlot(\n",
       "                        'f86c9230-24f0-40fc-89c3-78a82cd4fa1a',\n",
       "                        [{\"customdata\": [[[], [], []], [[], [], []], [[], [], []], [[], [], []], [[], [], []], [[], [], []], [[], [], []], [[], [], []], [[], [], []], [[], [], []], [[], [], []], [[], [], []], [[], [], []], [[], [], []], [[], [], []], [[], [], []], [[], [], []], [[], [], []], [[], [], []], [[], [], []], [[], [], []], [[], [], []], [[], [], []], [[], [], []], [[], [], []], [[], [], []], [[], [], []], [[], [], []], [[], [], []], [[], [], []], [[], [], []], [[], [], []], [[], [], []], [[], [], []], [[], [], []], [[], [], []], [[], [], []], [[], [], []], [[], [], []], [[], [], []], [[], [], []], [[], [], []], [[], [], []], [[], [], []], [[], [], []], [[], [], []], [[], [], []], [[], [], []], [[], [], []], [[], [], []], [[], [], []], [[], [], []], [[], [], []], [[], [], []], [[], [], []], [[], [], []], [[], [], []], [[], [], []], [[], [], []], [[], [], []], [[], [], []], [[], [], []], [[], [], []], [[], [], []], [[], [], []], [[], [], []], [[], [], []], [[], [], []], [[], [], []], [[], [], []], [[], [], []], [[], [], []], [[], [], []], [[], [], []], [[], [], []], [[], [], []], [[], [], []], [[], [], []], [[], [], []], [[], [], []], [[], [], []], [[], [], []], [[], [], []], [[], [], []], [[], [], []], [[], [], []], [[], [], []], [[], [], []], [[], [], []], [[], [], []], [[], [], []], [[], [], []], [[], [], []], [[], [], []], [[], [], []], [[], [], []], [[], [], []], [[], [], []], [[], [], []], [[], [], []], [[], [], []], [[], [], []], [[], [], []], [[], [], []], [[], [], []], [[], [], []], [[], [], []], [[], [], []], [[], [], []], [[], [], []], [[], [], []], [[], [], []], [[], [], []], [[], [], []], [[], [], []], [[], [], []], [[], [], []], [[], [], []], [[], [], []], [[], [], []], [[], [], []], [[], [], []], [[], [], []], [[], [], []], [[], [], []], [[], [], []], [[\"clique_233_MEME-1\"], [\"ASKEAEE\"], [\"eid_1066661::merozoite_surface_protein_3\"]], [[\"clique_284_MEME-1\"], [\"GASPPSGTS\"], [\"eid_95828::merozoite_surface_protein_1\"]], [[\"clique_235_MEME-1\"], [\"REYQLDNEGPD\"], [\"eid_1067713::MSP7-like_protein_[Plasmodium_falciparum_3D7]\"]], [[\"clique_282_MEME-1\"], [\"LIEEVVP\"], [\"eid_11776::11-1_polypeptide\"]], [[\"clique_281_MEME-1\"], [\"GTGQHGHMHGSR\"], [\"eid_142387::merozoite_surface_protein_2\"]], [[\"clique_264_MEME-1\"], [\"GSAGGSA\"], [\"eid_1067295::merozoite_surface_protein_2_[Plasmodium_falciparum_3D7]\"]], [[\"clique_229_MEME-1\"], [\"TYDEKVKKN\"], [\"eid_59591::Liver_stage_antigen\"]], [[\"clique_245_MEME-1\"], [\"EGPQGPADNVTP\"], [\"eid_1068338::endoplasmin\"]], [[\"clique_207_MEME-1\"], [\"NDENKTMEHIKI\"], [\"eid_1067099::merozoite_surface_protein_[Plasmodium_falciparum_3D7]\"]], [[\"clique_249_MEME-1\"], [\"NIKDNKHENIQD\"], [\"eid_914121::conserved_Plasmodium_protein\"]], [[\"clique_227_MEME-1\"], [\"RIPSGSFFBTP\"], [\"eid_913458::conserved_Plasmodium_protein\"]], [[\"clique_242_MEME-1\"], [\"FIWDGMJCA\"], [\"eid_72351::erythrocyte_membrane_protein_1\"]], [[\"clique_267_MEME-1\"], [\"CVDNLNYYFEFY\"], [\"eid_914291::cytochrome_c_oxidase_assembly_protein_(heme_A:_farnesyltransferase)\"]], [[\"clique_258_MEME-1\"], [\"LNQKEEENYKNH\"], [\"eid_1066940::erythrocyte_binding_antigen-140_[Plasmodium_falciparum_3D7]\"]], [[\"clique_240_MEME-1\"], [\"NIDNMENIDNM\"], [\"eid_913455::calpain_[Plasmodium_falciparum_3D7]\"]], [[\"clique_146_MEME-1\"], [\"SRIPSGSFF\"], [\"eid_913458::conserved_Plasmodium_protein\"]], [[\"clique_187_MEME-1\"], [\"DNIKGEDNIKG\"], [\"eid_913077::schizont_egress_antigen-1_[Plasmodium_falciparum_3D7]\"]], [[\"clique_57_MEME-2\"], [\"KLQNDKDSG\"], [\"eid_1067335::glutamate-rich_protein_[Plasmodium_falciparum_3D7]\"]], [[\"clique_59_MEME-1\"], [\"GDDNKNGDB\"], [\"eid_1067240::merozoite_surface_protein_1\"]], [[\"clique_60_MEME-1\"], [\"ETGESKETGESK\"], [\"eid_1067392::mature_parasite-infected_erythrocyte_surface_antigen_[Plasmodium_falciparum_3D7]\"]], [[\"clique_63_MEME-1\", \"clique_63_MEME-2\"], [\"YKLGNNKKSYLI\", \"NDVHKKKADDGN\"], [\"eid_1068632::merozoite_surface_protein_10_[Plasmodium_falciparum_3D7]\"]], [[\"clique_64_MEME-1\"], [\"NNNMDNKKNMDN\"], [\"eid_1067999::duffy_binding-like_merozoite_surface_protein_[Plasmodium_falciparum_3D7]\"]], [[\"clique_67_MEME-1\"], [\"QQSDLEQERRAK\"], [\"eid_13914::Liver_stage_antigen\"]], [[\"clique_68_MEME-1\"], [\"MEEHNKIEEHNK\"], [\"eid_497298::early_transcribed_membrane_protein_13\"]], [[\"clique_72_MEME-1\"], [\"DEGKTTDEGKTT\"], [\"eid_1068178::mature_parasite-infected_erythrocyte_surface_antigen_[Plasmodium_falciparum_3D7]\"]], [[\"clique_188_MEME-1\"], [\"RWLEEWGEEFCR\"], [\"eid_70460::erythrocyte_membrane_protein_1_var_IT-ICAM\"]], [[\"clique_85_MEME-1\"], [\"EPFPNQKHKDLQ\"], [\"eid_28742::glutamate-rich_protein\"]], [[\"clique_92_MEME-1\"], [\"PCZLEYQWHTNV\"], [\"eid_236266::erythrocyte_membrane_protein_1\"]], [[\"clique_97_MEME-1\"], [\"NDKDIYNNM\"], [\"eid_1068488::serine_repeat_antigen_5_[Plasmodium_falciparum_3D7]\"]], [[\"clique_101_MEME-1\"], [\"SPRIFJSDBKDE\"], [\"eid_74433::apical_membrane_antigen-1\"]], [[\"clique_56_MEME-1\"], [\"KITLEKEIKNFR\"], [\"eid_1067229::cytoadherence_linked_asexual_protein_9_[Plasmodium_falciparum_3D7]\"]], [[\"clique_103_MEME-1\"], [\"CKCIPNYDCDIS\"], [\"eid_1068270::merozoite_surface_protein_10_[Plasmodium_falciparum_3D7]\"]], [[\"clique_54_MEME-1\"], [\"GPNDPFYDGTFN\"], [\"eid_1067253::high_molecular_weight_rhoptry_protein_3_[Plasmodium_falciparum_3D7]\"]], [[\"clique_47_MEME-1\"], [\"RQMFYTLGDYRD\"], [\"eid_1068080::cytoadherence_linked_asexual_protein_3.2_[Plasmodium_falciparum_3D7]\"]], [[\"clique_2_MEME-3\"], [\"DPYKQLKEVVEK\"], [\"eid_11799::Liver_stage_antigen\"]], [[\"clique_6_MEME-3\"], [\"CANCNEEDKNMS\"], [\"eid_1066614::merozoite_surface_protein_1\"]], [[\"clique_13_MEME-2\"], [\"NLEEYBZTD\"], [\"eid_1068644::mature_parasite-infected_erythrocyte_surface_antigen_[Plasmodium_falciparum_3D7]\"]], [[\"clique_18_MEME-5\"], [\"SGEKLQYKKKEG\"], [\"eid_1068066::merozoite_surface_protein_10_[Plasmodium_falciparum_3D7]\"]], [[\"clique_25_MEME-1\"], [\"NTDTISTDN\"], [\"eid_913827::sporozoite_threonine_and_asparagine-rich_protein_[Plasmodium_falciparum_3D7]\"]], [[\"clique_32_MEME-1\"], [\"NNIYVKEFYKKL\"], [\"eid_1066953::apical_membrane_antigen_1\"]], [[\"clique_36_MEME-1\", \"clique_36_MEME-2\"], [\"KEKEEVKEKEEV\", \"NKDKVIEQE\"], [\"eid_1066787::mature_parasite-infected_erythrocyte_surface_antigen_[Plasmodium_falciparum_3D7]\"]], [[\"clique_40_MEME-1\"], [\"GSVTEEIVE\"], [\"eid_70537::antigen_332\"]], [[\"clique_43_MEME-2\"], [\"TTVTEEDTFKGQ\"], [\"eid_1067345::cytoadherence_linked_asexual_protein_8_[Plasmodium_falciparum_3D7]\"]], [[\"clique_44_MEME-2\"], [\"ZFDKQKKKY\"], [\"eid_181670::PfEMP1\"]], [[\"clique_46_MEME-1\"], [\"SDGDKGP\"], [\"eid_1067578::endoplasmin\"]], [[\"clique_52_MEME-1\"], [\"ATKEASTSK\"], [\"eid_58833::Knob-associated_histidine-rich_protein_precursor\"]], [[\"clique_105_MEME-1\"], [\"TPQETVTTQEPV\"], [\"eid_78559::Interspersed_repeat_antigen\"]], [[\"clique_79_MEME-2\"], [\"FLKGDSEDGSEQ\"], [\"eid_1067256::merozoite_surface_protein_7_[Plasmodium_falciparum_IGH-CR14]\"]], [[\"clique_113_MEME-1\"], [\"NGNNFNKDNIFN\"], [\"eid_1066909::merozoite_surface_protein_1\"]], [[\"clique_143_MEME-1\"], [\"YLDEQEEDVYLD\"], [\"eid_1066726::cytoadherence_linked_asexual_protein_8_[Plasmodium_falciparum_3D7]\"]], [[\"clique_291_MEME-1\"], [\"NNKNGDNNKNGD\"], [\"eid_21318::hypothetical_protein\"]], [[\"clique_148_MEME-1\"], [\"KDINKTDSE\"], [\"eid_4127::hypothetical_protein_PF14_0045\"]], [[\"clique_153_MEME-1\"], [\"SNDKQSNDI\"], [\"eid_1066904::merozoite_surface_protein_5_[Plasmodium_falciparum_3D7]\"]], [[\"clique_112_MEME-2\"], [\"QKSPPKELSNKQ\"], [\"eid_1068371::merozoite_surface_protein_1\"]], [[\"clique_160_MEME-1\"], [\"QNDKDSGKL\"], [\"eid_1067335::glutamate-rich_protein_[Plasmodium_falciparum_3D7]\"]], [[\"clique_162_MEME-1\"], [\"BNFDDKNPFDEY\"], [\"eid_1067211::methionine--tRNA_ligase_[Plasmodium_falciparum_3D7]\"]], [[\"clique_164_MEME-1\"], [\"SKSQVQHPK\"], [\"eid_1068066::merozoite_surface_protein_10_[Plasmodium_falciparum_3D7]\"]], [[\"clique_165_MEME-1\"], [\"GSFDTIFDGFVN\"], [\"eid_1067481::merozoite_surface_protein_[Plasmodium_falciparum_3D7]\"]], [[\"clique_178_MEME-1\"], [\"YGPNGTYGPNGT\"], [\"eid_58266::major_surface_antigen_p190\"]], [[\"clique_180_MEME-1\"], [\"INNGGCGDDKIC\"], [\"eid_1066917::merozoite_surface_protein_5_[Plasmodium_falciparum_3D7]\"]], [[\"clique_185_MEME-1\"], [\"LPEEDIINEKVQ\"], [\"eid_1066611::erythrocyte_binding_antigen-140_[Plasmodium_falciparum_3D7]\"]], [[\"clique_142_MEME-1\"], [\"LDRHRDMCEKW\"], [\"eid_913519::erythrocyte_membrane_protein_1_(PfEMP1)\"]], [[\"clique_156_MEME-1\"], [\"FDDCQLQNEFCD\"], [\"eid_67995::hypothetical_protein_PFB0145c\"]], [[\"clique_124_MEME-1\"], [\"APIFGSPSNKDD\"], [\"eid_1068541::merozoite_surface_protein_8_[Plasmodium_falciparum_3D7]\"]], [[\"clique_118_MEME-1\"], [\"ENKDKVIGQEII\"], [\"eid_1068372::mature_parasite-infected_erythrocyte_surface_antigen_[Plasmodium_falciparum_3D7]\"]], [[\"clique_121_MEME-1\"], [\"LSDDVRPDKNHE\"], [\"eid_1066748::erythrocyte_binding_antigen-175_[Plasmodium_falciparum_3D7]\"]], [[\"clique_117_MEME-1\"], [\"NEINREINNEIN\"], [\"eid_43692::hypothetical_protein_PF07_0086\"]], [[\"clique_122_MEME-1\"], [\"KKGDDNKMMVEN\"], [\"eid_913638::sporozoite_surface_protein_3\"]], [[\"clique_115_MEME-1\"], [\"YILGWEFGGGVP\"], [\"eid_1068527::merozoite_surface_protein_3\"]], [[\"clique_125_MEME-2\"], [\"LDPKFYNLGDFG\"], [\"eid_39565::antigen_Pfg27/25\"]], [[\"clique_136_MEME-1\"], [\"CIPPRRRKLTVG\"], [\"eid_1067473::erythrocyte_binding_antigen-175_[Plasmodium_falciparum_3D7]\"]], [[\"clique_114_MEME-1\"], [\"NHKSISNHKDIN\"], [\"eid_1067788::methionine--tRNA_ligase_[Plasmodium_falciparum_3D7]\"]], [[\"clique_127_MEME-1\"], [\"MNGDNKMNGDNK\"], [\"eid_21318::hypothetical_protein\"]], [[\"clique_129_MEME-2\"], [\"SIQEQLIGTIGR\"], [\"eid_181694::erythrocyte_membrane_protein_1\"]], [[\"clique_100_MEME-1\", \"clique_100_MEME-2\"], [\"ILRKLNYDDFFT\", \"KDMNKENIKKTD\"], [\"eid_74087::Circumsporozoite_protein_precursor\", \"eid_1067419::erythrocyte_binding_antigen-165_[Plasmodium_falciparum_3D7]\"]], [[\"clique_20_MEME-1\", \"clique_20_MEME-2\"], [\"BSQNGKNEKNEK\", \"KIDMHNTYNDT\"], [\"eid_7940::Circumsporozoite_protein_precursor\", \"eid_913115::petidase\"]], [[\"clique_10_MEME-1\", \"clique_10_MEME-2\"], [\"RPQFLRWFTEWG\", \"EEFCRERKK\"], [\"eid_1067630::erythrocyte_binding_antigen-140_[Plasmodium_falciparum_3D7]\", \"eid_181613::PfEMP1\"]], [[\"clique_91_MEME-1\", \"clique_91_MEME-2\"], [\"DNIEVNNTJ\", \"NRELIKKESIY\"], [\"eid_913807::protein_kinase\", \"eid_1067419::erythrocyte_binding_antigen-165_[Plasmodium_falciparum_3D7]\"]], [[\"clique_1_MEME-1\", \"clique_1_MEME-10\"], [\"GIDJYBEVLKRK\", \"ENELFGT\"], [\"eid_73540::PfEMP1_variant_1_of_strain_MC\", \"eid_913468::heat_shock_protein_90\"]], [[\"clique_15_MEME-3\", \"clique_15_MEME-5\"], [\"AFHSNVPGBKRE\", \"VHNTQNTHDLLG\"], [\"eid_1067253::high_molecular_weight_rhoptry_protein_3_[Plasmodium_falciparum_3D7]\", \"eid_181743::PfEMP1\"]], [[\"clique_17_MEME-1\", \"clique_17_MEME-2\"], [\"NDTEEKDKVKKQ\", \"VEEGIKE\"], [\"eid_1067371::mature_parasite-infected_erythrocyte_surface_antigen_[Plasmodium_falciparum_3D7]\", \"eid_1068514::mature_parasite-infected_erythrocyte_surface_antigen_[Plasmodium_falciparum_3D7]\"]], [[\"clique_89_MEME-1\", \"clique_89_MEME-2\"], [\"NEVKSEVKNEVK\", \"YNHIIPYKNIKI\"], [\"eid_1067428::merozoite_surface_protein_6_[Plasmodium_falciparum_3D7]\", \"eid_697078::Erythrocyte_membrane_protein_1\"]], [[\"clique_137_MEME-1\", \"clique_137_MEME-2\"], [\"PPTQDAETKSPT\", \"GQHGHMH\"], [\"eid_1068306::merozoite_surface_protein_2_[Plasmodium_falciparum_3D7]\", \"eid_1067688::merozoite_surface_protein_2_[Plasmodium_falciparum_3D7]\"]], [[\"clique_0_MEME-1\", \"clique_0_MEME-2\", \"clique_0_MEME-3\"], [\"VIPEELVEEVIP\", \"VVEEVVPEELVE\", \"EVVEEVVPE\"], [\"eid_11776::11-1_polypeptide\", \"eid_914212::glutamate-rich_protein_[Plasmodium_falciparum_3D7]\"]], [[\"clique_28_MEME-1\", \"clique_28_MEME-2\"], [\"SAFGGGLPFSGY\", \"SSGIGNHNKCPD\"], [\"eid_466413::erythrocyte_membrane_protein\", \"eid_1066698::duffy_binding-like_merozoite_surface_protein_[Plasmodium_falciparum_3D7]\"]], [[\"clique_139_MEME-1\", \"clique_139_MEME-2\"], [\"DLIEAFFPFIL\", \"LDNKYDDYYNLP\"], [\"eid_1067859::merozoite_surface_protein_10_[Plasmodium_falciparum_3D7]\", \"eid_1067587::merozoite_surface_protein_10_[Plasmodium_falciparum_3D7]\"]], [[\"clique_31_MEME-2\", \"clique_31_MEME-4\"], [\"LVDNMNITQ\", \"INSDDIKEK\"], [\"eid_1067628::erythrocyte_binding_antigen-175_[Plasmodium_falciparum_3D7]\", \"eid_913036::schizont_egress_antigen-1_[Plasmodium_falciparum_3D7]\"]], [[\"clique_50_MEME-1\", \"clique_50_MEME-2\"], [\"ENNENIENNENN\", \"HPGSCFVENKAH\"], [\"eid_1068099::merozoite_surface_protein_10_[Plasmodium_falciparum_3D7]\", \"eid_1066886::erythrocyte_binding_antigen-175_[Plasmodium_falciparum_3D7]\"]], [[\"clique_82_MEME-1\", \"clique_82_MEME-2\"], [\"PLDNTSEETTER\", \"NPNRSSDEGEAH\"], [\"eid_21682::erythrocyte_binding_protein\", \"eid_1066886::erythrocyte_binding_antigen-175_[Plasmodium_falciparum_3D7]\"]], [[\"clique_34_MEME-1\", \"clique_34_MEME-2\"], [\"NTSNKLKDEPVD\", \"LRDNYASEQEYF\"], [\"eid_1068603::serine_repeat_antigen_5_[Plasmodium_falciparum_3D7]\", \"eid_1068141::antigen_332\"]], [[\"clique_80_MEME-1\", \"clique_80_MEME-2\"], [\"DNMDNIYNV\", \"YKFLSMKHYKDS\"], [\"eid_913791::conserved_Plasmodium_protein\", \"eid_1067951::merozoite_surface_protein_10_[Plasmodium_falciparum_3D7]\"]], [[\"clique_126_MEME-1\", \"clique_126_MEME-2\"], [\"FIQEDQEGQTHS\", \"KGLDIDBIP\"], [\"eid_1066701::glutamate-rich_protein_[Plasmodium_falciparum_3D7]\", \"eid_1068139::glutamate-rich_protein_[Plasmodium_falciparum_3D7]\"]], [[\"clique_73_MEME-1\", \"clique_73_MEME-3\"], [\"FYKLLKEGKYCK\", \"AFTKQKEKYAKY\"], [\"eid_1068564::endoplasmin\", \"eid_181693::erythrocyte_membrane_protein_1\"]], [[\"clique_19_MEME-1\", \"clique_19_MEME-2\", \"clique_19_MEME-3\"], [\"PNANPNANPNAN\", \"NPBANPN\", \"KLRKPKHKKLKQ\"], [\"eid_756411::circumsporozoite_(CS)_protein_[Plasmodium_falciparum_3D7]\", \"eid_45407::circumsporozoite_(CS)_protein_[Plasmodium_falciparum_3D7]\", \"eid_45110::Circumsporozoite_protein_precursor\"]], [[\"clique_49_MEME-1\", \"clique_49_MEME-2\", \"clique_49_MEME-3\"], [\"PQYLRWFEEWAE\", \"YCRGNNGKC\", \"DVPTNFDYV\"], [\"eid_70460::erythrocyte_membrane_protein_1_var_IT-ICAM\", \"eid_1068698::erythrocyte_binding_antigen-181_[Plasmodium_falciparum_3D7]\", \"eid_181818::PfEMP1\"]], [[\"clique_5_MEME-1\", \"clique_5_MEME-2\", \"clique_5_MEME-3\"], [\"KQILKDKCEKEJ\", \"HEYDERMKT\", \"DPEMKEV\"], [\"eid_1067912::merozoite_surface_protein_8_[Plasmodium_falciparum_3D7]\", \"eid_913629::sporozoite_surface_protein_3\", \"eid_912954::glutamate-rich_protein_[Plasmodium_falciparum_3D7]\"]], [[\"clique_9_MEME-3\", \"clique_9_MEME-4\", \"clique_9_MEME-5\"], [\"FEKQKEKYEKEI\", \"EKLKNENYETVN\", \"TYESNDAIS\"], [\"eid_1068177::duffy_binding-like_merozoite_surface_protein_[Plasmodium_falciparum_3D7]\", \"eid_1067370::antigen_332\", \"eid_1067417::antigen_332\"]], [[\"clique_94_MEME-1\", \"clique_94_MEME-2\", \"clique_94_MEME-3\"], [\"NYHYEEPFILTP\", \"EAYEKAGEVIVE\", \"REVEKRSEKLID\"], [\"eid_1068229::high_molecular_weight_rhoptry_protein_3_[Plasmodium_falciparum_3D7]\", \"eid_23729::merozoite_surface_protein_3\", \"eid_15297::sporozoite_surface_protein_2\"]], [[\"clique_14_MEME-1\", \"clique_14_MEME-2\", \"clique_14_MEME-4\"], [\"QHEIVEVEEILP\", \"EDKNEKV\", \"HTEQLDLDHKTV\"], [\"eid_469456::glutamate-rich_protein\", \"eid_913436::glutamate-rich_protein_[Plasmodium_falciparum_3D7]\", \"eid_1067856::glutamate-rich_protein_[Plasmodium_falciparum_3D7]\"]], [[\"clique_16_MEME-1\", \"clique_16_MEME-2\", \"clique_16_MEME-3\", \"clique_16_MEME-5\"], [\"TDNEWNTLKDEF\", \"DIQNDGIPSSKI\", \"ISQYLQSEQPKD\", \"VPNDYQS\"], [\"eid_43848::hypothetical_protein_PFL1930w\", \"eid_914273::thrombospondin-related_anonymous_protein_[Plasmodium_falciparum_3D7]\", \"eid_913681::erythrocyte_membrane_protein_1\"]], [[\"clique_7_MEME-1\", \"clique_7_MEME-2\", \"clique_7_MEME-3\"], [\"QQSDLEQERLAK\", \"KLQEQQS\", \"LAKEKLQ\"], [\"eid_913175::liver_stage_antigen_1_[Plasmodium_falciparum_3D7]\", \"eid_914045::liver_stage_antigen_1_[Plasmodium_falciparum_3D7]\", \"eid_913945::liver_stage_antigen_1_[Plasmodium_falciparum_3D7]\"]], [[\"clique_21_MEME-1\", \"clique_21_MEME-2\", \"clique_21_MEME-3\"], [\"IYYDVNDDD\", \"KEKYPIADVWDI\", \"DKPFNEP\"], [\"eid_1067887::acidic_basic_repeat_antigen_[Plasmodium_falciparum_3D7]\", \"eid_1066844::high_molecular_weight_rhoptry_protein_3_[Plasmodium_falciparum_3D7]\", \"eid_1066553::erythrocyte_binding_antigen-165_[Plasmodium_falciparum_3D7]\"]], [[\"clique_8_MEME-1\", \"clique_8_MEME-2\", \"clique_8_MEME-3\", \"clique_8_MEME-4\"], [\"AITKYQNPH\", \"YHNDPELKEIID\", \"NTQRTTIKSRLL\", \"DPYKQLKEVVEK\"], [\"eid_17796::Cytoadherence_linked_asexual_protein\", \"eid_1068539::cytoadherence_linked_asexual_protein_2_[Plasmodium_falciparum_3D7]\", \"eid_914054::stevor_[Plasmodium_falciparum_3D7]\", \"eid_11799::Liver_stage_antigen\"]], [[\"clique_23_MEME-2\", \"clique_23_MEME-3\", \"clique_23_MEME-4\", \"clique_23_MEME-5\"], [\"DSYRILSVSYKD\", \"DDEEKNETNDTE\", \"IEEEINTDG\", \"DIIKHNEDVR\"], [\"eid_1068135::duffy_binding-like_merozoite_surface_protein_[Plasmodium_falciparum_3D7]\", \"eid_1066920::duffy_binding-like_merozoite_surface_protein_[Plasmodium_falciparum_3D7]\", \"eid_122259::erythrocyte_membrane_protein\", \"eid_1068370::duffy_binding-like_merozoite_surface_protein_[Plasmodium_falciparum_3D7]\"]]], \"hoverlabel\": {\"namelength\": 0}, \"hovertemplate\": \"<b>%{hovertext}</b><br><br>leaning=T<br>agg_x=%{x}<br>agg_y=%{y}<br>membership=%{marker.size}<br>qseqid=%{customdata[0]}<br>sequences=%{customdata[1]}<br>sseqid=%{customdata[2]}<br>num_known=%{marker.color}\", \"hovertext\": [292.0, 120.0, 220.0, 216.0, 215.0, 119.0, 213.0, 131.0, 132.0, 134.0, 135.0, 212.0, 211.0, 210.0, 130.0, 221.0, 116.0, 93.0, 190.0, 95.0, 96.0, 231.0, 98.0, 99.0, 102.0, 228.0, 104.0, 106.0, 108.0, 109.0, 110.0, 111.0, 226.0, 223.0, 140.0, 208.0, 168.0, 169.0, 170.0, 195.0, 172.0, 174.0, 194.0, 193.0, 181.0, 182.0, 183.0, 192.0, 191.0, 167.0, 234.0, 166.0, 197.0, 145.0, 206.0, 147.0, 149.0, 150.0, 151.0, 152.0, 204.0, 202.0, 200.0, 199.0, 161.0, 163.0, 196.0, 90.0, 232.0, 236.0, 29.0, 263.0, 262.0, 35.0, 261.0, 37.0, 38.0, 260.0, 45.0, 256.0, 48.0, 255.0, 39.0, 254.0, 26.0, 24.0, 290.0, 287.0, 286.0, 283.0, 280.0, 279.0, 278.0, 274.0, 272.0, 22.0, 276.0, 51.0, 257.0, 53.0, 70.0, 253.0, 74.0, 75.0, 76.0, 77.0, 69.0, 78.0, 239.0, 238.0, 84.0, 86.0, 87.0, 241.0, 71.0, 189.0, 248.0, 251.0, 61.0, 250.0, 62.0, 55.0, 246.0, 65.0, 66.0, 58.0, 233.0, 284.0, 235.0, 282.0, 281.0, 264.0, 229.0, 245.0, 207.0, 249.0, 227.0, 242.0, 267.0, 258.0, 240.0, 146.0, 187.0, 57.0, 59.0, 60.0, 63.0, 64.0, 67.0, 68.0, 72.0, 188.0, 85.0, 92.0, 97.0, 101.0, 56.0, 103.0, 54.0, 47.0, 2.0, 6.0, 13.0, 18.0, 25.0, 32.0, 36.0, 40.0, 43.0, 44.0, 46.0, 52.0, 105.0, 79.0, 113.0, 143.0, 291.0, 148.0, 153.0, 112.0, 160.0, 162.0, 164.0, 165.0, 178.0, 180.0, 185.0, 142.0, 156.0, 124.0, 118.0, 121.0, 117.0, 122.0, 115.0, 125.0, 136.0, 114.0, 127.0, 129.0, 100.0, 20.0, 10.0, 91.0, 1.0, 15.0, 17.0, 89.0, 137.0, 0.0, 28.0, 139.0, 31.0, 50.0, 82.0, 34.0, 80.0, 126.0, 73.0, 19.0, 49.0, 5.0, 9.0, 94.0, 14.0, 16.0, 7.0, 21.0, 8.0, 23.0], \"legendgroup\": \"\", \"marker\": {\"color\": [0, 0, 0, 0, 0, 0, 0, 0, 0, 0, 0, 0, 0, 0, 0, 0, 0, 0, 0, 0, 0, 0, 0, 0, 0, 0, 0, 0, 0, 0, 0, 0, 0, 0, 0, 0, 0, 0, 0, 0, 0, 0, 0, 0, 0, 0, 0, 0, 0, 0, 0, 0, 0, 0, 0, 0, 0, 0, 0, 0, 0, 0, 0, 0, 0, 0, 0, 0, 0, 0, 0, 0, 0, 0, 0, 0, 0, 0, 0, 0, 0, 0, 0, 0, 0, 0, 0, 0, 0, 0, 0, 0, 0, 0, 0, 0, 0, 0, 0, 0, 0, 0, 0, 0, 0, 0, 0, 0, 0, 0, 0, 0, 0, 0, 0, 0, 0, 0, 0, 0, 0, 0, 0, 0, 0, 0, 1, 1, 1, 1, 1, 1, 1, 1, 1, 1, 1, 1, 1, 1, 1, 1, 1, 1, 1, 1, 1, 1, 1, 1, 1, 1, 1, 1, 1, 1, 1, 1, 1, 1, 1, 1, 1, 1, 1, 1, 1, 1, 1, 1, 1, 1, 1, 1, 1, 1, 1, 1, 1, 1, 1, 1, 1, 1, 1, 1, 1, 1, 1, 1, 1, 1, 1, 1, 1, 1, 1, 1, 1, 1, 2, 2, 2, 2, 2, 2, 2, 2, 2, 2, 2, 2, 2, 2, 2, 2, 2, 2, 2, 3, 3, 3, 3, 3, 3, 3, 3, 3, 4, 4], \"coloraxis\": \"coloraxis\", \"size\": [2, 4, 2, 2, 2, 4, 2, 4, 4, 4, 4, 2, 2, 2, 4, 2, 4, 6, 3, 6, 5, 2, 5, 5, 5, 2, 5, 5, 5, 5, 5, 5, 2, 2, 4, 2, 3, 3, 3, 3, 3, 3, 3, 3, 3, 3, 3, 3, 3, 3, 2, 3, 2, 4, 2, 3, 3, 3, 3, 3, 2, 2, 2, 2, 3, 3, 3, 6, 2, 2, 15, 2, 2, 13, 2, 13, 13, 2, 10, 2, 10, 2, 13, 2, 16, 19, 2, 2, 2, 2, 2, 2, 2, 2, 2, 21, 2, 9, 2, 9, 7, 2, 7, 7, 7, 7, 7, 7, 2, 2, 6, 6, 6, 2, 7, 3, 2, 2, 8, 2, 8, 8, 2, 7, 7, 8, 2, 2, 2, 2, 2, 2, 2, 2, 2, 2, 2, 2, 2, 2, 2, 3, 3, 8, 8, 8, 8, 7, 7, 7, 7, 3, 6, 6, 5, 5, 8, 5, 8, 10, 77, 41, 26, 24, 17, 14, 13, 13, 11, 11, 10, 9, 5, 7, 5, 4, 2, 3, 3, 5, 3, 3, 3, 3, 3, 3, 3, 4, 3, 4, 4, 4, 4, 4, 4, 4, 4, 5, 4, 4, 5, 21, 29, 6, 169, 25, 24, 6, 4, 464, 15, 4, 14, 9, 6, 13, 7, 4, 7, 23, 9, 57, 31, 6, 25, 25, 38, 21, 31, 20], \"sizemode\": \"area\", \"sizeref\": 0.1856, \"symbol\": \"circle\"}, \"mode\": \"markers\", \"name\": \"\", \"showlegend\": false, \"type\": \"scatter\", \"x\": [0.6475355625152588, 0.2518432065844536, -0.4241698533296585, 0.5230086445808411, -0.761035293340683, -0.6348419487476349, 0.10208119824528694, -0.7873566448688507, 0.8431320935487747, -0.8284671157598495, -0.028145532589405775, -0.48834656178951263, -0.6134238243103027, 0.6002441346645355, 0.6898856610059738, -0.7212074100971222, 0.2708883732557297, 0.8293770750363668, -0.833723763624827, -0.09100236743688583, -0.17580167353153228, 0.8254100382328033, 0.6572437047958374, -0.04528619721531868, -0.6193150997161865, -0.8677507638931274, -0.5851840615272522, 0.5437123775482178, 0.6727539658546448, 0.8864493250846863, 0.5191182136535645, 0.3928759515285492, -0.7123396098613739, 0.6603643596172333, -0.8457357436418533, -0.601874440908432, -0.5825655460357666, -0.3931679626305898, 0.6890831589698792, 0.2398356000582377, 0.9323257406552633, -0.3463329275449117, -0.8237970272699991, 0.4179978171984355, 0.8028054436047872, -0.07725727061430614, -0.8402269879976908, -0.4937218228975932, -0.667732854684194, 0.8565682371457418, 0.7978111803531647, 0.4059058129787445, 0.9803009927272797, 0.4454371780157089, 0.8563679754734039, 0.4393457770347595, 0.6803518732388815, -0.7467090487480164, -0.4245506326357524, 0.7618539929389954, -0.6824122965335846, -0.7095068395137787, 0.33013686537742615, 0.1665743589401245, 0.8080452680587769, -0.2789967556794484, -0.5880341132481893, 0.5884727239608765, 0.44542641937732697, -0.805758535861969, -0.6378083189328512, -0.5498456060886383, 0.820814847946167, 0.21197162797817817, 0.8477589190006256, 0.42224403528066784, 0.5352259553395785, 0.5923633575439453, -0.2512988895177841, 0.6974952816963196, -0.45440555512905123, -0.8597918152809143, -0.5203170913916367, -0.03678949177265167, -0.13810021430253983, 0.0551789665692731, -0.5786575376987457, -0.4605129510164261, -0.757753998041153, 0.8816474080085754, -0.5567535161972046, -0.17522230744361877, 0.6122471392154694, -0.02127851825207472, -0.4042147994041443, 0.05183814572436469, 0.02295166812837124, 0.5814485020107694, 0.7946080267429352, -0.20864697131845686, -0.09239796442644936, -0.6497998833656311, -0.6942738890647888, -0.7116037011146545, 0.7321859427860805, 0.6845015713146755, 0.7677155477660043, -0.7091170719691685, -0.5099762082099915, 0.8661114871501923, -0.7888917426268259, 0.1681836023926735, 0.027375131535033386, 0.7477187812328339, 0.5426077757562909, 0.7120481530825297, -0.8434756398200989, -0.583617627620697, 0.31089362874627113, -0.7615492343902588, -0.7760321125388145, -0.665095679461956, 0.5773138701915741, 0.2841348094599588, -0.6260083573205131, 0.7163595333695412, 0.2848224490880966, 0.8846813142299652, -0.1479027345776558, -0.5710216164588928, -0.6447552144527435, -0.08799504116177559, 0.9160798490047455, 0.34834231436252594, 0.12572979182004929, -0.6976119875907898, -0.7170154452323914, -0.33626289665699005, -0.15690919011831284, -0.6366885006427765, 0.6557102799415588, 0.12675794959068298, 0.8027218381563822, -0.8021852225065231, 0.19132046774029732, 0.3337153233587742, 0.6126223132014275, 0.7990794011524746, 0.10786050025905881, -0.7502149002892631, -0.14373990254742758, 0.022318603470921516, -0.3185959458351135, -0.8085672855377197, 0.7318092465400696, -0.8016077876091003, 0.04246543953195214, -0.7248126983642578, -0.23797217197716236, -0.17038653939962387, 0.10028295102831605, 0.2626943530105963, 0.3815499120033704, -0.19524498718480268, 0.5453455342965967, 0.5376130087035043, -0.239200879748051, -0.4240639301446768, 0.41531698541207746, 0.33836168863556604, 0.6292652666568757, -0.3770907786157396, -0.5519328713417053, -0.6865785121917725, -0.14431074857711793, 0.34436342865228653, 0.22018184512853622, 0.8129599889119467, 0.525420626004537, 0.5189517259597778, -0.6382723251978556, -0.22568885485331217, 0.3206254243850708, -0.7916970451672872, 0.2744365135828654, -0.8302109638849894, 0.1902943253517151, -0.7902465611696243, 0.19435334702332815, -0.7714347839355469, 0.6488337814807892, 0.4459900036454201, 0.7044094800949097, 0.23840540274977684, 0.8631899654865265, -0.6208752691745758, -0.7677550166845322, -0.25852261781692504, -0.30209603905677795, -0.12556562013924122, -0.28679958581924436, -0.3885052700837453, 0.24030592369622197, -0.17122070988019308, -0.020564155559435752, -0.33407514095306395, 0.14180235068003336, 0.7716923654079437, -0.3875867575407028, -0.03502683266836765, 0.018894872441887856, 0.3668384552001953, 0.1851791058267866, 0.1540113223923577, -0.7955708801746368, 0.7042312622070312, 0.6554255144936698, -0.35502658784389496, 0.3459294097764151, -0.25944154547608417, -0.3654082483715481, -0.22799349667733176, -0.28828751271770847, 0.7289892931779226, -0.04007857277989388, -0.3638659989833832, -0.29848755347101313, 0.33953883392470224, -0.11994561649137928, 0.3469578132033348], \"xaxis\": \"x2\", \"y\": [-0.5380062460899353, -0.8254193663597107, 0.8573657274246216, -0.8179677128791809, -0.5386039018630981, 0.46803103387355804, 0.9017426371574402, 0.4478585943579674, -0.46409714967012405, -0.025031602010130882, -0.7224023044109344, 0.7479489147663116, 0.6265020966529846, 0.6366500854492188, -0.37172168493270874, -0.42120401561260223, 0.8848880529403687, 0.03497260374327501, 0.06586311012506485, -0.8479793469111124, -0.8307247757911682, -0.15925990045070648, 0.5312221765518188, 0.7956620812416076, 0.3972312033176422, 0.13112268596887589, -0.4440335392951965, -0.5043089985847473, 0.33870763182640073, 0.023481889814138412, -0.6466766595840454, 0.6303765535354614, -0.6646806597709656, -0.6634115874767303, 0.2211168296635151, 0.8880639374256134, 0.7237107753753662, 0.7740923563639323, -0.49017422397931415, 0.7830337683359782, 0.1601299544175466, 0.6663059790929159, -0.09854647020498912, 0.694806436697642, 0.43192485968271893, -0.8047234416007996, -0.26941487193107605, 0.6540312767028809, 0.400736798842748, 0.3340451121330261, 0.10285058990120888, 0.737184484799703, -0.11812270805239677, -0.6600757986307144, -0.2100047543644905, 0.6273161768913269, -0.6306577920913696, 0.14494189620018005, -0.709647019704183, -0.3494853973388672, 0.5791778564453125, 0.3736450970172882, 0.8169146776199341, 0.9580169916152954, -0.18725556135177612, -0.8525710900624593, 0.6664364536603292, -0.5097171713908514, 0.7778818607330322, 0.20523809641599655, 0.19283572733402252, 0.7260353565216064, -0.006654052762314677, -0.6633920669555664, 0.081332478672266, 0.22414105557478392, 0.24832346576910752, -0.580075591802597, 0.6471248388290405, 0.4262312799692154, -0.5570680856704712, -0.09228573366999626, -0.4776285863839663, 0.9095382392406464, 0.35948610305786133, 0.33775198930188227, -0.645016074180603, -0.7164072692394257, -0.19653627276420593, -0.11680850759148598, -0.5105507969856262, 0.8790509700775146, 0.42660559713840485, -0.8288385272026062, 0.722096860408783, -0.3382442494233449, 0.8764851093292236, -0.42949040399657357, 0.4805295169353485, 0.7090266479386224, 0.7799589293343681, 0.06492535397410393, -0.20308459443705423, 0.3710737185818808, 0.29228052496910095, -0.16927186293261393, -0.016130712814629078, 0.12207349496228355, -0.8158153891563416, -0.2733161747455597, -0.2691040486097336, 0.7618382374445597, 0.7423753639062246, 0.18138714879751205, 0.5544085587774005, 0.40100889404614765, 0.49047642946243286, -0.7162346541881561, -0.7235517576336861, -0.4094488024711609, 0.2733064331114292, -0.3712819516658783, -0.7326213121414185, 0.6638110280036926, 0.5113513810294015, 0.09173860587179661, -0.8137749135494232, 0.45805034041404724, -0.867368221282959, 0.5865812599658966, -0.7562623620033264, 0.9356776773929596, -0.26067061722278595, 0.8786535859107971, -0.8678090572357178, -0.7708384096622467, -0.5394929647445679, -0.7579630315303802, 0.8906595706939697, 0.6117630302906036, -0.726637065410614, 0.7973464330037435, -0.4002419610818227, 0.03218135889619589, 0.6846175193786621, -0.6355010420084, 0.48768041282892227, -0.287009345633643, -0.7596533894538879, -0.09338677674531937, -0.7253856658935547, -0.8659860094388326, -0.6456015706062317, -0.15782354523738226, -0.2172500193119049, -0.06367101967334747, 0.7873895093798637, -0.3121159017086029, 0.7532577812671661, -0.44472399950027464, 0.07119478198227944, -0.08497315699734338, -0.027316443550472077, -0.2475086941073338, 0.14524652502116034, 0.47781750559806824, -0.6518617822573736, 0.447600972193938, -0.5018194995143197, 0.5628869262608615, -0.20410573184490205, -0.6021683745914035, -0.5807798027992248, 0.2599083738667624, 0.7370436787605286, -0.7807630151510239, 0.9236744940280914, 0.07971878349781036, 0.7657472093900045, -0.5919845223426818, 0.5824171503384908, -0.8535464803377787, 0.7400222023328146, 0.40971426169077557, 0.7147271434466044, 0.028452427436908085, 0.8620549241701762, 0.16122323274612427, -0.843002180258433, -0.030995420180261135, 0.39570529013872147, -0.6060331612825394, 0.24150430411100388, -0.7652088701725006, 0.14414530247449875, -0.3975786194205284, 0.3299507349729538, -0.7905314803123474, -0.7629100978374481, 0.9195494800806046, 0.715939748287201, 0.2654612177894229, -0.16563245243039623, 0.806792289018631, -0.07760553837880581, 0.02514634907245636, -0.3392336579660575, -0.0964203712840875, 0.6393765062093735, 0.025516362106106406, -0.613791306813558, -0.6860976219177246, -0.3902381530829838, -0.7264526949988471, 0.09847478196024895, -0.06323724096784225, -0.2955492394311087, -0.7248631119728088, 0.6819206646510533, 0.2790773472060328, 0.5979923341009352, -0.016384447483639968, -0.19826547416948503, -0.3992217679818471, -0.35490927457809446, -0.04502427563071251, 0.12033745215127342, 0.10809899334396635, -0.3245413957103606, 0.2713040068745613], \"yaxis\": \"y2\"}, {\"customdata\": [[[], [], []], [[], [], []], [[], [], []], [[], [], []], [[], [], []], [[], [], []], [[], [], []], [[], [], []], [[], [], []], [[], [], []], [[], [], []], [[], [], []], [[], [], []], [[], [], []], [[], [], []], [[], [], []], [[], [], []], [[], [], []], [[], [], []], [[], [], []], [[], [], []], [[], [], []], [[], [], []], [[], [], []], [[], [], []], [[], [], []], [[], [], []], [[], [], []], [[], [], []], [[], [], []], [[], [], []], [[], [], []], [[], [], []], [[], [], []], [[], [], []], [[], [], []], [[], [], []], [[], [], []], [[], [], []], [[], [], []], [[], [], []], [[], [], []], [[\"clique_288_MEME-1\"], [\"GAAVETFFRWH\"], [\"eid_1067369::erythrocyte_binding_antigen-175_[Plasmodium_falciparum_3D7]\"]], [[\"clique_285_MEME-1\"], [\"DIDEINDIDEIN\"], [\"eid_1067614::MSP7-like_protein_[Plasmodium_falciparum_3D7]\"]], [[\"clique_230_MEME-1\"], [\"NENINKKDSDHN\"], [\"eid_1067362::mature_parasite-infected_erythrocyte_surface_antigen_[Plasmodium_falciparum_3D7]\"]], [[\"clique_218_MEME-1\"], [\"QNNDYNQNNDYN\"], [\"eid_1067639::cytoadherence_linked_asexual_protein_3.2_[Plasmodium_falciparum_3D7]\"]], [[\"clique_205_MEME-1\"], [\"PQGSTGA\"], [\"eid_227384::serine_repeat_antigen_5\"]], [[\"clique_224_MEME-1\"], [\"QVPVSGSPL\"], [\"eid_1068342::merozoite_surface_protein_1\"]], [[\"clique_81_MEME-1\"], [\"VAPSVEE\"], [\"eid_68360::Liver_stage_antigen-3\"]], [[\"clique_88_MEME-1\"], [\"MSIHDGMKGQKY\"], [\"eid_1066929::erythrocyte_binding_antigen-165_[Plasmodium_falciparum_3D7]\"]], [[\"clique_3_MEME-1\", \"clique_3_MEME-2\"], [\"QEPVTTQEPVTT\", \"QEPVTTQEP\"], [\"eid_78559::Interspersed_repeat_antigen\"]], [[\"clique_11_MEME-1\"], [\"VEENVEE\"], [\"eid_68166::Ring-infected_erythrocyte_surface_antigen_precursor\"]], [[\"clique_12_MEME-1\"], [\"RNQNVNDRRNFD\"], [\"eid_1067300::cytoadherence_linked_asexual_protein_3.1_[Plasmodium_falciparum_3D7]\"]], [[\"clique_33_MEME-2\"], [\"ELKNKEL\"], [\"eid_1067038::erythrocyte_binding_antigen-181_[Plasmodium_falciparum_3D7]\"]], [[\"clique_155_MEME-1\"], [\"KSNEQSKREDDS\"], [\"eid_1066839::erythrocyte_binding_antigen-175_[Plasmodium_falciparum_3D7]\"]], [[\"clique_157_MEME-1\"], [\"HDIYDIDTF\"], [\"eid_1067530::erythrocyte_binding_antigen-140_[Plasmodium_falciparum_3D7]\"]], [[\"clique_159_MEME-2\"], [\"SRNDEMLDP\"], [\"eid_465588::apical_membrane_antigen_1\"]], [[\"clique_171_MEME-2\"], [\"EKRNGFDLBDDT\"], [\"eid_45337::sporozoite_surface_protein_2\"]], [[\"clique_186_MEME-1\"], [\"KPFNEPTYVDSN\"], [\"eid_913520::glutamate-rich_protein_[Plasmodium_falciparum_3D7]\"]], [[\"clique_138_MEME-1\"], [\"NVHKNVNNDDM\"], [\"eid_72884::Erythrocyte_binding_antigen\"]], [[\"clique_128_MEME-1\"], [\"KLIGDNKLIGD\"], [\"eid_11927::erythrocyte_membrane-associated_giant_protein_antigen_332\"]], [[\"clique_4_MEME-1\", \"clique_4_MEME-3\"], [\"GQQNTGLKNTPS\", \"LNKDIRNKDLKN\"], [\"eid_1067917::high_molecular_weight_rhoptry_protein_3_[Plasmodium_falciparum_3D7]\", \"eid_1066836::erythrocyte_binding_antigen-175_[Plasmodium_falciparum_3D7]\"]], [[\"clique_30_MEME-1\", \"clique_30_MEME-2\"], [\"SNGREDKVSNGG\", \"VSNGREDKV\"], [\"eid_914261::S-antigen_[Plasmodium_falciparum_3D7]\", \"eid_913339::S-antigen_[Plasmodium_falciparum_3D7]\"]]], \"hoverlabel\": {\"namelength\": 0}, \"hovertemplate\": \"<b>%{hovertext}</b><br><br>leaning=K<br>agg_x=%{x}<br>agg_y=%{y}<br>membership=%{marker.size}<br>qseqid=%{customdata[0]}<br>sequences=%{customdata[1]}<br>sseqid=%{customdata[2]}<br>num_known=%{marker.color}\", \"hovertext\": [219.0, 123.0, 217.0, 214.0, 133.0, 222.0, 107.0, 225.0, 209.0, 141.0, 173.0, 175.0, 176.0, 177.0, 179.0, 184.0, 144.0, 154.0, 203.0, 201.0, 158.0, 198.0, 266.0, 265.0, 27.0, 41.0, 42.0, 259.0, 289.0, 268.0, 277.0, 275.0, 273.0, 271.0, 270.0, 269.0, 243.0, 83.0, 237.0, 244.0, 252.0, 247.0, 288.0, 285.0, 230.0, 218.0, 205.0, 224.0, 81.0, 88.0, 3.0, 11.0, 12.0, 33.0, 155.0, 157.0, 159.0, 171.0, 186.0, 138.0, 128.0, 4.0, 30.0], \"legendgroup\": \"\", \"marker\": {\"color\": [0, 0, 0, 0, 0, 0, 0, 0, 0, 0, 0, 0, 0, 0, 0, 0, 0, 0, 0, 0, 0, 0, 0, 0, 0, 0, 0, 0, 0, 0, 0, 0, 0, 0, 0, 0, 0, 0, 0, 0, 0, 0, 1, 1, 1, 1, 1, 1, 1, 1, 1, 1, 1, 1, 1, 1, 1, 1, 1, 1, 1, 2, 2], \"coloraxis\": \"coloraxis\", \"size\": [2, 4, 2, 2, 4, 2, 5, 2, 2, 4, 3, 3, 3, 3, 3, 3, 4, 3, 2, 2, 3, 2, 2, 2, 15, 12, 11, 2, 2, 2, 2, 2, 2, 2, 2, 2, 2, 6, 2, 2, 2, 2, 2, 2, 2, 2, 2, 2, 6, 6, 65, 28, 27, 14, 3, 3, 3, 3, 3, 4, 4, 57, 14], \"sizemode\": \"area\", \"sizeref\": 0.1856, \"symbol\": \"circle\"}, \"mode\": \"markers\", \"name\": \"\", \"showlegend\": false, \"type\": \"scatter\", \"x\": [-0.8175061643123627, -0.8761849850416183, -0.9982385039329529, -0.5240723192691803, -0.8277634084224701, -0.618577390909195, 0.5034769296646118, -0.8445254862308502, 0.40816062688827515, 0.8538035154342651, 0.09784406175216039, 0.8091156482696533, 0.14589436848958334, -0.7921115954717001, 0.754879097143809, -0.719156006971995, -0.6087774634361267, -0.20688551167647043, 0.8862786889076233, 0.9512266516685486, 0.02820168249309063, -0.04457945190370083, -0.8779019415378571, -0.6946496665477753, 0.10542789548635483, -0.6205871303876241, 0.6226093552329324, 0.8585631847381592, 0.7362712919712067, 0.8472238481044769, -0.5331206619739532, -0.7311710119247437, -0.7600481510162354, -0.7764822244644165, 0.81825190782547, 0.23907049745321274, -0.809581995010376, -0.21946121007204056, -0.8705456852912903, 0.824545830488205, 0.3940075784921646, 0.32387781143188477, 0.9683883488178253, -0.07106811180710793, -0.4417027086019516, 0.48320139944553375, -0.5005680173635483, 0.36197255551815033, 0.4915817826986313, 0.7759771843751272, 0.13599893221488366, 0.22160888356821878, 0.26470695049674425, -0.20126239955425262, -0.915150503317515, 0.38185153404871625, -0.5025160809357961, -0.5358479619026184, -0.48039209842681885, -0.7509220242500305, -0.820195883512497, 0.15055599207418008, -0.06838397628494672], \"xaxis\": \"x\", \"y\": [-0.3184778094291687, 0.3055094704031944, -0.2243606001138687, 0.7136238217353821, -0.20918551087379456, -0.5024694800376892, 0.6308133482933045, 0.47243452072143555, -0.6524355113506317, -0.13492607325315475, 0.8387977679570516, 0.2784966627756755, 0.8732405702273051, 0.2225214292605718, 0.21857106188933054, 0.5723666548728943, -0.5526965260505676, 0.8626402616500854, 0.3824079781770706, 0.2588624954223633, 0.9051562746365865, 0.5604053437709808, 0.25316616892814636, 0.49535389244556427, -0.5853990713755289, -0.23749471207459769, -0.3718002736568451, -0.3470030277967453, -0.5736989974975586, -0.07168517634272575, 0.6260767877101898, 0.32888640463352203, -0.24235264211893082, -0.5015540421009064, 0.2060088887810707, -0.9274784028530121, 0.36735011637210846, -0.7120779156684875, 0.002141793433111161, -0.538499504327774, -0.7904488146305084, -0.8597148656845093, 0.11551833525300026, 0.879574328660965, -0.8715693652629852, -0.9280313551425934, 0.7307453155517578, -0.8590510189533234, 0.5984720091025034, 0.14884061366319656, -0.09500148880940218, 0.2983198197824614, -0.27993960954524855, 0.38067060496125904, 0.17604359984397888, 0.7877131700515747, -0.6260677377382914, 0.5234307845433553, -0.663207471370697, -0.3839089870452881, 0.15874144062399864, 0.15527238762169554, 0.688004161630358], \"yaxis\": \"y\"}],\n",
       "                        {\"annotations\": [{\"font\": {}, \"showarrow\": false, \"text\": \"leaning=K\", \"textangle\": 90, \"x\": 0.98, \"xanchor\": \"left\", \"xref\": \"paper\", \"y\": 0.2425, \"yanchor\": \"middle\", \"yref\": \"paper\"}, {\"font\": {}, \"showarrow\": false, \"text\": \"leaning=T\", \"textangle\": 90, \"x\": 0.98, \"xanchor\": \"left\", \"xref\": \"paper\", \"y\": 0.7575000000000001, \"yanchor\": \"middle\", \"yref\": \"paper\"}], \"coloraxis\": {\"colorbar\": {\"tickvals\": [0, 1, 2, 3], \"title\": {\"text\": \"num_known\"}}, \"colorscale\": [[0.0, \"#0d0887\"], [0.1111111111111111, \"#46039f\"], [0.2222222222222222, \"#7201a8\"], [0.3333333333333333, \"#9c179e\"], [0.4444444444444444, \"#bd3786\"], [0.5555555555555556, \"#d8576b\"], [0.6666666666666666, \"#ed7953\"], [0.7777777777777778, \"#fb9f3a\"], [0.8888888888888888, \"#fdca26\"], [1.0, \"#f0f921\"]]}, \"height\": 1000, \"legend\": {\"itemsizing\": \"constant\", \"tracegroupgap\": 0}, \"margin\": {\"t\": 60}, \"template\": {\"data\": {\"bar\": [{\"error_x\": {\"color\": \"#2a3f5f\"}, \"error_y\": {\"color\": \"#2a3f5f\"}, \"marker\": {\"line\": {\"color\": \"white\", \"width\": 0.5}}, \"type\": \"bar\"}], \"barpolar\": [{\"marker\": {\"line\": {\"color\": \"white\", \"width\": 0.5}}, \"type\": \"barpolar\"}], \"carpet\": [{\"aaxis\": {\"endlinecolor\": \"#2a3f5f\", \"gridcolor\": \"#C8D4E3\", \"linecolor\": \"#C8D4E3\", \"minorgridcolor\": \"#C8D4E3\", \"startlinecolor\": \"#2a3f5f\"}, \"baxis\": {\"endlinecolor\": \"#2a3f5f\", \"gridcolor\": \"#C8D4E3\", \"linecolor\": \"#C8D4E3\", \"minorgridcolor\": \"#C8D4E3\", \"startlinecolor\": \"#2a3f5f\"}, \"type\": \"carpet\"}], \"choropleth\": [{\"colorbar\": {\"outlinewidth\": 0, \"ticks\": \"\"}, \"type\": \"choropleth\"}], \"contour\": [{\"colorbar\": {\"outlinewidth\": 0, \"ticks\": \"\"}, \"colorscale\": [[0.0, \"#0d0887\"], [0.1111111111111111, \"#46039f\"], [0.2222222222222222, \"#7201a8\"], [0.3333333333333333, \"#9c179e\"], [0.4444444444444444, \"#bd3786\"], [0.5555555555555556, \"#d8576b\"], [0.6666666666666666, \"#ed7953\"], [0.7777777777777778, \"#fb9f3a\"], [0.8888888888888888, \"#fdca26\"], [1.0, \"#f0f921\"]], \"type\": \"contour\"}], \"contourcarpet\": [{\"colorbar\": {\"outlinewidth\": 0, \"ticks\": \"\"}, \"type\": \"contourcarpet\"}], \"heatmap\": [{\"colorbar\": {\"outlinewidth\": 0, \"ticks\": \"\"}, \"colorscale\": [[0.0, \"#0d0887\"], [0.1111111111111111, \"#46039f\"], [0.2222222222222222, \"#7201a8\"], [0.3333333333333333, \"#9c179e\"], [0.4444444444444444, \"#bd3786\"], [0.5555555555555556, \"#d8576b\"], [0.6666666666666666, \"#ed7953\"], [0.7777777777777778, \"#fb9f3a\"], [0.8888888888888888, \"#fdca26\"], [1.0, \"#f0f921\"]], \"type\": \"heatmap\"}], \"heatmapgl\": [{\"colorbar\": {\"outlinewidth\": 0, \"ticks\": \"\"}, \"colorscale\": [[0.0, \"#0d0887\"], [0.1111111111111111, \"#46039f\"], [0.2222222222222222, \"#7201a8\"], [0.3333333333333333, \"#9c179e\"], [0.4444444444444444, \"#bd3786\"], [0.5555555555555556, \"#d8576b\"], [0.6666666666666666, \"#ed7953\"], [0.7777777777777778, \"#fb9f3a\"], [0.8888888888888888, \"#fdca26\"], [1.0, \"#f0f921\"]], \"type\": \"heatmapgl\"}], \"histogram\": [{\"marker\": {\"colorbar\": {\"outlinewidth\": 0, \"ticks\": \"\"}}, \"type\": \"histogram\"}], \"histogram2d\": [{\"colorbar\": {\"outlinewidth\": 0, \"ticks\": \"\"}, \"colorscale\": [[0.0, \"#0d0887\"], [0.1111111111111111, \"#46039f\"], [0.2222222222222222, \"#7201a8\"], [0.3333333333333333, \"#9c179e\"], [0.4444444444444444, \"#bd3786\"], [0.5555555555555556, \"#d8576b\"], [0.6666666666666666, \"#ed7953\"], [0.7777777777777778, \"#fb9f3a\"], [0.8888888888888888, \"#fdca26\"], [1.0, \"#f0f921\"]], \"type\": \"histogram2d\"}], \"histogram2dcontour\": [{\"colorbar\": {\"outlinewidth\": 0, \"ticks\": \"\"}, \"colorscale\": [[0.0, \"#0d0887\"], [0.1111111111111111, \"#46039f\"], [0.2222222222222222, \"#7201a8\"], [0.3333333333333333, \"#9c179e\"], [0.4444444444444444, \"#bd3786\"], [0.5555555555555556, \"#d8576b\"], [0.6666666666666666, \"#ed7953\"], [0.7777777777777778, \"#fb9f3a\"], [0.8888888888888888, \"#fdca26\"], [1.0, \"#f0f921\"]], \"type\": \"histogram2dcontour\"}], \"mesh3d\": [{\"colorbar\": {\"outlinewidth\": 0, \"ticks\": \"\"}, \"type\": \"mesh3d\"}], \"parcoords\": [{\"line\": {\"colorbar\": {\"outlinewidth\": 0, \"ticks\": \"\"}}, \"type\": \"parcoords\"}], \"pie\": [{\"automargin\": true, \"type\": \"pie\"}], \"scatter\": [{\"marker\": {\"colorbar\": {\"outlinewidth\": 0, \"ticks\": \"\"}}, \"type\": \"scatter\"}], \"scatter3d\": [{\"line\": {\"colorbar\": {\"outlinewidth\": 0, \"ticks\": \"\"}}, \"marker\": {\"colorbar\": {\"outlinewidth\": 0, \"ticks\": \"\"}}, \"type\": \"scatter3d\"}], \"scattercarpet\": [{\"marker\": {\"colorbar\": {\"outlinewidth\": 0, \"ticks\": \"\"}}, \"type\": \"scattercarpet\"}], \"scattergeo\": [{\"marker\": {\"colorbar\": {\"outlinewidth\": 0, \"ticks\": \"\"}}, \"type\": \"scattergeo\"}], \"scattergl\": [{\"marker\": {\"colorbar\": {\"outlinewidth\": 0, \"ticks\": \"\"}}, \"type\": \"scattergl\"}], \"scattermapbox\": [{\"marker\": {\"colorbar\": {\"outlinewidth\": 0, \"ticks\": \"\"}}, \"type\": \"scattermapbox\"}], \"scatterpolar\": [{\"marker\": {\"colorbar\": {\"outlinewidth\": 0, \"ticks\": \"\"}}, \"type\": \"scatterpolar\"}], \"scatterpolargl\": [{\"marker\": {\"colorbar\": {\"outlinewidth\": 0, \"ticks\": \"\"}}, \"type\": \"scatterpolargl\"}], \"scatterternary\": [{\"marker\": {\"colorbar\": {\"outlinewidth\": 0, \"ticks\": \"\"}}, \"type\": \"scatterternary\"}], \"surface\": [{\"colorbar\": {\"outlinewidth\": 0, \"ticks\": \"\"}, \"colorscale\": [[0.0, \"#0d0887\"], [0.1111111111111111, \"#46039f\"], [0.2222222222222222, \"#7201a8\"], [0.3333333333333333, \"#9c179e\"], [0.4444444444444444, \"#bd3786\"], [0.5555555555555556, \"#d8576b\"], [0.6666666666666666, \"#ed7953\"], [0.7777777777777778, \"#fb9f3a\"], [0.8888888888888888, \"#fdca26\"], [1.0, \"#f0f921\"]], \"type\": \"surface\"}], \"table\": [{\"cells\": {\"fill\": {\"color\": \"#EBF0F8\"}, \"line\": {\"color\": \"white\"}}, \"header\": {\"fill\": {\"color\": \"#C8D4E3\"}, \"line\": {\"color\": \"white\"}}, \"type\": \"table\"}]}, \"layout\": {\"annotationdefaults\": {\"arrowcolor\": \"#2a3f5f\", \"arrowhead\": 0, \"arrowwidth\": 1}, \"coloraxis\": {\"colorbar\": {\"outlinewidth\": 0, \"ticks\": \"\"}}, \"colorscale\": {\"diverging\": [[0, \"#8e0152\"], [0.1, \"#c51b7d\"], [0.2, \"#de77ae\"], [0.3, \"#f1b6da\"], [0.4, \"#fde0ef\"], [0.5, \"#f7f7f7\"], [0.6, \"#e6f5d0\"], [0.7, \"#b8e186\"], [0.8, \"#7fbc41\"], [0.9, \"#4d9221\"], [1, \"#276419\"]], \"sequential\": [[0.0, \"#0d0887\"], [0.1111111111111111, \"#46039f\"], [0.2222222222222222, \"#7201a8\"], [0.3333333333333333, \"#9c179e\"], [0.4444444444444444, \"#bd3786\"], [0.5555555555555556, \"#d8576b\"], [0.6666666666666666, \"#ed7953\"], [0.7777777777777778, \"#fb9f3a\"], [0.8888888888888888, \"#fdca26\"], [1.0, \"#f0f921\"]], \"sequentialminus\": [[0.0, \"#0d0887\"], [0.1111111111111111, \"#46039f\"], [0.2222222222222222, \"#7201a8\"], [0.3333333333333333, \"#9c179e\"], [0.4444444444444444, \"#bd3786\"], [0.5555555555555556, \"#d8576b\"], [0.6666666666666666, \"#ed7953\"], [0.7777777777777778, \"#fb9f3a\"], [0.8888888888888888, \"#fdca26\"], [1.0, \"#f0f921\"]]}, \"colorway\": [\"#636efa\", \"#EF553B\", \"#00cc96\", \"#ab63fa\", \"#FFA15A\", \"#19d3f3\", \"#FF6692\", \"#B6E880\", \"#FF97FF\", \"#FECB52\"], \"font\": {\"color\": \"#2a3f5f\"}, \"geo\": {\"bgcolor\": \"white\", \"lakecolor\": \"white\", \"landcolor\": \"white\", \"showlakes\": true, \"showland\": true, \"subunitcolor\": \"#C8D4E3\"}, \"hoverlabel\": {\"align\": \"left\"}, \"hovermode\": \"closest\", \"mapbox\": {\"style\": \"light\"}, \"paper_bgcolor\": \"white\", \"plot_bgcolor\": \"white\", \"polar\": {\"angularaxis\": {\"gridcolor\": \"#EBF0F8\", \"linecolor\": \"#EBF0F8\", \"ticks\": \"\"}, \"bgcolor\": \"white\", \"radialaxis\": {\"gridcolor\": \"#EBF0F8\", \"linecolor\": \"#EBF0F8\", \"ticks\": \"\"}}, \"scene\": {\"xaxis\": {\"backgroundcolor\": \"white\", \"gridcolor\": \"#DFE8F3\", \"gridwidth\": 2, \"linecolor\": \"#EBF0F8\", \"showbackground\": true, \"ticks\": \"\", \"zerolinecolor\": \"#EBF0F8\"}, \"yaxis\": {\"backgroundcolor\": \"white\", \"gridcolor\": \"#DFE8F3\", \"gridwidth\": 2, \"linecolor\": \"#EBF0F8\", \"showbackground\": true, \"ticks\": \"\", \"zerolinecolor\": \"#EBF0F8\"}, \"zaxis\": {\"backgroundcolor\": \"white\", \"gridcolor\": \"#DFE8F3\", \"gridwidth\": 2, \"linecolor\": \"#EBF0F8\", \"showbackground\": true, \"ticks\": \"\", \"zerolinecolor\": \"#EBF0F8\"}}, \"shapedefaults\": {\"line\": {\"color\": \"#2a3f5f\"}}, \"ternary\": {\"aaxis\": {\"gridcolor\": \"#DFE8F3\", \"linecolor\": \"#A2B1C6\", \"ticks\": \"\"}, \"baxis\": {\"gridcolor\": \"#DFE8F3\", \"linecolor\": \"#A2B1C6\", \"ticks\": \"\"}, \"bgcolor\": \"white\", \"caxis\": {\"gridcolor\": \"#DFE8F3\", \"linecolor\": \"#A2B1C6\", \"ticks\": \"\"}}, \"title\": {\"x\": 0.05}, \"xaxis\": {\"automargin\": true, \"gridcolor\": \"#EBF0F8\", \"linecolor\": \"#EBF0F8\", \"ticks\": \"\", \"title\": {\"standoff\": 15}, \"zerolinecolor\": \"#EBF0F8\", \"zerolinewidth\": 2}, \"yaxis\": {\"automargin\": true, \"gridcolor\": \"#EBF0F8\", \"linecolor\": \"#EBF0F8\", \"ticks\": \"\", \"title\": {\"standoff\": 15}, \"zerolinecolor\": \"#EBF0F8\", \"zerolinewidth\": 2}}}, \"width\": 1000, \"xaxis\": {\"anchor\": \"y\", \"domain\": [0.0, 0.98], \"title\": {\"text\": \"agg_x\"}}, \"xaxis2\": {\"anchor\": \"y2\", \"domain\": [0.0, 0.98], \"matches\": \"x\", \"showticklabels\": false}, \"yaxis\": {\"anchor\": \"x\", \"domain\": [0.0, 0.485], \"title\": {\"text\": \"agg_y\"}}, \"yaxis2\": {\"anchor\": \"x2\", \"domain\": [0.515, 1.0], \"matches\": \"y\", \"title\": {\"text\": \"agg_y\"}}},\n",
       "                        {\"responsive\": true}\n",
       "                    ).then(function(){\n",
       "                            \n",
       "var gd = document.getElementById('f86c9230-24f0-40fc-89c3-78a82cd4fa1a');\n",
       "var x = new MutationObserver(function (mutations, observer) {{\n",
       "        var display = window.getComputedStyle(gd).display;\n",
       "        if (!display || display === 'none') {{\n",
       "            console.log([gd, 'removed!']);\n",
       "            Plotly.purge(gd);\n",
       "            observer.disconnect();\n",
       "        }}\n",
       "}});\n",
       "\n",
       "// Listen for the removal of the full notebook cells\n",
       "var notebookContainer = gd.closest('#notebook-container');\n",
       "if (notebookContainer) {{\n",
       "    x.observe(notebookContainer, {childList: true});\n",
       "}}\n",
       "\n",
       "// Listen for the clearing of the current output cell\n",
       "var outputEl = gd.closest('.output');\n",
       "if (outputEl) {{\n",
       "    x.observe(outputEl, {childList: true});\n",
       "}}\n",
       "\n",
       "                        })\n",
       "                };\n",
       "                });\n",
       "            </script>\n",
       "        </div>"
      ]
     },
     "metadata": {},
     "output_type": "display_data"
    }
   ],
   "source": [
    "fig = px.scatter(\n",
    "    clique_response_frame.merge(patient_response_by_region),\n",
    "    x = 'agg_x', y = 'agg_y', size = 'membership',\n",
    "    size_max = 50, hover_name='clique_idx', hover_data=['qseqid', 'sequences', 'sseqid'],\n",
    "    facet_row = 'leaning',\n",
    "    color = 'num_known',\n",
    "    color_discrete_sequence=['#06021c', '#dcb825', '#dc5c25', '#dc2549']\n",
    ")\n",
    "\n",
    "fig.update_layout(\n",
    "    height = 1000, width = 1000,\n",
    "    coloraxis_colorbar=dict(\n",
    "        tickvals = [0,1,2,3]\n",
    "    )\n",
    ")\n",
    "\n",
    "fig.update_layout(height = 1000, width = 1000)"
   ]
  },
  {
   "cell_type": "code",
   "execution_count": null,
   "metadata": {},
   "outputs": [],
   "source": []
  },
  {
   "cell_type": "code",
   "execution_count": null,
   "metadata": {},
   "outputs": [],
   "source": []
  },
  {
   "cell_type": "code",
   "execution_count": null,
   "metadata": {},
   "outputs": [],
   "source": []
  }
 ],
 "metadata": {
  "kernelspec": {
   "display_name": "Python 3",
   "language": "python",
   "name": "python3"
  },
  "language_info": {
   "codemirror_mode": {
    "name": "ipython",
    "version": 3
   },
   "file_extension": ".py",
   "mimetype": "text/x-python",
   "name": "python",
   "nbconvert_exporter": "python",
   "pygments_lexer": "ipython3",
   "version": "3.7.5"
  },
  "toc": {
   "base_numbering": 1,
   "nav_menu": {},
   "number_sections": true,
   "sideBar": true,
   "skip_h1_title": false,
   "title_cell": "Table of Contents",
   "title_sidebar": "Contents",
   "toc_cell": false,
   "toc_position": {
    "height": "calc(100% - 180px)",
    "left": "10px",
    "top": "150px",
    "width": "231.333px"
   },
   "toc_section_display": true,
   "toc_window_display": true
  }
 },
 "nbformat": 4,
 "nbformat_minor": 4
}
